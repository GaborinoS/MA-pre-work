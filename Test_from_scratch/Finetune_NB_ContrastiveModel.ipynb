{
 "cells": [
  {
   "cell_type": "code",
   "execution_count": 1,
   "metadata": {},
   "outputs": [],
   "source": [
    "import torch\n",
    "import torch.nn.functional as F\n",
    "import torch.optim as optim\n",
    "import torchaudio.transforms as T\n",
    "import torchvision.models as models\n",
    "import torch.optim.lr_scheduler as lr_scheduler\n",
    "import pandas as pd\n",
    "import torch.nn as nn\n",
    "from tqdm import tqdm\n",
    "import timm\n",
    "import torch.nn as nn\n",
    "import torch.nn.functional as F\n",
    "import os\n",
    "import datetime\n",
    "import time\n",
    "\n",
    "from sklearn.model_selection import train_test_split\n",
    "import matplotlib.pyplot as plt\n",
    "import numpy as np\n",
    "import seaborn as sns\n",
    "from sklearn.metrics import classification_report, confusion_matrix, precision_recall_fscore_support,balanced_accuracy_score,f1_score\n",
    "from sklearn.metrics import cohen_kappa_score\n",
    "\n",
    "\n",
    "#Global Parameters and Variables loaded \n",
    "import config\n",
    "\n",
    "if config.ADSMI:\n",
    "    from DL_finetune import ADSMI_DL_TVsplit as DL\n",
    "    data_name = 'ADSMI'\n",
    "\n",
    "#empty cuda cache\n",
    "torch.cuda.empty_cache()"
   ]
  },
  {
   "cell_type": "markdown",
   "metadata": {},
   "source": [
    "# Models"
   ]
  },
  {
   "cell_type": "code",
   "execution_count": 2,
   "metadata": {},
   "outputs": [
    {
     "name": "stdout",
     "output_type": "stream",
     "text": [
      "3\n"
     ]
    }
   ],
   "source": [
    "print(config.channels)\n",
    "\n",
    "class ContrastiveTripletModelwithPH(nn.Module):\n",
    "    def __init__(self, embedding_dim=2048, projection_dim=128):\n",
    "        super(ContrastiveTripletModelwithPH, self).__init__()\n",
    "        self.resnet50 = models.resnet50(pretrained=False)\n",
    "        \n",
    "        # Modifications for your dataset:\n",
    "        self.resnet50.conv1 = nn.Conv2d(config.channels, 64, kernel_size=(7, 7), stride=(2, 2), padding=(3, 3), bias=False)\n",
    "        \n",
    "        # Remove last FC layer to get embeddings\n",
    "        self.encoder = nn.Sequential(*list(self.resnet50.children())[:-1])\n",
    "        \n",
    "        # Projection head\n",
    "        self.projection = nn.Sequential(\n",
    "            nn.Linear(embedding_dim, embedding_dim),  # 1st projection layer\n",
    "            nn.ReLU(),\n",
    "            nn.Linear(embedding_dim, projection_dim)  # 2nd projection layer\n",
    "        )\n",
    "        \n",
    "        # Dropout layer \n",
    "        self.dropout = nn.Dropout(p=0.5)\n",
    "\n",
    "    def forward_one(self, x):\n",
    "        x = self.encoder(x)\n",
    "        x = x.view(x.size(0), -1)  # Flatten for easier downstream processing\n",
    "        x = self.projection(x)  \n",
    "        x = self.dropout(x)\n",
    "        return x\n",
    "\n",
    "    def forward(self, input1, input2, input3):\n",
    "        output1 = self.forward_one(input1)\n",
    "        output2 = self.forward_one(input2)\n",
    "        output3 = self.forward_one(input3)\n",
    "        return output1, output2, output3\n",
    "    \n",
    "class ContrastiveTripletModel(nn.Module):\n",
    "    def __init__(self):\n",
    "        super(ContrastiveTripletModel, self).__init__()\n",
    "        self.resnet50 = models.resnet50(pretrained=False)\n",
    "        \n",
    "        # Modifications for your dataset:\n",
    "        self.resnet50.conv1 = nn.Conv2d(config.channels, 64, kernel_size=(7, 7), stride=(2, 2), padding=(3, 3), bias=False)\n",
    "        \n",
    "        # Remove last FC layer to get embeddings\n",
    "        self.encoder = nn.Sequential(*list(self.resnet50.children())[:-1])\n",
    "\n",
    "    def forward_one(self, x):\n",
    "        #print(f\"Shape of x before unsqueeze: {x.shape}\") # diagnostic print\n",
    "        x = self.encoder(x)\n",
    "        x = x.view(x.size(0), -1) # Flatten for easier downstream processing\n",
    "        return x\n",
    "\n",
    "    def forward(self, input1, input2, input3):\n",
    "        output1 = self.forward_one(input1)\n",
    "        output2 = self.forward_one(input2)\n",
    "        output3 = self.forward_one(input3)\n",
    "        return output1, output2, output3\n",
    "\n",
    "class ContrastiveTripletModelwithPHEfficient(nn.Module):\n",
    "    def __init__(self, embedding_dim=1280, projection_dim=128, efficientnet_version='efficientnet_b0'):\n",
    "        super(ContrastiveTripletModelwithPHEfficient, self).__init__()\n",
    "\n",
    "        self.efficientnet = timm.create_model(efficientnet_version, pretrained=False, features_only=True)\n",
    "\n",
    "        # Calculate the feature dimension of EfficientNet\n",
    "        feature_dim = self.efficientnet.feature_info.channels()[-1]\n",
    "        \n",
    "        # Projection head\n",
    "        self.projection = nn.Sequential(\n",
    "            nn.Linear(feature_dim, embedding_dim),  # 1st projection layer, can be modified\n",
    "            nn.ReLU(),\n",
    "            nn.Linear(embedding_dim, projection_dim)  # 2nd projection layer\n",
    "        )\n",
    "        # Dropout layer \n",
    "        self.dropout = nn.Dropout(p=0.5)\n",
    "\n",
    "    def forward_one(self, x):\n",
    "        x = self.efficientnet(x)[-1]  # Get the last set of features\n",
    "        x = F.adaptive_avg_pool2d(x, 1).view(x.size(0), -1)  # Global Average Pooling and Flatten\n",
    "        x = self.projection(x)  # Pass through the projection head\n",
    "        #x = self.dropout(x)\n",
    "        return x\n",
    "\n",
    "    def forward(self, input1, input2, input3):\n",
    "        output1 = self.forward_one(input1)\n",
    "        output2 = self.forward_one(input2)\n",
    "        output3 = self.forward_one(input3)\n",
    "        return output1, output2, output3"
   ]
  },
  {
   "cell_type": "markdown",
   "metadata": {},
   "source": [
    "# Set here the Model that should be fintuned"
   ]
  },
  {
   "cell_type": "code",
   "execution_count": 3,
   "metadata": {},
   "outputs": [],
   "source": [
    "#Run1:\n",
    "#Pretrain_model_dir = \"./results/FIRST-2023-11-08-21-epochs-100-ADSMI\"\n",
    "#Run2:\n",
    "#Pretrain_model_dir = \"./results/CLR-2023-11-24-15-epochs-120-ADSMI-neu_V2\"\n",
    "#Run3:\n",
    "Pretrain_model_dir = \"./results/CLR-2023-12-08-16-epochs-250-ADSMI-neu_V5\""
   ]
  },
  {
   "cell_type": "code",
   "execution_count": 4,
   "metadata": {},
   "outputs": [
    {
     "data": {
      "text/plain": [
       "\"'\\nclass FineTuneModelFREZ(nn.Module):\\n    def __init__(self, pretrained_autoencoder, num_classes):\\n        super(FineTuneModelFREZ, self).__init__()\\n        # Use the encoder from the pretrained autoencoder\\n        self.encoder = pretrained_autoencoder.encoder\\n\\n        # Freeze the encoder\\n        for param in self.encoder.parameters():\\n            param.requires_grad = False\\n\\n        # Adaptive pooling layer\\n        self.avgpool = nn.AdaptiveAvgPool2d((1, 1))\\n\\n        # Classification head: Three fully connected layers\\n        self.fc1 = nn.Linear(2048, 1024)  # First fully connected layer\\n        self.fc2 = nn.Linear(1024, 512)   # Second fully connected layer\\n        self.fc3 = nn.Linear(512, num_classes)  # Third fully connected layer maps to the number of classes\\n\\n        # dropout for regularization\\n        self.dropout = nn.Dropout(0.5)\\n\\n        # Non-linear activation function\\n        self.relu = nn.ReLU()\\n\\n    def forward(self, x):\\n        # Pass input through the encoder\\n        x = self.encoder(x)\\n        x = self.avgpool(x)\\n        x = torch.flatten(x, 1)\\n\\n        # Pass through the fully connected layers with ReLU activation and dropout\\n        x = self.relu(self.fc1(x))\\n        #x = self.dropout(x)\\n        x = self.relu(self.fc2(x))\\n        #x = self.dropout(x)\\n        x = self.fc3(x)\\n        return x\\n\""
      ]
     },
     "execution_count": 4,
     "metadata": {},
     "output_type": "execute_result"
    }
   ],
   "source": [
    "\n",
    "\n",
    "\n",
    "class FineTuneModel(nn.Module):\n",
    "    def __init__(self, encoder, num_classes):\n",
    "        super(FineTuneModel, self).__init__()\n",
    "        self.encoder = encoder\n",
    "\n",
    "        # Fully connected layers for fine-tuning\n",
    "\n",
    "        self.fc1 = nn.Linear(2048, 512)  # First FC layer\n",
    "        self.fc2 = nn.Linear(512, 256)   # Second FC layer\n",
    "        self.fc3 = nn.Linear(256, num_classes)  # Output layer\n",
    "\n",
    "    def forward(self, x):\n",
    "        x = self.encoder(x)\n",
    "        x = x.view(x.size(0), -1)\n",
    "        x = F.relu(self.fc1(x))  # Apply ReLU after the first FC layer\n",
    "        x = F.relu(self.fc2(x))  \n",
    "        x = self.fc3(x)\n",
    "        return x\n",
    "\n",
    "\n",
    "# class FineTuneModel(nn.Module):\n",
    "#     def __init__(self, encoder, num_classes, dropout_probability=0.3):\n",
    "#         super(FineTuneModel, self).__init__()\n",
    "#         self.encoder = encoder\n",
    "\n",
    "#         # Fully connected layers for fine-tuning\n",
    "#         self.fc1 = nn.Linear(2048, 512)  # First FC layer\n",
    "#         self.dropout1 = nn.Dropout(dropout_probability)  # Dropout layer after the first FC layer\n",
    "#         self.fc2 = nn.Linear(512, 256)   # Second FC layer\n",
    "#         self.dropout2 = nn.Dropout(dropout_probability)  # Dropout layer after the second FC layer\n",
    "#         self.fc3 = nn.Linear(256, num_classes)  # Output layer\n",
    "\n",
    "#     def forward(self, x):\n",
    "#         x = self.encoder(x)\n",
    "#         x = x.view(x.size(0), -1)\n",
    "#         x = F.relu(self.fc1(x))\n",
    "#         x = self.dropout1(x)  # Apply dropout after the first ReLU\n",
    "#         x = F.relu(self.fc2(x))\n",
    "#         x = self.dropout2(x)  # Apply dropout after the second ReLU\n",
    "#         x = self.fc3(x)\n",
    "#         return x\n",
    "\n",
    "class FineTuneModelFREEZE(nn.Module):\n",
    "    def __init__(self, encoder, num_classes):\n",
    "        super(FineTuneModelFREEZE, self).__init__()\n",
    "        self.encoder = encoder\n",
    "\n",
    "        # Freeze the encoder's parameters\n",
    "        for param in self.encoder.parameters():\n",
    "            param.requires_grad = False\n",
    "\n",
    "        # Fully connected layers for fine-tuning\n",
    "        self.fc1 = nn.Linear(2048, 512)\n",
    "        self.fc2 = nn.Linear(512, 256)\n",
    "        self.fc3 = nn.Linear(256, num_classes)\n",
    "        \n",
    "    def forward(self, x):\n",
    "        x = self.encoder(x)\n",
    "        x = x.view(x.size(0), -1)  \n",
    "        x = F.relu(self.fc1(x))\n",
    "        x = F.relu(self.fc2(x))\n",
    "        x = self.fc3(x)\n",
    "        return x\n",
    "\n",
    "''''\n",
    "class FineTuneModelFREZ(nn.Module):\n",
    "    def __init__(self, pretrained_autoencoder, num_classes):\n",
    "        super(FineTuneModelFREZ, self).__init__()\n",
    "        # Use the encoder from the pretrained autoencoder\n",
    "        self.encoder = pretrained_autoencoder.encoder\n",
    "\n",
    "        # Freeze the encoder\n",
    "        for param in self.encoder.parameters():\n",
    "            param.requires_grad = False\n",
    "\n",
    "        # Adaptive pooling layer\n",
    "        self.avgpool = nn.AdaptiveAvgPool2d((1, 1))\n",
    "\n",
    "        # Classification head: Three fully connected layers\n",
    "        self.fc1 = nn.Linear(2048, 1024)  # First fully connected layer\n",
    "        self.fc2 = nn.Linear(1024, 512)   # Second fully connected layer\n",
    "        self.fc3 = nn.Linear(512, num_classes)  # Third fully connected layer maps to the number of classes\n",
    "\n",
    "        # dropout for regularization\n",
    "        self.dropout = nn.Dropout(0.5)\n",
    "\n",
    "        # Non-linear activation function\n",
    "        self.relu = nn.ReLU()\n",
    "\n",
    "    def forward(self, x):\n",
    "        # Pass input through the encoder\n",
    "        x = self.encoder(x)\n",
    "        x = self.avgpool(x)\n",
    "        x = torch.flatten(x, 1)\n",
    "\n",
    "        # Pass through the fully connected layers with ReLU activation and dropout\n",
    "        x = self.relu(self.fc1(x))\n",
    "        #x = self.dropout(x)\n",
    "        x = self.relu(self.fc2(x))\n",
    "        #x = self.dropout(x)\n",
    "        x = self.fc3(x)\n",
    "        return x\n",
    "'''"
   ]
  },
  {
   "cell_type": "markdown",
   "metadata": {},
   "source": [
    "## Data\n"
   ]
  },
  {
   "cell_type": "code",
   "execution_count": 5,
   "metadata": {},
   "outputs": [
    {
     "name": "stdout",
     "output_type": "stream",
     "text": [
      "Train size:  3776\n",
      "Test size:  472\n",
      "Val size:  472\n",
      "Label_int\n",
      "0    1760\n",
      "2    1332\n",
      "1     570\n",
      "3     114\n",
      "Name: count, dtype: int64\n",
      "Label_int\n",
      "0    220\n",
      "2    167\n",
      "1     71\n",
      "3     14\n",
      "Name: count, dtype: int64\n",
      "Label_int\n",
      "0    220\n",
      "2    166\n",
      "1     72\n",
      "3     14\n",
      "Name: count, dtype: int64\n"
     ]
    }
   ],
   "source": [
    "from Train_test_split_new import *\n",
    "\n",
    "train_df, test_df, val_df = train_test_ADSMI()\n",
    "\n",
    "foldername = \"RS96_15sec_batch32_7_50_masking_ref5\"\n",
    "# Load the dataframe\n",
    "labels_file = pd.read_csv('./data/labeled_ADSMI/labels_int.csv', index_col=0)\n",
    "\n",
    "\n",
    "\n",
    "print(train_df[\"Label_int\"].value_counts())\n",
    "print(test_df[\"Label_int\"].value_counts())\n",
    "print(val_df[\"Label_int\"].value_counts())\n",
    "\n",
    "train_loader, test_loader = DL.create_generators_finetune_train(train_df,test_df)\n",
    "\n",
    "\n"
   ]
  },
  {
   "cell_type": "markdown",
   "metadata": {},
   "source": [
    "### Model initalisation"
   ]
  },
  {
   "cell_type": "code",
   "execution_count": 6,
   "metadata": {},
   "outputs": [],
   "source": [
    "# Hyperparameters\n",
    "num_epochs = config.finetune_epochs \n",
    "\n",
    "weight_decay = 0  # L2 regularization\n",
    "batch_size = config.batch_size\n",
    "# Specify learning rates\n",
    "learning_rate_encoder = 0.0003\n",
    "learning_rate_fc = 0.0005\n",
    "learning_rate = learning_rate_encoder\n",
    "\n",
    "\n",
    "#  Create an instance of the model\n",
    "num_classes = len(set(labels_file[\"Label_int\"]))  \n",
    "\n",
    "# Device configuration\n",
    "device = torch.device('cuda' if torch.cuda.is_available() else 'cpu')\n",
    "\n",
    "# Early stopping parameters\n",
    "patience = 20#config.patience \n",
    "early_stop_counter = 0\n",
    "\n",
    "\n",
    "# Load the entire pre-trained model (from your contrastive training)\n",
    "#pretrained_model = torch.load(Pretrain_model_dir + '/checkpoint.pth')\n",
    "pretrained_model = torch.load(Pretrain_model_dir + '/checkpoint_17.pth')\n",
    "\n",
    "# Load the pre-trained encoder\n",
    "encoder_trained = pretrained_model.encoder\n",
    "\n",
    "# Initialize the FineTuneModel with the pre-trained encoder\n",
    "model = FineTuneModel(encoder_trained, num_classes).to(device)\n",
    "#model = FineTuneModelFREEZE(encoder_trained, num_classes).to(device)\n",
    "\n",
    "\n",
    "\n",
    "# Separate parameters of encoder and fully connected layers\n",
    "encoder_params = model.encoder.parameters()\n",
    "fc_params = list(model.fc1.parameters()) + list(model.fc2.parameters()) + list(model.fc3.parameters())\n",
    "\n",
    "# Create parameter groups with different learning rates\n",
    "optimizer = torch.optim.Adam([\n",
    "    {'params': encoder_params, 'lr': learning_rate_encoder},\n",
    "    {'params': fc_params, 'lr': learning_rate_fc}\n",
    "])\n",
    "\n",
    "\n",
    "# Define a loss function and optimizer\n",
    "criterion = nn.CrossEntropyLoss().to(device)\n",
    "#optimizer = torch.optim.Adam(model.parameters(), lr=learning_rate, weight_decay = 1e-4 ) \n",
    "#optimizer = torch.optim.Adam(model.parameters(), lr=learning_rate, weight_decay = weight_decay ) \n",
    "\n",
    "#Schedulers\n",
    "scheduler = lr_scheduler.ReduceLROnPlateau(optimizer, mode='min', patience=10, factor=0.6, verbose=True)\n",
    "\n",
    "#scheduler = torch.optim.lr_scheduler.CosineAnnealingLR(optimizer, T_max=50, eta_min=0)\n",
    "#scheduler = torch.optim.lr_scheduler.CyclicLR(optimizer, base_lr=0.0001, max_lr=0.001, step_size_up=5, mode='triangular')\n",
    "#scheduler = torch.optim.lr_scheduler.OneCycleLR(optimizer, max_lr=0.01, steps_per_epoch=len(train_loader), epochs=num_epochs)\n",
    "\n",
    "#new folder path\n",
    "finetune_results_dir = f'./finetune_results/FT_ADSMI_{foldername}'#{datetime.datetime.now().strftime(\"%Y-%m-%d-%H\")}_V4lradj'\n",
    "\n",
    "# Create a new folder to save the results\n",
    "if not os.path.exists(finetune_results_dir):\n",
    "    os.makedirs(finetune_results_dir)\n",
    "\n",
    "# create log file\n",
    "with open(f'{finetune_results_dir}/log_file.txt', 'w') as log_file:\n",
    "    log_file.write(f'########################################################\\n')\n",
    "    log_file.write(f'Finetuning on CONTRASTIVE LOSS PRETRAIN{data_name} dataset\\n')\n",
    "    log_file.write(f'Learning rate: {learning_rate_encoder}\\n')\n",
    "    log_file.write(f'Weight decay: {weight_decay}\\n')\n",
    "    log_file.write(f'Batch size: {batch_size}\\n')\n",
    "    log_file.write(f'Number of epochs: {num_epochs}\\n')\n",
    "    log_file.write(f'Patience: {patience}\\n')\n",
    "    log_file.write(f'Number of classes: {num_classes}\\n')\n",
    "    log_file.write(f'Train size: {len(train_df)}\\n')\n",
    "    log_file.write(f'Test size: {len(test_df)}\\n')\n",
    "    log_file.write(f'Val size: {len(val_df)}\\n')\n",
    "    log_file.write(f'Length of train data in seconds: {config.desired_length_in_seconds}\\n')\n",
    "    log_file.write(f'freq_mask_param : {config.freq_mask_param}\\n')\n",
    "    log_file.write(f'time_mask_param : {config.time_mask_param}\\n')\n",
    "    log_file.write(f'########################################################\\n\\n')\n",
    "\n",
    "\n",
    "train_losses = []\n",
    "val_losses = []\n",
    "best_accuracy = 0\n",
    "best_f1_macro_avg = 0\n",
    "best_loss = 1000\n",
    "early_stop_counter = 0\n",
    "save_counter = 0\n",
    "save_start = 5\n",
    "#model_path = \"./finetune_results/newgpulr0001_checkpoint.pth\""
   ]
  },
  {
   "cell_type": "code",
   "execution_count": 7,
   "metadata": {},
   "outputs": [
    {
     "name": "stdout",
     "output_type": "stream",
     "text": [
      "30015656\n"
     ]
    }
   ],
   "source": [
    "#count parameters of pretrain model\n",
    "pytorch_total_params = sum(p.numel() for p in pretrained_model.parameters())\n",
    "print(pytorch_total_params)"
   ]
  },
  {
   "cell_type": "code",
   "execution_count": 8,
   "metadata": {},
   "outputs": [
    {
     "name": "stderr",
     "output_type": "stream",
     "text": [
      "100%|██████████| 118/118 [00:45<00:00,  2.60it/s]\n"
     ]
    },
    {
     "name": "stdout",
     "output_type": "stream",
     "text": [
      "Epoch [1/120], Train Loss: 0.6922, Val Loss: 0.4642, Val Accuracy: 80.30% Val F1 Score: 0.7103\n"
     ]
    },
    {
     "name": "stderr",
     "output_type": "stream",
     "text": [
      "100%|██████████| 118/118 [00:28<00:00,  4.15it/s]\n"
     ]
    },
    {
     "name": "stdout",
     "output_type": "stream",
     "text": [
      "Epoch [2/120], Train Loss: 0.4528, Val Loss: 0.4170, Val Accuracy: 84.11% Val F1 Score: 0.8160\n"
     ]
    },
    {
     "name": "stderr",
     "output_type": "stream",
     "text": [
      "100%|██████████| 118/118 [00:29<00:00,  3.98it/s]\n"
     ]
    },
    {
     "name": "stdout",
     "output_type": "stream",
     "text": [
      "Epoch [3/120], Train Loss: 0.3983, Val Loss: 0.2956, Val Accuracy: 88.56% Val F1 Score: 0.8387\n"
     ]
    },
    {
     "name": "stderr",
     "output_type": "stream",
     "text": [
      "100%|██████████| 118/118 [00:27<00:00,  4.24it/s]\n"
     ]
    },
    {
     "name": "stdout",
     "output_type": "stream",
     "text": [
      "Epoch [4/120], Train Loss: 0.3726, Val Loss: 0.3650, Val Accuracy: 88.56% Val F1 Score: 0.8066\n"
     ]
    },
    {
     "name": "stderr",
     "output_type": "stream",
     "text": [
      "100%|██████████| 118/118 [00:27<00:00,  4.24it/s]\n"
     ]
    },
    {
     "name": "stdout",
     "output_type": "stream",
     "text": [
      "Epoch [5/120], Train Loss: 0.3324, Val Loss: 0.2954, Val Accuracy: 90.89% Val F1 Score: 0.8482\n"
     ]
    },
    {
     "name": "stderr",
     "output_type": "stream",
     "text": [
      "100%|██████████| 118/118 [00:27<00:00,  4.22it/s]\n"
     ]
    },
    {
     "name": "stdout",
     "output_type": "stream",
     "text": [
      "Epoch [6/120], Train Loss: 0.3064, Val Loss: 0.3512, Val Accuracy: 88.77% Val F1 Score: 0.8342\n"
     ]
    },
    {
     "name": "stderr",
     "output_type": "stream",
     "text": [
      "100%|██████████| 118/118 [00:27<00:00,  4.26it/s]\n"
     ]
    },
    {
     "name": "stdout",
     "output_type": "stream",
     "text": [
      "Epoch [7/120], Train Loss: 0.3412, Val Loss: 0.2416, Val Accuracy: 91.95% Val F1 Score: 0.8938\n"
     ]
    },
    {
     "name": "stderr",
     "output_type": "stream",
     "text": [
      "100%|██████████| 118/118 [00:28<00:00,  4.17it/s]\n"
     ]
    },
    {
     "name": "stdout",
     "output_type": "stream",
     "text": [
      "Epoch [8/120], Train Loss: 0.3066, Val Loss: 0.2243, Val Accuracy: 92.80% Val F1 Score: 0.8882\n"
     ]
    },
    {
     "name": "stderr",
     "output_type": "stream",
     "text": [
      "100%|██████████| 118/118 [00:28<00:00,  4.21it/s]\n"
     ]
    },
    {
     "name": "stdout",
     "output_type": "stream",
     "text": [
      "Epoch [9/120], Train Loss: 0.3141, Val Loss: 0.3388, Val Accuracy: 86.02% Val F1 Score: 0.8257\n"
     ]
    },
    {
     "name": "stderr",
     "output_type": "stream",
     "text": [
      "100%|██████████| 118/118 [00:27<00:00,  4.28it/s]\n"
     ]
    },
    {
     "name": "stdout",
     "output_type": "stream",
     "text": [
      "Epoch [10/120], Train Loss: 0.3265, Val Loss: 0.2452, Val Accuracy: 91.53% Val F1 Score: 0.8978\n"
     ]
    },
    {
     "name": "stderr",
     "output_type": "stream",
     "text": [
      "100%|██████████| 118/118 [00:28<00:00,  4.11it/s]\n"
     ]
    },
    {
     "name": "stdout",
     "output_type": "stream",
     "text": [
      "Epoch [11/120], Train Loss: 0.2947, Val Loss: 0.2483, Val Accuracy: 90.04% Val F1 Score: 0.8814\n"
     ]
    },
    {
     "name": "stderr",
     "output_type": "stream",
     "text": [
      "100%|██████████| 118/118 [00:27<00:00,  4.23it/s]\n"
     ]
    },
    {
     "name": "stdout",
     "output_type": "stream",
     "text": [
      "Epoch [12/120], Train Loss: 0.2888, Val Loss: 0.2241, Val Accuracy: 91.10% Val F1 Score: 0.8769\n"
     ]
    },
    {
     "name": "stderr",
     "output_type": "stream",
     "text": [
      "100%|██████████| 118/118 [00:27<00:00,  4.31it/s]\n"
     ]
    },
    {
     "name": "stdout",
     "output_type": "stream",
     "text": [
      "Epoch [13/120], Train Loss: 0.2754, Val Loss: 0.2699, Val Accuracy: 90.68% Val F1 Score: 0.8821\n"
     ]
    },
    {
     "name": "stderr",
     "output_type": "stream",
     "text": [
      "100%|██████████| 118/118 [00:27<00:00,  4.27it/s]\n"
     ]
    },
    {
     "name": "stdout",
     "output_type": "stream",
     "text": [
      "Epoch [14/120], Train Loss: 0.2833, Val Loss: 0.2737, Val Accuracy: 91.10% Val F1 Score: 0.8740\n"
     ]
    },
    {
     "name": "stderr",
     "output_type": "stream",
     "text": [
      "100%|██████████| 118/118 [00:27<00:00,  4.34it/s]\n"
     ]
    },
    {
     "name": "stdout",
     "output_type": "stream",
     "text": [
      "Epoch [15/120], Train Loss: 0.2651, Val Loss: 0.2043, Val Accuracy: 93.86% Val F1 Score: 0.9347\n"
     ]
    },
    {
     "name": "stderr",
     "output_type": "stream",
     "text": [
      "100%|██████████| 118/118 [00:27<00:00,  4.26it/s]\n"
     ]
    },
    {
     "name": "stdout",
     "output_type": "stream",
     "text": [
      "Epoch [16/120], Train Loss: 0.2616, Val Loss: 0.2453, Val Accuracy: 91.53% Val F1 Score: 0.8692\n"
     ]
    },
    {
     "name": "stderr",
     "output_type": "stream",
     "text": [
      "100%|██████████| 118/118 [00:29<00:00,  4.05it/s]\n"
     ]
    },
    {
     "name": "stdout",
     "output_type": "stream",
     "text": [
      "Epoch [17/120], Train Loss: 0.2641, Val Loss: 0.2670, Val Accuracy: 91.53% Val F1 Score: 0.8742\n"
     ]
    },
    {
     "name": "stderr",
     "output_type": "stream",
     "text": [
      "100%|██████████| 118/118 [00:37<00:00,  3.17it/s]\n"
     ]
    },
    {
     "name": "stdout",
     "output_type": "stream",
     "text": [
      "Epoch [18/120], Train Loss: 0.2798, Val Loss: 0.2149, Val Accuracy: 92.58% Val F1 Score: 0.9175\n"
     ]
    },
    {
     "name": "stderr",
     "output_type": "stream",
     "text": [
      "100%|██████████| 118/118 [00:34<00:00,  3.41it/s]\n"
     ]
    },
    {
     "name": "stdout",
     "output_type": "stream",
     "text": [
      "Epoch [19/120], Train Loss: 0.2849, Val Loss: 0.2243, Val Accuracy: 93.22% Val F1 Score: 0.9104\n"
     ]
    },
    {
     "name": "stderr",
     "output_type": "stream",
     "text": [
      "100%|██████████| 118/118 [00:30<00:00,  3.93it/s]\n"
     ]
    },
    {
     "name": "stdout",
     "output_type": "stream",
     "text": [
      "Epoch [20/120], Train Loss: 0.2795, Val Loss: 0.2471, Val Accuracy: 92.16% Val F1 Score: 0.8668\n"
     ]
    },
    {
     "name": "stderr",
     "output_type": "stream",
     "text": [
      "100%|██████████| 118/118 [00:28<00:00,  4.13it/s]\n"
     ]
    },
    {
     "name": "stdout",
     "output_type": "stream",
     "text": [
      "Epoch [21/120], Train Loss: 0.2464, Val Loss: 0.2562, Val Accuracy: 92.37% Val F1 Score: 0.9010\n"
     ]
    },
    {
     "name": "stderr",
     "output_type": "stream",
     "text": [
      "100%|██████████| 118/118 [00:29<00:00,  4.03it/s]\n"
     ]
    },
    {
     "name": "stdout",
     "output_type": "stream",
     "text": [
      "Epoch [22/120], Train Loss: 0.2538, Val Loss: 0.2135, Val Accuracy: 94.49% Val F1 Score: 0.9244\n"
     ]
    },
    {
     "name": "stderr",
     "output_type": "stream",
     "text": [
      "100%|██████████| 118/118 [00:30<00:00,  3.84it/s]\n"
     ]
    },
    {
     "name": "stdout",
     "output_type": "stream",
     "text": [
      "Epoch [23/120], Train Loss: 0.2595, Val Loss: 0.2302, Val Accuracy: 91.74% Val F1 Score: 0.8885\n"
     ]
    },
    {
     "name": "stderr",
     "output_type": "stream",
     "text": [
      "100%|██████████| 118/118 [00:29<00:00,  4.05it/s]\n"
     ]
    },
    {
     "name": "stdout",
     "output_type": "stream",
     "text": [
      "Epoch [24/120], Train Loss: 0.2461, Val Loss: 0.2643, Val Accuracy: 90.89% Val F1 Score: 0.8695\n"
     ]
    },
    {
     "name": "stderr",
     "output_type": "stream",
     "text": [
      "100%|██████████| 118/118 [00:29<00:00,  4.04it/s]\n"
     ]
    },
    {
     "name": "stdout",
     "output_type": "stream",
     "text": [
      "Epoch [25/120], Train Loss: 0.2390, Val Loss: 0.2884, Val Accuracy: 91.10% Val F1 Score: 0.8970\n"
     ]
    },
    {
     "name": "stderr",
     "output_type": "stream",
     "text": [
      "100%|██████████| 118/118 [00:30<00:00,  3.92it/s]\n"
     ]
    },
    {
     "name": "stdout",
     "output_type": "stream",
     "text": [
      "Epoch 00026: reducing learning rate of group 0 to 1.8000e-04.\n",
      "Epoch 00026: reducing learning rate of group 1 to 3.0000e-04.\n",
      "Epoch [26/120], Train Loss: 0.2605, Val Loss: 0.4092, Val Accuracy: 86.23% Val F1 Score: 0.7661\n"
     ]
    },
    {
     "name": "stderr",
     "output_type": "stream",
     "text": [
      "100%|██████████| 118/118 [00:29<00:00,  4.07it/s]\n"
     ]
    },
    {
     "name": "stdout",
     "output_type": "stream",
     "text": [
      "Epoch [27/120], Train Loss: 0.2171, Val Loss: 0.1961, Val Accuracy: 93.01% Val F1 Score: 0.9161\n"
     ]
    },
    {
     "name": "stderr",
     "output_type": "stream",
     "text": [
      "100%|██████████| 118/118 [00:29<00:00,  4.06it/s]\n"
     ]
    },
    {
     "name": "stdout",
     "output_type": "stream",
     "text": [
      "Epoch [28/120], Train Loss: 0.2167, Val Loss: 0.1824, Val Accuracy: 93.43% Val F1 Score: 0.9082\n"
     ]
    },
    {
     "name": "stderr",
     "output_type": "stream",
     "text": [
      "100%|██████████| 118/118 [00:30<00:00,  3.89it/s]\n"
     ]
    },
    {
     "name": "stdout",
     "output_type": "stream",
     "text": [
      "Epoch [29/120], Train Loss: 0.2288, Val Loss: 0.1808, Val Accuracy: 94.70% Val F1 Score: 0.9291\n"
     ]
    },
    {
     "name": "stderr",
     "output_type": "stream",
     "text": [
      "100%|██████████| 118/118 [00:29<00:00,  3.99it/s]\n"
     ]
    },
    {
     "name": "stdout",
     "output_type": "stream",
     "text": [
      "Epoch [30/120], Train Loss: 0.2037, Val Loss: 0.1758, Val Accuracy: 94.07% Val F1 Score: 0.9268\n"
     ]
    },
    {
     "name": "stderr",
     "output_type": "stream",
     "text": [
      "100%|██████████| 118/118 [00:29<00:00,  3.98it/s]\n"
     ]
    },
    {
     "name": "stdout",
     "output_type": "stream",
     "text": [
      "Epoch [31/120], Train Loss: 0.2239, Val Loss: 0.1903, Val Accuracy: 93.64% Val F1 Score: 0.9176\n"
     ]
    },
    {
     "name": "stderr",
     "output_type": "stream",
     "text": [
      "100%|██████████| 118/118 [00:30<00:00,  3.90it/s]\n"
     ]
    },
    {
     "name": "stdout",
     "output_type": "stream",
     "text": [
      "Epoch [32/120], Train Loss: 0.1975, Val Loss: 0.1857, Val Accuracy: 93.64% Val F1 Score: 0.9177\n"
     ]
    },
    {
     "name": "stderr",
     "output_type": "stream",
     "text": [
      "100%|██████████| 118/118 [00:29<00:00,  4.02it/s]\n"
     ]
    },
    {
     "name": "stdout",
     "output_type": "stream",
     "text": [
      "Epoch [33/120], Train Loss: 0.1977, Val Loss: 0.1729, Val Accuracy: 95.13% Val F1 Score: 0.9333\n"
     ]
    },
    {
     "name": "stderr",
     "output_type": "stream",
     "text": [
      "100%|██████████| 118/118 [00:29<00:00,  4.04it/s]\n"
     ]
    },
    {
     "name": "stdout",
     "output_type": "stream",
     "text": [
      "Epoch [34/120], Train Loss: 0.1943, Val Loss: 0.2280, Val Accuracy: 94.28% Val F1 Score: 0.9275\n"
     ]
    },
    {
     "name": "stderr",
     "output_type": "stream",
     "text": [
      "100%|██████████| 118/118 [00:30<00:00,  3.87it/s]\n"
     ]
    },
    {
     "name": "stdout",
     "output_type": "stream",
     "text": [
      "Epoch [35/120], Train Loss: 0.1906, Val Loss: 0.1797, Val Accuracy: 94.28% Val F1 Score: 0.9217\n"
     ]
    },
    {
     "name": "stderr",
     "output_type": "stream",
     "text": [
      "100%|██████████| 118/118 [00:29<00:00,  4.04it/s]\n"
     ]
    },
    {
     "name": "stdout",
     "output_type": "stream",
     "text": [
      "Epoch [36/120], Train Loss: 0.1924, Val Loss: 0.2011, Val Accuracy: 94.49% Val F1 Score: 0.9204\n"
     ]
    },
    {
     "name": "stderr",
     "output_type": "stream",
     "text": [
      "100%|██████████| 118/118 [00:29<00:00,  4.03it/s]\n"
     ]
    },
    {
     "name": "stdout",
     "output_type": "stream",
     "text": [
      "Epoch [37/120], Train Loss: 0.1980, Val Loss: 0.2744, Val Accuracy: 90.89% Val F1 Score: 0.8828\n"
     ]
    },
    {
     "name": "stderr",
     "output_type": "stream",
     "text": [
      "100%|██████████| 118/118 [00:30<00:00,  3.92it/s]\n"
     ]
    },
    {
     "name": "stdout",
     "output_type": "stream",
     "text": [
      "Epoch [38/120], Train Loss: 0.1911, Val Loss: 0.1847, Val Accuracy: 94.28% Val F1 Score: 0.9251\n"
     ]
    },
    {
     "name": "stderr",
     "output_type": "stream",
     "text": [
      "100%|██████████| 118/118 [00:29<00:00,  4.03it/s]\n"
     ]
    },
    {
     "name": "stdout",
     "output_type": "stream",
     "text": [
      "Epoch [39/120], Train Loss: 0.1871, Val Loss: 0.1949, Val Accuracy: 93.43% Val F1 Score: 0.9128\n"
     ]
    },
    {
     "name": "stderr",
     "output_type": "stream",
     "text": [
      "100%|██████████| 118/118 [00:29<00:00,  4.05it/s]\n"
     ]
    },
    {
     "name": "stdout",
     "output_type": "stream",
     "text": [
      "Epoch [40/120], Train Loss: 0.1907, Val Loss: 0.2287, Val Accuracy: 91.95% Val F1 Score: 0.8993\n"
     ]
    },
    {
     "name": "stderr",
     "output_type": "stream",
     "text": [
      "100%|██████████| 118/118 [00:30<00:00,  3.88it/s]\n"
     ]
    },
    {
     "name": "stdout",
     "output_type": "stream",
     "text": [
      "Epoch [41/120], Train Loss: 0.2005, Val Loss: 0.2369, Val Accuracy: 91.10% Val F1 Score: 0.8954\n"
     ]
    },
    {
     "name": "stderr",
     "output_type": "stream",
     "text": [
      "100%|██████████| 118/118 [00:28<00:00,  4.10it/s]\n"
     ]
    },
    {
     "name": "stdout",
     "output_type": "stream",
     "text": [
      "Epoch [42/120], Train Loss: 0.1724, Val Loss: 0.2148, Val Accuracy: 92.58% Val F1 Score: 0.8942\n"
     ]
    },
    {
     "name": "stderr",
     "output_type": "stream",
     "text": [
      "100%|██████████| 118/118 [00:28<00:00,  4.07it/s]\n"
     ]
    },
    {
     "name": "stdout",
     "output_type": "stream",
     "text": [
      "Epoch [43/120], Train Loss: 0.1715, Val Loss: 0.2028, Val Accuracy: 93.86% Val F1 Score: 0.9132\n"
     ]
    },
    {
     "name": "stderr",
     "output_type": "stream",
     "text": [
      "100%|██████████| 118/118 [00:30<00:00,  3.92it/s]\n"
     ]
    },
    {
     "name": "stdout",
     "output_type": "stream",
     "text": [
      "Epoch 00044: reducing learning rate of group 0 to 1.0800e-04.\n",
      "Epoch 00044: reducing learning rate of group 1 to 1.8000e-04.\n",
      "Epoch [44/120], Train Loss: 0.1917, Val Loss: 0.2463, Val Accuracy: 92.37% Val F1 Score: 0.8755\n"
     ]
    },
    {
     "name": "stderr",
     "output_type": "stream",
     "text": [
      "100%|██████████| 118/118 [00:28<00:00,  4.11it/s]\n"
     ]
    },
    {
     "name": "stdout",
     "output_type": "stream",
     "text": [
      "Epoch [45/120], Train Loss: 0.1682, Val Loss: 0.1897, Val Accuracy: 93.64% Val F1 Score: 0.9039\n"
     ]
    },
    {
     "name": "stderr",
     "output_type": "stream",
     "text": [
      "100%|██████████| 118/118 [00:29<00:00,  4.03it/s]\n"
     ]
    },
    {
     "name": "stdout",
     "output_type": "stream",
     "text": [
      "Epoch [46/120], Train Loss: 0.1609, Val Loss: 0.2048, Val Accuracy: 93.64% Val F1 Score: 0.9198\n"
     ]
    },
    {
     "name": "stderr",
     "output_type": "stream",
     "text": [
      "100%|██████████| 118/118 [00:30<00:00,  3.84it/s]\n"
     ]
    },
    {
     "name": "stdout",
     "output_type": "stream",
     "text": [
      "Epoch [47/120], Train Loss: 0.1495, Val Loss: 0.2133, Val Accuracy: 93.64% Val F1 Score: 0.9162\n"
     ]
    },
    {
     "name": "stderr",
     "output_type": "stream",
     "text": [
      "100%|██████████| 118/118 [00:29<00:00,  4.01it/s]\n"
     ]
    },
    {
     "name": "stdout",
     "output_type": "stream",
     "text": [
      "Epoch [48/120], Train Loss: 0.1560, Val Loss: 0.2687, Val Accuracy: 90.68% Val F1 Score: 0.8892\n"
     ]
    },
    {
     "name": "stderr",
     "output_type": "stream",
     "text": [
      "100%|██████████| 118/118 [00:29<00:00,  4.07it/s]\n"
     ]
    },
    {
     "name": "stdout",
     "output_type": "stream",
     "text": [
      "Epoch [49/120], Train Loss: 0.1640, Val Loss: 0.2752, Val Accuracy: 91.10% Val F1 Score: 0.9055\n"
     ]
    },
    {
     "name": "stderr",
     "output_type": "stream",
     "text": [
      "100%|██████████| 118/118 [00:30<00:00,  3.89it/s]\n"
     ]
    },
    {
     "name": "stdout",
     "output_type": "stream",
     "text": [
      "Epoch [50/120], Train Loss: 0.1486, Val Loss: 0.2439, Val Accuracy: 91.74% Val F1 Score: 0.8918\n"
     ]
    },
    {
     "name": "stderr",
     "output_type": "stream",
     "text": [
      "100%|██████████| 118/118 [00:28<00:00,  4.07it/s]\n"
     ]
    },
    {
     "name": "stdout",
     "output_type": "stream",
     "text": [
      "Epoch [51/120], Train Loss: 0.1523, Val Loss: 0.1820, Val Accuracy: 92.58% Val F1 Score: 0.9087\n"
     ]
    },
    {
     "name": "stderr",
     "output_type": "stream",
     "text": [
      "100%|██████████| 118/118 [00:28<00:00,  4.10it/s]\n"
     ]
    },
    {
     "name": "stdout",
     "output_type": "stream",
     "text": [
      "Epoch [52/120], Train Loss: 0.1458, Val Loss: 0.2382, Val Accuracy: 93.64% Val F1 Score: 0.9057\n",
      "Early stopping on epoch 52\n"
     ]
    }
   ],
   "source": [
    "\n",
    "from sklearn.metrics import f1_score as calculate_f1_score\n",
    "\n",
    "\n",
    "for epoch in range(num_epochs):\n",
    "    model.train()\n",
    "    epoch_train_losses = []  # Temporary list for storing training losses for each batch\n",
    "    all_predicted = []\n",
    "    all_labels = []\n",
    "    for batch_idx, (spectrograms, labels) in tqdm(enumerate(train_loader), total=len(train_loader)):\n",
    "        spectrograms = spectrograms.to(device)\n",
    "        labels = labels.to(device)\n",
    "\n",
    "        # Forward pass\n",
    "        outputs = model(spectrograms)\n",
    "        loss = criterion(outputs, labels)\n",
    "        epoch_train_losses.append(loss.item())  # Append current batch loss\n",
    "\n",
    "        # Backward pass and optimization\n",
    "        optimizer.zero_grad()\n",
    "        loss.backward()\n",
    "        optimizer.step()\n",
    "\n",
    "    # Calculate average training loss for the epoch\n",
    "    avg_train_loss = sum(epoch_train_losses) / len(epoch_train_losses)\n",
    "    train_losses.append(avg_train_loss)  # Append average loss to main list\n",
    "\n",
    "    model.eval()\n",
    "    epoch_val_losses = []  # Temporary list for storing validation losses for each batch\n",
    "    correct_predictions = 0\n",
    "    total_samples = 0\n",
    "\n",
    "    with torch.no_grad():\n",
    "        for spectrograms, labels in test_loader:\n",
    "            spectrograms = spectrograms.to(device)\n",
    "            labels = labels.to(device)\n",
    "\n",
    "            # Forward pass\n",
    "            outputs = model(spectrograms)\n",
    "            loss = criterion(outputs, labels)\n",
    "            epoch_val_losses.append(loss.item())  # Append current batch loss\n",
    "\n",
    "            # Compute the predicted labels\n",
    "            _, predicted = torch.max(outputs, 1)\n",
    "            all_predicted.extend(predicted.cpu().numpy())\n",
    "            all_labels.extend(labels.cpu().numpy())\n",
    "            \n",
    "            total_samples += labels.size(0)\n",
    "            correct_predictions += (predicted == labels).sum().item()\n",
    "\n",
    "    # Calculate average validation loss for the epoch\n",
    "    avg_val_loss = sum(epoch_val_losses) / len(epoch_val_losses)\n",
    "    val_losses.append(avg_val_loss)  # Append average loss to main list\n",
    "\n",
    "    # Model saving and logging based on accuracy, loss, and now F1 score\n",
    "    accuracy = correct_predictions / total_samples\n",
    "\n",
    "    # Calculate macro avg f1 score using the alias\n",
    "    f1_macro_avg = calculate_f1_score(all_labels, all_predicted, average='macro')\n",
    "\n",
    "    if f1_macro_avg > best_f1_macro_avg and save_counter > save_start:\n",
    "        best_f1_macro_avg = f1_macro_avg\n",
    "        torch.save(model, finetune_results_dir + '/checkpoint_best_f1.pth')\n",
    "        early_stop_counter = 0\n",
    "        with open(finetune_results_dir + '/log_file.txt', 'a') as log_file:\n",
    "            log_file.write(f\"Best F1 Score improved on epoch {epoch}: {best_f1_macro_avg:.4f}\\n\")\n",
    "\n",
    "    if correct_predictions / total_samples > best_accuracy and save_counter > save_start:\n",
    "        best_accuracy = accuracy\n",
    "        torch.save(model, finetune_results_dir + '/checkpoint.pth')\n",
    "        early_stop_counter = 0\n",
    "        with open(finetune_results_dir + '/log_file.txt', 'a') as log_file:\n",
    "            log_file.write(f\"Best accuracy improved on epoch {epoch}: {best_accuracy * 100:.2f}%\\n\")\n",
    "    \n",
    "    if avg_val_loss < best_loss and save_counter > save_start:\n",
    "        best_loss = avg_val_loss\n",
    "        torch.save(model, finetune_results_dir + '/checkpoint_best_loss.pth')\n",
    "        early_stop_counter = 0\n",
    "        with open(finetune_results_dir + '/log_file.txt', 'a') as log_file:\n",
    "            log_file.write(f\"Best loss improved on epoch {epoch}: {best_loss:.4f}\\n\")\n",
    "\n",
    "    scheduler.step(avg_val_loss)\n",
    "\n",
    "    save_counter += 1\n",
    "    # Logging for each epoch\n",
    "    print(f\"Epoch [{epoch+1}/{num_epochs}], Train Loss: {avg_train_loss:.4f}, Val Loss: {avg_val_loss:.4f}, Val Accuracy: {accuracy * 100:.2f}%\", f\"Val F1 Score: {f1_macro_avg:.4f}\")\n",
    "    with open(finetune_results_dir + '/log_file.txt', 'a') as log_file:\n",
    "        log_file.write(f\"Epoch [{epoch+1}/{num_epochs}], Train Loss: {avg_train_loss:.4f}, Val Loss: {avg_val_loss:.4f}, Accuracy: {accuracy}, Early stopping count: {early_stop_counter} from {patience}\\n\")\n",
    "\n",
    "    # Early stopping\n",
    "    early_stop_counter += 1\n",
    "    if early_stop_counter >= patience:\n",
    "        print(f\"Early stopping on epoch {epoch+1}\")\n",
    "        break\n",
    "# Save full model\n",
    "torch.save(model, finetune_results_dir + '/Full_model_checkpoint.pth')"
   ]
  },
  {
   "cell_type": "markdown",
   "metadata": {},
   "source": [
    "### Losses Plot"
   ]
  },
  {
   "cell_type": "code",
   "execution_count": 9,
   "metadata": {},
   "outputs": [
    {
     "name": "stdout",
     "output_type": "stream",
     "text": [
      "./finetune_results/FT_ADSMI_RS96_15sec_batch32_7_50_masking_ref5\n"
     ]
    },
    {
     "data": {
      "image/png": "[encoded data removed]",
      "text/plain": [
       "<Figure size 900x600 with 1 Axes>"
      ]
     },
     "metadata": {},
     "output_type": "display_data"
    }
   ],
   "source": [
    "# Save full model\n",
    "torch.save(model, finetune_results_dir + '/Full_model_checkpoint.pth')\n",
    "\n",
    "\n",
    "# Convert tensors in the lists to numbers if necessary\n",
    "train_losses_cpu = [loss.cpu().item() if isinstance(loss, torch.Tensor) else loss for loss in train_losses]\n",
    "val_losses_cpu = [loss.cpu().item() if isinstance(loss, torch.Tensor) else loss for loss in val_losses]\n",
    "\n",
    "# Now plot these lists\n",
    "plt.figure(figsize=(9, 6))\n",
    "plt.plot(train_losses_cpu, label='Train Loss')\n",
    "plt.plot(val_losses_cpu, label='Val Loss')\n",
    "plt.xlabel('Epoch')\n",
    "plt.ylabel('Loss')\n",
    "plt.legend()\n",
    "plt.tight_layout()\n",
    "\n",
    "\n",
    "\n",
    "#system sleep for 2\n",
    "time.sleep(2)\n",
    "print(finetune_results_dir)\n",
    "# Save the plot\n",
    "plt.savefig(f'{finetune_results_dir}/loss_plot.png')\n",
    "\n",
    "plt.show()"
   ]
  },
  {
   "cell_type": "code",
   "execution_count": 10,
   "metadata": {},
   "outputs": [],
   "source": [
    "def validation_fun(modelpath,measure_checkpoint):\n",
    "    import config\n",
    "    # Set the device for testing\n",
    "    device = torch.device('cuda' if torch.cuda.is_available() else 'cpu')\n",
    "    config.val_sound_length = 20\n",
    "    # Create a data loader for the test set\n",
    "    val_loader = DL.create_generators_finetune_val(val_df)  \n",
    "\n",
    "    #model = torch.load(\"./results_standalone/newgpu2_checkpoint.pth\")\n",
    "    model = torch.load(finetune_results_dir + modelpath)\n",
    "    # Transfer the model to the testing device\n",
    "    model.to(device)\n",
    "\n",
    "    # Define a criterion for evaluation (e.g., cross-entropy loss for classification)\n",
    "    criterion = nn.CrossEntropyLoss()\n",
    "\n",
    "    # Initialize variables for evaluation metrics (e.g., accuracy)\n",
    "    correct_predictions = 0\n",
    "    total_samples = 0\n",
    "\n",
    "    # Define the label dictionary\n",
    "    true_labels_dic = {0: '[Kreischen]', 1: '[Kreischen][Quietschen]', 2: '[Negativ]', 3: '[Quietschen]'}\n",
    "\n",
    "    # Set the model to evaluation mode \n",
    "    model.eval()\n",
    "\n",
    "    # Initialize lists to store all true labels and predicted labels\n",
    "    all_true_labels = []\n",
    "    all_predicted_labels = []\n",
    "\n",
    "    # Iterate through the test set\n",
    "    with torch.no_grad():\n",
    "        for spectrograms, labels in val_loader:\n",
    "            # Move data to the testing device\n",
    "            spectrograms = spectrograms.to(device)\n",
    "            labels = labels.to(device)\n",
    "\n",
    "            # Forward pass\n",
    "            outputs = model(spectrograms)\n",
    "            \n",
    "            # Compute the predicted labels\n",
    "            _, predicted = torch.max(outputs, 1)\n",
    "\n",
    "            # Append true and predicted labels to the lists\n",
    "            all_true_labels.extend(labels.cpu().numpy())\n",
    "            all_predicted_labels.extend(predicted.cpu().numpy())\n",
    "\n",
    "    # Convert lists to numpy arrays\n",
    "    all_true_labels = np.array(all_true_labels)\n",
    "    all_predicted_labels = np.array(all_predicted_labels)\n",
    "\n",
    "    # Calculate accuracy, precision, recall, F1-score, etc. using all_true_labels and all_predicted_labels\n",
    "    accuracy = np.mean(all_true_labels == all_predicted_labels)\n",
    "    precision, recall, f1_score, _ = precision_recall_fscore_support(all_true_labels, all_predicted_labels, average='macro')\n",
    "\n",
    "\n",
    "    #calculate balanced accuracy\n",
    "    balanced_accuracy2 = balanced_accuracy_score(all_true_labels, all_predicted_labels)\n",
    "    #kappa score\n",
    "    cohens_kappa = cohen_kappa_score(all_true_labels, all_predicted_labels)\n",
    "\n",
    "\n",
    "    print(f\"\\nEvaluation Results:\")\n",
    "    #print(f\"Balanced Accuracy: {balanced_accuracy * 100:.2f}%\")\n",
    "    print(f\"Balanced Accuracy2: {balanced_accuracy2 * 100:.2f}%\")\n",
    "\n",
    "    print(f\"Test Accuracy: {accuracy * 100:.2f}%\")\n",
    "    print(f\"\\nEvaluation Results:\")\n",
    "    print(f\"Accuracy: {accuracy * 100:.2f}%\")\n",
    "    print(f\"Precision: {precision * 100:.2f}%\")\n",
    "    print(f\"Recall: {recall * 100:.2f}%\")\n",
    "    print(f\"F1-score: {f1_score * 100:.2f}%\")\n",
    "    print(f\"Kappa: {cohens_kappa * 100:.2f}%\")\n",
    "\n",
    "    conf_mat = confusion_matrix(all_true_labels, all_predicted_labels)\n",
    "    def plot_confusion_matrix(conf_mat, class_labels):\n",
    "        plt.figure(figsize=(7, 7))\n",
    "        sns.set(font_scale=1.2)\n",
    "        \n",
    "        class_labels = [str(label) for label in class_labels]\n",
    "        \n",
    "        ax = sns.heatmap(conf_mat, annot=True, fmt=\"d\", cmap=\"Blues\", cbar=False,\n",
    "                    xticklabels=class_labels,\n",
    "                    yticklabels=class_labels)\n",
    "        \n",
    "        plt.xlabel('Predicted Labels')\n",
    "        plt.ylabel('True Labels')\n",
    "        plt.title('Confusion Matrix')\n",
    "        plt.xticks(rotation=90)\n",
    "\n",
    "        return plt.gcf()  # Return the current figure\n",
    "\n",
    "    import config\n",
    "    #create classification results text file\n",
    "    with open(f'{finetune_results_dir}/results_file_{measure_checkpoint}.txt', 'w') as log_file:\n",
    "        log_file.write(f\"########################################################\\n\")\n",
    "        log_file.write(f\"Frequency Mask:{config.freq_mask_param}\\n\")\n",
    "        log_file.write(f\"Time Mask: {config.time_mask_param}\\n\")\n",
    "        log_file.write(f\"Spectro:\\n\")\n",
    "        log_file.write(f\"        n_fft={2048},\\n\")\n",
    "        log_file.write(f\"        hop_length = {512},\\n\")\n",
    "        log_file.write(f\"        n_mels={128},  \\n\")\n",
    "        log_file.write(f\"        win_length = {2048},\\n\")\n",
    "        log_file.write(f\"Epochs: {num_epochs}\\n\")\n",
    "        log_file.write(f\"Batch size: {batch_size}\\n\")\n",
    "        log_file.write(f\"Optimizer: Adam\\n\")\n",
    "        log_file.write(f\"Learning rate: {learning_rate}\\n\")\n",
    "        log_file.write(f\"Weight decay: {weight_decay}\\n\")\n",
    "        log_file.write(f\"Scheduler: ReduceLROnPlateau\\n\")\n",
    "        log_file.write(f\"Model: ModifiedResnet50_Classifier \\n\")\n",
    "        log_file.write(f\"classifiers: 512, 256, 4 : 2 fully connected layers\\n\")\n",
    "        log_file.write(f\"########################################################\\n\\n\")\n",
    "        log_file.write(f\"Balanced Accuracy2: {balanced_accuracy2 * 100:.2f}%\\n\")\n",
    "        log_file.write(f\"Test Accuracy: {accuracy * 100:.2f}%\\n\")\n",
    "        log_file.write(f\"\\nEvaluation Results:\\n\")\n",
    "        log_file.write(f\"Precision: {precision * 100:.2f}%\\n\")\n",
    "        log_file.write(f\"Recall: {recall * 100:.2f}%\\n\")\n",
    "        log_file.write(f\"F1-score: {f1_score * 100:.2f}%\\n\")\n",
    "        log_file.write(f\"Kappa: {cohens_kappa * 100:.2f}%\\n\")\n",
    "        log_file.write(f\"########################################################\\n\\n\")\n",
    "        log_file.write(f\"Confusion Matrix:\\n\")\n",
    "        log_file.write(f\"{conf_mat}\\n\")\n",
    "        log_file.write(f\"########################################################\\n\\n\")\n",
    "        log_file.write(f\"Classifcation Report: {classification_report(all_true_labels, all_predicted_labels, target_names=true_labels_dic.values(),digits=4)}\\n\")\n",
    "\n",
    "    print(classification_report(all_true_labels, all_predicted_labels, target_names=true_labels_dic.values(),digits=4))\n",
    "\n",
    "    #save this plot as a png file\n",
    "    plot = plot_confusion_matrix(conf_mat, true_labels_dic.values())\n",
    "    plot.savefig(f'{finetune_results_dir}/confusion_matrix_{measure_checkpoint}.png')\n",
    "\n",
    "\n",
    "\n",
    "\n",
    "\n"
   ]
  },
  {
   "cell_type": "code",
   "execution_count": 11,
   "metadata": {},
   "outputs": [
    {
     "name": "stdout",
     "output_type": "stream",
     "text": [
      "\n",
      "Evaluation Results:\n",
      "Balanced Accuracy2: 93.85%\n",
      "Test Accuracy: 93.86%\n",
      "\n",
      "Evaluation Results:\n",
      "Accuracy: 93.86%\n",
      "Precision: 92.61%\n",
      "Recall: 93.85%\n",
      "F1-score: 93.12%\n",
      "Kappa: 90.37%\n",
      "                         precision    recall  f1-score   support\n",
      "\n",
      "            [Kreischen]     0.9369    0.9455    0.9412       220\n",
      "[Kreischen][Quietschen]     0.8519    0.9583    0.9020        72\n",
      "              [Negativ]     0.9871    0.9217    0.9533       166\n",
      "           [Quietschen]     0.9286    0.9286    0.9286        14\n",
      "\n",
      "               accuracy                         0.9386       472\n",
      "              macro avg     0.9261    0.9385    0.9312       472\n",
      "           weighted avg     0.9414    0.9386    0.9391       472\n",
      "\n"
     ]
    },
    {
     "data": {
      "image/png": "[encoded data removed]",
      "text/plain": [
       "<Figure size 700x700 with 1 Axes>"
      ]
     },
     "metadata": {},
     "output_type": "display_data"
    }
   ],
   "source": [
    "validation_fun('/Full_model_checkpoint.pth',\"full_model\")\n",
    "\n"
   ]
  },
  {
   "cell_type": "code",
   "execution_count": 24,
   "metadata": {},
   "outputs": [
    {
     "name": "stdout",
     "output_type": "stream",
     "text": [
      "\n",
      "Evaluation Results:\n",
      "Balanced Accuracy2: 92.48%\n",
      "Test Accuracy: 94.07%\n",
      "\n",
      "Evaluation Results:\n",
      "Accuracy: 94.07%\n",
      "Precision: 95.41%\n",
      "Recall: 92.48%\n",
      "F1-score: 93.86%\n",
      "Kappa: 90.58%\n",
      "                         precision    recall  f1-score   support\n",
      "\n",
      "            [Kreischen]     0.9217    0.9636    0.9422       220\n",
      "[Kreischen][Quietschen]     0.9254    0.8611    0.8921        72\n",
      "              [Negativ]     0.9691    0.9458    0.9573       166\n",
      "           [Quietschen]     1.0000    0.9286    0.9630        14\n",
      "\n",
      "               accuracy                         0.9407       472\n",
      "              macro avg     0.9541    0.9248    0.9386       472\n",
      "           weighted avg     0.9413    0.9407    0.9405       472\n",
      "\n"
     ]
    },
    {
     "data": {
      "image/png": "[encoded data removed]",
      "text/plain": [
       "<Figure size 700x700 with 1 Axes>"
      ]
     },
     "metadata": {},
     "output_type": "display_data"
    }
   ],
   "source": [
    "validation_fun('/checkpoint_best_f1.pth',\"f1_model\")\n",
    "\n",
    "\n"
   ]
  },
  {
   "cell_type": "code",
   "execution_count": 13,
   "metadata": {},
   "outputs": [
    {
     "name": "stdout",
     "output_type": "stream",
     "text": [
      "\n",
      "Evaluation Results:\n",
      "Balanced Accuracy2: 91.98%\n",
      "Test Accuracy: 93.64%\n",
      "\n",
      "Evaluation Results:\n",
      "Accuracy: 93.64%\n",
      "Precision: 95.17%\n",
      "Recall: 91.98%\n",
      "F1-score: 93.48%\n",
      "Kappa: 89.89%\n",
      "                         precision    recall  f1-score   support\n",
      "\n",
      "            [Kreischen]     0.9138    0.9636    0.9381       220\n",
      "[Kreischen][Quietschen]     0.9242    0.8472    0.8841        72\n",
      "              [Negativ]     0.9689    0.9398    0.9541       166\n",
      "           [Quietschen]     1.0000    0.9286    0.9630        14\n",
      "\n",
      "               accuracy                         0.9364       472\n",
      "              macro avg     0.9517    0.9198    0.9348       472\n",
      "           weighted avg     0.9373    0.9364    0.9362       472\n",
      "\n"
     ]
    },
    {
     "data": {
      "image/png": "[encoded data removed]",
      "text/plain": [
       "<Figure size 700x700 with 1 Axes>"
      ]
     },
     "metadata": {},
     "output_type": "display_data"
    }
   ],
   "source": [
    "validation_fun('/checkpoint.pth',\"best_accuracy\")\n"
   ]
  },
  {
   "cell_type": "code",
   "execution_count": 14,
   "metadata": {},
   "outputs": [
    {
     "name": "stdout",
     "output_type": "stream",
     "text": [
      "\n",
      "Evaluation Results:\n",
      "Balanced Accuracy2: 92.02%\n",
      "Test Accuracy: 93.64%\n",
      "\n",
      "Evaluation Results:\n",
      "Accuracy: 93.64%\n",
      "Precision: 95.12%\n",
      "Recall: 92.02%\n",
      "F1-score: 93.48%\n",
      "Kappa: 89.90%\n",
      "                         precision    recall  f1-score   support\n",
      "\n",
      "            [Kreischen]     0.9174    0.9591    0.9378       220\n",
      "[Kreischen][Quietschen]     0.9242    0.8472    0.8841        72\n",
      "              [Negativ]     0.9632    0.9458    0.9544       166\n",
      "           [Quietschen]     1.0000    0.9286    0.9630        14\n",
      "\n",
      "               accuracy                         0.9364       472\n",
      "              macro avg     0.9512    0.9202    0.9348       472\n",
      "           weighted avg     0.9370    0.9364    0.9362       472\n",
      "\n"
     ]
    },
    {
     "data": {
      "image/png": "[encoded data removed]",
      "text/plain": [
       "<Figure size 700x700 with 1 Axes>"
      ]
     },
     "metadata": {},
     "output_type": "display_data"
    }
   ],
   "source": [
    "validation_fun('/checkpoint_best_loss.pth',\"best_loss\")"
   ]
  },
  {
   "cell_type": "code",
   "execution_count": null,
   "metadata": {},
   "outputs": [],
   "source": []
  },
  {
   "cell_type": "markdown",
   "metadata": {},
   "source": [
    "### Save Results of all 3 Modell Saves: Best-Val-Accuracy, Best-Val-loss and full model"
   ]
  },
  {
   "cell_type": "code",
   "execution_count": 15,
   "metadata": {},
   "outputs": [],
   "source": [
    "\n",
    "# import seaborn as sns\n",
    "# from sklearn.metrics import classification_report, confusion_matrix, precision_recall_fscore_support,balanced_accuracy_score\n",
    "# from sklearn.metrics import cohen_kappa_score\n",
    "\n",
    "\n",
    "\n",
    "# # Set the device for testing\n",
    "# device = torch.device('cuda' if torch.cuda.is_available() else 'cpu')\n",
    "# #config.val_sound_length = 20\n",
    "\n",
    "# # Create a data loader for the test set\n",
    "# val_loader = DL.create_generators_finetune_val(val_df)  \n",
    "\n",
    "\n",
    "# model = torch.load(finetune_results_dir + '/Full_model_checkpoint.pth')\n",
    "# # Transfer the model to the testing device\n",
    "# model.to(device)\n",
    "\n",
    "# # Define a criterion for evaluation \n",
    "# criterion = nn.CrossEntropyLoss()\n",
    "\n",
    "# # Initialize variables for evaluation metrics (e.g., accuracy)\n",
    "# correct_predictions = 0\n",
    "# total_samples = 0\n",
    "\n",
    "# # Define the label dictionary\n",
    "# true_labels_dic = {0: '[Kreischen]', 1: '[Kreischen][Quietschen]', 2: '[Negativ]', 3: '[Quietschen]'}\n",
    "\n",
    "# # Set the model to evaluation mode \n",
    "# model.eval()\n",
    "\n",
    "# # Initialize lists to store all true labels and predicted labels\n",
    "# all_true_labels = []\n",
    "# all_predicted_labels = []\n",
    "\n",
    "# # Iterate through the test set\n",
    "# with torch.no_grad():\n",
    "#     for spectrograms, labels in val_loader:\n",
    "#         # Move data to the testing device\n",
    "#         spectrograms = spectrograms.to(device)\n",
    "#         labels = labels.to(device)\n",
    "\n",
    "#         # Forward pass\n",
    "#         outputs = model(spectrograms)\n",
    "        \n",
    "#         # Compute the predicted labels\n",
    "#         _, predicted = torch.max(outputs, 1)\n",
    "\n",
    "#         # Append true and predicted labels to the lists\n",
    "#         all_true_labels.extend(labels.cpu().numpy())\n",
    "#         all_predicted_labels.extend(predicted.cpu().numpy())\n",
    "\n",
    "# # Convert lists to numpy arrays\n",
    "# all_true_labels = np.array(all_true_labels)\n",
    "# all_predicted_labels = np.array(all_predicted_labels)\n",
    "\n",
    "# # Calculate accuracy, precision, recall, F1-score, etc. using all_true_labels and all_predicted_labels\n",
    "# accuracy = np.mean(all_true_labels == all_predicted_labels)\n",
    "# precision, recall, f1_score, _ = precision_recall_fscore_support(all_true_labels, all_predicted_labels, average='weighted')\n",
    "\n",
    "\n",
    "# #calculate balanced accuracy\n",
    "# balanced_accuracy2 = balanced_accuracy_score(all_true_labels, all_predicted_labels)\n",
    "# #kappa score\n",
    "# cohens_kappa = cohen_kappa_score(all_true_labels, all_predicted_labels)\n",
    "\n",
    "\n",
    "# print(f\"\\nEvaluation Results:\")\n",
    "# #print(f\"Balanced Accuracy: {balanced_accuracy * 100:.2f}%\")\n",
    "# print(f\"Balanced Accuracy2: {balanced_accuracy2 * 100:.2f}%\")\n",
    "\n",
    "# print(f\"Test Accuracy: {accuracy * 100:.2f}%\")\n",
    "# print(f\"\\nEvaluation Results:\")\n",
    "# print(f\"Accuracy: {accuracy * 100:.2f}%\")\n",
    "# print(f\"Precision: {precision * 100:.2f}%\")\n",
    "# print(f\"Recall: {recall * 100:.2f}%\")\n",
    "# print(f\"F1-score: {f1_score * 100:.2f}%\")\n",
    "# print(f\"Kappa: {cohens_kappa * 100:.2f}%\")\n",
    "\n",
    "# conf_mat = confusion_matrix(all_true_labels, all_predicted_labels)\n",
    "# def plot_confusion_matrix(conf_mat, class_labels):\n",
    "#     plt.figure(figsize=(8, 6))\n",
    "#     sns.set(font_scale=1.2)\n",
    "    \n",
    "#     class_labels = [str(label) for label in class_labels]\n",
    "    \n",
    "#     ax = sns.heatmap(conf_mat, annot=True, fmt=\"d\", cmap=\"Blues\", cbar=False,\n",
    "#                 xticklabels=class_labels,\n",
    "#                 yticklabels=class_labels)\n",
    "    \n",
    "#     plt.xlabel('Predicted Labels')\n",
    "#     plt.ylabel('True Labels')\n",
    "#     plt.title('Confusion Matrix')\n",
    "#     plt.xticks(rotation=90)\n",
    "\n",
    "#     return plt.gcf()  # Return the current figure\n",
    "\n",
    "# #create classification results text file\n",
    "# with open(f'{finetune_results_dir}/results_file_full.txt', 'w') as log_file:\n",
    "#     log_file.write(f\"########################################################\\n\")\n",
    "#     log_file.write(f\"Frequency Mask:{config.freq_mask_param}\\n\")\n",
    "#     log_file.write(f\"Time Mask: {config.time_mask_param}\\n\")\n",
    "#     log_file.write(f\"Random State:{randomstate} \\n\")\n",
    "#     log_file.write(f\"Spectro:\\n\")\n",
    "#     log_file.write(f\"        n_fft={2048},\\n\")\n",
    "#     log_file.write(f\"        hop_length = {512},\\n\")\n",
    "#     log_file.write(f\"        n_mels={128},  \\n\")\n",
    "#     log_file.write(f\"        win_length = {2048},\\n\")\n",
    "#     log_file.write(f\"Epochs: {num_epochs}\\n\")\n",
    "#     log_file.write(f\"Batch size: {batch_size}\\n\")\n",
    "#     log_file.write(f\"Optimizer: Adam\\n\")\n",
    "#     log_file.write(f\"Learning rate: {learning_rate}\\n\")\n",
    "#     log_file.write(f\"Weight decay: {weight_decay}\\n\")\n",
    "#     log_file.write(f\"Scheduler: ReduceLROnPlateau\\n\")\n",
    "#     log_file.write(f\"Model: ModifiedResnet50_Classifier \\n\")\n",
    "#     log_file.write(f\"classifiers: 512, 256, 4 : 2 fully connected layers\\n\")\n",
    "#     log_file.write(f\"########################################################\\n\\n\")\n",
    "#     log_file.write(f\"Balanced Accuracy2: {balanced_accuracy2 * 100:.2f}%\\n\")\n",
    "#     log_file.write(f\"Test Accuracy: {accuracy * 100:.2f}%\\n\")\n",
    "#     log_file.write(f\"\\nEvaluation Results:\\n\")\n",
    "#     log_file.write(f\"Precision: {precision * 100:.2f}%\\n\")\n",
    "#     log_file.write(f\"Recall: {recall * 100:.2f}%\\n\")\n",
    "#     log_file.write(f\"F1-score: {f1_score * 100:.2f}%\\n\")\n",
    "#     log_file.write(f\"Kappa: {cohens_kappa * 100:.2f}%\\n\")\n",
    "#     log_file.write(f\"########################################################\\n\\n\")\n",
    "#     log_file.write(f\"Confusion Matrix:\\n\")\n",
    "#     log_file.write(f\"{conf_mat}\\n\")\n",
    "#     log_file.write(f\"########################################################\\n\\n\")\n",
    "#     log_file.write(f\"Classifcation Report: {classification_report(all_true_labels, all_predicted_labels, target_names=true_labels_dic.values())}\\n\")\n",
    "\n",
    "# #save this plot as a png file\n",
    "# print(classification_report(all_true_labels, all_predicted_labels, target_names=true_labels_dic.values()))\n",
    "\n",
    "# plot = plot_confusion_matrix(conf_mat, true_labels_dic.values())\n",
    "# plot.savefig(f'{finetune_results_dir}/confusion_matrix_full.png')\n",
    "\n",
    "\n",
    "\n",
    "\n",
    "\n",
    "\n",
    "\n"
   ]
  },
  {
   "cell_type": "code",
   "execution_count": 16,
   "metadata": {},
   "outputs": [],
   "source": [
    "\n",
    "# # Create a data loader for the test set\n",
    "# val_loader = DL.create_generators_finetune_val(val_df)  \n",
    "\n",
    "\n",
    "# model = torch.load(finetune_results_dir + '/checkpoint.pth')\n",
    "# #model = torch.load('./finetune_results/FT_ADSMI_120_epochs_2023-11-11-15/checkpoint.pth')\n",
    "# # Transfer the model to the testing device\n",
    "# model.to(device)\n",
    "\n",
    "# # Define a criterion for evaluation \n",
    "# criterion = nn.CrossEntropyLoss()\n",
    "\n",
    "# # Initialize variables for evaluation metrics (e.g., accuracy)\n",
    "# correct_predictions = 0\n",
    "# total_samples = 0\n",
    "\n",
    "# # Define the label dictionary\n",
    "# true_labels_dic = {0: '[Kreischen]', 1: '[Kreischen][Quietschen]', 2: '[Negativ]', 3: '[Quietschen]'}\n",
    "\n",
    "# # Set the model to evaluation mode \n",
    "# model.eval()\n",
    "\n",
    "# # Initialize lists to store all true labels and predicted labels\n",
    "# all_true_labels = []\n",
    "# all_predicted_labels = []\n",
    "\n",
    "# # Iterate through the test set\n",
    "# with torch.no_grad():\n",
    "#     for spectrograms, labels in val_loader:\n",
    "#         # Move data to the testing device\n",
    "#         spectrograms = spectrograms.to(device)\n",
    "#         labels = labels.to(device)\n",
    "\n",
    "#         # Forward pass\n",
    "#         outputs = model(spectrograms)\n",
    "        \n",
    "#         # Compute the predicted labels\n",
    "#         _, predicted = torch.max(outputs, 1)\n",
    "\n",
    "#         # Append true and predicted labels to the lists\n",
    "#         all_true_labels.extend(labels.cpu().numpy())\n",
    "#         all_predicted_labels.extend(predicted.cpu().numpy())\n",
    "\n",
    "# # Convert lists to numpy arrays\n",
    "# all_true_labels = np.array(all_true_labels)\n",
    "# all_predicted_labels = np.array(all_predicted_labels)\n",
    "\n",
    "# # Calculate accuracy, precision, recall, F1-score, etc. using all_true_labels and all_predicted_labels\n",
    "# accuracy = np.mean(all_true_labels == all_predicted_labels)\n",
    "# precision, recall, f1_score, _ = precision_recall_fscore_support(all_true_labels, all_predicted_labels, average='weighted')\n",
    "\n",
    "\n",
    "# #calculate balanced accuracy\n",
    "# balanced_accuracy2 = balanced_accuracy_score(all_true_labels, all_predicted_labels)\n",
    "# #kappa score\n",
    "# cohens_kappa = cohen_kappa_score(all_true_labels, all_predicted_labels)\n",
    "\n",
    "\n",
    "# print(f\"\\nEvaluation Results:\")\n",
    "# #print(f\"Balanced Accuracy: {balanced_accuracy * 100:.2f}%\")\n",
    "# print(f\"Balanced Accuracy2: {balanced_accuracy2 * 100:.2f}%\")\n",
    "\n",
    "# print(f\"Test Accuracy: {accuracy * 100:.2f}%\")\n",
    "# print(f\"\\nEvaluation Results:\")\n",
    "# print(f\"Accuracy: {accuracy * 100:.2f}%\")\n",
    "# print(f\"Precision: {precision * 100:.2f}%\")\n",
    "# print(f\"Recall: {recall * 100:.2f}%\")\n",
    "# print(f\"F1-score: {f1_score * 100:.2f}%\")\n",
    "# print(f\"Kappa: {cohens_kappa * 100:.2f}%\")\n",
    "\n",
    "# conf_mat = confusion_matrix(all_true_labels, all_predicted_labels)\n",
    "# def plot_confusion_matrix(conf_mat, class_labels):\n",
    "#     plt.figure(figsize=(8, 6))\n",
    "#     sns.set(font_scale=1.2)\n",
    "    \n",
    "#     class_labels = [str(label) for label in class_labels]\n",
    "    \n",
    "#     ax = sns.heatmap(conf_mat, annot=True, fmt=\"d\", cmap=\"Blues\", cbar=False,\n",
    "#                 xticklabels=class_labels,\n",
    "#                 yticklabels=class_labels)\n",
    "    \n",
    "#     plt.xlabel('Predicted Labels')\n",
    "#     plt.ylabel('True Labels')\n",
    "#     plt.title('Confusion Matrix')\n",
    "#     plt.xticks(rotation=90)\n",
    "\n",
    "#     return plt.gcf()  # Return the current figure\n",
    "\n",
    "# #create classification results text file\n",
    "# with open(f'{finetune_results_dir}/results_file_best.txt', 'w') as log_file:\n",
    "#     log_file.write(f\"########################################################\\n\")\n",
    "#     log_file.write(f\"Frequency Mask:{config.freq_mask_param}\\n\")\n",
    "#     log_file.write(f\"Time Mask: {config.time_mask_param}\\n\")\n",
    "#     log_file.write(f\"Random State:{randomstate} \\n\")\n",
    "#     log_file.write(f\"Spectro:\\n\")\n",
    "#     log_file.write(f\"        n_fft={2048},\\n\")\n",
    "#     log_file.write(f\"        hop_length = {512},\\n\")\n",
    "#     log_file.write(f\"        n_mels={128},  \\n\")\n",
    "#     log_file.write(f\"        win_length = {2048},\\n\")\n",
    "#     log_file.write(f\"Epochs: {num_epochs}\\n\")\n",
    "#     log_file.write(f\"Batch size: {batch_size}\\n\")\n",
    "#     log_file.write(f\"Optimizer: Adam\\n\")\n",
    "#     log_file.write(f\"Learning rate: {learning_rate}\\n\")\n",
    "#     log_file.write(f\"Weight decay: {weight_decay}\\n\")\n",
    "#     log_file.write(f\"Scheduler: ReduceLROnPlateau\\n\")\n",
    "#     log_file.write(f\"Model: ModifiedResnet50_Classifier \\n\")\n",
    "#     log_file.write(f\"classifiers: 512, 256, 4 : 2 fully connected layers\\n\")\n",
    "#     log_file.write(f\"########################################################\\n\\n\")\n",
    "#     log_file.write(f\"Balanced Accuracy2: {balanced_accuracy2 * 100:.2f}%\\n\")\n",
    "#     log_file.write(f\"Test Accuracy: {accuracy * 100:.2f}%\\n\")\n",
    "#     log_file.write(f\"\\nEvaluation Results:\\n\")\n",
    "#     log_file.write(f\"Precision: {precision * 100:.2f}%\\n\")\n",
    "#     log_file.write(f\"Recall: {recall * 100:.2f}%\\n\")\n",
    "#     log_file.write(f\"F1-score: {f1_score * 100:.2f}%\\n\")\n",
    "#     log_file.write(f\"Kappa: {cohens_kappa * 100:.2f}%\\n\")\n",
    "#     log_file.write(f\"########################################################\\n\\n\")\n",
    "#     log_file.write(f\"Confusion Matrix:\\n\")\n",
    "#     log_file.write(f\"{conf_mat}\\n\")\n",
    "#     log_file.write(f\"########################################################\\n\\n\")\n",
    "#     log_file.write(f\"Classifcation Report: {classification_report(all_true_labels, all_predicted_labels, target_names=true_labels_dic.values())}\\n\")\n",
    "\n",
    "# print(classification_report(all_true_labels, all_predicted_labels, target_names=true_labels_dic.values()))\n",
    "\n",
    "# #save this plot_confusion_matrix(conf_mat, true_labels_dic.values()) as a png file\n",
    "# plot = plot_confusion_matrix(conf_mat, true_labels_dic.values())\n",
    "# plot.savefig(f'{finetune_results_dir}/confusion_matrix_best.png')\n",
    "\n",
    "\n",
    "\n",
    "\n",
    "\n",
    "\n",
    "\n"
   ]
  },
  {
   "cell_type": "code",
   "execution_count": 17,
   "metadata": {},
   "outputs": [],
   "source": [
    "\n",
    "# # Create a data loader for the test set\n",
    "# val_loader = DL.create_generators_finetune_val(val_df)  \n",
    "\n",
    "# randomstate = 96\n",
    "\n",
    "# model = torch.load(finetune_results_dir + '/checkpoint_best_loss.pth')\n",
    "# #model = torch.load('./finetune_results/FT_ADSMI_120_epochs_2023-11-11-15/checkpoint.pth')\n",
    "# # Transfer the model to the testing device\n",
    "# model.to(device)\n",
    "\n",
    "# # Define a criterion for evaluation \n",
    "# criterion = nn.CrossEntropyLoss()\n",
    "\n",
    "# # Initialize variables for evaluation metrics \n",
    "# correct_predictions = 0\n",
    "# total_samples = 0\n",
    "\n",
    "# # Define the label dictionary\n",
    "# true_labels_dic = {0: '[Kreischen]', 1: '[Kreischen][Quietschen]', 2: '[Negativ]', 3: '[Quietschen]'}\n",
    "\n",
    "# # Set the model to evaluation mode \n",
    "# model.eval()\n",
    "\n",
    "# # Initialize lists to store all true labels and predicted labels\n",
    "# all_true_labels = []\n",
    "# all_predicted_labels = []\n",
    "\n",
    "# # Iterate through the test set\n",
    "# with torch.no_grad():\n",
    "#     for spectrograms, labels in val_loader:\n",
    "#         # Move data to the testing device\n",
    "#         spectrograms = spectrograms.to(device)\n",
    "#         labels = labels.to(device)\n",
    "\n",
    "#         # Forward pass\n",
    "#         outputs = model(spectrograms)\n",
    "        \n",
    "#         # Compute the predicted labels\n",
    "#         _, predicted = torch.max(outputs, 1)\n",
    "\n",
    "#         # Append true and predicted labels to the lists\n",
    "#         all_true_labels.extend(labels.cpu().numpy())\n",
    "#         all_predicted_labels.extend(predicted.cpu().numpy())\n",
    "\n",
    "# # Convert lists to numpy arrays\n",
    "# all_true_labels = np.array(all_true_labels)\n",
    "# all_predicted_labels = np.array(all_predicted_labels)\n",
    "\n",
    "# # Calculate accuracy, precision, recall, F1-score, etc. using all_true_labels and all_predicted_labels\n",
    "# accuracy = np.mean(all_true_labels == all_predicted_labels)\n",
    "# precision, recall, f1_score, _ = precision_recall_fscore_support(all_true_labels, all_predicted_labels, average='weighted')\n",
    "\n",
    "\n",
    "# #calculate balanced accuracy\n",
    "# balanced_accuracy2 = balanced_accuracy_score(all_true_labels, all_predicted_labels)\n",
    "# #kappa score\n",
    "# cohens_kappa = cohen_kappa_score(all_true_labels, all_predicted_labels)\n",
    "\n",
    "\n",
    "# print(f\"\\nEvaluation Results:\")\n",
    "# #print(f\"Balanced Accuracy: {balanced_accuracy * 100:.2f}%\")\n",
    "# print(f\"Balanced Accuracy2: {balanced_accuracy2 * 100:.2f}%\")\n",
    "\n",
    "# print(f\"Test Accuracy: {accuracy * 100:.2f}%\")\n",
    "# print(f\"\\nEvaluation Results:\")\n",
    "# print(f\"Accuracy: {accuracy * 100:.2f}%\")\n",
    "# print(f\"Precision: {precision * 100:.2f}%\")\n",
    "# print(f\"Recall: {recall * 100:.2f}%\")\n",
    "# print(f\"F1-score: {f1_score * 100:.2f}%\")\n",
    "# print(f\"Kappa: {cohens_kappa * 100:.2f}%\")\n",
    "\n",
    "# conf_mat = confusion_matrix(all_true_labels, all_predicted_labels)\n",
    "# def plot_confusion_matrix(conf_mat, class_labels):\n",
    "#     plt.figure(figsize=(8, 6))\n",
    "#     sns.set(font_scale=1.2)\n",
    "    \n",
    "#     class_labels = [str(label) for label in class_labels]\n",
    "    \n",
    "#     ax = sns.heatmap(conf_mat, annot=True, fmt=\"d\", cmap=\"Blues\", cbar=False,\n",
    "#                 xticklabels=class_labels,\n",
    "#                 yticklabels=class_labels)\n",
    "    \n",
    "#     plt.xlabel('Predicted Labels')\n",
    "#     plt.ylabel('True Labels')\n",
    "#     plt.title('Confusion Matrix')\n",
    "#     plt.xticks(rotation=90)\n",
    "\n",
    "#     return plt.gcf()  # Return the current figure\n",
    "\n",
    "# #create classification results text file\n",
    "# with open(f'{finetune_results_dir}/results_file_best_loss.txt', 'w') as log_file:\n",
    "#     log_file.write(f\"########################################################\\n\")\n",
    "#     log_file.write(f\"Frequency Mask:{config.freq_mask_param}\\n\")\n",
    "#     log_file.write(f\"Time Mask: {config.time_mask_param}\\n\")\n",
    "#     log_file.write(f\"Random State:{randomstate} \\n\")\n",
    "#     log_file.write(f\"Spectro:\\n\")\n",
    "#     log_file.write(f\"        n_fft={2048},\\n\")\n",
    "#     log_file.write(f\"        hop_length = {512},\\n\")\n",
    "#     log_file.write(f\"        n_mels={128},  \\n\")\n",
    "#     log_file.write(f\"        win_length = {2048},\\n\")\n",
    "#     log_file.write(f\"Epochs: {num_epochs}\\n\")\n",
    "#     log_file.write(f\"Batch size: {batch_size}\\n\")\n",
    "#     log_file.write(f\"Optimizer: Adam\\n\")\n",
    "#     log_file.write(f\"Learning rate: {learning_rate}\\n\")\n",
    "#     log_file.write(f\"Weight decay: {weight_decay}\\n\")\n",
    "#     log_file.write(f\"Scheduler: ReduceLROnPlateau\\n\")\n",
    "#     log_file.write(f\"Model: ModifiedResnet50_Classifier \\n\")\n",
    "#     log_file.write(f\"classifiers: 512, 256, 4 : 2 fully connected layers\\n\")\n",
    "#     log_file.write(f\"########################################################\\n\\n\")\n",
    "#     log_file.write(f\"Balanced Accuracy2: {balanced_accuracy2 * 100:.2f}%\\n\")\n",
    "#     log_file.write(f\"Test Accuracy: {accuracy * 100:.2f}%\\n\")\n",
    "#     log_file.write(f\"\\nEvaluation Results:\\n\")\n",
    "#     log_file.write(f\"Precision: {precision * 100:.2f}%\\n\")\n",
    "#     log_file.write(f\"Recall: {recall * 100:.2f}%\\n\")\n",
    "#     log_file.write(f\"F1-score: {f1_score * 100:.2f}%\\n\")\n",
    "#     log_file.write(f\"Kappa: {cohens_kappa * 100:.2f}%\\n\")\n",
    "#     log_file.write(f\"########################################################\\n\\n\")\n",
    "#     log_file.write(f\"Confusion Matrix:\\n\")\n",
    "#     log_file.write(f\"{conf_mat}\\n\")\n",
    "#     log_file.write(f\"########################################################\\n\\n\")\n",
    "#     log_file.write(f\"Classifcation Report: {classification_report(all_true_labels, all_predicted_labels, target_names=true_labels_dic.values())}\\n\")\n",
    "\n",
    "# print(classification_report(all_true_labels, all_predicted_labels, target_names=true_labels_dic.values()))\n",
    "\n",
    "# #save this plot_confusion_matrix(conf_mat, true_labels_dic.values()) as a png file\n",
    "# plot = plot_confusion_matrix(conf_mat, true_labels_dic.values())\n",
    "# plot.savefig(f'{finetune_results_dir}/confusion_matrix_best_loss.png')\n",
    "\n",
    "\n",
    "\n",
    "\n",
    "\n",
    "\n",
    "\n"
   ]
  }
 ],
 "metadata": {
  "kernelspec": {
   "display_name": "pytorch",
   "language": "python",
   "name": "python3"
  },
  "language_info": {
   "codemirror_mode": {
    "name": "ipython",
    "version": 3
   },
   "file_extension": ".py",
   "mimetype": "text/x-python",
   "name": "python",
   "nbconvert_exporter": "python",
   "pygments_lexer": "ipython3",
   "version": "3.11.4"
  },
  "orig_nbformat": 4
 },
 "nbformat": 4,
 "nbformat_minor": 2
}
