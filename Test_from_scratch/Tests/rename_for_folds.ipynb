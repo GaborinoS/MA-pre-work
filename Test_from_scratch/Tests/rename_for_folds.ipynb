{
 "cells": [
  {
   "cell_type": "code",
   "execution_count": null,
   "metadata": {},
   "outputs": [],
   "source": [
    "import os\n",
    "import random\n",
    "\n",
    "# Assuming your audio files are in this directory\n",
    "audio_dir = './data/ESC50/ESC-50-master/audio/test/'\n",
    "\n",
    "# List all files in the directory\n",
    "all_files = [f for f in os.listdir(audio_dir) if os.path.isfile(os.path.join(audio_dir, f))]\n",
    "\n",
    "# Shuffle the file names\n",
    "random.shuffle(all_files)\n",
    "\n",
    "# Determine the fold size\n",
    "fold_size = len(all_files) // 5\n",
    "\n",
    "# Rename files\n",
    "for i, file_name in enumerate(all_files):\n",
    "    fold_number = i // fold_size + 1\n",
    "    new_name = f'{fold_number}-{file_name}'\n",
    "    old_path = os.path.join(audio_dir, file_name)\n",
    "    new_path = os.path.join(audio_dir, new_name)\n",
    "    \n",
    "    os.rename(old_path, new_path)\n",
    "\n",
    "print(\"Renaming done!\")\n"
   ]
  }
 ],
 "metadata": {
  "language_info": {
   "name": "python"
  },
  "orig_nbformat": 4
 },
 "nbformat": 4,
 "nbformat_minor": 2
}
