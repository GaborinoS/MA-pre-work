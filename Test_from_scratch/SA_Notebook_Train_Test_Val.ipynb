{
 "cells": [
  {
   "cell_type": "code",
   "execution_count": 1,
   "metadata": {},
   "outputs": [],
   "source": [
    "import torch\n",
    "import torch.nn.functional as F\n",
    "import torch.optim as optim\n",
    "import torchaudio.transforms as T\n",
    "import torchvision.models as models\n",
    "import torch.optim.lr_scheduler as lr_scheduler\n",
    "import pandas as pd\n",
    "import torch.nn as nn\n",
    "from tqdm import tqdm\n",
    "import os\n",
    "import time\n",
    "import datetime\n",
    "\n",
    "\n",
    "from sklearn.model_selection import train_test_split\n",
    "import matplotlib.pyplot as plt\n",
    "import numpy as np\n",
    "\n",
    "import config"
   ]
  },
  {
   "cell_type": "code",
   "execution_count": 2,
   "metadata": {},
   "outputs": [],
   "source": [
    "if config.ADSMI:\n",
    "    from DL_finetune import ADSMI_DL_TVsplit as DL\n",
    "    data_name = 'ADSMI'"
   ]
  },
  {
   "cell_type": "code",
   "execution_count": 3,
   "metadata": {},
   "outputs": [],
   "source": [
    "#empty cuda cache\n",
    "torch.cuda.empty_cache()"
   ]
  },
  {
   "cell_type": "code",
   "execution_count": null,
   "metadata": {},
   "outputs": [],
   "source": []
  },
  {
   "cell_type": "markdown",
   "metadata": {},
   "source": [
    "## Models\n"
   ]
  },
  {
   "cell_type": "code",
   "execution_count": 4,
   "metadata": {},
   "outputs": [
    {
     "name": "stdout",
     "output_type": "stream",
     "text": [
      "3\n"
     ]
    }
   ],
   "source": [
    "print(config.channels)\n",
    "\n",
    "class Resnet50_Classifier(nn.Module):\n",
    "    def __init__(self, num_classes):\n",
    "        super(Resnet50_Classifier, self).__init__()\n",
    "        self.resnet50 = models.resnet50(pretrained=True)\n",
    "        self.resnet50.conv1 = nn.Conv2d(config.channels, 64, kernel_size=7, stride=2, padding=3, bias=False)\n",
    "        num_features = self.resnet50.fc.in_features\n",
    "        self.resnet50.fc = nn.Linear(num_features, num_classes)\n",
    "\n",
    "    def forward(self, x):\n",
    "        return self.resnet50(x)\n",
    "    \n",
    "\n",
    "\n",
    "\n",
    "class ResNet101_Classifier(nn.Module):\n",
    "    def __init__(self, num_classes):\n",
    "        super(ResNet101_Classifier, self).__init__()\n",
    "        self.resnet101 = models.resnet101(pretrained=True)\n",
    "        \n",
    "        # Modify the first convolutional layer\n",
    "        self.resnet101.conv1 = nn.Conv2d(config.channels, 64, kernel_size=7, stride=2, padding=3, bias=False)\n",
    "        \n",
    "        # Remove the final fully connected layer\n",
    "        self.resnet101.fc = nn.Identity()  # Set the final layer to an identity mapping\n",
    "        \n",
    "        # Define the custom fully connected layers\n",
    "        num_features = 2048 \n",
    "        self.fc1 = nn.Linear(num_features, 512)\n",
    "        self.fc2 = nn.Linear(512, 256)\n",
    "        self.fc3 = nn.Linear(256, num_classes)\n",
    "\n",
    "    def forward(self, x):\n",
    "        x = self.resnet101(x)\n",
    "        x = F.relu(self.fc1(x))\n",
    "        x = F.relu(self.fc2(x))\n",
    "        x = self.fc3(x)\n",
    "        return x\n",
    "    \n",
    "\n",
    "    \n",
    "class ModifiedResnet50_Classifier(nn.Module):\n",
    "    def __init__(self, num_classes):\n",
    "        super(ModifiedResnet50_Classifier, self).__init__()\n",
    "        \n",
    "        # Load the pretrained ResNet-50 model\n",
    "        #self.resnet50 = models.resnet50(pretrained=True)\n",
    "        self.resnet50 = models.resnet50()\n",
    "        # Modify the first convolutional layer\n",
    "        self.resnet50.conv1 = nn.Conv2d(config.channels, 64, kernel_size=7, stride=2, padding=3, bias=False)\n",
    "        \n",
    "        # Remove the final fully connected layer\n",
    "        self.resnet50.fc = nn.Identity()  # Set the final layer to an identity mapping\n",
    "        \n",
    "        # Define the custom fully connected layers\n",
    "        num_features = 2048 \n",
    "        self.fc1 = nn.Linear(num_features, 512)\n",
    "        self.fc2 = nn.Linear(512, 256)\n",
    "        self.fc3 = nn.Linear(256, num_classes)\n",
    "\n",
    "    def forward(self, x):\n",
    "        x = self.resnet50(x)\n",
    "        x = F.relu(self.fc1(x))\n",
    "        x = F.relu(self.fc2(x))\n",
    "        x = self.fc3(x)\n",
    "        return x"
   ]
  },
  {
   "cell_type": "code",
   "execution_count": 5,
   "metadata": {},
   "outputs": [
    {
     "name": "stdout",
     "output_type": "stream",
     "text": [
      "Train size:  3776\n",
      "Test size:  472\n",
      "Val size:  472\n",
      "Label_int\n",
      "0    1760\n",
      "2    1332\n",
      "1     570\n",
      "3     114\n",
      "Name: count, dtype: int64\n",
      "Label_int\n",
      "0    220\n",
      "2    166\n",
      "1     72\n",
      "3     14\n",
      "Name: count, dtype: int64\n",
      "Label_int\n",
      "0    220\n",
      "2    167\n",
      "1     71\n",
      "3     14\n",
      "Name: count, dtype: int64\n"
     ]
    }
   ],
   "source": [
    "#------Datasplit\n",
    "# Load the dataframe\n",
    "labels_file = pd.read_csv('./data/labeled_ADSMI/labels_int.csv', index_col=0)\n",
    "#train_df, test_df = train_test_split(labels_file, test_size=0.2, stratify=labels_file['Label_int'], random_state=47)\n",
    "#val_df = test_df\n",
    "train_df, temp = train_test_split(labels_file, test_size=0.2, stratify=labels_file['Label_int'], random_state=47)\n",
    "test_df, val_df = train_test_split(temp, test_size=0.5, stratify=temp['Label_int'], random_state=47)\n",
    "# train test split\n",
    "print(\"Train size: \", len(train_df))\n",
    "print(\"Test size: \", len(test_df))\n",
    "print(\"Val size: \", len(val_df))\n",
    "\n",
    "\n",
    "\n",
    "print(train_df[\"Label_int\"].value_counts())\n",
    "print(test_df[\"Label_int\"].value_counts())\n",
    "print(val_df[\"Label_int\"].value_counts())\n",
    "\n",
    "train_loader, test_loader = DL.create_generators_finetune_train(train_df,test_df)\n",
    "\n",
    "\n"
   ]
  },
  {
   "cell_type": "code",
   "execution_count": null,
   "metadata": {},
   "outputs": [],
   "source": []
  },
  {
   "cell_type": "code",
   "execution_count": 6,
   "metadata": {},
   "outputs": [],
   "source": [
    "\n",
    "#  Create an instance of the model\n",
    "num_classes = len(set(labels_file[\"Label_int\"]))  \n",
    "#model = Resnet50_Classifier(num_classes)\n",
    "model = ModifiedResnet50_Classifier(num_classes)\n",
    "#model = ResNet101_Classifier(num_classes)\n",
    "\n",
    "# Hyperparameters\n",
    "num_epochs = num_epochs = config.finetune_epochs \n",
    "learning_rate = 0.0001\n",
    "weight_decay = 1e-5  # L2 regularization\n",
    "batch_size = config.batch_size\n",
    "patience = config.patience\n",
    "\n",
    "#  Transfer the model to the appropriate device\n",
    "device = torch.device('cuda' if torch.cuda.is_available() else 'cpu')\n",
    "model.to(device)\n",
    "\n",
    "# Define a loss function and optimizer\n",
    "criterion = nn.CrossEntropyLoss().to(device)\n",
    "optimizer = torch.optim.Adam(model.parameters(), lr=learning_rate, weight_decay = weight_decay ) # Adjust the value as needed)\n",
    "scheduler = lr_scheduler.ReduceLROnPlateau(optimizer, mode='min', patience=10, factor=0.6, verbose=True)\n",
    "\n",
    "#new folder path\n",
    "standalone_results_path = f'./results_standalone/SA_ADSMI_{num_epochs}_epochs_{datetime.datetime.now().strftime(\"%Y-%m-%d-%H\")}'\n",
    "\n",
    "# Create a directory to save the results\n",
    "if not os.path.exists(standalone_results_path):\n",
    "    os.makedirs(standalone_results_path)\n",
    "\n",
    "with open(f'{standalone_results_path}/log_file.txt', 'w') as log_file:\n",
    "    log_file.write(f'########################################################\\n')\n",
    "    log_file.write(f'training on {data_name} dataset\\n')\n",
    "    log_file.write(f'Learning rate: {learning_rate}\\n')\n",
    "    log_file.write(f'Weight decay: {weight_decay}\\n')\n",
    "    log_file.write(f'Batch size: {batch_size}\\n')\n",
    "    log_file.write(f'Number of epochs: {num_epochs}\\n')\n",
    "    log_file.write(f'Patience: {patience}\\n')\n",
    "    log_file.write(f'Number of classes: {num_classes}\\n')\n",
    "    log_file.write(f'Train size: {len(train_df)}\\n')\n",
    "    log_file.write(f'Test size: {len(test_df)}\\n')\n",
    "    log_file.write(f'Val size: {len(val_df)}\\n')\n",
    "    log_file.write(f'freq_mask_param : {config.freq_mask_param}\\n')\n",
    "    log_file.write(f'time_mask_param : {config.time_mask_param}\\n')\n",
    "    log_file.write(f'########################################################\\n\\n')\n",
    "\n",
    "train_losses = []\n",
    "test_losses = []\n",
    "early_stop_counter = 0\n",
    "best_accuracy = 0\n",
    "#config.model_path = \"./results_standalone/newgpu2_checkpoint.pth\"\n"
   ]
  },
  {
   "cell_type": "code",
   "execution_count": 7,
   "metadata": {},
   "outputs": [
    {
     "name": "stderr",
     "output_type": "stream",
     "text": [
      "100%|██████████| 118/118 [00:38<00:00,  3.06it/s]\n"
     ]
    },
    {
     "name": "stdout",
     "output_type": "stream",
     "text": [
      "Epoch [1/120], Train Loss: 0.8417 and Test Loss: 0.6149\n",
      "Test Accuracy: 69.07%\n"
     ]
    },
    {
     "name": "stderr",
     "output_type": "stream",
     "text": [
      "100%|██████████| 118/118 [00:28<00:00,  4.11it/s]\n"
     ]
    },
    {
     "name": "stdout",
     "output_type": "stream",
     "text": [
      "Epoch [2/120], Train Loss: 0.4165 and Test Loss: 0.4416\n",
      "Test Accuracy: 70.34%\n"
     ]
    },
    {
     "name": "stderr",
     "output_type": "stream",
     "text": [
      "100%|██████████| 118/118 [00:28<00:00,  4.15it/s]\n"
     ]
    },
    {
     "name": "stdout",
     "output_type": "stream",
     "text": [
      "Epoch [3/120], Train Loss: 0.5848 and Test Loss: 0.5126\n",
      "Test Accuracy: 79.45%\n"
     ]
    },
    {
     "name": "stderr",
     "output_type": "stream",
     "text": [
      "100%|██████████| 118/118 [00:28<00:00,  4.16it/s]\n"
     ]
    },
    {
     "name": "stdout",
     "output_type": "stream",
     "text": [
      "Epoch [4/120], Train Loss: 0.4274 and Test Loss: 0.3698\n",
      "Test Accuracy: 82.63%\n"
     ]
    },
    {
     "name": "stderr",
     "output_type": "stream",
     "text": [
      "100%|██████████| 118/118 [00:28<00:00,  4.18it/s]\n"
     ]
    },
    {
     "name": "stdout",
     "output_type": "stream",
     "text": [
      "Epoch [5/120], Train Loss: 0.3744 and Test Loss: 0.3623\n",
      "Test Accuracy: 86.23%\n"
     ]
    },
    {
     "name": "stderr",
     "output_type": "stream",
     "text": [
      "100%|██████████| 118/118 [00:28<00:00,  4.15it/s]\n"
     ]
    },
    {
     "name": "stdout",
     "output_type": "stream",
     "text": [
      "Epoch [6/120], Train Loss: 0.4334 and Test Loss: 0.2032\n",
      "Test Accuracy: 88.56%\n"
     ]
    },
    {
     "name": "stderr",
     "output_type": "stream",
     "text": [
      "100%|██████████| 118/118 [00:28<00:00,  4.11it/s]\n"
     ]
    },
    {
     "name": "stdout",
     "output_type": "stream",
     "text": [
      "Epoch [7/120], Train Loss: 0.4518 and Test Loss: 0.5297\n",
      "Test Accuracy: 86.65%\n"
     ]
    },
    {
     "name": "stderr",
     "output_type": "stream",
     "text": [
      "100%|██████████| 118/118 [00:29<00:00,  4.05it/s]\n"
     ]
    },
    {
     "name": "stdout",
     "output_type": "stream",
     "text": [
      "Epoch [8/120], Train Loss: 0.7910 and Test Loss: 0.3079\n",
      "Test Accuracy: 88.35%\n"
     ]
    },
    {
     "name": "stderr",
     "output_type": "stream",
     "text": [
      "100%|██████████| 118/118 [00:28<00:00,  4.17it/s]\n"
     ]
    },
    {
     "name": "stdout",
     "output_type": "stream",
     "text": [
      "Epoch [9/120], Train Loss: 0.3734 and Test Loss: 0.2287\n",
      "Test Accuracy: 88.98%\n"
     ]
    },
    {
     "name": "stderr",
     "output_type": "stream",
     "text": [
      "100%|██████████| 118/118 [00:28<00:00,  4.11it/s]\n"
     ]
    },
    {
     "name": "stdout",
     "output_type": "stream",
     "text": [
      "Epoch [10/120], Train Loss: 0.3503 and Test Loss: 0.3903\n",
      "Test Accuracy: 87.71%\n"
     ]
    },
    {
     "name": "stderr",
     "output_type": "stream",
     "text": [
      "100%|██████████| 118/118 [00:28<00:00,  4.15it/s]\n"
     ]
    },
    {
     "name": "stdout",
     "output_type": "stream",
     "text": [
      "Epoch [11/120], Train Loss: 0.1444 and Test Loss: 0.2825\n",
      "Test Accuracy: 89.62%\n"
     ]
    },
    {
     "name": "stderr",
     "output_type": "stream",
     "text": [
      "100%|██████████| 118/118 [00:28<00:00,  4.12it/s]\n"
     ]
    },
    {
     "name": "stdout",
     "output_type": "stream",
     "text": [
      "Epoch [12/120], Train Loss: 0.2940 and Test Loss: 0.4457\n",
      "Test Accuracy: 87.50%\n"
     ]
    },
    {
     "name": "stderr",
     "output_type": "stream",
     "text": [
      " 25%|██▌       | 30/118 [00:07<00:21,  4.09it/s]\n"
     ]
    },
    {
     "ename": "KeyboardInterrupt",
     "evalue": "",
     "output_type": "error",
     "traceback": [
      "\u001b[1;31m---------------------------------------------------------------------------\u001b[0m",
      "\u001b[1;31mKeyboardInterrupt\u001b[0m                         Traceback (most recent call last)",
      "\u001b[1;32mc:\\Users\\Gabriel\\OneDrive\\Dokumente\\GitHub\\MA-pre-work\\Test_from_scratch\\SA_Notebook_Train_Test_Val.ipynb Cell 10\u001b[0m line \u001b[0;36m4\n\u001b[0;32m      <a href='vscode-notebook-cell:/c%3A/Users/Gabriel/OneDrive/Dokumente/GitHub/MA-pre-work/Test_from_scratch/SA_Notebook_Train_Test_Val.ipynb#X12sZmlsZQ%3D%3D?line=1'>2</a>\u001b[0m \u001b[39mfor\u001b[39;00m epoch \u001b[39min\u001b[39;00m \u001b[39mrange\u001b[39m(num_epochs):\n\u001b[0;32m      <a href='vscode-notebook-cell:/c%3A/Users/Gabriel/OneDrive/Dokumente/GitHub/MA-pre-work/Test_from_scratch/SA_Notebook_Train_Test_Val.ipynb#X12sZmlsZQ%3D%3D?line=2'>3</a>\u001b[0m     model\u001b[39m.\u001b[39mtrain()\n\u001b[1;32m----> <a href='vscode-notebook-cell:/c%3A/Users/Gabriel/OneDrive/Dokumente/GitHub/MA-pre-work/Test_from_scratch/SA_Notebook_Train_Test_Val.ipynb#X12sZmlsZQ%3D%3D?line=3'>4</a>\u001b[0m     \u001b[39mfor\u001b[39;00m batch_idx, (spectrograms, labels) \u001b[39min\u001b[39;00m tqdm(\u001b[39menumerate\u001b[39m(train_loader), total\u001b[39m=\u001b[39m\u001b[39mlen\u001b[39m(train_loader)):\n\u001b[0;32m      <a href='vscode-notebook-cell:/c%3A/Users/Gabriel/OneDrive/Dokumente/GitHub/MA-pre-work/Test_from_scratch/SA_Notebook_Train_Test_Val.ipynb#X12sZmlsZQ%3D%3D?line=4'>5</a>\u001b[0m         spectrograms \u001b[39m=\u001b[39m spectrograms\u001b[39m.\u001b[39mto(device)\n\u001b[0;32m      <a href='vscode-notebook-cell:/c%3A/Users/Gabriel/OneDrive/Dokumente/GitHub/MA-pre-work/Test_from_scratch/SA_Notebook_Train_Test_Val.ipynb#X12sZmlsZQ%3D%3D?line=5'>6</a>\u001b[0m         labels \u001b[39m=\u001b[39m labels\u001b[39m.\u001b[39mto(device)\n",
      "File \u001b[1;32mc:\\Users\\Gabriel\\anaconda3\\envs\\pytorch\\Lib\\site-packages\\tqdm\\std.py:1182\u001b[0m, in \u001b[0;36mtqdm.__iter__\u001b[1;34m(self)\u001b[0m\n\u001b[0;32m   1179\u001b[0m time \u001b[39m=\u001b[39m \u001b[39mself\u001b[39m\u001b[39m.\u001b[39m_time\n\u001b[0;32m   1181\u001b[0m \u001b[39mtry\u001b[39;00m:\n\u001b[1;32m-> 1182\u001b[0m     \u001b[39mfor\u001b[39;00m obj \u001b[39min\u001b[39;00m iterable:\n\u001b[0;32m   1183\u001b[0m         \u001b[39myield\u001b[39;00m obj\n\u001b[0;32m   1184\u001b[0m         \u001b[39m# Update and possibly print the progressbar.\u001b[39;00m\n\u001b[0;32m   1185\u001b[0m         \u001b[39m# Note: does not call self.update(1) for speed optimisation.\u001b[39;00m\n",
      "File \u001b[1;32mc:\\Users\\Gabriel\\anaconda3\\envs\\pytorch\\Lib\\site-packages\\torch\\utils\\data\\dataloader.py:633\u001b[0m, in \u001b[0;36m_BaseDataLoaderIter.__next__\u001b[1;34m(self)\u001b[0m\n\u001b[0;32m    630\u001b[0m \u001b[39mif\u001b[39;00m \u001b[39mself\u001b[39m\u001b[39m.\u001b[39m_sampler_iter \u001b[39mis\u001b[39;00m \u001b[39mNone\u001b[39;00m:\n\u001b[0;32m    631\u001b[0m     \u001b[39m# TODO(https://github.com/pytorch/pytorch/issues/76750)\u001b[39;00m\n\u001b[0;32m    632\u001b[0m     \u001b[39mself\u001b[39m\u001b[39m.\u001b[39m_reset()  \u001b[39m# type: ignore[call-arg]\u001b[39;00m\n\u001b[1;32m--> 633\u001b[0m data \u001b[39m=\u001b[39m \u001b[39mself\u001b[39;49m\u001b[39m.\u001b[39;49m_next_data()\n\u001b[0;32m    634\u001b[0m \u001b[39mself\u001b[39m\u001b[39m.\u001b[39m_num_yielded \u001b[39m+\u001b[39m\u001b[39m=\u001b[39m \u001b[39m1\u001b[39m\n\u001b[0;32m    635\u001b[0m \u001b[39mif\u001b[39;00m \u001b[39mself\u001b[39m\u001b[39m.\u001b[39m_dataset_kind \u001b[39m==\u001b[39m _DatasetKind\u001b[39m.\u001b[39mIterable \u001b[39mand\u001b[39;00m \\\n\u001b[0;32m    636\u001b[0m         \u001b[39mself\u001b[39m\u001b[39m.\u001b[39m_IterableDataset_len_called \u001b[39mis\u001b[39;00m \u001b[39mnot\u001b[39;00m \u001b[39mNone\u001b[39;00m \u001b[39mand\u001b[39;00m \\\n\u001b[0;32m    637\u001b[0m         \u001b[39mself\u001b[39m\u001b[39m.\u001b[39m_num_yielded \u001b[39m>\u001b[39m \u001b[39mself\u001b[39m\u001b[39m.\u001b[39m_IterableDataset_len_called:\n",
      "File \u001b[1;32mc:\\Users\\Gabriel\\anaconda3\\envs\\pytorch\\Lib\\site-packages\\torch\\utils\\data\\dataloader.py:677\u001b[0m, in \u001b[0;36m_SingleProcessDataLoaderIter._next_data\u001b[1;34m(self)\u001b[0m\n\u001b[0;32m    675\u001b[0m \u001b[39mdef\u001b[39;00m \u001b[39m_next_data\u001b[39m(\u001b[39mself\u001b[39m):\n\u001b[0;32m    676\u001b[0m     index \u001b[39m=\u001b[39m \u001b[39mself\u001b[39m\u001b[39m.\u001b[39m_next_index()  \u001b[39m# may raise StopIteration\u001b[39;00m\n\u001b[1;32m--> 677\u001b[0m     data \u001b[39m=\u001b[39m \u001b[39mself\u001b[39;49m\u001b[39m.\u001b[39;49m_dataset_fetcher\u001b[39m.\u001b[39;49mfetch(index)  \u001b[39m# may raise StopIteration\u001b[39;00m\n\u001b[0;32m    678\u001b[0m     \u001b[39mif\u001b[39;00m \u001b[39mself\u001b[39m\u001b[39m.\u001b[39m_pin_memory:\n\u001b[0;32m    679\u001b[0m         data \u001b[39m=\u001b[39m _utils\u001b[39m.\u001b[39mpin_memory\u001b[39m.\u001b[39mpin_memory(data, \u001b[39mself\u001b[39m\u001b[39m.\u001b[39m_pin_memory_device)\n",
      "File \u001b[1;32mc:\\Users\\Gabriel\\anaconda3\\envs\\pytorch\\Lib\\site-packages\\torch\\utils\\data\\_utils\\fetch.py:51\u001b[0m, in \u001b[0;36m_MapDatasetFetcher.fetch\u001b[1;34m(self, possibly_batched_index)\u001b[0m\n\u001b[0;32m     49\u001b[0m         data \u001b[39m=\u001b[39m \u001b[39mself\u001b[39m\u001b[39m.\u001b[39mdataset\u001b[39m.\u001b[39m__getitems__(possibly_batched_index)\n\u001b[0;32m     50\u001b[0m     \u001b[39melse\u001b[39;00m:\n\u001b[1;32m---> 51\u001b[0m         data \u001b[39m=\u001b[39m [\u001b[39mself\u001b[39;49m\u001b[39m.\u001b[39;49mdataset[idx] \u001b[39mfor\u001b[39;49;00m idx \u001b[39min\u001b[39;49;00m possibly_batched_index]\n\u001b[0;32m     52\u001b[0m \u001b[39melse\u001b[39;00m:\n\u001b[0;32m     53\u001b[0m     data \u001b[39m=\u001b[39m \u001b[39mself\u001b[39m\u001b[39m.\u001b[39mdataset[possibly_batched_index]\n",
      "File \u001b[1;32mc:\\Users\\Gabriel\\anaconda3\\envs\\pytorch\\Lib\\site-packages\\torch\\utils\\data\\_utils\\fetch.py:51\u001b[0m, in \u001b[0;36m<listcomp>\u001b[1;34m(.0)\u001b[0m\n\u001b[0;32m     49\u001b[0m         data \u001b[39m=\u001b[39m \u001b[39mself\u001b[39m\u001b[39m.\u001b[39mdataset\u001b[39m.\u001b[39m__getitems__(possibly_batched_index)\n\u001b[0;32m     50\u001b[0m     \u001b[39melse\u001b[39;00m:\n\u001b[1;32m---> 51\u001b[0m         data \u001b[39m=\u001b[39m [\u001b[39mself\u001b[39;49m\u001b[39m.\u001b[39;49mdataset[idx] \u001b[39mfor\u001b[39;00m idx \u001b[39min\u001b[39;00m possibly_batched_index]\n\u001b[0;32m     52\u001b[0m \u001b[39melse\u001b[39;00m:\n\u001b[0;32m     53\u001b[0m     data \u001b[39m=\u001b[39m \u001b[39mself\u001b[39m\u001b[39m.\u001b[39mdataset[possibly_batched_index]\n",
      "File \u001b[1;32mc:\\Users\\Gabriel\\OneDrive\\Dokumente\\GitHub\\MA-pre-work\\Test_from_scratch\\DL_finetune\\ADSMI_DL_TVsplit.py:55\u001b[0m, in \u001b[0;36mMyDataset_finetune_train.__getitem__\u001b[1;34m(self, index)\u001b[0m\n\u001b[0;32m     53\u001b[0m \u001b[39m# Using torchaudio to load waveform\u001b[39;00m\n\u001b[0;32m     54\u001b[0m waveform, sample_rate_new \u001b[39m=\u001b[39m torchaudio\u001b[39m.\u001b[39mload(path)\n\u001b[1;32m---> 55\u001b[0m waveform \u001b[39m=\u001b[39m waveform\u001b[39m.\u001b[39;49mto(device\u001b[39m=\u001b[39;49mtorch\u001b[39m.\u001b[39;49mdevice(\u001b[39m\"\u001b[39;49m\u001b[39mcuda\u001b[39;49m\u001b[39m\"\u001b[39;49m), dtype\u001b[39m=\u001b[39;49mtorch\u001b[39m.\u001b[39;49mfloat32)\n\u001b[0;32m     57\u001b[0m mel_spec \u001b[39m=\u001b[39m \u001b[39mself\u001b[39m\u001b[39m.\u001b[39mpipeline(sample_rate_new, config\u001b[39m.\u001b[39mdesired_length_in_seconds,waveform, goal_r\u001b[39m=\u001b[39m\u001b[39mself\u001b[39m\u001b[39m.\u001b[39msample_rate)\n\u001b[0;32m     59\u001b[0m class_id \u001b[39m=\u001b[39m \u001b[39mself\u001b[39m\u001b[39m.\u001b[39mclass_ids[index]\n",
      "\u001b[1;31mKeyboardInterrupt\u001b[0m: "
     ]
    }
   ],
   "source": [
    "# Training loop\n",
    "for epoch in range(num_epochs):\n",
    "    model.train()\n",
    "    for batch_idx, (spectrograms, labels) in tqdm(enumerate(train_loader), total=len(train_loader)):\n",
    "        spectrograms = spectrograms.to(device)\n",
    "        labels = labels.to(device)\n",
    "\n",
    "        # Forward pass\n",
    "        outputs = model(spectrograms)\n",
    "        loss = criterion(outputs, labels)\n",
    "        train_losses.append(loss.item())\n",
    "        \n",
    "        # Backward pass and optimization\n",
    "        optimizer.zero_grad()\n",
    "        loss.backward()\n",
    "        optimizer.step()\n",
    "\n",
    "\n",
    "\n",
    "    correct_predictions = 0\n",
    "    total_samples = 0\n",
    "\n",
    "    # Set the model to evaluation mode (important for dropout and batch normalization)\n",
    "    model.eval()\n",
    "\n",
    "    # Iterate through the test set\n",
    "    with torch.no_grad():  # Disable gradient computation during testing\n",
    "        for spectrograms, labels in test_loader:\n",
    "            # Move data to the testing device\n",
    "            spectrograms = spectrograms.to(device)\n",
    "            labels = labels.to(device)\n",
    "\n",
    "            # Forward pass\n",
    "            outputs = model(spectrograms)\n",
    "            loss = criterion(outputs, labels)\n",
    "            test_losses.append(loss.item())\n",
    "            \n",
    "            # Compute the predicted labels\n",
    "            _, predicted = torch.max(outputs, 1)\n",
    "\n",
    "            # Update evaluation metrics\n",
    "            total_samples += labels.size(0)\n",
    "            correct_predictions += (predicted == labels).sum().item()\n",
    "\n",
    "    #if new test accuracy is better than the previous best, save the model\n",
    "    if correct_predictions / total_samples > best_accuracy:\n",
    "        best_accuracy = correct_predictions / total_samples\n",
    "        torch.save(model, standalone_results_path + '/checkpoint.pth')\n",
    "        early_stop_counter = 0\n",
    "        with open(f'{standalone_results_path}/log_file.txt', 'a') as log_file:\n",
    "            log_file.write(f\"Best accuracy improved on epoch {epoch}: {best_accuracy * 100:.2f}%\\n\")\n",
    "        \n",
    "    # Step the learning rate scheduler\n",
    "    scheduler.step(test_losses[-1])\n",
    "\n",
    "    # Calculate accuracy or other evaluation metrics\n",
    "    accuracy = correct_predictions / total_samples\n",
    "    print(f\"Epoch [{epoch+1}/{num_epochs}], Train Loss: {train_losses[-1]:.4f} and Test Loss: {test_losses[-1]:.4f}\")\n",
    "    print(f\"Test Accuracy: {accuracy * 100:.2f}%\")\n",
    "    early_stop_counter += 1\n",
    "\n",
    "    with open(f'{standalone_results_path}/log_file.txt', 'a') as log_file:\n",
    "        log_file.write(f\"Epoch [{epoch+1}/{num_epochs}], Train Loss: {train_losses[-1]:.4f} and Test Loss: {test_losses[-1]:.4f}, Accuracy:{accuracy}, early stopping count: {early_stop_counter} from {patience}\\n\")\n",
    "\n",
    "    #early stopping\n",
    "    if early_stop_counter >= patience:\n",
    "        print(f\"Early stopping on epoch {epoch+1}\")\n",
    "        with open(f'{standalone_results_path}/log_file.txt', 'a') as log_file:\n",
    "            log_file.write(f\"Early stopping on epoch {epoch+1}\\n\")\n",
    "        break\n",
    "    \n",
    "\n",
    "\n"
   ]
  },
  {
   "cell_type": "code",
   "execution_count": 8,
   "metadata": {},
   "outputs": [],
   "source": [
    "# Save full model\n",
    "torch.save(model, standalone_results_path + '/Full_model_checkpoint.pth')"
   ]
  },
  {
   "cell_type": "code",
   "execution_count": 9,
   "metadata": {},
   "outputs": [
    {
     "name": "stdout",
     "output_type": "stream",
     "text": [
      "\n",
      "Evaluation Results:\n",
      "Balanced Accuracy2: 91.42%\n",
      "Test Accuracy: 92.37%\n",
      "\n",
      "Evaluation Results:\n",
      "Accuracy: 92.37%\n",
      "Precision: 92.84%\n",
      "Recall: 92.37%\n",
      "F1-score: 92.47%\n",
      "Kappa: 88.12%\n",
      "                         precision    recall  f1-score   support\n",
      "\n",
      "            [Kreischen]       0.94      0.91      0.93       220\n",
      "[Kreischen][Quietschen]       0.80      0.96      0.87        71\n",
      "              [Negativ]       0.97      0.93      0.95       167\n",
      "           [Quietschen]       0.86      0.86      0.86        14\n",
      "\n",
      "               accuracy                           0.92       472\n",
      "              macro avg       0.89      0.91      0.90       472\n",
      "           weighted avg       0.93      0.92      0.92       472\n",
      "\n"
     ]
    },
    {
     "data": {
      "image/png": "[encoded data removed]",
      "text/plain": [
       "<Figure size 800x600 with 1 Axes>"
      ]
     },
     "metadata": {},
     "output_type": "display_data"
    }
   ],
   "source": [
    "\n",
    "import seaborn as sns\n",
    "from sklearn.metrics import classification_report, confusion_matrix, precision_recall_fscore_support,balanced_accuracy_score\n",
    "from sklearn.metrics import cohen_kappa_score\n",
    "\n",
    "# and loaded any pre-trained weights, e.g., model = Resnet50_Classifier(num_classes)\n",
    "\n",
    "# Set the device for testing\n",
    "device = torch.device('cuda' if torch.cuda.is_available() else 'cpu')\n",
    "config.val_sound_length = 20\n",
    "# Create a data loader for the test set\n",
    "val_loader = DL.create_generators_finetune_val(val_df)  \n",
    "\n",
    "#model = torch.load(\"./results_standalone/newgpu2_checkpoint.pth\")\n",
    "model = torch.load(standalone_results_path + '/Full_model_checkpoint.pth')\n",
    "# Transfer the model to the testing device\n",
    "model.to(device)\n",
    "\n",
    "# Define a criterion for evaluation (e.g., cross-entropy loss for classification)\n",
    "criterion = nn.CrossEntropyLoss()\n",
    "\n",
    "# Initialize variables for evaluation metrics (e.g., accuracy)\n",
    "correct_predictions = 0\n",
    "total_samples = 0\n",
    "\n",
    "# Define the label dictionary\n",
    "true_labels_dic = {0: '[Kreischen]', 1: '[Kreischen][Quietschen]', 2: '[Negativ]', 3: '[Quietschen]'}\n",
    "\n",
    "# Set the model to evaluation mode \n",
    "model.eval()\n",
    "\n",
    "# Initialize lists to store all true labels and predicted labels\n",
    "all_true_labels = []\n",
    "all_predicted_labels = []\n",
    "\n",
    "# Iterate through the test set\n",
    "with torch.no_grad():\n",
    "    for spectrograms, labels in val_loader:\n",
    "        # Move data to the testing device\n",
    "        spectrograms = spectrograms.to(device)\n",
    "        labels = labels.to(device)\n",
    "\n",
    "        # Forward pass\n",
    "        outputs = model(spectrograms)\n",
    "        \n",
    "        # Compute the predicted labels\n",
    "        _, predicted = torch.max(outputs, 1)\n",
    "\n",
    "        # Append true and predicted labels to the lists\n",
    "        all_true_labels.extend(labels.cpu().numpy())\n",
    "        all_predicted_labels.extend(predicted.cpu().numpy())\n",
    "\n",
    "# Convert lists to numpy arrays\n",
    "all_true_labels = np.array(all_true_labels)\n",
    "all_predicted_labels = np.array(all_predicted_labels)\n",
    "\n",
    "# Calculate accuracy, precision, recall, F1-score, etc. using all_true_labels and all_predicted_labels\n",
    "accuracy = np.mean(all_true_labels == all_predicted_labels)\n",
    "precision, recall, f1_score, _ = precision_recall_fscore_support(all_true_labels, all_predicted_labels, average='weighted')\n",
    "\n",
    "\n",
    "#calculate balanced accuracy\n",
    "balanced_accuracy2 = balanced_accuracy_score(all_true_labels, all_predicted_labels)\n",
    "#kappa score\n",
    "cohens_kappa = cohen_kappa_score(all_true_labels, all_predicted_labels)\n",
    "\n",
    "\n",
    "print(f\"\\nEvaluation Results:\")\n",
    "#print(f\"Balanced Accuracy: {balanced_accuracy * 100:.2f}%\")\n",
    "print(f\"Balanced Accuracy2: {balanced_accuracy2 * 100:.2f}%\")\n",
    "\n",
    "print(f\"Test Accuracy: {accuracy * 100:.2f}%\")\n",
    "print(f\"\\nEvaluation Results:\")\n",
    "print(f\"Accuracy: {accuracy * 100:.2f}%\")\n",
    "print(f\"Precision: {precision * 100:.2f}%\")\n",
    "print(f\"Recall: {recall * 100:.2f}%\")\n",
    "print(f\"F1-score: {f1_score * 100:.2f}%\")\n",
    "print(f\"Kappa: {cohens_kappa * 100:.2f}%\")\n",
    "\n",
    "conf_mat = confusion_matrix(all_true_labels, all_predicted_labels)\n",
    "def plot_confusion_matrix(conf_mat, class_labels):\n",
    "    plt.figure(figsize=(8, 6))\n",
    "    sns.set(font_scale=1.2)\n",
    "    \n",
    "    class_labels = [str(label) for label in class_labels]\n",
    "    \n",
    "    ax = sns.heatmap(conf_mat, annot=True, fmt=\"d\", cmap=\"Blues\", cbar=False,\n",
    "                xticklabels=class_labels,\n",
    "                yticklabels=class_labels)\n",
    "    \n",
    "    plt.xlabel('Predicted Labels')\n",
    "    plt.ylabel('True Labels')\n",
    "    plt.title('Confusion Matrix')\n",
    "    plt.xticks(rotation=90)\n",
    "\n",
    "    return plt.gcf()  # Return the current figure\n",
    "\n",
    "import config\n",
    "#create classification results text file\n",
    "with open(f'{standalone_results_path}/results_file_full.txt', 'w') as log_file:\n",
    "    log_file.write(f\"########################################################\\n\")\n",
    "    log_file.write(f\"Frequency Mask:{config.freq_mask_param}\\n\")\n",
    "    log_file.write(f\"Time Mask: {config.time_mask_param}\\n\")\n",
    "    log_file.write(f\"Spectro:\\n\")\n",
    "    log_file.write(f\"        n_fft={2048},\\n\")\n",
    "    log_file.write(f\"        hop_length = {512},\\n\")\n",
    "    log_file.write(f\"        n_mels={128},  \\n\")\n",
    "    log_file.write(f\"        win_length = {2048},\\n\")\n",
    "    log_file.write(f\"Epochs: {num_epochs}\\n\")\n",
    "    log_file.write(f\"Batch size: {batch_size}\\n\")\n",
    "    log_file.write(f\"Optimizer: Adam\\n\")\n",
    "    log_file.write(f\"Learning rate: {learning_rate}\\n\")\n",
    "    log_file.write(f\"Weight decay: {weight_decay}\\n\")\n",
    "    log_file.write(f\"Scheduler: ReduceLROnPlateau\\n\")\n",
    "    log_file.write(f\"Model: ModifiedResnet50_Classifier \\n\")\n",
    "    log_file.write(f\"classifiers: 512, 256, 4 : 2 fully connected layers\\n\")\n",
    "    log_file.write(f\"########################################################\\n\\n\")\n",
    "    log_file.write(f\"Balanced Accuracy2: {balanced_accuracy2 * 100:.2f}%\\n\")\n",
    "    log_file.write(f\"Test Accuracy: {accuracy * 100:.2f}%\\n\")\n",
    "    log_file.write(f\"\\nEvaluation Results:\\n\")\n",
    "    log_file.write(f\"Precision: {precision * 100:.2f}%\\n\")\n",
    "    log_file.write(f\"Recall: {recall * 100:.2f}%\\n\")\n",
    "    log_file.write(f\"F1-score: {f1_score * 100:.2f}%\\n\")\n",
    "    log_file.write(f\"Kappa: {cohens_kappa * 100:.2f}%\\n\")\n",
    "    log_file.write(f\"########################################################\\n\\n\")\n",
    "    log_file.write(f\"Confusion Matrix:\\n\")\n",
    "    log_file.write(f\"{conf_mat}\\n\")\n",
    "    log_file.write(f\"########################################################\\n\\n\")\n",
    "    log_file.write(f\"Classifcation Report: {classification_report(all_true_labels, all_predicted_labels, target_names=true_labels_dic.values())}\\n\")\n",
    "\n",
    "print(classification_report(all_true_labels, all_predicted_labels, target_names=true_labels_dic.values()))\n",
    "\n",
    "#save this plot as a png file\n",
    "plot = plot_confusion_matrix(conf_mat, true_labels_dic.values())\n",
    "plot.savefig(f'{standalone_results_path}/confusion_matrix_full.png')\n",
    "\n",
    "\n",
    "\n",
    "\n",
    "\n",
    "\n",
    "\n"
   ]
  },
  {
   "cell_type": "code",
   "execution_count": 10,
   "metadata": {},
   "outputs": [
    {
     "name": "stdout",
     "output_type": "stream",
     "text": [
      "\n",
      "Evaluation Results:\n",
      "Balanced Accuracy2: 81.27%\n",
      "Test Accuracy: 88.56%\n",
      "\n",
      "Evaluation Results:\n",
      "Accuracy: 88.56%\n",
      "Precision: 89.60%\n",
      "Recall: 88.56%\n",
      "F1-score: 88.30%\n",
      "Kappa: 81.66%\n",
      "                         precision    recall  f1-score   support\n",
      "\n",
      "            [Kreischen]       0.84      0.98      0.90       220\n",
      "[Kreischen][Quietschen]       0.88      0.93      0.90        71\n",
      "              [Negativ]       0.98      0.77      0.86       167\n",
      "           [Quietschen]       0.89      0.57      0.70        14\n",
      "\n",
      "               accuracy                           0.89       472\n",
      "              macro avg       0.90      0.81      0.84       472\n",
      "           weighted avg       0.90      0.89      0.88       472\n",
      "\n"
     ]
    },
    {
     "data": {
      "image/png": "[encoded data removed]",
      "text/plain": [
       "<Figure size 800x600 with 1 Axes>"
      ]
     },
     "metadata": {},
     "output_type": "display_data"
    }
   ],
   "source": [
    "\n",
    "import seaborn as sns\n",
    "from sklearn.metrics import classification_report, confusion_matrix, precision_recall_fscore_support,balanced_accuracy_score\n",
    "from sklearn.metrics import cohen_kappa_score\n",
    "\n",
    "# and loaded any pre-trained weights, e.g., model = Resnet50_Classifier(num_classes)\n",
    "\n",
    "# Set the device for testing\n",
    "device = torch.device('cuda' if torch.cuda.is_available() else 'cpu')\n",
    "config.val_sound_length = 20\n",
    "# Create a data loader for the test set\n",
    "val_loader = DL.create_generators_finetune_val(val_df)  \n",
    "\n",
    "#model = torch.load(\"./results_standalone/newgpu2_checkpoint.pth\")\n",
    "model = torch.load(standalone_results_path + '/checkpoint.pth')\n",
    "# Transfer the model to the testing device\n",
    "model.to(device)\n",
    "\n",
    "# Define a criterion for evaluation (e.g., cross-entropy loss for classification)\n",
    "criterion = nn.CrossEntropyLoss()\n",
    "\n",
    "# Initialize variables for evaluation metrics (e.g., accuracy)\n",
    "correct_predictions = 0\n",
    "total_samples = 0\n",
    "\n",
    "# Define the label dictionary\n",
    "true_labels_dic = {0: '[Kreischen]', 1: '[Kreischen][Quietschen]', 2: '[Negativ]', 3: '[Quietschen]'}\n",
    "\n",
    "# Set the model to evaluation mode \n",
    "model.eval()\n",
    "\n",
    "# Initialize lists to store all true labels and predicted labels\n",
    "all_true_labels = []\n",
    "all_predicted_labels = []\n",
    "\n",
    "# Iterate through the test set\n",
    "with torch.no_grad():\n",
    "    for spectrograms, labels in val_loader:\n",
    "        # Move data to the testing device\n",
    "        spectrograms = spectrograms.to(device)\n",
    "        labels = labels.to(device)\n",
    "\n",
    "        # Forward pass\n",
    "        outputs = model(spectrograms)\n",
    "        \n",
    "        # Compute the predicted labels\n",
    "        _, predicted = torch.max(outputs, 1)\n",
    "\n",
    "        # Append true and predicted labels to the lists\n",
    "        all_true_labels.extend(labels.cpu().numpy())\n",
    "        all_predicted_labels.extend(predicted.cpu().numpy())\n",
    "\n",
    "# Convert lists to numpy arrays\n",
    "all_true_labels = np.array(all_true_labels)\n",
    "all_predicted_labels = np.array(all_predicted_labels)\n",
    "\n",
    "# Calculate accuracy, precision, recall, F1-score, etc. using all_true_labels and all_predicted_labels\n",
    "#use sklearn  accuracy \n",
    "accuracy = np.mean(all_true_labels == all_predicted_labels)\n",
    "precision, recall, f1_score, _ = precision_recall_fscore_support(all_true_labels, all_predicted_labels, average='weighted')\n",
    "\n",
    "\n",
    "#calculate balanced accuracy\n",
    "balanced_accuracy2 = balanced_accuracy_score(all_true_labels, all_predicted_labels)\n",
    "#kappa score\n",
    "cohens_kappa = cohen_kappa_score(all_true_labels, all_predicted_labels)\n",
    "\n",
    "\n",
    "print(f\"\\nEvaluation Results:\")\n",
    "#print(f\"Balanced Accuracy: {balanced_accuracy * 100:.2f}%\")\n",
    "print(f\"Balanced Accuracy2: {balanced_accuracy2 * 100:.2f}%\")\n",
    "\n",
    "print(f\"Test Accuracy: {accuracy * 100:.2f}%\")\n",
    "print(f\"\\nEvaluation Results:\")\n",
    "print(f\"Accuracy: {accuracy * 100:.2f}%\")\n",
    "print(f\"Precision: {precision * 100:.2f}%\")\n",
    "print(f\"Recall: {recall * 100:.2f}%\")\n",
    "print(f\"F1-score: {f1_score * 100:.2f}%\")\n",
    "print(f\"Kappa: {cohens_kappa * 100:.2f}%\")\n",
    "\n",
    "conf_mat = confusion_matrix(all_true_labels, all_predicted_labels)\n",
    "def plot_confusion_matrix(conf_mat, class_labels):\n",
    "    plt.figure(figsize=(8, 6))\n",
    "    sns.set(font_scale=1.2)\n",
    "    \n",
    "    class_labels = [str(label) for label in class_labels]\n",
    "    \n",
    "    ax = sns.heatmap(conf_mat, annot=True, fmt=\"d\", cmap=\"Blues\", cbar=False,\n",
    "                xticklabels=class_labels,\n",
    "                yticklabels=class_labels)\n",
    "    \n",
    "    plt.xlabel('Predicted Labels')\n",
    "    plt.ylabel('True Labels')\n",
    "    plt.title('Confusion Matrix')\n",
    "    plt.xticks(rotation=90)\n",
    "\n",
    "    return plt.gcf()  # Return the current figure\n",
    "\n",
    "import config\n",
    "#create classification results text file\n",
    "with open(f'{standalone_results_path}/results_file_best.txt', 'w') as log_file:\n",
    "    log_file.write(f\"########################################################\\n\")\n",
    "    log_file.write(f\"Frequency Mask:{config.freq_mask_param}\\n\")\n",
    "    log_file.write(f\"Time Mask: {config.time_mask_param}\\n\")\n",
    "    log_file.write(f\"Spectro:\\n\")\n",
    "    log_file.write(f\"        n_fft={2048},\\n\")\n",
    "    log_file.write(f\"        hop_length = {512},\\n\")\n",
    "    log_file.write(f\"        n_mels={128},  \\n\")\n",
    "    log_file.write(f\"        win_length = {2048},\\n\")\n",
    "    log_file.write(f\"Epochs: {num_epochs}\\n\")\n",
    "    log_file.write(f\"Batch size: {batch_size}\\n\")\n",
    "    log_file.write(f\"Optimizer: Adam\\n\")\n",
    "    log_file.write(f\"Learning rate: {learning_rate}\\n\")\n",
    "    log_file.write(f\"Weight decay: {weight_decay}\\n\")\n",
    "    log_file.write(f\"Scheduler: ReduceLROnPlateau\\n\")\n",
    "    log_file.write(f\"Model: ModifiedResnet50_Classifier \\n\")\n",
    "    log_file.write(f\"classifiers: 512, 256, 4 : 2 fully connected layers\\n\")\n",
    "    log_file.write(f\"########################################################\\n\\n\")\n",
    "    log_file.write(f\"Balanced Accuracy2: {balanced_accuracy2 * 100:.2f}%\\n\")\n",
    "    log_file.write(f\"Test Accuracy: {accuracy * 100:.2f}%\\n\")\n",
    "    log_file.write(f\"\\nEvaluation Results:\\n\")\n",
    "    log_file.write(f\"Precision: {precision * 100:.2f}%\\n\")\n",
    "    log_file.write(f\"Recall: {recall * 100:.2f}%\\n\")\n",
    "    log_file.write(f\"F1-score: {f1_score * 100:.2f}%\\n\")\n",
    "    log_file.write(f\"Kappa: {cohens_kappa * 100:.2f}%\\n\")\n",
    "    log_file.write(f\"########################################################\\n\\n\")\n",
    "    log_file.write(f\"Confusion Matrix:\\n\")\n",
    "    log_file.write(f\"{conf_mat}\\n\")\n",
    "    log_file.write(f\"########################################################\\n\\n\")\n",
    "    log_file.write(f\"Classifcation Report: {classification_report(all_true_labels, all_predicted_labels, target_names=true_labels_dic.values())}\\n\")\n",
    "\n",
    "print(classification_report(all_true_labels, all_predicted_labels, target_names=true_labels_dic.values()))\n",
    "\n",
    "#save this plotas a png file\n",
    "plot = plot_confusion_matrix(conf_mat, true_labels_dic.values())\n",
    "plot.savefig(f'{standalone_results_path}/confusion_matrix_best.png')\n",
    "\n",
    "\n",
    "\n",
    "\n",
    "\n",
    "\n",
    "\n"
   ]
  }
 ],
 "metadata": {
  "kernelspec": {
   "display_name": "pytorch",
   "language": "python",
   "name": "python3"
  },
  "language_info": {
   "codemirror_mode": {
    "name": "ipython",
    "version": 3
   },
   "file_extension": ".py",
   "mimetype": "text/x-python",
   "name": "python",
   "nbconvert_exporter": "python",
   "pygments_lexer": "ipython3",
   "version": "3.11.4"
  }
 },
 "nbformat": 4,
 "nbformat_minor": 2
}
