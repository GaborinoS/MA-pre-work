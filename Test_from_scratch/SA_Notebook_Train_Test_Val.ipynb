{
 "cells": [
  {
   "cell_type": "code",
   "execution_count": 1,
   "metadata": {},
   "outputs": [],
   "source": [
    "import torch\n",
    "import torch.nn.functional as F\n",
    "import torch.optim as optim\n",
    "import torchaudio.transforms as T\n",
    "import torchvision.models as models\n",
    "import torch.optim.lr_scheduler as lr_scheduler\n",
    "import pandas as pd\n",
    "import torch.nn as nn\n",
    "from tqdm import tqdm\n",
    "import os\n",
    "import time\n",
    "import datetime\n",
    "\n",
    "import seaborn as sns\n",
    "from sklearn.metrics import classification_report, confusion_matrix, precision_recall_fscore_support,balanced_accuracy_score,f1_score\n",
    "from sklearn.metrics import cohen_kappa_score\n",
    "\n",
    "from sklearn.model_selection import train_test_split\n",
    "import matplotlib.pyplot as plt\n",
    "import numpy as np\n",
    "\n",
    "#Global Parameters and Variables loaded \n",
    "import config"
   ]
  },
  {
   "cell_type": "code",
   "execution_count": 2,
   "metadata": {},
   "outputs": [],
   "source": [
    "# load dataloader\n",
    "if config.ADSMI:\n",
    "    from DL_finetune import ADSMI_DL_TVsplit as DL\n",
    "    data_name = 'ADSMI'"
   ]
  },
  {
   "cell_type": "code",
   "execution_count": 3,
   "metadata": {},
   "outputs": [],
   "source": [
    "#empty cuda cache\n",
    "torch.cuda.empty_cache()\n",
    "\n",
    "config.desired_length_in_seconds = 7\n"
   ]
  },
  {
   "cell_type": "markdown",
   "metadata": {},
   "source": [
    "## Models\n"
   ]
  },
  {
   "cell_type": "code",
   "execution_count": 4,
   "metadata": {},
   "outputs": [
    {
     "name": "stdout",
     "output_type": "stream",
     "text": [
      "3\n"
     ]
    }
   ],
   "source": [
    "print(config.channels)\n",
    "\n",
    "class Resnet50_Classifier(nn.Module):\n",
    "    def __init__(self, num_classes):\n",
    "        super(Resnet50_Classifier, self).__init__()\n",
    "        self.resnet50 = models.resnet50()\n",
    "        self.resnet50.conv1 = nn.Conv2d(config.channels, 64, kernel_size=7, stride=2, padding=3, bias=False)\n",
    "        num_features = self.resnet50.fc.in_features\n",
    "        self.resnet50.fc = nn.Linear(num_features, num_classes)\n",
    "\n",
    "    def forward(self, x):\n",
    "        return self.resnet50(x)\n",
    "    \n",
    "\n",
    "\n",
    "\n",
    "class ResNet101_Classifier(nn.Module):\n",
    "    def __init__(self, num_classes):\n",
    "        super(ResNet101_Classifier, self).__init__()\n",
    "        self.resnet101 = models.resnet101()\n",
    "        \n",
    "        # Modify the first convolutional layer\n",
    "        self.resnet101.conv1 = nn.Conv2d(config.channels, 64, kernel_size=7, stride=2, padding=3, bias=False)\n",
    "        \n",
    "        # Remove the final fully connected layer\n",
    "        self.resnet101.fc = nn.Identity()  # Set the final layer to an identity mapping\n",
    "        \n",
    "        # Define the custom fully connected layers\n",
    "        num_features = 2048 \n",
    "        self.fc1 = nn.Linear(num_features, 512)\n",
    "        self.fc2 = nn.Linear(512, 256)\n",
    "        self.fc3 = nn.Linear(256, num_classes)\n",
    "\n",
    "    def forward(self, x):\n",
    "        x = self.resnet101(x)\n",
    "        x = F.relu(self.fc1(x))\n",
    "        x = F.relu(self.fc2(x))\n",
    "        x = self.fc3(x)\n",
    "        return x\n",
    "    \n",
    "\n",
    "    \n",
    "class ModifiedResnet50_Classifier(nn.Module):\n",
    "    def __init__(self, num_classes):\n",
    "        super(ModifiedResnet50_Classifier, self).__init__()\n",
    "        \n",
    "        # Load the pretrained ResNet-50 model\n",
    "        #self.resnet50 = models.resnet50(pretrained=True)\n",
    "        self.resnet50 = models.resnet50()\n",
    "        # Modify the first convolutional layer\n",
    "        self.resnet50.conv1 = nn.Conv2d(config.channels, 64, kernel_size=7, stride=2, padding=3, bias=False)\n",
    "        \n",
    "        # Remove the final fully connected layer\n",
    "        self.resnet50.fc = nn.Identity()  # Set the final layer to an identity mapping\n",
    "        \n",
    "        # Define the custom fully connected layers\n",
    "        num_features = 2048 \n",
    "        self.fc1 = nn.Linear(num_features, 512)\n",
    "        self.fc2 = nn.Linear(512, 256)\n",
    "        self.fc3 = nn.Linear(256, num_classes)\n",
    "\n",
    "    def forward(self, x):\n",
    "        x = self.resnet50(x)\n",
    "        x = F.relu(self.fc1(x))\n",
    "        x = F.relu(self.fc2(x))\n",
    "        x = self.fc3(x)\n",
    "        return x"
   ]
  },
  {
   "cell_type": "markdown",
   "metadata": {},
   "source": [
    "## Train Test and Val split"
   ]
  },
  {
   "cell_type": "code",
   "execution_count": 5,
   "metadata": {},
   "outputs": [
    {
     "name": "stdout",
     "output_type": "stream",
     "text": [
      "Train size:  3776\n",
      "Test size:  472\n",
      "Val size:  472\n"
     ]
    }
   ],
   "source": [
    "from Slit_and_validation_fun import *\n",
    "\n",
    "train_df, test_df, val_df = train_test_ADSMI()\n",
    "\n",
    "foldername = \"RS96_F1_scores\"\n",
    "# Load the dataframe\n",
    "labels_file = pd.read_csv('./data/labeled_ADSMI/labels_int.csv', index_col=0)"
   ]
  },
  {
   "cell_type": "code",
   "execution_count": 6,
   "metadata": {},
   "outputs": [
    {
     "name": "stdout",
     "output_type": "stream",
     "text": [
      "Label_int\n",
      "0    1760\n",
      "2    1332\n",
      "1     570\n",
      "3     114\n",
      "Name: count, dtype: int64\n",
      "Label_int\n",
      "0    220\n",
      "2    167\n",
      "1     71\n",
      "3     14\n",
      "Name: count, dtype: int64\n",
      "Label_int\n",
      "0    220\n",
      "2    166\n",
      "1     72\n",
      "3     14\n",
      "Name: count, dtype: int64\n"
     ]
    }
   ],
   "source": [
    "\n",
    "\n",
    "\n",
    "print(train_df[\"Label_int\"].value_counts())\n",
    "print(test_df[\"Label_int\"].value_counts())\n",
    "print(val_df[\"Label_int\"].value_counts())\n",
    "\n",
    "train_loader, test_loader = DL.create_generators_finetune_train(train_df,test_df)\n",
    "\n",
    "\n"
   ]
  },
  {
   "cell_type": "markdown",
   "metadata": {},
   "source": [
    "## Model initialization"
   ]
  },
  {
   "cell_type": "code",
   "execution_count": 7,
   "metadata": {},
   "outputs": [],
   "source": [
    "\n",
    "#  Create an instance of the model\n",
    "num_classes = len(set(labels_file[\"Label_int\"]))  \n",
    "#model = Resnet50_Classifier(num_classes)\n",
    "model = ModifiedResnet50_Classifier(num_classes)\n",
    "#model = ResNet101_Classifier(num_classes)\n",
    "\n",
    "# Hyperparameters\n",
    "num_epochs = config.finetune_epochs \n",
    "learning_rate = 0.0003\n",
    "weight_decay = 0  # L2 regularization\n",
    "batch_size = config.batch_size\n",
    "patience = config.patience\n",
    "\n",
    "#  Transfer the model to the appropriate device\n",
    "device = torch.device('cuda' if torch.cuda.is_available() else 'cpu')\n",
    "model.to(device)\n",
    "\n",
    "# Define a loss function and optimizer\n",
    "criterion = nn.CrossEntropyLoss().to(device)\n",
    "optimizer = torch.optim.Adam(model.parameters(), lr=learning_rate, weight_decay = weight_decay ) # Adjust the value as needed)\n",
    "scheduler = lr_scheduler.ReduceLROnPlateau(optimizer, mode='min', patience=6, factor=0.6, verbose=True)\n",
    "\n",
    "#new folder path\n",
    "standalone_results_path = f'./results_standalone/SA_ADSMI_{foldername}'#{datetime.datetime.now().strftime(\"%Y-%m-%d-%H\")}'\n",
    "\n",
    "# Create a directory to save the results\n",
    "if not os.path.exists(standalone_results_path):\n",
    "    os.makedirs(standalone_results_path)\n",
    "\n",
    "with open(f'{standalone_results_path}/log_file.txt', 'w') as log_file:\n",
    "    log_file.write(f'########################################################\\n')\n",
    "    log_file.write(f'training on {data_name} dataset\\n')\n",
    "    log_file.write(f'Learning rate: {learning_rate}\\n')\n",
    "    log_file.write(f'Weight decay: {weight_decay}\\n')\n",
    "    log_file.write(f'Batch size: {batch_size}\\n')\n",
    "    log_file.write(f'Number of epochs: {num_epochs}\\n')\n",
    "    log_file.write(f'Patience: {patience}\\n')\n",
    "    log_file.write(f'Number of classes: {num_classes}\\n')\n",
    "    log_file.write(f'Train size: {len(train_df)}\\n')\n",
    "    log_file.write(f'Test size: {len(test_df)}\\n')\n",
    "    log_file.write(f'Val size: {len(val_df)}\\n')\n",
    "    log_file.write(f'Length of train data in seconds: {config.desired_length_in_seconds}\\n')\n",
    "    log_file.write(f'freq_mask_param : {config.freq_mask_param}\\n')\n",
    "    log_file.write(f'time_mask_param : {config.time_mask_param}\\n')\n",
    "    log_file.write(f'########################################################\\n\\n')\n",
    "\n",
    "train_losses = []\n",
    "val_losses = []\n",
    "macro_avg_f1_scores = []\n",
    "best_accuracy = 0\n",
    "best_f1_macro_avg = 0\n",
    "best_loss = 1000\n",
    "early_stop_counter = 0\n",
    "#config.model_path = \"./results_standalone/newgpu2_checkpoint.pth\"\n"
   ]
  },
  {
   "cell_type": "code",
   "execution_count": 8,
   "metadata": {},
   "outputs": [
    {
     "name": "stderr",
     "output_type": "stream",
     "text": [
      "100%|██████████| 236/236 [00:17<00:00, 13.56it/s]\n"
     ]
    },
    {
     "name": "stdout",
     "output_type": "stream",
     "text": [
      "Epoch [1/120], Train Loss: 0.9350, Val Loss: 0.7571, Val Accuracy: 70.97% Val F1 Score: 0.3924\n"
     ]
    },
    {
     "name": "stderr",
     "output_type": "stream",
     "text": [
      "100%|██████████| 236/236 [00:16<00:00, 14.65it/s]\n"
     ]
    },
    {
     "name": "stdout",
     "output_type": "stream",
     "text": [
      "Epoch [2/120], Train Loss: 0.7736, Val Loss: 0.8250, Val Accuracy: 58.26% Val F1 Score: 0.4413\n"
     ]
    },
    {
     "name": "stderr",
     "output_type": "stream",
     "text": [
      "100%|██████████| 236/236 [00:15<00:00, 14.77it/s]\n"
     ]
    },
    {
     "name": "stdout",
     "output_type": "stream",
     "text": [
      "Epoch [3/120], Train Loss: 0.7019, Val Loss: 0.5915, Val Accuracy: 74.58% Val F1 Score: 0.6006\n"
     ]
    },
    {
     "name": "stderr",
     "output_type": "stream",
     "text": [
      "100%|██████████| 236/236 [00:16<00:00, 14.72it/s]\n"
     ]
    },
    {
     "name": "stdout",
     "output_type": "stream",
     "text": [
      "Epoch [4/120], Train Loss: 0.6584, Val Loss: 0.7365, Val Accuracy: 66.74% Val F1 Score: 0.5739\n"
     ]
    },
    {
     "name": "stderr",
     "output_type": "stream",
     "text": [
      "100%|██████████| 236/236 [00:15<00:00, 14.79it/s]\n"
     ]
    },
    {
     "name": "stdout",
     "output_type": "stream",
     "text": [
      "Epoch [5/120], Train Loss: 0.6595, Val Loss: 0.5083, Val Accuracy: 83.47% Val F1 Score: 0.7121\n"
     ]
    },
    {
     "name": "stderr",
     "output_type": "stream",
     "text": [
      "100%|██████████| 236/236 [00:15<00:00, 14.88it/s]\n"
     ]
    },
    {
     "name": "stdout",
     "output_type": "stream",
     "text": [
      "Epoch [6/120], Train Loss: 0.6325, Val Loss: 0.4246, Val Accuracy: 84.53% Val F1 Score: 0.7707\n"
     ]
    },
    {
     "name": "stderr",
     "output_type": "stream",
     "text": [
      "100%|██████████| 236/236 [00:15<00:00, 14.80it/s]\n"
     ]
    },
    {
     "name": "stdout",
     "output_type": "stream",
     "text": [
      "Epoch [7/120], Train Loss: 0.6244, Val Loss: 0.3873, Val Accuracy: 86.44% Val F1 Score: 0.7779\n"
     ]
    },
    {
     "name": "stderr",
     "output_type": "stream",
     "text": [
      "100%|██████████| 236/236 [00:16<00:00, 14.68it/s]\n"
     ]
    },
    {
     "name": "stdout",
     "output_type": "stream",
     "text": [
      "Epoch [8/120], Train Loss: 0.5911, Val Loss: 0.4465, Val Accuracy: 83.90% Val F1 Score: 0.7964\n"
     ]
    },
    {
     "name": "stderr",
     "output_type": "stream",
     "text": [
      "100%|██████████| 236/236 [00:15<00:00, 14.95it/s]\n"
     ]
    },
    {
     "name": "stdout",
     "output_type": "stream",
     "text": [
      "Epoch [9/120], Train Loss: 0.5642, Val Loss: 0.3956, Val Accuracy: 84.75% Val F1 Score: 0.7500\n"
     ]
    },
    {
     "name": "stderr",
     "output_type": "stream",
     "text": [
      "100%|██████████| 236/236 [00:15<00:00, 14.86it/s]\n"
     ]
    },
    {
     "name": "stdout",
     "output_type": "stream",
     "text": [
      "Epoch [10/120], Train Loss: 0.5788, Val Loss: 0.4622, Val Accuracy: 82.84% Val F1 Score: 0.7831\n"
     ]
    },
    {
     "name": "stderr",
     "output_type": "stream",
     "text": [
      "100%|██████████| 236/236 [00:15<00:00, 14.98it/s]\n"
     ]
    },
    {
     "name": "stdout",
     "output_type": "stream",
     "text": [
      "Epoch [11/120], Train Loss: 0.5520, Val Loss: 0.5121, Val Accuracy: 80.93% Val F1 Score: 0.7389\n"
     ]
    },
    {
     "name": "stderr",
     "output_type": "stream",
     "text": [
      "100%|██████████| 236/236 [00:15<00:00, 14.98it/s]\n"
     ]
    },
    {
     "name": "stdout",
     "output_type": "stream",
     "text": [
      "Epoch [12/120], Train Loss: 0.5460, Val Loss: 0.4302, Val Accuracy: 86.02% Val F1 Score: 0.7627\n"
     ]
    },
    {
     "name": "stderr",
     "output_type": "stream",
     "text": [
      "100%|██████████| 236/236 [00:15<00:00, 14.97it/s]\n"
     ]
    },
    {
     "name": "stdout",
     "output_type": "stream",
     "text": [
      "Epoch [13/120], Train Loss: 0.5562, Val Loss: 0.4270, Val Accuracy: 84.96% Val F1 Score: 0.7667\n"
     ]
    },
    {
     "name": "stderr",
     "output_type": "stream",
     "text": [
      "100%|██████████| 236/236 [00:15<00:00, 14.79it/s]\n"
     ]
    },
    {
     "name": "stdout",
     "output_type": "stream",
     "text": [
      "Epoch [14/120], Train Loss: 0.5432, Val Loss: 0.3753, Val Accuracy: 86.23% Val F1 Score: 0.8082\n"
     ]
    },
    {
     "name": "stderr",
     "output_type": "stream",
     "text": [
      "100%|██████████| 236/236 [00:15<00:00, 14.80it/s]\n"
     ]
    },
    {
     "name": "stdout",
     "output_type": "stream",
     "text": [
      "Epoch [15/120], Train Loss: 0.5359, Val Loss: 0.4238, Val Accuracy: 85.81% Val F1 Score: 0.7349\n"
     ]
    },
    {
     "name": "stderr",
     "output_type": "stream",
     "text": [
      "100%|██████████| 236/236 [00:15<00:00, 14.81it/s]\n"
     ]
    },
    {
     "name": "stdout",
     "output_type": "stream",
     "text": [
      "Epoch [16/120], Train Loss: 0.5212, Val Loss: 0.4352, Val Accuracy: 85.38% Val F1 Score: 0.7947\n"
     ]
    },
    {
     "name": "stderr",
     "output_type": "stream",
     "text": [
      "100%|██████████| 236/236 [00:21<00:00, 10.98it/s]\n"
     ]
    },
    {
     "name": "stdout",
     "output_type": "stream",
     "text": [
      "Epoch [17/120], Train Loss: 0.5331, Val Loss: 0.3706, Val Accuracy: 86.44% Val F1 Score: 0.7796\n"
     ]
    },
    {
     "name": "stderr",
     "output_type": "stream",
     "text": [
      "100%|██████████| 236/236 [00:22<00:00, 10.43it/s]\n"
     ]
    },
    {
     "name": "stdout",
     "output_type": "stream",
     "text": [
      "Epoch [18/120], Train Loss: 0.5274, Val Loss: 0.3939, Val Accuracy: 86.65% Val F1 Score: 0.8123\n"
     ]
    },
    {
     "name": "stderr",
     "output_type": "stream",
     "text": [
      "100%|██████████| 236/236 [00:15<00:00, 14.84it/s]\n"
     ]
    },
    {
     "name": "stdout",
     "output_type": "stream",
     "text": [
      "Epoch [19/120], Train Loss: 0.5089, Val Loss: 0.3339, Val Accuracy: 88.56% Val F1 Score: 0.8210\n"
     ]
    },
    {
     "name": "stderr",
     "output_type": "stream",
     "text": [
      "100%|██████████| 236/236 [00:16<00:00, 14.68it/s]\n"
     ]
    },
    {
     "name": "stdout",
     "output_type": "stream",
     "text": [
      "Epoch [20/120], Train Loss: 0.5252, Val Loss: 0.3318, Val Accuracy: 89.62% Val F1 Score: 0.8413\n"
     ]
    },
    {
     "name": "stderr",
     "output_type": "stream",
     "text": [
      "100%|██████████| 236/236 [00:16<00:00, 14.65it/s]\n"
     ]
    },
    {
     "name": "stdout",
     "output_type": "stream",
     "text": [
      "Epoch [21/120], Train Loss: 0.5026, Val Loss: 0.3338, Val Accuracy: 88.14% Val F1 Score: 0.8118\n"
     ]
    },
    {
     "name": "stderr",
     "output_type": "stream",
     "text": [
      "100%|██████████| 236/236 [00:16<00:00, 14.72it/s]\n"
     ]
    },
    {
     "name": "stdout",
     "output_type": "stream",
     "text": [
      "Epoch [22/120], Train Loss: 0.4983, Val Loss: 0.3169, Val Accuracy: 90.04% Val F1 Score: 0.8543\n"
     ]
    },
    {
     "name": "stderr",
     "output_type": "stream",
     "text": [
      "100%|██████████| 236/236 [00:15<00:00, 14.87it/s]\n"
     ]
    },
    {
     "name": "stdout",
     "output_type": "stream",
     "text": [
      "Epoch [23/120], Train Loss: 0.4905, Val Loss: 0.3067, Val Accuracy: 90.89% Val F1 Score: 0.8829\n"
     ]
    },
    {
     "name": "stderr",
     "output_type": "stream",
     "text": [
      "100%|██████████| 236/236 [00:15<00:00, 14.90it/s]\n"
     ]
    },
    {
     "name": "stdout",
     "output_type": "stream",
     "text": [
      "Epoch [24/120], Train Loss: 0.4967, Val Loss: 0.3573, Val Accuracy: 86.23% Val F1 Score: 0.8019\n"
     ]
    },
    {
     "name": "stderr",
     "output_type": "stream",
     "text": [
      "100%|██████████| 236/236 [00:15<00:00, 14.94it/s]\n"
     ]
    },
    {
     "name": "stdout",
     "output_type": "stream",
     "text": [
      "Epoch [25/120], Train Loss: 0.5123, Val Loss: 0.3842, Val Accuracy: 87.08% Val F1 Score: 0.8091\n"
     ]
    },
    {
     "name": "stderr",
     "output_type": "stream",
     "text": [
      "100%|██████████| 236/236 [00:15<00:00, 14.94it/s]\n"
     ]
    },
    {
     "name": "stdout",
     "output_type": "stream",
     "text": [
      "Epoch [26/120], Train Loss: 0.5046, Val Loss: 0.3335, Val Accuracy: 87.71% Val F1 Score: 0.8149\n"
     ]
    },
    {
     "name": "stderr",
     "output_type": "stream",
     "text": [
      "100%|██████████| 236/236 [00:15<00:00, 14.95it/s]\n"
     ]
    },
    {
     "name": "stdout",
     "output_type": "stream",
     "text": [
      "Epoch [27/120], Train Loss: 0.4940, Val Loss: 0.3195, Val Accuracy: 88.35% Val F1 Score: 0.8434\n"
     ]
    },
    {
     "name": "stderr",
     "output_type": "stream",
     "text": [
      "100%|██████████| 236/236 [00:15<00:00, 14.88it/s]\n"
     ]
    },
    {
     "name": "stdout",
     "output_type": "stream",
     "text": [
      "Epoch [28/120], Train Loss: 0.4893, Val Loss: 0.3079, Val Accuracy: 88.77% Val F1 Score: 0.8131\n"
     ]
    },
    {
     "name": "stderr",
     "output_type": "stream",
     "text": [
      "100%|██████████| 236/236 [00:15<00:00, 14.95it/s]\n"
     ]
    },
    {
     "name": "stdout",
     "output_type": "stream",
     "text": [
      "Epoch [29/120], Train Loss: 0.4588, Val Loss: 0.3287, Val Accuracy: 87.71% Val F1 Score: 0.8566\n"
     ]
    },
    {
     "name": "stderr",
     "output_type": "stream",
     "text": [
      "100%|██████████| 236/236 [00:15<00:00, 15.05it/s]\n"
     ]
    },
    {
     "name": "stdout",
     "output_type": "stream",
     "text": [
      "Epoch 00030: reducing learning rate of group 0 to 1.8000e-04.\n",
      "Epoch [30/120], Train Loss: 0.4883, Val Loss: 0.3364, Val Accuracy: 89.41% Val F1 Score: 0.8531\n"
     ]
    },
    {
     "name": "stderr",
     "output_type": "stream",
     "text": [
      "100%|██████████| 236/236 [00:15<00:00, 15.03it/s]\n"
     ]
    },
    {
     "name": "stdout",
     "output_type": "stream",
     "text": [
      "Epoch [31/120], Train Loss: 0.4541, Val Loss: 0.3083, Val Accuracy: 88.77% Val F1 Score: 0.8457\n"
     ]
    },
    {
     "name": "stderr",
     "output_type": "stream",
     "text": [
      "100%|██████████| 236/236 [00:15<00:00, 14.90it/s]\n"
     ]
    },
    {
     "name": "stdout",
     "output_type": "stream",
     "text": [
      "Epoch [32/120], Train Loss: 0.4560, Val Loss: 0.2992, Val Accuracy: 90.47% Val F1 Score: 0.8553\n"
     ]
    },
    {
     "name": "stderr",
     "output_type": "stream",
     "text": [
      "100%|██████████| 236/236 [00:16<00:00, 14.66it/s]\n"
     ]
    },
    {
     "name": "stdout",
     "output_type": "stream",
     "text": [
      "Epoch [33/120], Train Loss: 0.4599, Val Loss: 0.3017, Val Accuracy: 88.77% Val F1 Score: 0.8516\n"
     ]
    },
    {
     "name": "stderr",
     "output_type": "stream",
     "text": [
      "100%|██████████| 236/236 [00:16<00:00, 14.55it/s]\n"
     ]
    },
    {
     "name": "stdout",
     "output_type": "stream",
     "text": [
      "Epoch [34/120], Train Loss: 0.4341, Val Loss: 0.2695, Val Accuracy: 90.89% Val F1 Score: 0.8634\n"
     ]
    },
    {
     "name": "stderr",
     "output_type": "stream",
     "text": [
      "100%|██████████| 236/236 [00:16<00:00, 14.75it/s]\n"
     ]
    },
    {
     "name": "stdout",
     "output_type": "stream",
     "text": [
      "Epoch [35/120], Train Loss: 0.4385, Val Loss: 0.3098, Val Accuracy: 88.77% Val F1 Score: 0.8370\n"
     ]
    },
    {
     "name": "stderr",
     "output_type": "stream",
     "text": [
      "100%|██████████| 236/236 [00:15<00:00, 14.82it/s]\n"
     ]
    },
    {
     "name": "stdout",
     "output_type": "stream",
     "text": [
      "Epoch [36/120], Train Loss: 0.4355, Val Loss: 0.3064, Val Accuracy: 91.10% Val F1 Score: 0.8655\n"
     ]
    },
    {
     "name": "stderr",
     "output_type": "stream",
     "text": [
      "100%|██████████| 236/236 [00:15<00:00, 14.80it/s]\n"
     ]
    },
    {
     "name": "stdout",
     "output_type": "stream",
     "text": [
      "Epoch [37/120], Train Loss: 0.4308, Val Loss: 0.2512, Val Accuracy: 91.10% Val F1 Score: 0.8729\n"
     ]
    },
    {
     "name": "stderr",
     "output_type": "stream",
     "text": [
      "100%|██████████| 236/236 [00:15<00:00, 14.80it/s]\n"
     ]
    },
    {
     "name": "stdout",
     "output_type": "stream",
     "text": [
      "Epoch [38/120], Train Loss: 0.4467, Val Loss: 0.3052, Val Accuracy: 88.35% Val F1 Score: 0.8508\n"
     ]
    },
    {
     "name": "stderr",
     "output_type": "stream",
     "text": [
      "100%|██████████| 236/236 [00:16<00:00, 14.73it/s]\n"
     ]
    },
    {
     "name": "stdout",
     "output_type": "stream",
     "text": [
      "Epoch [39/120], Train Loss: 0.4088, Val Loss: 0.3092, Val Accuracy: 87.50% Val F1 Score: 0.8374\n"
     ]
    },
    {
     "name": "stderr",
     "output_type": "stream",
     "text": [
      "100%|██████████| 236/236 [00:16<00:00, 14.73it/s]\n"
     ]
    },
    {
     "name": "stdout",
     "output_type": "stream",
     "text": [
      "Epoch [40/120], Train Loss: 0.4276, Val Loss: 0.3466, Val Accuracy: 87.08% Val F1 Score: 0.8321\n"
     ]
    },
    {
     "name": "stderr",
     "output_type": "stream",
     "text": [
      "100%|██████████| 236/236 [00:15<00:00, 14.90it/s]\n"
     ]
    },
    {
     "name": "stdout",
     "output_type": "stream",
     "text": [
      "Epoch [41/120], Train Loss: 0.4262, Val Loss: 0.3616, Val Accuracy: 86.23% Val F1 Score: 0.8159\n"
     ]
    },
    {
     "name": "stderr",
     "output_type": "stream",
     "text": [
      "100%|██████████| 236/236 [00:15<00:00, 14.95it/s]\n"
     ]
    },
    {
     "name": "stdout",
     "output_type": "stream",
     "text": [
      "Epoch [42/120], Train Loss: 0.4330, Val Loss: 0.2910, Val Accuracy: 90.04% Val F1 Score: 0.8670\n"
     ]
    },
    {
     "name": "stderr",
     "output_type": "stream",
     "text": [
      "100%|██████████| 236/236 [00:15<00:00, 14.96it/s]\n"
     ]
    },
    {
     "name": "stdout",
     "output_type": "stream",
     "text": [
      "Epoch [43/120], Train Loss: 0.4084, Val Loss: 0.2896, Val Accuracy: 89.41% Val F1 Score: 0.8618\n"
     ]
    },
    {
     "name": "stderr",
     "output_type": "stream",
     "text": [
      "100%|██████████| 236/236 [00:15<00:00, 14.92it/s]\n"
     ]
    },
    {
     "name": "stdout",
     "output_type": "stream",
     "text": [
      "Epoch 00044: reducing learning rate of group 0 to 1.0800e-04.\n",
      "Epoch [44/120], Train Loss: 0.4081, Val Loss: 0.2951, Val Accuracy: 90.89% Val F1 Score: 0.8509\n"
     ]
    },
    {
     "name": "stderr",
     "output_type": "stream",
     "text": [
      "100%|██████████| 236/236 [00:15<00:00, 14.94it/s]\n"
     ]
    },
    {
     "name": "stdout",
     "output_type": "stream",
     "text": [
      "Epoch [45/120], Train Loss: 0.3918, Val Loss: 0.2775, Val Accuracy: 90.47% Val F1 Score: 0.8766\n"
     ]
    },
    {
     "name": "stderr",
     "output_type": "stream",
     "text": [
      "100%|██████████| 236/236 [00:15<00:00, 14.94it/s]\n"
     ]
    },
    {
     "name": "stdout",
     "output_type": "stream",
     "text": [
      "Epoch [46/120], Train Loss: 0.3996, Val Loss: 0.2815, Val Accuracy: 91.53% Val F1 Score: 0.8870\n"
     ]
    },
    {
     "name": "stderr",
     "output_type": "stream",
     "text": [
      "100%|██████████| 236/236 [00:15<00:00, 14.95it/s]\n"
     ]
    },
    {
     "name": "stdout",
     "output_type": "stream",
     "text": [
      "Epoch [47/120], Train Loss: 0.3986, Val Loss: 0.2587, Val Accuracy: 91.31% Val F1 Score: 0.8844\n"
     ]
    },
    {
     "name": "stderr",
     "output_type": "stream",
     "text": [
      "100%|██████████| 236/236 [00:15<00:00, 15.02it/s]\n"
     ]
    },
    {
     "name": "stdout",
     "output_type": "stream",
     "text": [
      "Epoch [48/120], Train Loss: 0.4012, Val Loss: 0.2539, Val Accuracy: 93.43% Val F1 Score: 0.9064\n"
     ]
    },
    {
     "name": "stderr",
     "output_type": "stream",
     "text": [
      "100%|██████████| 236/236 [00:15<00:00, 14.99it/s]\n"
     ]
    },
    {
     "name": "stdout",
     "output_type": "stream",
     "text": [
      "Epoch [49/120], Train Loss: 0.3943, Val Loss: 0.2827, Val Accuracy: 90.25% Val F1 Score: 0.8774\n"
     ]
    },
    {
     "name": "stderr",
     "output_type": "stream",
     "text": [
      "100%|██████████| 236/236 [00:15<00:00, 14.77it/s]\n"
     ]
    },
    {
     "name": "stdout",
     "output_type": "stream",
     "text": [
      "Epoch [50/120], Train Loss: 0.3769, Val Loss: 0.2827, Val Accuracy: 90.25% Val F1 Score: 0.8767\n"
     ]
    },
    {
     "name": "stderr",
     "output_type": "stream",
     "text": [
      "100%|██████████| 236/236 [00:15<00:00, 14.84it/s]\n"
     ]
    },
    {
     "name": "stdout",
     "output_type": "stream",
     "text": [
      "Epoch 00051: reducing learning rate of group 0 to 6.4800e-05.\n",
      "Epoch [51/120], Train Loss: 0.4051, Val Loss: 0.2903, Val Accuracy: 90.04% Val F1 Score: 0.8655\n"
     ]
    },
    {
     "name": "stderr",
     "output_type": "stream",
     "text": [
      "100%|██████████| 236/236 [00:16<00:00, 14.56it/s]\n"
     ]
    },
    {
     "name": "stdout",
     "output_type": "stream",
     "text": [
      "Epoch [52/120], Train Loss: 0.3793, Val Loss: 0.2961, Val Accuracy: 88.98% Val F1 Score: 0.8538\n"
     ]
    },
    {
     "name": "stderr",
     "output_type": "stream",
     "text": [
      "100%|██████████| 236/236 [00:16<00:00, 14.71it/s]\n"
     ]
    },
    {
     "name": "stdout",
     "output_type": "stream",
     "text": [
      "Epoch [53/120], Train Loss: 0.3671, Val Loss: 0.2861, Val Accuracy: 88.98% Val F1 Score: 0.8693\n"
     ]
    },
    {
     "name": "stderr",
     "output_type": "stream",
     "text": [
      "100%|██████████| 236/236 [00:15<00:00, 14.88it/s]\n"
     ]
    },
    {
     "name": "stdout",
     "output_type": "stream",
     "text": [
      "Epoch [54/120], Train Loss: 0.3859, Val Loss: 0.2880, Val Accuracy: 88.35% Val F1 Score: 0.8656\n"
     ]
    },
    {
     "name": "stderr",
     "output_type": "stream",
     "text": [
      "100%|██████████| 236/236 [00:15<00:00, 14.91it/s]\n"
     ]
    },
    {
     "name": "stdout",
     "output_type": "stream",
     "text": [
      "Epoch [55/120], Train Loss: 0.3634, Val Loss: 0.2557, Val Accuracy: 91.31% Val F1 Score: 0.8830\n"
     ]
    },
    {
     "name": "stderr",
     "output_type": "stream",
     "text": [
      "100%|██████████| 236/236 [00:15<00:00, 14.87it/s]\n"
     ]
    },
    {
     "name": "stdout",
     "output_type": "stream",
     "text": [
      "Epoch [56/120], Train Loss: 0.3583, Val Loss: 0.2683, Val Accuracy: 89.41% Val F1 Score: 0.8702\n"
     ]
    },
    {
     "name": "stderr",
     "output_type": "stream",
     "text": [
      "100%|██████████| 236/236 [00:15<00:00, 14.80it/s]\n"
     ]
    },
    {
     "name": "stdout",
     "output_type": "stream",
     "text": [
      "Epoch [57/120], Train Loss: 0.3467, Val Loss: 0.2567, Val Accuracy: 91.10% Val F1 Score: 0.8848\n"
     ]
    },
    {
     "name": "stderr",
     "output_type": "stream",
     "text": [
      "100%|██████████| 236/236 [00:15<00:00, 14.89it/s]\n"
     ]
    },
    {
     "name": "stdout",
     "output_type": "stream",
     "text": [
      "Epoch 00058: reducing learning rate of group 0 to 3.8880e-05.\n",
      "Epoch [58/120], Train Loss: 0.3517, Val Loss: 0.2646, Val Accuracy: 90.68% Val F1 Score: 0.8892\n"
     ]
    },
    {
     "name": "stderr",
     "output_type": "stream",
     "text": [
      "100%|██████████| 236/236 [00:15<00:00, 14.77it/s]\n"
     ]
    },
    {
     "name": "stdout",
     "output_type": "stream",
     "text": [
      "Epoch [59/120], Train Loss: 0.3341, Val Loss: 0.2532, Val Accuracy: 91.31% Val F1 Score: 0.8877\n"
     ]
    },
    {
     "name": "stderr",
     "output_type": "stream",
     "text": [
      "100%|██████████| 236/236 [00:15<00:00, 14.96it/s]\n"
     ]
    },
    {
     "name": "stdout",
     "output_type": "stream",
     "text": [
      "Epoch [60/120], Train Loss: 0.3431, Val Loss: 0.2852, Val Accuracy: 88.98% Val F1 Score: 0.8680\n"
     ]
    },
    {
     "name": "stderr",
     "output_type": "stream",
     "text": [
      "100%|██████████| 236/236 [00:15<00:00, 14.95it/s]\n"
     ]
    },
    {
     "name": "stdout",
     "output_type": "stream",
     "text": [
      "Epoch [61/120], Train Loss: 0.3374, Val Loss: 0.2815, Val Accuracy: 89.41% Val F1 Score: 0.8753\n"
     ]
    },
    {
     "name": "stderr",
     "output_type": "stream",
     "text": [
      "100%|██████████| 236/236 [00:15<00:00, 14.99it/s]\n"
     ]
    },
    {
     "name": "stdout",
     "output_type": "stream",
     "text": [
      "Epoch [62/120], Train Loss: 0.3471, Val Loss: 0.2519, Val Accuracy: 90.89% Val F1 Score: 0.8838\n",
      "Early stopping on epoch 62\n"
     ]
    }
   ],
   "source": [
    "\n",
    "from sklearn.metrics import f1_score as calculate_f1_score\n",
    "\n",
    "for epoch in range(num_epochs):\n",
    "    model.train()\n",
    "    epoch_train_losses = []  # Temporary list for storing training losses for each batch\n",
    "    all_predicted = []\n",
    "    all_labels = []\n",
    "    for batch_idx, (spectrograms, labels) in tqdm(enumerate(train_loader), total=len(train_loader)):\n",
    "        spectrograms = spectrograms.to(device)\n",
    "        labels = labels.to(device)\n",
    "\n",
    "        # Forward pass\n",
    "        outputs = model(spectrograms)\n",
    "        loss = criterion(outputs, labels)\n",
    "        epoch_train_losses.append(loss.item())  # Append current batch loss\n",
    "\n",
    "        # Backward pass and optimization\n",
    "        optimizer.zero_grad()\n",
    "        loss.backward()\n",
    "        optimizer.step()\n",
    "\n",
    "    # Calculate average training loss for the epoch\n",
    "    avg_train_loss = sum(epoch_train_losses) / len(epoch_train_losses)\n",
    "    train_losses.append(avg_train_loss)  # Append average loss to main list\n",
    "\n",
    "    model.eval()\n",
    "    epoch_val_losses = []  # Temporary list for storing validation losses for each batch\n",
    "    correct_predictions = 0\n",
    "    total_samples = 0\n",
    "\n",
    "    with torch.no_grad():\n",
    "        for spectrograms, labels in test_loader:\n",
    "            spectrograms = spectrograms.to(device)\n",
    "            labels = labels.to(device)\n",
    "\n",
    "            # Forward pass\n",
    "            outputs = model(spectrograms)\n",
    "            loss = criterion(outputs, labels)\n",
    "            epoch_val_losses.append(loss.item())  # Append current batch loss\n",
    "\n",
    "            # Compute the predicted labels\n",
    "            _, predicted = torch.max(outputs, 1)\n",
    "            all_predicted.extend(predicted.cpu().numpy())\n",
    "            all_labels.extend(labels.cpu().numpy())\n",
    "            \n",
    "            total_samples += labels.size(0)\n",
    "            correct_predictions += (predicted == labels).sum().item()\n",
    "\n",
    "    # Calculate average validation loss for the epoch\n",
    "    avg_val_loss = sum(epoch_val_losses) / len(epoch_val_losses)\n",
    "    val_losses.append(avg_val_loss)  # Append average loss to main list\n",
    "\n",
    "    # Model saving and logging based on accuracy, loss, and now F1 score\n",
    "    accuracy = correct_predictions / total_samples\n",
    "\n",
    "    # Calculate macro avg f1 score using the alias\n",
    "    f1_macro_avg = calculate_f1_score(all_labels, all_predicted, average='macro')\n",
    "    macro_avg_f1_scores.append(f1_macro_avg)\n",
    "\n",
    "\n",
    "    if f1_macro_avg > best_f1_macro_avg:\n",
    "        best_f1_macro_avg = f1_macro_avg\n",
    "        torch.save(model, standalone_results_path + '/checkpoint_best_f1.pth')\n",
    "        early_stop_counter = 0\n",
    "        with open(standalone_results_path + '/log_file.txt', 'a') as log_file:\n",
    "            log_file.write(f\"Best F1 Score improved on epoch {epoch}: {best_f1_macro_avg:.4f}\\n\")\n",
    "\n",
    "    if correct_predictions / total_samples > best_accuracy:\n",
    "        best_accuracy = accuracy\n",
    "        torch.save(model, standalone_results_path + '/checkpoint.pth')\n",
    "        early_stop_counter = 0\n",
    "        with open(standalone_results_path + '/log_file.txt', 'a') as log_file:\n",
    "            log_file.write(f\"Best accuracy improved on epoch {epoch}: {best_accuracy * 100:.2f}%\\n\")\n",
    "    \n",
    "    if avg_val_loss < best_loss:\n",
    "        best_loss = avg_val_loss\n",
    "        torch.save(model, standalone_results_path + '/checkpoint_best_loss.pth')\n",
    "        early_stop_counter = 0\n",
    "        with open(standalone_results_path + '/log_file.txt', 'a') as log_file:\n",
    "            log_file.write(f\"Best loss improved on epoch {epoch}: {best_loss:.4f}\\n\")\n",
    "\n",
    "    scheduler.step(avg_val_loss)\n",
    "\n",
    "    # Logging for each epoch\n",
    "    print(f\"Epoch [{epoch+1}/{num_epochs}], Train Loss: {avg_train_loss:.4f}, Val Loss: {avg_val_loss:.4f}, Val Accuracy: {accuracy * 100:.2f}%\", f\"Val F1 Score: {f1_macro_avg:.4f}\")\n",
    "    with open(standalone_results_path + '/log_file.txt', 'a') as log_file:\n",
    "        log_file.write(f\"Epoch [{epoch+1}/{num_epochs}], Train Loss: {avg_train_loss:.4f}, Val Loss: {avg_val_loss:.4f}, Accuracy: {accuracy}, Early stopping count: {early_stop_counter} from {patience}\\n\")\n",
    "\n",
    "    # Early stopping\n",
    "    early_stop_counter += 1\n",
    "    if early_stop_counter >= patience:\n",
    "        print(f\"Early stopping on epoch {epoch+1}\")\n",
    "        break\n"
   ]
  },
  {
   "cell_type": "markdown",
   "metadata": {},
   "source": [
    "## Losses Plot\n",
    "\n",
    "Tend way more to overfitting than the pretraineds Models also with regularization with masking "
   ]
  },
  {
   "cell_type": "code",
   "execution_count": 9,
   "metadata": {},
   "outputs": [
    {
     "data": {
      "image/png": "[encoded data removed]",
      "text/plain": [
       "<Figure size 900x600 with 1 Axes>"
      ]
     },
     "metadata": {},
     "output_type": "display_data"
    }
   ],
   "source": [
    "# Save full model\n",
    "torch.save(model, standalone_results_path + '/Full_model_checkpoint.pth')\n",
    "\n",
    "# Convert tensors in the lists to numbers if necessary\n",
    "train_losses_cpu = [loss.cpu().item() if isinstance(loss, torch.Tensor) else loss for loss in train_losses]\n",
    "val_losses_cpu = [loss.cpu().item() if isinstance(loss, torch.Tensor) else loss for loss in val_losses]\n",
    "\n",
    "# Now plot these lists\n",
    "plt.figure(figsize=(9, 6))\n",
    "plt.plot(train_losses_cpu, label='Train Loss')\n",
    "plt.plot(val_losses_cpu, label='Val Loss')\n",
    "plt.xlabel('Epoch')\n",
    "plt.ylabel('Loss')\n",
    "plt.legend()\n",
    "plt.tight_layout()\n",
    "\n",
    "\n",
    "plt.savefig(f'{standalone_results_path}/loss_plot.png')\n",
    "\n",
    "plt.show()"
   ]
  },
  {
   "cell_type": "code",
   "execution_count": 10,
   "metadata": {},
   "outputs": [],
   "source": [
    "#standalone_results_path = \"./results_standalone/SA_ADSMI_RS96_15sec_batch32_7_50_masking_ref3\""
   ]
  },
  {
   "cell_type": "code",
   "execution_count": 11,
   "metadata": {},
   "outputs": [
    {
     "name": "stdout",
     "output_type": "stream",
     "text": [
      "\n",
      "Evaluation Results:\n",
      "Balanced Accuracy2: 85.20%\n",
      "Test Accuracy: 91.53%\n",
      "\n",
      "Evaluation Results:\n",
      "Accuracy: 91.53%\n",
      "Precision: 94.46%\n",
      "Recall: 85.20%\n",
      "F1-score: 89.03%\n",
      "Kappa: 86.32%\n",
      "                         precision    recall  f1-score   support\n",
      "\n",
      "            [Kreischen]     0.8765    0.9682    0.9201       220\n",
      "[Kreischen][Quietschen]     0.9444    0.7083    0.8095        72\n",
      "              [Negativ]     0.9573    0.9458    0.9515       166\n",
      "           [Quietschen]     1.0000    0.7857    0.8800        14\n",
      "\n",
      "               accuracy                         0.9153       472\n",
      "              macro avg     0.9446    0.8520    0.8903       472\n",
      "           weighted avg     0.9190    0.9153    0.9131       472\n",
      "\n"
     ]
    },
    {
     "data": {
      "image/png": "[encoded data removed]",
      "text/plain": [
       "<Figure size 700x700 with 1 Axes>"
      ]
     },
     "metadata": {},
     "output_type": "display_data"
    }
   ],
   "source": [
    "validation_fun(standalone_results_path,'/Full_model_checkpoint.pth',\"full_model\",val_df,config.finetune_epochs,config.batch_size,learning_rate,weight_decay)\n"
   ]
  },
  {
   "cell_type": "code",
   "execution_count": 12,
   "metadata": {},
   "outputs": [
    {
     "data": {
      "text/plain": [
       "'./results_standalone/SA_ADSMI_RS96_F1_scores'"
      ]
     },
     "execution_count": 12,
     "metadata": {},
     "output_type": "execute_result"
    }
   ],
   "source": [
    "standalone_results_path"
   ]
  },
  {
   "cell_type": "code",
   "execution_count": 13,
   "metadata": {},
   "outputs": [
    {
     "name": "stdout",
     "output_type": "stream",
     "text": [
      "\n",
      "Evaluation Results:\n",
      "Balanced Accuracy2: 83.05%\n",
      "Test Accuracy: 90.47%\n",
      "\n",
      "Evaluation Results:\n",
      "Accuracy: 90.47%\n",
      "Precision: 93.35%\n",
      "Recall: 83.05%\n",
      "F1-score: 87.25%\n",
      "Kappa: 84.62%\n",
      "                         precision    recall  f1-score   support\n",
      "\n",
      "            [Kreischen]     0.8653    0.9636    0.9118       220\n",
      "[Kreischen][Quietschen]     0.9123    0.7222    0.8062        72\n",
      "              [Negativ]     0.9563    0.9217    0.9387       166\n",
      "           [Quietschen]     1.0000    0.7143    0.8333        14\n",
      "\n",
      "               accuracy                         0.9047       472\n",
      "              macro avg     0.9335    0.8305    0.8725       472\n",
      "           weighted avg     0.9085    0.9047    0.9028       472\n",
      "\n"
     ]
    },
    {
     "data": {
      "image/png": "[encoded data removed]",
      "text/plain": [
       "<Figure size 700x700 with 1 Axes>"
      ]
     },
     "metadata": {},
     "output_type": "display_data"
    }
   ],
   "source": [
    "validation_fun(standalone_results_path,'/checkpoint_best_f1.pth',\"f1_model\",val_df,config.finetune_epochs,config.batch_size,learning_rate,weight_decay)\n"
   ]
  },
  {
   "cell_type": "code",
   "execution_count": 14,
   "metadata": {},
   "outputs": [
    {
     "name": "stdout",
     "output_type": "stream",
     "text": [
      "\n",
      "Evaluation Results:\n",
      "Balanced Accuracy2: 83.92%\n",
      "Test Accuracy: 91.53%\n",
      "\n",
      "Evaluation Results:\n",
      "Accuracy: 91.53%\n",
      "Precision: 94.24%\n",
      "Recall: 83.92%\n",
      "F1-score: 88.14%\n",
      "Kappa: 86.33%\n",
      "                         precision    recall  f1-score   support\n",
      "\n",
      "            [Kreischen]     0.8770    0.9727    0.9224       220\n",
      "[Kreischen][Quietschen]     0.9298    0.7361    0.8217        72\n",
      "              [Negativ]     0.9627    0.9337    0.9480       166\n",
      "           [Quietschen]     1.0000    0.7143    0.8333        14\n",
      "\n",
      "               accuracy                         0.9153       472\n",
      "              macro avg     0.9424    0.8392    0.8814       472\n",
      "           weighted avg     0.9189    0.9153    0.9134       472\n",
      "\n"
     ]
    },
    {
     "data": {
      "image/png": "[encoded data removed]",
      "text/plain": [
       "<Figure size 700x700 with 1 Axes>"
      ]
     },
     "metadata": {},
     "output_type": "display_data"
    }
   ],
   "source": [
    "validation_fun(standalone_results_path,'/checkpoint.pth',\"best_accuracy\",val_df,config.finetune_epochs,config.batch_size,learning_rate,weight_decay)\n"
   ]
  },
  {
   "cell_type": "code",
   "execution_count": 23,
   "metadata": {},
   "outputs": [
    {
     "data": {
      "image/png": "[encoded data removed]",
      "text/plain": [
       "<Figure size 900x600 with 1 Axes>"
      ]
     },
     "metadata": {},
     "output_type": "display_data"
    }
   ],
   "source": [
    "#plot f1 scores\n",
    "plt.figure(figsize=(9, 6))\n",
    "plt.plot(macro_avg_f1_scores[0:35], label='F1 Score')\n",
    "plt.xlabel('Epoch')\n",
    "plt.ylabel('F1 Score')\n",
    "plt.legend()\n",
    "plt.tight_layout()\n",
    "\n",
    "#pickle macro_avg_f1_scores\n",
    "import pickle\n",
    "with open(f'{standalone_results_path}/macro_avg_f1_scores.pkl', 'wb') as f:\n",
    "    pickle.dump(macro_avg_f1_scores, f)\n",
    "\n"
   ]
  },
  {
   "cell_type": "code",
   "execution_count": 16,
   "metadata": {},
   "outputs": [
    {
     "name": "stdout",
     "output_type": "stream",
     "text": [
      "\n",
      "Evaluation Results:\n",
      "Balanced Accuracy2: 84.01%\n",
      "Test Accuracy: 90.89%\n",
      "\n",
      "Evaluation Results:\n",
      "Accuracy: 90.89%\n",
      "Precision: 92.41%\n",
      "Recall: 84.01%\n",
      "F1-score: 87.36%\n",
      "Kappa: 85.23%\n",
      "                         precision    recall  f1-score   support\n",
      "\n",
      "            [Kreischen]     0.8577    0.9864    0.9175       220\n",
      "[Kreischen][Quietschen]     0.9412    0.6667    0.7805        72\n",
      "              [Negativ]     0.9808    0.9217    0.9503       166\n",
      "           [Quietschen]     0.9167    0.7857    0.8462        14\n",
      "\n",
      "               accuracy                         0.9089       472\n",
      "              macro avg     0.9241    0.8401    0.8736       472\n",
      "           weighted avg     0.9155    0.9089    0.9060       472\n",
      "\n"
     ]
    },
    {
     "data": {
      "image/png": "[encoded data removed]",
      "text/plain": [
       "<Figure size 700x700 with 1 Axes>"
      ]
     },
     "metadata": {},
     "output_type": "display_data"
    }
   ],
   "source": [
    "validation_fun(standalone_results_path,'/checkpoint_best_loss.pth',\"best_loss\",val_df,config.finetune_epochs,config.batch_size,learning_rate,weight_decay)"
   ]
  },
  {
   "cell_type": "code",
   "execution_count": 17,
   "metadata": {},
   "outputs": [],
   "source": [
    "\n",
    "\n",
    "# # and loaded any pre-trained weights, e.g., model = Resnet50_Classifier(num_classes)\n",
    "\n",
    "# # Set the device for testing\n",
    "# device = torch.device('cuda' if torch.cuda.is_available() else 'cpu')\n",
    "# config.val_sound_length = 20\n",
    "# # Create a data loader for the test set\n",
    "# val_loader = DL.create_generators_finetune_val(val_df)  \n",
    "\n",
    "# #model = torch.load(\"./results_standalone/newgpu2_checkpoint.pth\")\n",
    "# model = torch.load(standalone_results_path + '/Full_model_checkpoint.pth')\n",
    "# # Transfer the model to the testing device\n",
    "# model.to(device)\n",
    "\n",
    "# # Define a criterion for evaluation (e.g., cross-entropy loss for classification)\n",
    "# criterion = nn.CrossEntropyLoss()\n",
    "\n",
    "# # Initialize variables for evaluation metrics (e.g., accuracy)\n",
    "# correct_predictions = 0\n",
    "# total_samples = 0\n",
    "\n",
    "# # Define the label dictionary\n",
    "# true_labels_dic = {0: '[Kreischen]', 1: '[Kreischen][Quietschen]', 2: '[Negativ]', 3: '[Quietschen]'}\n",
    "\n",
    "# # Set the model to evaluation mode \n",
    "# model.eval()\n",
    "\n",
    "# # Initialize lists to store all true labels and predicted labels\n",
    "# all_true_labels = []\n",
    "# all_predicted_labels = []\n",
    "\n",
    "# # Iterate through the test set\n",
    "# with torch.no_grad():\n",
    "#     for spectrograms, labels in val_loader:\n",
    "#         # Move data to the testing device\n",
    "#         spectrograms = spectrograms.to(device)\n",
    "#         labels = labels.to(device)\n",
    "\n",
    "#         # Forward pass\n",
    "#         outputs = model(spectrograms)\n",
    "        \n",
    "#         # Compute the predicted labels\n",
    "#         _, predicted = torch.max(outputs, 1)\n",
    "\n",
    "#         # Append true and predicted labels to the lists\n",
    "#         all_true_labels.extend(labels.cpu().numpy())\n",
    "#         all_predicted_labels.extend(predicted.cpu().numpy())\n",
    "\n",
    "# # Convert lists to numpy arrays\n",
    "# all_true_labels = np.array(all_true_labels)\n",
    "# all_predicted_labels = np.array(all_predicted_labels)\n",
    "\n",
    "# # Calculate accuracy, precision, recall, F1-score, etc. using all_true_labels and all_predicted_labels\n",
    "# accuracy = np.mean(all_true_labels == all_predicted_labels)\n",
    "# precision, recall, f1_score, _ = precision_recall_fscore_support(all_true_labels, all_predicted_labels, average='weighted')\n",
    "\n",
    "\n",
    "# #calculate balanced accuracy\n",
    "# balanced_accuracy2 = balanced_accuracy_score(all_true_labels, all_predicted_labels)\n",
    "# #kappa score\n",
    "# cohens_kappa = cohen_kappa_score(all_true_labels, all_predicted_labels)\n",
    "\n",
    "\n",
    "# print(f\"\\nEvaluation Results:\")\n",
    "# #print(f\"Balanced Accuracy: {balanced_accuracy * 100:.2f}%\")\n",
    "# print(f\"Balanced Accuracy2: {balanced_accuracy2 * 100:.2f}%\")\n",
    "\n",
    "# print(f\"Test Accuracy: {accuracy * 100:.2f}%\")\n",
    "# print(f\"\\nEvaluation Results:\")\n",
    "# print(f\"Accuracy: {accuracy * 100:.2f}%\")\n",
    "# print(f\"Precision: {precision * 100:.2f}%\")\n",
    "# print(f\"Recall: {recall * 100:.2f}%\")\n",
    "# print(f\"F1-score: {f1_score * 100:.2f}%\")\n",
    "# print(f\"Kappa: {cohens_kappa * 100:.2f}%\")\n",
    "\n",
    "# conf_mat = confusion_matrix(all_true_labels, all_predicted_labels)\n",
    "# def plot_confusion_matrix(conf_mat, class_labels):\n",
    "#     plt.figure(figsize=(8, 6))\n",
    "#     sns.set(font_scale=1.2)\n",
    "    \n",
    "#     class_labels = [str(label) for label in class_labels]\n",
    "    \n",
    "#     ax = sns.heatmap(conf_mat, annot=True, fmt=\"d\", cmap=\"Blues\", cbar=False,\n",
    "#                 xticklabels=class_labels,\n",
    "#                 yticklabels=class_labels)\n",
    "    \n",
    "#     plt.xlabel('Predicted Labels')\n",
    "#     plt.ylabel('True Labels')\n",
    "#     plt.title('Confusion Matrix')\n",
    "#     plt.xticks(rotation=90)\n",
    "\n",
    "#     return plt.gcf()  # Return the current figure\n",
    "\n",
    "# import config\n",
    "# #create classification results text file\n",
    "# with open(f'{standalone_results_path}/results_file_full.txt', 'w') as log_file:\n",
    "#     log_file.write(f\"########################################################\\n\")\n",
    "#     log_file.write(f\"Frequency Mask:{config.freq_mask_param}\\n\")\n",
    "#     log_file.write(f\"Time Mask: {config.time_mask_param}\\n\")\n",
    "#     log_file.write(f\"Spectro:\\n\")\n",
    "#     log_file.write(f\"        n_fft={2048},\\n\")\n",
    "#     log_file.write(f\"        hop_length = {512},\\n\")\n",
    "#     log_file.write(f\"        n_mels={128},  \\n\")\n",
    "#     log_file.write(f\"        win_length = {2048},\\n\")\n",
    "#     log_file.write(f\"Epochs: {num_epochs}\\n\")\n",
    "#     log_file.write(f\"Batch size: {batch_size}\\n\")\n",
    "#     log_file.write(f\"Optimizer: Adam\\n\")\n",
    "#     log_file.write(f\"Learning rate: {learning_rate}\\n\")\n",
    "#     log_file.write(f\"Weight decay: {weight_decay}\\n\")\n",
    "#     log_file.write(f\"Scheduler: ReduceLROnPlateau\\n\")\n",
    "#     log_file.write(f\"Model: ModifiedResnet50_Classifier \\n\")\n",
    "#     log_file.write(f\"classifiers: 512, 256, 4 : 2 fully connected layers\\n\")\n",
    "#     log_file.write(f\"########################################################\\n\\n\")\n",
    "#     log_file.write(f\"Balanced Accuracy2: {balanced_accuracy2 * 100:.2f}%\\n\")\n",
    "#     log_file.write(f\"Test Accuracy: {accuracy * 100:.2f}%\\n\")\n",
    "#     log_file.write(f\"\\nEvaluation Results:\\n\")\n",
    "#     log_file.write(f\"Precision: {precision * 100:.2f}%\\n\")\n",
    "#     log_file.write(f\"Recall: {recall * 100:.2f}%\\n\")\n",
    "#     log_file.write(f\"F1-score: {f1_score * 100:.2f}%\\n\")\n",
    "#     log_file.write(f\"Kappa: {cohens_kappa * 100:.2f}%\\n\")\n",
    "#     log_file.write(f\"########################################################\\n\\n\")\n",
    "#     log_file.write(f\"Confusion Matrix:\\n\")\n",
    "#     log_file.write(f\"{conf_mat}\\n\")\n",
    "#     log_file.write(f\"########################################################\\n\\n\")\n",
    "#     log_file.write(f\"Classifcation Report: {classification_report(all_true_labels, all_predicted_labels, target_names=true_labels_dic.values())}\\n\")\n",
    "\n",
    "# print(classification_report(all_true_labels, all_predicted_labels, target_names=true_labels_dic.values()))\n",
    "\n",
    "# #save this plot as a png file\n",
    "# plot = plot_confusion_matrix(conf_mat, true_labels_dic.values())\n",
    "# plot.savefig(f'{standalone_results_path}/confusion_matrix_full.png')\n",
    "\n",
    "\n",
    "\n",
    "\n",
    "\n",
    "\n",
    "\n"
   ]
  },
  {
   "cell_type": "code",
   "execution_count": 18,
   "metadata": {},
   "outputs": [],
   "source": [
    "\n",
    "# # Create a data loader for the test set\n",
    "# val_loader = DL.create_generators_finetune_val(val_df)  \n",
    "\n",
    "# #model = torch.load(\"./results_standalone/newgpu2_checkpoint.pth\")\n",
    "# model = torch.load(standalone_results_path + '/checkpoint.pth')\n",
    "# # Transfer the model to the testing device\n",
    "# model.to(device)\n",
    "\n",
    "# # Define a criterion for evaluation (e.g., cross-entropy loss for classification)\n",
    "# criterion = nn.CrossEntropyLoss()\n",
    "\n",
    "# # Initialize variables for evaluation metrics (e.g., accuracy)\n",
    "# correct_predictions = 0\n",
    "# total_samples = 0\n",
    "\n",
    "# # Define the label dictionary\n",
    "# true_labels_dic = {0: '[Kreischen]', 1: '[Kreischen][Quietschen]', 2: '[Negativ]', 3: '[Quietschen]'}\n",
    "\n",
    "# # Set the model to evaluation mode \n",
    "# model.eval()\n",
    "\n",
    "# # Initialize lists to store all true labels and predicted labels\n",
    "# all_true_labels = []\n",
    "# all_predicted_labels = []\n",
    "\n",
    "# # Iterate through the test set\n",
    "# with torch.no_grad():\n",
    "#     for spectrograms, labels in val_loader:\n",
    "#         # Move data to the testing device\n",
    "#         spectrograms = spectrograms.to(device)\n",
    "#         labels = labels.to(device)\n",
    "\n",
    "#         # Forward pass\n",
    "#         outputs = model(spectrograms)\n",
    "        \n",
    "#         # Compute the predicted labels\n",
    "#         _, predicted = torch.max(outputs, 1)\n",
    "\n",
    "#         # Append true and predicted labels to the lists\n",
    "#         all_true_labels.extend(labels.cpu().numpy())\n",
    "#         all_predicted_labels.extend(predicted.cpu().numpy())\n",
    "\n",
    "# # Convert lists to numpy arrays\n",
    "# all_true_labels = np.array(all_true_labels)\n",
    "# all_predicted_labels = np.array(all_predicted_labels)\n",
    "\n",
    "# # Calculate accuracy, precision, recall, F1-score, etc. using all_true_labels and all_predicted_labels\n",
    "# #use sklearn  accuracy \n",
    "# accuracy = np.mean(all_true_labels == all_predicted_labels)\n",
    "# precision, recall, f1_score, _ = precision_recall_fscore_support(all_true_labels, all_predicted_labels, average='weighted')\n",
    "\n",
    "\n",
    "# #calculate balanced accuracy\n",
    "# balanced_accuracy2 = balanced_accuracy_score(all_true_labels, all_predicted_labels)\n",
    "# #kappa score\n",
    "# cohens_kappa = cohen_kappa_score(all_true_labels, all_predicted_labels)\n",
    "\n",
    "\n",
    "# print(f\"\\nEvaluation Results:\")\n",
    "# #print(f\"Balanced Accuracy: {balanced_accuracy * 100:.2f}%\")\n",
    "# print(f\"Balanced Accuracy2: {balanced_accuracy2 * 100:.2f}%\")\n",
    "\n",
    "# print(f\"Test Accuracy: {accuracy * 100:.2f}%\")\n",
    "# print(f\"\\nEvaluation Results:\")\n",
    "# print(f\"Accuracy: {accuracy * 100:.2f}%\")\n",
    "# print(f\"Precision: {precision * 100:.2f}%\")\n",
    "# print(f\"Recall: {recall * 100:.2f}%\")\n",
    "# print(f\"F1-score: {f1_score * 100:.2f}%\")\n",
    "# print(f\"Kappa: {cohens_kappa * 100:.2f}%\")\n",
    "\n",
    "# conf_mat = confusion_matrix(all_true_labels, all_predicted_labels)\n",
    "# def plot_confusion_matrix(conf_mat, class_labels):\n",
    "#     plt.figure(figsize=(8, 6))\n",
    "#     sns.set(font_scale=1.2)\n",
    "    \n",
    "#     class_labels = [str(label) for label in class_labels]\n",
    "    \n",
    "#     ax = sns.heatmap(conf_mat, annot=True, fmt=\"d\", cmap=\"Blues\", cbar=False,\n",
    "#                 xticklabels=class_labels,\n",
    "#                 yticklabels=class_labels)\n",
    "    \n",
    "#     plt.xlabel('Predicted Labels')\n",
    "#     plt.ylabel('True Labels')\n",
    "#     plt.title('Confusion Matrix')\n",
    "#     plt.xticks(rotation=90)\n",
    "\n",
    "#     return plt.gcf()  # Return the current figure\n",
    "\n",
    "# import config\n",
    "# #create classification results text file\n",
    "# with open(f'{standalone_results_path}/results_file_best.txt', 'w') as log_file:\n",
    "#     log_file.write(f\"########################################################\\n\")\n",
    "#     log_file.write(f\"Frequency Mask:{config.freq_mask_param}\\n\")\n",
    "#     log_file.write(f\"Time Mask: {config.time_mask_param}\\n\")\n",
    "#     log_file.write(f\"Spectro:\\n\")\n",
    "#     log_file.write(f\"        n_fft={2048},\\n\")\n",
    "#     log_file.write(f\"        hop_length = {512},\\n\")\n",
    "#     log_file.write(f\"        n_mels={128},  \\n\")\n",
    "#     log_file.write(f\"        win_length = {2048},\\n\")\n",
    "#     log_file.write(f\"Epochs: {num_epochs}\\n\")\n",
    "#     log_file.write(f\"Batch size: {batch_size}\\n\")\n",
    "#     log_file.write(f\"Optimizer: Adam\\n\")\n",
    "#     log_file.write(f\"Learning rate: {learning_rate}\\n\")\n",
    "#     log_file.write(f\"Weight decay: {weight_decay}\\n\")\n",
    "#     log_file.write(f\"Scheduler: ReduceLROnPlateau\\n\")\n",
    "#     log_file.write(f\"Model: ModifiedResnet50_Classifier \\n\")\n",
    "#     log_file.write(f\"classifiers: 512, 256, 4 : 2 fully connected layers\\n\")\n",
    "#     log_file.write(f\"########################################################\\n\\n\")\n",
    "#     log_file.write(f\"Balanced Accuracy2: {balanced_accuracy2 * 100:.2f}%\\n\")\n",
    "#     log_file.write(f\"Test Accuracy: {accuracy * 100:.2f}%\\n\")\n",
    "#     log_file.write(f\"\\nEvaluation Results:\\n\")\n",
    "#     log_file.write(f\"Precision: {precision * 100:.2f}%\\n\")\n",
    "#     log_file.write(f\"Recall: {recall * 100:.2f}%\\n\")\n",
    "#     log_file.write(f\"F1-score: {f1_score * 100:.2f}%\\n\")\n",
    "#     log_file.write(f\"Kappa: {cohens_kappa * 100:.2f}%\\n\")\n",
    "#     log_file.write(f\"########################################################\\n\\n\")\n",
    "#     log_file.write(f\"Confusion Matrix:\\n\")\n",
    "#     log_file.write(f\"{conf_mat}\\n\")\n",
    "#     log_file.write(f\"########################################################\\n\\n\")\n",
    "#     log_file.write(f\"Classifcation Report: {classification_report(all_true_labels, all_predicted_labels, target_names=true_labels_dic.values())}\\n\")\n",
    "\n",
    "# print(classification_report(all_true_labels, all_predicted_labels, target_names=true_labels_dic.values()))\n",
    "\n",
    "# #save this plotas a png file\n",
    "# plot = plot_confusion_matrix(conf_mat, true_labels_dic.values())\n",
    "# plot.savefig(f'{standalone_results_path}/confusion_matrix_best.png')\n",
    "\n",
    "\n",
    "\n",
    "\n",
    "\n",
    "\n",
    "\n"
   ]
  },
  {
   "cell_type": "code",
   "execution_count": 19,
   "metadata": {},
   "outputs": [],
   "source": [
    "\n",
    "# # Create a data loader for the test set\n",
    "# val_loader = DL.create_generators_finetune_val(val_df)  \n",
    "\n",
    "# #model = torch.load(\"./results_standalone/newgpu2_checkpoint.pth\")\n",
    "# model = torch.load(standalone_results_path + '/checkpoint_best_loss.pth')\n",
    "# # Transfer the model to the testing device\n",
    "# model.to(device)\n",
    "\n",
    "# # Define a criterion for evaluation (e.g., cross-entropy loss for classification)\n",
    "# criterion = nn.CrossEntropyLoss()\n",
    "\n",
    "# # Initialize variables for evaluation metrics (e.g., accuracy)\n",
    "# correct_predictions = 0\n",
    "# total_samples = 0\n",
    "\n",
    "# # Define the label dictionary\n",
    "# true_labels_dic = {0: '[Kreischen]', 1: '[Kreischen][Quietschen]', 2: '[Negativ]', 3: '[Quietschen]'}\n",
    "\n",
    "# # Set the model to evaluation mode \n",
    "# model.eval()\n",
    "\n",
    "# # Initialize lists to store all true labels and predicted labels\n",
    "# all_true_labels = []\n",
    "# all_predicted_labels = []\n",
    "\n",
    "# # Iterate through the test set\n",
    "# with torch.no_grad():\n",
    "#     for spectrograms, labels in val_loader:\n",
    "#         # Move data to the testing device\n",
    "#         spectrograms = spectrograms.to(device)\n",
    "#         labels = labels.to(device)\n",
    "\n",
    "#         # Forward pass\n",
    "#         outputs = model(spectrograms)\n",
    "        \n",
    "#         # Compute the predicted labels\n",
    "#         _, predicted = torch.max(outputs, 1)\n",
    "\n",
    "#         # Append true and predicted labels to the lists\n",
    "#         all_true_labels.extend(labels.cpu().numpy())\n",
    "#         all_predicted_labels.extend(predicted.cpu().numpy())\n",
    "\n",
    "# # Convert lists to numpy arrays\n",
    "# all_true_labels = np.array(all_true_labels)\n",
    "# all_predicted_labels = np.array(all_predicted_labels)\n",
    "\n",
    "# # Calculate accuracy, precision, recall, F1-score, etc. using all_true_labels and all_predicted_labels\n",
    "# #use sklearn  accuracy \n",
    "# accuracy = np.mean(all_true_labels == all_predicted_labels)\n",
    "# precision, recall, f1_score, _ = precision_recall_fscore_support(all_true_labels, all_predicted_labels, average='weighted')\n",
    "\n",
    "\n",
    "# #calculate balanced accuracy\n",
    "# balanced_accuracy2 = balanced_accuracy_score(all_true_labels, all_predicted_labels)\n",
    "# #kappa score\n",
    "# cohens_kappa = cohen_kappa_score(all_true_labels, all_predicted_labels)\n",
    "\n",
    "\n",
    "# print(f\"\\nEvaluation Results:\")\n",
    "# #print(f\"Balanced Accuracy: {balanced_accuracy * 100:.2f}%\")\n",
    "# print(f\"Balanced Accuracy2: {balanced_accuracy2 * 100:.2f}%\")\n",
    "\n",
    "# print(f\"Test Accuracy: {accuracy * 100:.2f}%\")\n",
    "# print(f\"\\nEvaluation Results:\")\n",
    "# print(f\"Accuracy: {accuracy * 100:.2f}%\")\n",
    "# print(f\"Precision: {precision * 100:.2f}%\")\n",
    "# print(f\"Recall: {recall * 100:.2f}%\")\n",
    "# print(f\"F1-score: {f1_score * 100:.2f}%\")\n",
    "# print(f\"Kappa: {cohens_kappa * 100:.2f}%\")\n",
    "\n",
    "# conf_mat = confusion_matrix(all_true_labels, all_predicted_labels)\n",
    "# def plot_confusion_matrix(conf_mat, class_labels):\n",
    "#     plt.figure(figsize=(8, 6))\n",
    "#     sns.set(font_scale=1.2)\n",
    "    \n",
    "#     class_labels = [str(label) for label in class_labels]\n",
    "    \n",
    "#     ax = sns.heatmap(conf_mat, annot=True, fmt=\"d\", cmap=\"Blues\", cbar=False,\n",
    "#                 xticklabels=class_labels,\n",
    "#                 yticklabels=class_labels)\n",
    "    \n",
    "#     plt.xlabel('Predicted Labels')\n",
    "#     plt.ylabel('True Labels')\n",
    "#     plt.title('Confusion Matrix')\n",
    "#     plt.xticks(rotation=90)\n",
    "\n",
    "#     return plt.gcf()  # Return the current figure\n",
    "\n",
    "# import config\n",
    "# #create classification results text file\n",
    "# with open(f'{standalone_results_path}/results_file_best_loss.txt', 'w') as log_file:\n",
    "#     log_file.write(f\"########################################################\\n\")\n",
    "#     log_file.write(f\"Frequency Mask:{config.freq_mask_param}\\n\")\n",
    "#     log_file.write(f\"Time Mask: {config.time_mask_param}\\n\")\n",
    "#     log_file.write(f\"Spectro:\\n\")\n",
    "#     log_file.write(f\"        n_fft={2048},\\n\")\n",
    "#     log_file.write(f\"        hop_length = {512},\\n\")\n",
    "#     log_file.write(f\"        n_mels={128},  \\n\")\n",
    "#     log_file.write(f\"        win_length = {2048},\\n\")\n",
    "#     log_file.write(f\"Epochs: {num_epochs}\\n\")\n",
    "#     log_file.write(f\"Batch size: {batch_size}\\n\")\n",
    "#     log_file.write(f\"Optimizer: Adam\\n\")\n",
    "#     log_file.write(f\"Learning rate: {learning_rate}\\n\")\n",
    "#     log_file.write(f\"Weight decay: {weight_decay}\\n\")\n",
    "#     log_file.write(f\"Scheduler: ReduceLROnPlateau\\n\")\n",
    "#     log_file.write(f\"Model: ModifiedResnet50_Classifier \\n\")\n",
    "#     log_file.write(f\"classifiers: 512, 256, 4 : 2 fully connected layers\\n\")\n",
    "#     log_file.write(f\"########################################################\\n\\n\")\n",
    "#     log_file.write(f\"Balanced Accuracy2: {balanced_accuracy2 * 100:.2f}%\\n\")\n",
    "#     log_file.write(f\"Test Accuracy: {accuracy * 100:.2f}%\\n\")\n",
    "#     log_file.write(f\"\\nEvaluation Results:\\n\")\n",
    "#     log_file.write(f\"Precision: {precision * 100:.2f}%\\n\")\n",
    "#     log_file.write(f\"Recall: {recall * 100:.2f}%\\n\")\n",
    "#     log_file.write(f\"F1-score: {f1_score * 100:.2f}%\\n\")\n",
    "#     log_file.write(f\"Kappa: {cohens_kappa * 100:.2f}%\\n\")\n",
    "#     log_file.write(f\"########################################################\\n\\n\")\n",
    "#     log_file.write(f\"Confusion Matrix:\\n\")\n",
    "#     log_file.write(f\"{conf_mat}\\n\")\n",
    "#     log_file.write(f\"########################################################\\n\\n\")\n",
    "#     log_file.write(f\"Classifcation Report: {classification_report(all_true_labels, all_predicted_labels, target_names=true_labels_dic.values())}\\n\")\n",
    "\n",
    "# print(classification_report(all_true_labels, all_predicted_labels, target_names=true_labels_dic.values()))\n",
    "\n",
    "# #save this plotas a png file\n",
    "# plot = plot_confusion_matrix(conf_mat, true_labels_dic.values())\n",
    "# plot.savefig(f'{standalone_results_path}/confusion_matrix_best_loss.png')\n",
    "\n",
    "\n",
    "\n",
    "\n",
    "\n",
    "\n",
    "\n"
   ]
  }
 ],
 "metadata": {
  "kernelspec": {
   "display_name": "pytorch",
   "language": "python",
   "name": "python3"
  },
  "language_info": {
   "codemirror_mode": {
    "name": "ipython",
    "version": 3
   },
   "file_extension": ".py",
   "mimetype": "text/x-python",
   "name": "python",
   "nbconvert_exporter": "python",
   "pygments_lexer": "ipython3",
   "version": "3.11.4"
  }
 },
 "nbformat": 4,
 "nbformat_minor": 2
}
