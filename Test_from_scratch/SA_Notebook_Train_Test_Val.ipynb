{
 "cells": [
  {
   "cell_type": "code",
   "execution_count": 1,
   "metadata": {},
   "outputs": [],
   "source": [
    "import torch\n",
    "import torch.nn.functional as F\n",
    "import torch.optim as optim\n",
    "import torchaudio.transforms as T\n",
    "import torchvision.models as models\n",
    "import torch.optim.lr_scheduler as lr_scheduler\n",
    "import pandas as pd\n",
    "import torch.nn as nn\n",
    "from tqdm import tqdm\n",
    "import os\n",
    "import time\n",
    "import datetime\n",
    "\n",
    "\n",
    "from sklearn.model_selection import train_test_split\n",
    "import matplotlib.pyplot as plt\n",
    "import numpy as np\n",
    "\n",
    "#Global Parameters and Variables loaded \n",
    "import config"
   ]
  },
  {
   "cell_type": "code",
   "execution_count": 2,
   "metadata": {},
   "outputs": [],
   "source": [
    "# load dataloader\n",
    "if config.ADSMI:\n",
    "    from DL_finetune import ADSMI_DL_TVsplit as DL\n",
    "    data_name = 'ADSMI'"
   ]
  },
  {
   "cell_type": "code",
   "execution_count": 3,
   "metadata": {},
   "outputs": [],
   "source": [
    "#empty cuda cache\n",
    "torch.cuda.empty_cache()"
   ]
  },
  {
   "cell_type": "markdown",
   "metadata": {},
   "source": [
    "## Models\n"
   ]
  },
  {
   "cell_type": "code",
   "execution_count": 4,
   "metadata": {},
   "outputs": [
    {
     "name": "stdout",
     "output_type": "stream",
     "text": [
      "3\n"
     ]
    }
   ],
   "source": [
    "print(config.channels)\n",
    "\n",
    "class Resnet50_Classifier(nn.Module):\n",
    "    def __init__(self, num_classes):\n",
    "        super(Resnet50_Classifier, self).__init__()\n",
    "        self.resnet50 = models.resnet50()\n",
    "        self.resnet50.conv1 = nn.Conv2d(config.channels, 64, kernel_size=7, stride=2, padding=3, bias=False)\n",
    "        num_features = self.resnet50.fc.in_features\n",
    "        self.resnet50.fc = nn.Linear(num_features, num_classes)\n",
    "\n",
    "    def forward(self, x):\n",
    "        return self.resnet50(x)\n",
    "    \n",
    "\n",
    "\n",
    "\n",
    "class ResNet101_Classifier(nn.Module):\n",
    "    def __init__(self, num_classes):\n",
    "        super(ResNet101_Classifier, self).__init__()\n",
    "        self.resnet101 = models.resnet101()\n",
    "        \n",
    "        # Modify the first convolutional layer\n",
    "        self.resnet101.conv1 = nn.Conv2d(config.channels, 64, kernel_size=7, stride=2, padding=3, bias=False)\n",
    "        \n",
    "        # Remove the final fully connected layer\n",
    "        self.resnet101.fc = nn.Identity()  # Set the final layer to an identity mapping\n",
    "        \n",
    "        # Define the custom fully connected layers\n",
    "        num_features = 2048 \n",
    "        self.fc1 = nn.Linear(num_features, 512)\n",
    "        self.fc2 = nn.Linear(512, 256)\n",
    "        self.fc3 = nn.Linear(256, num_classes)\n",
    "\n",
    "    def forward(self, x):\n",
    "        x = self.resnet101(x)\n",
    "        x = F.relu(self.fc1(x))\n",
    "        x = F.relu(self.fc2(x))\n",
    "        x = self.fc3(x)\n",
    "        return x\n",
    "    \n",
    "\n",
    "    \n",
    "class ModifiedResnet50_Classifier(nn.Module):\n",
    "    def __init__(self, num_classes):\n",
    "        super(ModifiedResnet50_Classifier, self).__init__()\n",
    "        \n",
    "        # Load the pretrained ResNet-50 model\n",
    "        #self.resnet50 = models.resnet50(pretrained=True)\n",
    "        self.resnet50 = models.resnet50()\n",
    "        # Modify the first convolutional layer\n",
    "        self.resnet50.conv1 = nn.Conv2d(config.channels, 64, kernel_size=7, stride=2, padding=3, bias=False)\n",
    "        \n",
    "        # Remove the final fully connected layer\n",
    "        self.resnet50.fc = nn.Identity()  # Set the final layer to an identity mapping\n",
    "        \n",
    "        # Define the custom fully connected layers\n",
    "        num_features = 2048 \n",
    "        self.fc1 = nn.Linear(num_features, 512)\n",
    "        self.fc2 = nn.Linear(512, 256)\n",
    "        self.fc3 = nn.Linear(256, num_classes)\n",
    "\n",
    "    def forward(self, x):\n",
    "        x = self.resnet50(x)\n",
    "        x = F.relu(self.fc1(x))\n",
    "        x = F.relu(self.fc2(x))\n",
    "        x = self.fc3(x)\n",
    "        return x"
   ]
  },
  {
   "cell_type": "markdown",
   "metadata": {},
   "source": [
    "## Train Test and Val split"
   ]
  },
  {
   "cell_type": "code",
   "execution_count": 5,
   "metadata": {},
   "outputs": [
    {
     "name": "stdout",
     "output_type": "stream",
     "text": [
      "Train size:  3776\n",
      "Test size:  472\n",
      "Val size:  472\n",
      "Label_int\n",
      "0    1760\n",
      "2    1332\n",
      "1     570\n",
      "3     114\n",
      "Name: count, dtype: int64\n",
      "Label_int\n",
      "0    220\n",
      "2    166\n",
      "1     72\n",
      "3     14\n",
      "Name: count, dtype: int64\n",
      "Label_int\n",
      "0    220\n",
      "2    167\n",
      "1     71\n",
      "3     14\n",
      "Name: count, dtype: int64\n"
     ]
    }
   ],
   "source": [
    "#------Datasplit\n",
    "# Load the dataframe\n",
    "labels_file = pd.read_csv('./data/labeled_ADSMI/labels_int.csv', index_col=0)\n",
    "#train_df, test_df = train_test_split(labels_file, test_size=0.2, stratify=labels_file['Label_int'], random_state=47)\n",
    "#val_df = test_df\n",
    "train_df, temp = train_test_split(labels_file, test_size=0.2, stratify=labels_file['Label_int'], random_state=47)\n",
    "test_df, val_df = train_test_split(temp, test_size=0.5, stratify=temp['Label_int'], random_state=47)\n",
    "# train test split\n",
    "print(\"Train size: \", len(train_df))\n",
    "print(\"Test size: \", len(test_df))\n",
    "print(\"Val size: \", len(val_df))\n",
    "\n",
    "\n",
    "\n",
    "print(train_df[\"Label_int\"].value_counts())\n",
    "print(test_df[\"Label_int\"].value_counts())\n",
    "print(val_df[\"Label_int\"].value_counts())\n",
    "\n",
    "train_loader, test_loader = DL.create_generators_finetune_train(train_df,test_df)\n",
    "\n",
    "\n"
   ]
  },
  {
   "cell_type": "markdown",
   "metadata": {},
   "source": [
    "## Model initialization"
   ]
  },
  {
   "cell_type": "code",
   "execution_count": 6,
   "metadata": {},
   "outputs": [],
   "source": [
    "\n",
    "#  Create an instance of the model\n",
    "num_classes = len(set(labels_file[\"Label_int\"]))  \n",
    "#model = Resnet50_Classifier(num_classes)\n",
    "model = ModifiedResnet50_Classifier(num_classes)\n",
    "#model = ResNet101_Classifier(num_classes)\n",
    "\n",
    "# Hyperparameters\n",
    "num_epochs = config.finetune_epochs \n",
    "learning_rate = 0.0003\n",
    "weight_decay = 0  # L2 regularization\n",
    "batch_size = config.batch_size\n",
    "patience = config.patience\n",
    "\n",
    "#  Transfer the model to the appropriate device\n",
    "device = torch.device('cuda' if torch.cuda.is_available() else 'cpu')\n",
    "model.to(device)\n",
    "\n",
    "# Define a loss function and optimizer\n",
    "criterion = nn.CrossEntropyLoss().to(device)\n",
    "optimizer = torch.optim.Adam(model.parameters(), lr=learning_rate, weight_decay = weight_decay ) # Adjust the value as needed)\n",
    "scheduler = lr_scheduler.ReduceLROnPlateau(optimizer, mode='min', patience=6, factor=0.6, verbose=True)\n",
    "\n",
    "#new folder path\n",
    "standalone_results_path = f'./results_standalone/SA_ADSMI_{num_epochs}_epochs_{datetime.datetime.now().strftime(\"%Y-%m-%d-%H\")}'\n",
    "\n",
    "# Create a directory to save the results\n",
    "if not os.path.exists(standalone_results_path):\n",
    "    os.makedirs(standalone_results_path)\n",
    "\n",
    "with open(f'{standalone_results_path}/log_file.txt', 'w') as log_file:\n",
    "    log_file.write(f'########################################################\\n')\n",
    "    log_file.write(f'training on {data_name} dataset\\n')\n",
    "    log_file.write(f'Learning rate: {learning_rate}\\n')\n",
    "    log_file.write(f'Weight decay: {weight_decay}\\n')\n",
    "    log_file.write(f'Batch size: {batch_size}\\n')\n",
    "    log_file.write(f'Number of epochs: {num_epochs}\\n')\n",
    "    log_file.write(f'Patience: {patience}\\n')\n",
    "    log_file.write(f'Number of classes: {num_classes}\\n')\n",
    "    log_file.write(f'Train size: {len(train_df)}\\n')\n",
    "    log_file.write(f'Test size: {len(test_df)}\\n')\n",
    "    log_file.write(f'Val size: {len(val_df)}\\n')\n",
    "    log_file.write(f'Length of train data in seconds: {config.desired_length_in_seconds}\\n')\n",
    "    log_file.write(f'freq_mask_param : {config.freq_mask_param}\\n')\n",
    "    log_file.write(f'time_mask_param : {config.time_mask_param}\\n')\n",
    "    log_file.write(f'########################################################\\n\\n')\n",
    "\n",
    "train_losses = []\n",
    "val_losses = []\n",
    "best_accuracy = 0\n",
    "best_loss = 1000\n",
    "early_stop_counter = 0\n",
    "#config.model_path = \"./results_standalone/newgpu2_checkpoint.pth\"\n"
   ]
  },
  {
   "cell_type": "code",
   "execution_count": 7,
   "metadata": {},
   "outputs": [
    {
     "name": "stderr",
     "output_type": "stream",
     "text": [
      "100%|██████████| 118/118 [00:58<00:00,  2.02it/s]\n"
     ]
    },
    {
     "name": "stdout",
     "output_type": "stream",
     "text": [
      "Epoch [1/120], Train Loss: 0.7726, Val Loss: 0.6688, Val Accuracy: 71.61%\n"
     ]
    },
    {
     "name": "stderr",
     "output_type": "stream",
     "text": [
      "100%|██████████| 118/118 [00:25<00:00,  4.64it/s]\n"
     ]
    },
    {
     "name": "stdout",
     "output_type": "stream",
     "text": [
      "Epoch [2/120], Train Loss: 0.4780, Val Loss: 0.4002, Val Accuracy: 86.44%\n"
     ]
    },
    {
     "name": "stderr",
     "output_type": "stream",
     "text": [
      "100%|██████████| 118/118 [00:25<00:00,  4.65it/s]\n"
     ]
    },
    {
     "name": "stdout",
     "output_type": "stream",
     "text": [
      "Epoch [3/120], Train Loss: 0.3831, Val Loss: 0.3871, Val Accuracy: 86.23%\n"
     ]
    },
    {
     "name": "stderr",
     "output_type": "stream",
     "text": [
      "100%|██████████| 118/118 [00:25<00:00,  4.66it/s]\n"
     ]
    },
    {
     "name": "stdout",
     "output_type": "stream",
     "text": [
      "Epoch [4/120], Train Loss: 0.3682, Val Loss: 0.3501, Val Accuracy: 91.31%\n"
     ]
    },
    {
     "name": "stderr",
     "output_type": "stream",
     "text": [
      "100%|██████████| 118/118 [00:25<00:00,  4.66it/s]\n"
     ]
    },
    {
     "name": "stdout",
     "output_type": "stream",
     "text": [
      "Epoch [5/120], Train Loss: 0.3403, Val Loss: 0.2727, Val Accuracy: 91.74%\n"
     ]
    },
    {
     "name": "stderr",
     "output_type": "stream",
     "text": [
      "100%|██████████| 118/118 [00:25<00:00,  4.65it/s]\n"
     ]
    },
    {
     "name": "stdout",
     "output_type": "stream",
     "text": [
      "Epoch [6/120], Train Loss: 0.3456, Val Loss: 0.2625, Val Accuracy: 89.41%\n"
     ]
    },
    {
     "name": "stderr",
     "output_type": "stream",
     "text": [
      "100%|██████████| 118/118 [00:25<00:00,  4.57it/s]\n"
     ]
    },
    {
     "name": "stdout",
     "output_type": "stream",
     "text": [
      "Epoch [7/120], Train Loss: 0.3200, Val Loss: 0.3667, Val Accuracy: 85.17%\n"
     ]
    },
    {
     "name": "stderr",
     "output_type": "stream",
     "text": [
      "100%|██████████| 118/118 [00:25<00:00,  4.65it/s]\n"
     ]
    },
    {
     "name": "stdout",
     "output_type": "stream",
     "text": [
      "Epoch [8/120], Train Loss: 0.3168, Val Loss: 0.3019, Val Accuracy: 91.31%\n"
     ]
    },
    {
     "name": "stderr",
     "output_type": "stream",
     "text": [
      "100%|██████████| 118/118 [00:25<00:00,  4.65it/s]\n"
     ]
    },
    {
     "name": "stdout",
     "output_type": "stream",
     "text": [
      "Epoch [9/120], Train Loss: 0.3113, Val Loss: 0.2498, Val Accuracy: 92.58%\n"
     ]
    },
    {
     "name": "stderr",
     "output_type": "stream",
     "text": [
      "100%|██████████| 118/118 [00:25<00:00,  4.63it/s]\n"
     ]
    },
    {
     "name": "stdout",
     "output_type": "stream",
     "text": [
      "Epoch [10/120], Train Loss: 0.3149, Val Loss: 0.2616, Val Accuracy: 92.16%\n"
     ]
    },
    {
     "name": "stderr",
     "output_type": "stream",
     "text": [
      "100%|██████████| 118/118 [00:25<00:00,  4.67it/s]\n"
     ]
    },
    {
     "name": "stdout",
     "output_type": "stream",
     "text": [
      "Epoch [11/120], Train Loss: 0.2971, Val Loss: 0.2758, Val Accuracy: 90.89%\n"
     ]
    },
    {
     "name": "stderr",
     "output_type": "stream",
     "text": [
      "100%|██████████| 118/118 [00:25<00:00,  4.67it/s]\n"
     ]
    },
    {
     "name": "stdout",
     "output_type": "stream",
     "text": [
      "Epoch [12/120], Train Loss: 0.2903, Val Loss: 0.3389, Val Accuracy: 86.44%\n"
     ]
    },
    {
     "name": "stderr",
     "output_type": "stream",
     "text": [
      "100%|██████████| 118/118 [00:25<00:00,  4.66it/s]\n"
     ]
    },
    {
     "name": "stdout",
     "output_type": "stream",
     "text": [
      "Epoch [13/120], Train Loss: 0.2692, Val Loss: 0.2310, Val Accuracy: 92.80%\n"
     ]
    },
    {
     "name": "stderr",
     "output_type": "stream",
     "text": [
      "100%|██████████| 118/118 [00:25<00:00,  4.67it/s]\n"
     ]
    },
    {
     "name": "stdout",
     "output_type": "stream",
     "text": [
      "Epoch [14/120], Train Loss: 0.2507, Val Loss: 0.2744, Val Accuracy: 88.14%\n"
     ]
    },
    {
     "name": "stderr",
     "output_type": "stream",
     "text": [
      "100%|██████████| 118/118 [00:25<00:00,  4.63it/s]\n"
     ]
    },
    {
     "name": "stdout",
     "output_type": "stream",
     "text": [
      "Epoch [15/120], Train Loss: 0.2820, Val Loss: 0.3138, Val Accuracy: 88.35%\n"
     ]
    },
    {
     "name": "stderr",
     "output_type": "stream",
     "text": [
      "100%|██████████| 118/118 [00:25<00:00,  4.60it/s]\n"
     ]
    },
    {
     "name": "stdout",
     "output_type": "stream",
     "text": [
      "Epoch [16/120], Train Loss: 0.2696, Val Loss: 0.2634, Val Accuracy: 91.74%\n"
     ]
    },
    {
     "name": "stderr",
     "output_type": "stream",
     "text": [
      "100%|██████████| 118/118 [00:25<00:00,  4.71it/s]\n"
     ]
    },
    {
     "name": "stdout",
     "output_type": "stream",
     "text": [
      "Epoch [17/120], Train Loss: 0.2723, Val Loss: 0.2403, Val Accuracy: 89.83%\n"
     ]
    },
    {
     "name": "stderr",
     "output_type": "stream",
     "text": [
      "100%|██████████| 118/118 [00:25<00:00,  4.66it/s]\n"
     ]
    },
    {
     "name": "stdout",
     "output_type": "stream",
     "text": [
      "Epoch [18/120], Train Loss: 0.2593, Val Loss: 0.2858, Val Accuracy: 91.10%\n"
     ]
    },
    {
     "name": "stderr",
     "output_type": "stream",
     "text": [
      "100%|██████████| 118/118 [00:25<00:00,  4.63it/s]\n"
     ]
    },
    {
     "name": "stdout",
     "output_type": "stream",
     "text": [
      "Epoch [19/120], Train Loss: 0.2484, Val Loss: 0.2938, Val Accuracy: 93.01%\n"
     ]
    },
    {
     "name": "stderr",
     "output_type": "stream",
     "text": [
      "100%|██████████| 118/118 [00:25<00:00,  4.68it/s]\n"
     ]
    },
    {
     "name": "stdout",
     "output_type": "stream",
     "text": [
      "Epoch 00020: reducing learning rate of group 0 to 1.8000e-04.\n",
      "Epoch [20/120], Train Loss: 0.2512, Val Loss: 0.2753, Val Accuracy: 90.25%\n"
     ]
    },
    {
     "name": "stderr",
     "output_type": "stream",
     "text": [
      "100%|██████████| 118/118 [00:25<00:00,  4.71it/s]\n"
     ]
    },
    {
     "name": "stdout",
     "output_type": "stream",
     "text": [
      "Epoch [21/120], Train Loss: 0.2183, Val Loss: 0.2529, Val Accuracy: 90.04%\n"
     ]
    },
    {
     "name": "stderr",
     "output_type": "stream",
     "text": [
      "100%|██████████| 118/118 [00:25<00:00,  4.66it/s]\n"
     ]
    },
    {
     "name": "stdout",
     "output_type": "stream",
     "text": [
      "Epoch [22/120], Train Loss: 0.2083, Val Loss: 0.2135, Val Accuracy: 92.58%\n"
     ]
    },
    {
     "name": "stderr",
     "output_type": "stream",
     "text": [
      "100%|██████████| 118/118 [00:25<00:00,  4.68it/s]\n"
     ]
    },
    {
     "name": "stdout",
     "output_type": "stream",
     "text": [
      "Epoch [23/120], Train Loss: 0.2177, Val Loss: 0.2332, Val Accuracy: 92.37%\n"
     ]
    },
    {
     "name": "stderr",
     "output_type": "stream",
     "text": [
      "100%|██████████| 118/118 [00:25<00:00,  4.69it/s]\n"
     ]
    },
    {
     "name": "stdout",
     "output_type": "stream",
     "text": [
      "Epoch [24/120], Train Loss: 0.2349, Val Loss: 0.2553, Val Accuracy: 90.04%\n"
     ]
    },
    {
     "name": "stderr",
     "output_type": "stream",
     "text": [
      "100%|██████████| 118/118 [00:25<00:00,  4.68it/s]\n"
     ]
    },
    {
     "name": "stdout",
     "output_type": "stream",
     "text": [
      "Epoch [25/120], Train Loss: 0.1998, Val Loss: 0.2271, Val Accuracy: 91.95%\n"
     ]
    },
    {
     "name": "stderr",
     "output_type": "stream",
     "text": [
      "100%|██████████| 118/118 [00:25<00:00,  4.71it/s]\n"
     ]
    },
    {
     "name": "stdout",
     "output_type": "stream",
     "text": [
      "Epoch [26/120], Train Loss: 0.2068, Val Loss: 0.2810, Val Accuracy: 89.83%\n"
     ]
    },
    {
     "name": "stderr",
     "output_type": "stream",
     "text": [
      "100%|██████████| 118/118 [00:24<00:00,  4.73it/s]\n"
     ]
    },
    {
     "name": "stdout",
     "output_type": "stream",
     "text": [
      "Epoch [27/120], Train Loss: 0.1979, Val Loss: 0.2463, Val Accuracy: 91.10%\n"
     ]
    },
    {
     "name": "stderr",
     "output_type": "stream",
     "text": [
      "100%|██████████| 118/118 [00:24<00:00,  4.74it/s]\n"
     ]
    },
    {
     "name": "stdout",
     "output_type": "stream",
     "text": [
      "Epoch [28/120], Train Loss: 0.2220, Val Loss: 0.2262, Val Accuracy: 90.47%\n"
     ]
    },
    {
     "name": "stderr",
     "output_type": "stream",
     "text": [
      "100%|██████████| 118/118 [00:24<00:00,  4.87it/s]\n"
     ]
    },
    {
     "name": "stdout",
     "output_type": "stream",
     "text": [
      "Epoch 00029: reducing learning rate of group 0 to 1.0800e-04.\n",
      "Epoch [29/120], Train Loss: 0.1945, Val Loss: 0.2193, Val Accuracy: 91.95%\n"
     ]
    },
    {
     "name": "stderr",
     "output_type": "stream",
     "text": [
      "100%|██████████| 118/118 [00:24<00:00,  4.90it/s]\n"
     ]
    },
    {
     "name": "stdout",
     "output_type": "stream",
     "text": [
      "Epoch [30/120], Train Loss: 0.1753, Val Loss: 0.1780, Val Accuracy: 93.64%\n"
     ]
    },
    {
     "name": "stderr",
     "output_type": "stream",
     "text": [
      "100%|██████████| 118/118 [00:25<00:00,  4.67it/s]\n"
     ]
    },
    {
     "name": "stdout",
     "output_type": "stream",
     "text": [
      "Epoch [31/120], Train Loss: 0.1676, Val Loss: 0.2484, Val Accuracy: 89.83%\n"
     ]
    },
    {
     "name": "stderr",
     "output_type": "stream",
     "text": [
      "100%|██████████| 118/118 [00:25<00:00,  4.66it/s]\n"
     ]
    },
    {
     "name": "stdout",
     "output_type": "stream",
     "text": [
      "Epoch [32/120], Train Loss: 0.1812, Val Loss: 0.2677, Val Accuracy: 89.41%\n"
     ]
    },
    {
     "name": "stderr",
     "output_type": "stream",
     "text": [
      "100%|██████████| 118/118 [00:25<00:00,  4.63it/s]\n"
     ]
    },
    {
     "name": "stdout",
     "output_type": "stream",
     "text": [
      "Epoch [33/120], Train Loss: 0.1561, Val Loss: 0.1894, Val Accuracy: 92.80%\n"
     ]
    },
    {
     "name": "stderr",
     "output_type": "stream",
     "text": [
      "100%|██████████| 118/118 [00:25<00:00,  4.69it/s]\n"
     ]
    },
    {
     "name": "stdout",
     "output_type": "stream",
     "text": [
      "Epoch [34/120], Train Loss: 0.1772, Val Loss: 0.2399, Val Accuracy: 90.25%\n"
     ]
    },
    {
     "name": "stderr",
     "output_type": "stream",
     "text": [
      "100%|██████████| 118/118 [00:25<00:00,  4.72it/s]\n"
     ]
    },
    {
     "name": "stdout",
     "output_type": "stream",
     "text": [
      "Epoch [35/120], Train Loss: 0.1613, Val Loss: 0.1885, Val Accuracy: 92.80%\n"
     ]
    },
    {
     "name": "stderr",
     "output_type": "stream",
     "text": [
      "100%|██████████| 118/118 [00:25<00:00,  4.69it/s]\n"
     ]
    },
    {
     "name": "stdout",
     "output_type": "stream",
     "text": [
      "Epoch [36/120], Train Loss: 0.1623, Val Loss: 0.2243, Val Accuracy: 90.68%\n"
     ]
    },
    {
     "name": "stderr",
     "output_type": "stream",
     "text": [
      "100%|██████████| 118/118 [00:25<00:00,  4.72it/s]\n"
     ]
    },
    {
     "name": "stdout",
     "output_type": "stream",
     "text": [
      "Epoch 00037: reducing learning rate of group 0 to 6.4800e-05.\n",
      "Epoch [37/120], Train Loss: 0.1528, Val Loss: 0.2328, Val Accuracy: 91.95%\n"
     ]
    },
    {
     "name": "stderr",
     "output_type": "stream",
     "text": [
      "100%|██████████| 118/118 [00:25<00:00,  4.70it/s]\n"
     ]
    },
    {
     "name": "stdout",
     "output_type": "stream",
     "text": [
      "Epoch [38/120], Train Loss: 0.1425, Val Loss: 0.1985, Val Accuracy: 91.10%\n"
     ]
    },
    {
     "name": "stderr",
     "output_type": "stream",
     "text": [
      "100%|██████████| 118/118 [00:25<00:00,  4.72it/s]\n"
     ]
    },
    {
     "name": "stdout",
     "output_type": "stream",
     "text": [
      "Epoch [39/120], Train Loss: 0.1253, Val Loss: 0.1664, Val Accuracy: 93.01%\n"
     ]
    },
    {
     "name": "stderr",
     "output_type": "stream",
     "text": [
      "100%|██████████| 118/118 [00:25<00:00,  4.71it/s]\n"
     ]
    },
    {
     "name": "stdout",
     "output_type": "stream",
     "text": [
      "Epoch [40/120], Train Loss: 0.1281, Val Loss: 0.2034, Val Accuracy: 92.37%\n"
     ]
    },
    {
     "name": "stderr",
     "output_type": "stream",
     "text": [
      "100%|██████████| 118/118 [00:24<00:00,  4.73it/s]\n"
     ]
    },
    {
     "name": "stdout",
     "output_type": "stream",
     "text": [
      "Epoch [41/120], Train Loss: 0.1259, Val Loss: 0.2448, Val Accuracy: 90.68%\n"
     ]
    },
    {
     "name": "stderr",
     "output_type": "stream",
     "text": [
      "100%|██████████| 118/118 [00:24<00:00,  4.72it/s]\n"
     ]
    },
    {
     "name": "stdout",
     "output_type": "stream",
     "text": [
      "Epoch [42/120], Train Loss: 0.1310, Val Loss: 0.3428, Val Accuracy: 86.02%\n"
     ]
    },
    {
     "name": "stderr",
     "output_type": "stream",
     "text": [
      "100%|██████████| 118/118 [00:24<00:00,  4.73it/s]\n"
     ]
    },
    {
     "name": "stdout",
     "output_type": "stream",
     "text": [
      "Epoch [43/120], Train Loss: 0.1241, Val Loss: 0.3065, Val Accuracy: 89.41%\n"
     ]
    },
    {
     "name": "stderr",
     "output_type": "stream",
     "text": [
      "100%|██████████| 118/118 [00:25<00:00,  4.72it/s]\n"
     ]
    },
    {
     "name": "stdout",
     "output_type": "stream",
     "text": [
      "Epoch [44/120], Train Loss: 0.1229, Val Loss: 0.2684, Val Accuracy: 88.98%\n"
     ]
    },
    {
     "name": "stderr",
     "output_type": "stream",
     "text": [
      "100%|██████████| 118/118 [00:25<00:00,  4.71it/s]\n"
     ]
    },
    {
     "name": "stdout",
     "output_type": "stream",
     "text": [
      "Epoch [45/120], Train Loss: 0.1194, Val Loss: 0.2366, Val Accuracy: 90.25%\n"
     ]
    },
    {
     "name": "stderr",
     "output_type": "stream",
     "text": [
      "100%|██████████| 118/118 [00:25<00:00,  4.71it/s]\n"
     ]
    },
    {
     "name": "stdout",
     "output_type": "stream",
     "text": [
      "Epoch 00046: reducing learning rate of group 0 to 3.8880e-05.\n",
      "Epoch [46/120], Train Loss: 0.1141, Val Loss: 0.2680, Val Accuracy: 90.25%\n"
     ]
    },
    {
     "name": "stderr",
     "output_type": "stream",
     "text": [
      "100%|██████████| 118/118 [00:25<00:00,  4.71it/s]\n"
     ]
    },
    {
     "name": "stdout",
     "output_type": "stream",
     "text": [
      "Epoch [47/120], Train Loss: 0.0977, Val Loss: 0.2036, Val Accuracy: 91.95%\n"
     ]
    },
    {
     "name": "stderr",
     "output_type": "stream",
     "text": [
      "100%|██████████| 118/118 [00:25<00:00,  4.68it/s]\n"
     ]
    },
    {
     "name": "stdout",
     "output_type": "stream",
     "text": [
      "Epoch [48/120], Train Loss: 0.1006, Val Loss: 0.2407, Val Accuracy: 90.89%\n"
     ]
    },
    {
     "name": "stderr",
     "output_type": "stream",
     "text": [
      "100%|██████████| 118/118 [00:25<00:00,  4.71it/s]\n"
     ]
    },
    {
     "name": "stdout",
     "output_type": "stream",
     "text": [
      "Epoch [49/120], Train Loss: 0.0911, Val Loss: 0.2469, Val Accuracy: 90.25%\n"
     ]
    },
    {
     "name": "stderr",
     "output_type": "stream",
     "text": [
      "100%|██████████| 118/118 [00:24<00:00,  4.75it/s]\n"
     ]
    },
    {
     "name": "stdout",
     "output_type": "stream",
     "text": [
      "Epoch [50/120], Train Loss: 0.0937, Val Loss: 0.2402, Val Accuracy: 90.68%\n"
     ]
    },
    {
     "name": "stderr",
     "output_type": "stream",
     "text": [
      "100%|██████████| 118/118 [00:24<00:00,  4.88it/s]\n"
     ]
    },
    {
     "name": "stdout",
     "output_type": "stream",
     "text": [
      "Epoch [51/120], Train Loss: 0.0916, Val Loss: 0.2343, Val Accuracy: 91.10%\n"
     ]
    },
    {
     "name": "stderr",
     "output_type": "stream",
     "text": [
      "100%|██████████| 118/118 [00:24<00:00,  4.89it/s]\n"
     ]
    },
    {
     "name": "stdout",
     "output_type": "stream",
     "text": [
      "Epoch [52/120], Train Loss: 0.0858, Val Loss: 0.2472, Val Accuracy: 90.47%\n"
     ]
    },
    {
     "name": "stderr",
     "output_type": "stream",
     "text": [
      "100%|██████████| 118/118 [00:24<00:00,  4.90it/s]\n"
     ]
    },
    {
     "name": "stdout",
     "output_type": "stream",
     "text": [
      "Epoch 00053: reducing learning rate of group 0 to 2.3328e-05.\n",
      "Epoch [53/120], Train Loss: 0.0905, Val Loss: 0.2836, Val Accuracy: 88.56%\n",
      "Early stopping on epoch 53\n"
     ]
    }
   ],
   "source": [
    "for epoch in range(num_epochs):\n",
    "    model.train()\n",
    "    epoch_train_losses = []  # Temporary list for storing training losses for each batch\n",
    "    for batch_idx, (spectrograms, labels) in tqdm(enumerate(train_loader), total=len(train_loader)):\n",
    "        spectrograms = spectrograms.to(device)\n",
    "        labels = labels.to(device)\n",
    "\n",
    "        # Forward pass\n",
    "        outputs = model(spectrograms)\n",
    "        loss = criterion(outputs, labels)\n",
    "        epoch_train_losses.append(loss.item())  # Append current batch loss\n",
    "\n",
    "        # Backward pass and optimization\n",
    "        optimizer.zero_grad()\n",
    "        loss.backward()\n",
    "        optimizer.step()\n",
    "\n",
    "    # Calculate average training loss for the epoch\n",
    "    avg_train_loss = sum(epoch_train_losses) / len(epoch_train_losses)\n",
    "    train_losses.append(avg_train_loss)  # Append average loss to main list\n",
    "\n",
    "    model.eval()\n",
    "    epoch_val_losses = []  # Temporary list for storing validation losses for each batch\n",
    "    correct_predictions = 0\n",
    "    total_samples = 0\n",
    "\n",
    "    with torch.no_grad():\n",
    "        for spectrograms, labels in test_loader:\n",
    "            spectrograms = spectrograms.to(device)\n",
    "            labels = labels.to(device)\n",
    "\n",
    "            # Forward pass\n",
    "            outputs = model(spectrograms)\n",
    "            loss = criterion(outputs, labels)\n",
    "            epoch_val_losses.append(loss.item())  # Append current batch loss\n",
    "\n",
    "            # Compute the predicted labels\n",
    "            _, predicted = torch.max(outputs, 1)\n",
    "            total_samples += labels.size(0)\n",
    "            correct_predictions += (predicted == labels).sum().item()\n",
    "\n",
    "    # Calculate average validation loss for the epoch\n",
    "    avg_val_loss = sum(epoch_val_losses) / len(epoch_val_losses)\n",
    "    val_losses.append(avg_val_loss)  # Append average loss to main list\n",
    "\n",
    "    # Model saving and logging based on accuracy and loss\n",
    "    accuracy = correct_predictions / total_samples\n",
    "    if correct_predictions / total_samples > best_accuracy:\n",
    "        best_accuracy = accuracy\n",
    "        torch.save(model, standalone_results_path + '/checkpoint.pth')\n",
    "        early_stop_counter = 0\n",
    "        with open(standalone_results_path + '/log_file.txt', 'a') as log_file:\n",
    "            log_file.write(f\"Best accuracy improved on epoch {epoch}: {best_accuracy * 100:.2f}%\\n\")\n",
    "    \n",
    "    if avg_val_loss < best_loss:\n",
    "        best_loss = avg_val_loss\n",
    "        torch.save(model, standalone_results_path + '/checkpoint_best_loss.pth')\n",
    "        early_stop_counter = 0\n",
    "        with open(standalone_results_path + '/log_file.txt', 'a') as log_file:\n",
    "            log_file.write(f\"Best loss improved on epoch {epoch}: {best_loss:.4f}\\n\")\n",
    "\n",
    "    scheduler.step(avg_val_loss)\n",
    "\n",
    "    # Logging for each epoch\n",
    "    print(f\"Epoch [{epoch+1}/{num_epochs}], Train Loss: {avg_train_loss:.4f}, Val Loss: {avg_val_loss:.4f}, Val Accuracy: {accuracy * 100:.2f}%\")\n",
    "    with open(standalone_results_path + '/log_file.txt', 'a') as log_file:\n",
    "        log_file.write(f\"Epoch [{epoch+1}/{num_epochs}], Train Loss: {avg_train_loss:.4f}, Val Loss: {avg_val_loss:.4f}, Accuracy: {accuracy}, Early stopping count: {early_stop_counter} from {patience}\\n\")\n",
    "\n",
    "    # Early stopping\n",
    "    early_stop_counter += 1\n",
    "    if early_stop_counter >= patience:\n",
    "        print(f\"Early stopping on epoch {epoch+1}\")\n",
    "        break\n",
    "# Save full model\n",
    "torch.save(model, standalone_results_path + '/Full_model_checkpoint.pth')"
   ]
  },
  {
   "cell_type": "code",
   "execution_count": 8,
   "metadata": {},
   "outputs": [],
   "source": [
    "# Save full model\n",
    "torch.save(model, standalone_results_path + '/Full_model_checkpoint.pth')"
   ]
  },
  {
   "cell_type": "markdown",
   "metadata": {},
   "source": [
    "## Losses Plot\n",
    "\n",
    "Tend way more to overfitting than the pretraineds Models also with regularization with masking "
   ]
  },
  {
   "cell_type": "code",
   "execution_count": 9,
   "metadata": {},
   "outputs": [
    {
     "data": {
      "image/png": "[encoded data removed]",
      "text/plain": [
       "<Figure size 1000x400 with 1 Axes>"
      ]
     },
     "metadata": {},
     "output_type": "display_data"
    }
   ],
   "source": [
    "# Convert tensors in the lists to numbers if necessary\n",
    "train_losses_cpu = [loss.cpu().item() if isinstance(loss, torch.Tensor) else loss for loss in train_losses]\n",
    "val_losses_cpu = [loss.cpu().item() if isinstance(loss, torch.Tensor) else loss for loss in val_losses]\n",
    "\n",
    "# Now plot these lists\n",
    "plt.figure(figsize=(10, 4))\n",
    "plt.plot(train_losses_cpu, label='Train Loss')\n",
    "plt.plot(val_losses_cpu, label='Val Loss')\n",
    "plt.xlabel('Epoch')\n",
    "plt.ylabel('Loss')\n",
    "plt.legend()\n",
    "plt.tight_layout()\n",
    "plt.show()"
   ]
  },
  {
   "cell_type": "code",
   "execution_count": null,
   "metadata": {},
   "outputs": [],
   "source": [
    "### Save Results of all 3 Modell Saves: Best-Val-Accuracy, Best-Val-loss and full model"
   ]
  },
  {
   "cell_type": "code",
   "execution_count": 10,
   "metadata": {},
   "outputs": [
    {
     "name": "stdout",
     "output_type": "stream",
     "text": [
      "\n",
      "Evaluation Results:\n",
      "Balanced Accuracy2: 80.77%\n",
      "Test Accuracy: 90.25%\n",
      "\n",
      "Evaluation Results:\n",
      "Accuracy: 90.25%\n",
      "Precision: 90.45%\n",
      "Recall: 90.25%\n",
      "F1-score: 90.07%\n",
      "Kappa: 84.48%\n",
      "                         precision    recall  f1-score   support\n",
      "\n",
      "            [Kreischen]       0.88      0.96      0.92       220\n",
      "[Kreischen][Quietschen]       0.87      0.92      0.89        71\n",
      "              [Negativ]       0.96      0.86      0.91       167\n",
      "           [Quietschen]       0.78      0.50      0.61        14\n",
      "\n",
      "               accuracy                           0.90       472\n",
      "              macro avg       0.87      0.81      0.83       472\n",
      "           weighted avg       0.90      0.90      0.90       472\n",
      "\n"
     ]
    },
    {
     "data": {
      "image/png": "[encoded data removed]",
      "text/plain": [
       "<Figure size 800x600 with 1 Axes>"
      ]
     },
     "metadata": {},
     "output_type": "display_data"
    }
   ],
   "source": [
    "\n",
    "import seaborn as sns\n",
    "from sklearn.metrics import classification_report, confusion_matrix, precision_recall_fscore_support,balanced_accuracy_score\n",
    "from sklearn.metrics import cohen_kappa_score\n",
    "\n",
    "# and loaded any pre-trained weights, e.g., model = Resnet50_Classifier(num_classes)\n",
    "\n",
    "# Set the device for testing\n",
    "device = torch.device('cuda' if torch.cuda.is_available() else 'cpu')\n",
    "config.val_sound_length = 20\n",
    "# Create a data loader for the test set\n",
    "val_loader = DL.create_generators_finetune_val(val_df)  \n",
    "\n",
    "#model = torch.load(\"./results_standalone/newgpu2_checkpoint.pth\")\n",
    "model = torch.load(standalone_results_path + '/Full_model_checkpoint.pth')\n",
    "# Transfer the model to the testing device\n",
    "model.to(device)\n",
    "\n",
    "# Define a criterion for evaluation (e.g., cross-entropy loss for classification)\n",
    "criterion = nn.CrossEntropyLoss()\n",
    "\n",
    "# Initialize variables for evaluation metrics (e.g., accuracy)\n",
    "correct_predictions = 0\n",
    "total_samples = 0\n",
    "\n",
    "# Define the label dictionary\n",
    "true_labels_dic = {0: '[Kreischen]', 1: '[Kreischen][Quietschen]', 2: '[Negativ]', 3: '[Quietschen]'}\n",
    "\n",
    "# Set the model to evaluation mode \n",
    "model.eval()\n",
    "\n",
    "# Initialize lists to store all true labels and predicted labels\n",
    "all_true_labels = []\n",
    "all_predicted_labels = []\n",
    "\n",
    "# Iterate through the test set\n",
    "with torch.no_grad():\n",
    "    for spectrograms, labels in val_loader:\n",
    "        # Move data to the testing device\n",
    "        spectrograms = spectrograms.to(device)\n",
    "        labels = labels.to(device)\n",
    "\n",
    "        # Forward pass\n",
    "        outputs = model(spectrograms)\n",
    "        \n",
    "        # Compute the predicted labels\n",
    "        _, predicted = torch.max(outputs, 1)\n",
    "\n",
    "        # Append true and predicted labels to the lists\n",
    "        all_true_labels.extend(labels.cpu().numpy())\n",
    "        all_predicted_labels.extend(predicted.cpu().numpy())\n",
    "\n",
    "# Convert lists to numpy arrays\n",
    "all_true_labels = np.array(all_true_labels)\n",
    "all_predicted_labels = np.array(all_predicted_labels)\n",
    "\n",
    "# Calculate accuracy, precision, recall, F1-score, etc. using all_true_labels and all_predicted_labels\n",
    "accuracy = np.mean(all_true_labels == all_predicted_labels)\n",
    "precision, recall, f1_score, _ = precision_recall_fscore_support(all_true_labels, all_predicted_labels, average='weighted')\n",
    "\n",
    "\n",
    "#calculate balanced accuracy\n",
    "balanced_accuracy2 = balanced_accuracy_score(all_true_labels, all_predicted_labels)\n",
    "#kappa score\n",
    "cohens_kappa = cohen_kappa_score(all_true_labels, all_predicted_labels)\n",
    "\n",
    "\n",
    "print(f\"\\nEvaluation Results:\")\n",
    "#print(f\"Balanced Accuracy: {balanced_accuracy * 100:.2f}%\")\n",
    "print(f\"Balanced Accuracy2: {balanced_accuracy2 * 100:.2f}%\")\n",
    "\n",
    "print(f\"Test Accuracy: {accuracy * 100:.2f}%\")\n",
    "print(f\"\\nEvaluation Results:\")\n",
    "print(f\"Accuracy: {accuracy * 100:.2f}%\")\n",
    "print(f\"Precision: {precision * 100:.2f}%\")\n",
    "print(f\"Recall: {recall * 100:.2f}%\")\n",
    "print(f\"F1-score: {f1_score * 100:.2f}%\")\n",
    "print(f\"Kappa: {cohens_kappa * 100:.2f}%\")\n",
    "\n",
    "conf_mat = confusion_matrix(all_true_labels, all_predicted_labels)\n",
    "def plot_confusion_matrix(conf_mat, class_labels):\n",
    "    plt.figure(figsize=(8, 6))\n",
    "    sns.set(font_scale=1.2)\n",
    "    \n",
    "    class_labels = [str(label) for label in class_labels]\n",
    "    \n",
    "    ax = sns.heatmap(conf_mat, annot=True, fmt=\"d\", cmap=\"Blues\", cbar=False,\n",
    "                xticklabels=class_labels,\n",
    "                yticklabels=class_labels)\n",
    "    \n",
    "    plt.xlabel('Predicted Labels')\n",
    "    plt.ylabel('True Labels')\n",
    "    plt.title('Confusion Matrix')\n",
    "    plt.xticks(rotation=90)\n",
    "\n",
    "    return plt.gcf()  # Return the current figure\n",
    "\n",
    "import config\n",
    "#create classification results text file\n",
    "with open(f'{standalone_results_path}/results_file_full.txt', 'w') as log_file:\n",
    "    log_file.write(f\"########################################################\\n\")\n",
    "    log_file.write(f\"Frequency Mask:{config.freq_mask_param}\\n\")\n",
    "    log_file.write(f\"Time Mask: {config.time_mask_param}\\n\")\n",
    "    log_file.write(f\"Spectro:\\n\")\n",
    "    log_file.write(f\"        n_fft={2048},\\n\")\n",
    "    log_file.write(f\"        hop_length = {512},\\n\")\n",
    "    log_file.write(f\"        n_mels={128},  \\n\")\n",
    "    log_file.write(f\"        win_length = {2048},\\n\")\n",
    "    log_file.write(f\"Epochs: {num_epochs}\\n\")\n",
    "    log_file.write(f\"Batch size: {batch_size}\\n\")\n",
    "    log_file.write(f\"Optimizer: Adam\\n\")\n",
    "    log_file.write(f\"Learning rate: {learning_rate}\\n\")\n",
    "    log_file.write(f\"Weight decay: {weight_decay}\\n\")\n",
    "    log_file.write(f\"Scheduler: ReduceLROnPlateau\\n\")\n",
    "    log_file.write(f\"Model: ModifiedResnet50_Classifier \\n\")\n",
    "    log_file.write(f\"classifiers: 512, 256, 4 : 2 fully connected layers\\n\")\n",
    "    log_file.write(f\"########################################################\\n\\n\")\n",
    "    log_file.write(f\"Balanced Accuracy2: {balanced_accuracy2 * 100:.2f}%\\n\")\n",
    "    log_file.write(f\"Test Accuracy: {accuracy * 100:.2f}%\\n\")\n",
    "    log_file.write(f\"\\nEvaluation Results:\\n\")\n",
    "    log_file.write(f\"Precision: {precision * 100:.2f}%\\n\")\n",
    "    log_file.write(f\"Recall: {recall * 100:.2f}%\\n\")\n",
    "    log_file.write(f\"F1-score: {f1_score * 100:.2f}%\\n\")\n",
    "    log_file.write(f\"Kappa: {cohens_kappa * 100:.2f}%\\n\")\n",
    "    log_file.write(f\"########################################################\\n\\n\")\n",
    "    log_file.write(f\"Confusion Matrix:\\n\")\n",
    "    log_file.write(f\"{conf_mat}\\n\")\n",
    "    log_file.write(f\"########################################################\\n\\n\")\n",
    "    log_file.write(f\"Classifcation Report: {classification_report(all_true_labels, all_predicted_labels, target_names=true_labels_dic.values())}\\n\")\n",
    "\n",
    "print(classification_report(all_true_labels, all_predicted_labels, target_names=true_labels_dic.values()))\n",
    "\n",
    "#save this plot as a png file\n",
    "plot = plot_confusion_matrix(conf_mat, true_labels_dic.values())\n",
    "plot.savefig(f'{standalone_results_path}/confusion_matrix_full.png')\n",
    "\n",
    "\n",
    "\n",
    "\n",
    "\n",
    "\n",
    "\n"
   ]
  },
  {
   "cell_type": "code",
   "execution_count": 11,
   "metadata": {},
   "outputs": [
    {
     "name": "stdout",
     "output_type": "stream",
     "text": [
      "\n",
      "Evaluation Results:\n",
      "Balanced Accuracy2: 89.65%\n",
      "Test Accuracy: 92.37%\n",
      "\n",
      "Evaluation Results:\n",
      "Accuracy: 92.37%\n",
      "Precision: 92.54%\n",
      "Recall: 92.37%\n",
      "F1-score: 92.38%\n",
      "Kappa: 88.07%\n",
      "                         precision    recall  f1-score   support\n",
      "\n",
      "            [Kreischen]       0.96      0.90      0.93       220\n",
      "[Kreischen][Quietschen]       0.86      0.94      0.90        71\n",
      "              [Negativ]       0.92      0.95      0.94       167\n",
      "           [Quietschen]       0.85      0.79      0.81        14\n",
      "\n",
      "               accuracy                           0.92       472\n",
      "              macro avg       0.90      0.90      0.89       472\n",
      "           weighted avg       0.93      0.92      0.92       472\n",
      "\n"
     ]
    },
    {
     "data": {
      "image/png": "[encoded data removed]",
      "text/plain": [
       "<Figure size 800x600 with 1 Axes>"
      ]
     },
     "metadata": {},
     "output_type": "display_data"
    }
   ],
   "source": [
    "\n",
    "# Create a data loader for the test set\n",
    "val_loader = DL.create_generators_finetune_val(val_df)  \n",
    "\n",
    "#model = torch.load(\"./results_standalone/newgpu2_checkpoint.pth\")\n",
    "model = torch.load(standalone_results_path + '/checkpoint.pth')\n",
    "# Transfer the model to the testing device\n",
    "model.to(device)\n",
    "\n",
    "# Define a criterion for evaluation (e.g., cross-entropy loss for classification)\n",
    "criterion = nn.CrossEntropyLoss()\n",
    "\n",
    "# Initialize variables for evaluation metrics (e.g., accuracy)\n",
    "correct_predictions = 0\n",
    "total_samples = 0\n",
    "\n",
    "# Define the label dictionary\n",
    "true_labels_dic = {0: '[Kreischen]', 1: '[Kreischen][Quietschen]', 2: '[Negativ]', 3: '[Quietschen]'}\n",
    "\n",
    "# Set the model to evaluation mode \n",
    "model.eval()\n",
    "\n",
    "# Initialize lists to store all true labels and predicted labels\n",
    "all_true_labels = []\n",
    "all_predicted_labels = []\n",
    "\n",
    "# Iterate through the test set\n",
    "with torch.no_grad():\n",
    "    for spectrograms, labels in val_loader:\n",
    "        # Move data to the testing device\n",
    "        spectrograms = spectrograms.to(device)\n",
    "        labels = labels.to(device)\n",
    "\n",
    "        # Forward pass\n",
    "        outputs = model(spectrograms)\n",
    "        \n",
    "        # Compute the predicted labels\n",
    "        _, predicted = torch.max(outputs, 1)\n",
    "\n",
    "        # Append true and predicted labels to the lists\n",
    "        all_true_labels.extend(labels.cpu().numpy())\n",
    "        all_predicted_labels.extend(predicted.cpu().numpy())\n",
    "\n",
    "# Convert lists to numpy arrays\n",
    "all_true_labels = np.array(all_true_labels)\n",
    "all_predicted_labels = np.array(all_predicted_labels)\n",
    "\n",
    "# Calculate accuracy, precision, recall, F1-score, etc. using all_true_labels and all_predicted_labels\n",
    "#use sklearn  accuracy \n",
    "accuracy = np.mean(all_true_labels == all_predicted_labels)\n",
    "precision, recall, f1_score, _ = precision_recall_fscore_support(all_true_labels, all_predicted_labels, average='weighted')\n",
    "\n",
    "\n",
    "#calculate balanced accuracy\n",
    "balanced_accuracy2 = balanced_accuracy_score(all_true_labels, all_predicted_labels)\n",
    "#kappa score\n",
    "cohens_kappa = cohen_kappa_score(all_true_labels, all_predicted_labels)\n",
    "\n",
    "\n",
    "print(f\"\\nEvaluation Results:\")\n",
    "#print(f\"Balanced Accuracy: {balanced_accuracy * 100:.2f}%\")\n",
    "print(f\"Balanced Accuracy2: {balanced_accuracy2 * 100:.2f}%\")\n",
    "\n",
    "print(f\"Test Accuracy: {accuracy * 100:.2f}%\")\n",
    "print(f\"\\nEvaluation Results:\")\n",
    "print(f\"Accuracy: {accuracy * 100:.2f}%\")\n",
    "print(f\"Precision: {precision * 100:.2f}%\")\n",
    "print(f\"Recall: {recall * 100:.2f}%\")\n",
    "print(f\"F1-score: {f1_score * 100:.2f}%\")\n",
    "print(f\"Kappa: {cohens_kappa * 100:.2f}%\")\n",
    "\n",
    "conf_mat = confusion_matrix(all_true_labels, all_predicted_labels)\n",
    "def plot_confusion_matrix(conf_mat, class_labels):\n",
    "    plt.figure(figsize=(8, 6))\n",
    "    sns.set(font_scale=1.2)\n",
    "    \n",
    "    class_labels = [str(label) for label in class_labels]\n",
    "    \n",
    "    ax = sns.heatmap(conf_mat, annot=True, fmt=\"d\", cmap=\"Blues\", cbar=False,\n",
    "                xticklabels=class_labels,\n",
    "                yticklabels=class_labels)\n",
    "    \n",
    "    plt.xlabel('Predicted Labels')\n",
    "    plt.ylabel('True Labels')\n",
    "    plt.title('Confusion Matrix')\n",
    "    plt.xticks(rotation=90)\n",
    "\n",
    "    return plt.gcf()  # Return the current figure\n",
    "\n",
    "import config\n",
    "#create classification results text file\n",
    "with open(f'{standalone_results_path}/results_file_best.txt', 'w') as log_file:\n",
    "    log_file.write(f\"########################################################\\n\")\n",
    "    log_file.write(f\"Frequency Mask:{config.freq_mask_param}\\n\")\n",
    "    log_file.write(f\"Time Mask: {config.time_mask_param}\\n\")\n",
    "    log_file.write(f\"Spectro:\\n\")\n",
    "    log_file.write(f\"        n_fft={2048},\\n\")\n",
    "    log_file.write(f\"        hop_length = {512},\\n\")\n",
    "    log_file.write(f\"        n_mels={128},  \\n\")\n",
    "    log_file.write(f\"        win_length = {2048},\\n\")\n",
    "    log_file.write(f\"Epochs: {num_epochs}\\n\")\n",
    "    log_file.write(f\"Batch size: {batch_size}\\n\")\n",
    "    log_file.write(f\"Optimizer: Adam\\n\")\n",
    "    log_file.write(f\"Learning rate: {learning_rate}\\n\")\n",
    "    log_file.write(f\"Weight decay: {weight_decay}\\n\")\n",
    "    log_file.write(f\"Scheduler: ReduceLROnPlateau\\n\")\n",
    "    log_file.write(f\"Model: ModifiedResnet50_Classifier \\n\")\n",
    "    log_file.write(f\"classifiers: 512, 256, 4 : 2 fully connected layers\\n\")\n",
    "    log_file.write(f\"########################################################\\n\\n\")\n",
    "    log_file.write(f\"Balanced Accuracy2: {balanced_accuracy2 * 100:.2f}%\\n\")\n",
    "    log_file.write(f\"Test Accuracy: {accuracy * 100:.2f}%\\n\")\n",
    "    log_file.write(f\"\\nEvaluation Results:\\n\")\n",
    "    log_file.write(f\"Precision: {precision * 100:.2f}%\\n\")\n",
    "    log_file.write(f\"Recall: {recall * 100:.2f}%\\n\")\n",
    "    log_file.write(f\"F1-score: {f1_score * 100:.2f}%\\n\")\n",
    "    log_file.write(f\"Kappa: {cohens_kappa * 100:.2f}%\\n\")\n",
    "    log_file.write(f\"########################################################\\n\\n\")\n",
    "    log_file.write(f\"Confusion Matrix:\\n\")\n",
    "    log_file.write(f\"{conf_mat}\\n\")\n",
    "    log_file.write(f\"########################################################\\n\\n\")\n",
    "    log_file.write(f\"Classifcation Report: {classification_report(all_true_labels, all_predicted_labels, target_names=true_labels_dic.values())}\\n\")\n",
    "\n",
    "print(classification_report(all_true_labels, all_predicted_labels, target_names=true_labels_dic.values()))\n",
    "\n",
    "#save this plotas a png file\n",
    "plot = plot_confusion_matrix(conf_mat, true_labels_dic.values())\n",
    "plot.savefig(f'{standalone_results_path}/confusion_matrix_best.png')\n",
    "\n",
    "\n",
    "\n",
    "\n",
    "\n",
    "\n",
    "\n"
   ]
  },
  {
   "cell_type": "code",
   "execution_count": 12,
   "metadata": {},
   "outputs": [
    {
     "name": "stdout",
     "output_type": "stream",
     "text": [
      "\n",
      "Evaluation Results:\n",
      "Balanced Accuracy2: 89.34%\n",
      "Test Accuracy: 93.43%\n",
      "\n",
      "Evaluation Results:\n",
      "Accuracy: 93.43%\n",
      "Precision: 93.43%\n",
      "Recall: 93.43%\n",
      "F1-score: 93.42%\n",
      "Kappa: 89.64%\n",
      "                         precision    recall  f1-score   support\n",
      "\n",
      "            [Kreischen]       0.95      0.94      0.94       220\n",
      "[Kreischen][Quietschen]       0.91      0.89      0.90        71\n",
      "              [Negativ]       0.94      0.96      0.95       167\n",
      "           [Quietschen]       0.79      0.79      0.79        14\n",
      "\n",
      "               accuracy                           0.93       472\n",
      "              macro avg       0.90      0.89      0.89       472\n",
      "           weighted avg       0.93      0.93      0.93       472\n",
      "\n"
     ]
    },
    {
     "data": {
      "image/png": "[encoded data removed]",
      "text/plain": [
       "<Figure size 800x600 with 1 Axes>"
      ]
     },
     "metadata": {},
     "output_type": "display_data"
    }
   ],
   "source": [
    "\n",
    "# Create a data loader for the test set\n",
    "val_loader = DL.create_generators_finetune_val(val_df)  \n",
    "\n",
    "#model = torch.load(\"./results_standalone/newgpu2_checkpoint.pth\")\n",
    "model = torch.load(standalone_results_path + '/checkpoint_best_loss.pth')\n",
    "# Transfer the model to the testing device\n",
    "model.to(device)\n",
    "\n",
    "# Define a criterion for evaluation (e.g., cross-entropy loss for classification)\n",
    "criterion = nn.CrossEntropyLoss()\n",
    "\n",
    "# Initialize variables for evaluation metrics (e.g., accuracy)\n",
    "correct_predictions = 0\n",
    "total_samples = 0\n",
    "\n",
    "# Define the label dictionary\n",
    "true_labels_dic = {0: '[Kreischen]', 1: '[Kreischen][Quietschen]', 2: '[Negativ]', 3: '[Quietschen]'}\n",
    "\n",
    "# Set the model to evaluation mode \n",
    "model.eval()\n",
    "\n",
    "# Initialize lists to store all true labels and predicted labels\n",
    "all_true_labels = []\n",
    "all_predicted_labels = []\n",
    "\n",
    "# Iterate through the test set\n",
    "with torch.no_grad():\n",
    "    for spectrograms, labels in val_loader:\n",
    "        # Move data to the testing device\n",
    "        spectrograms = spectrograms.to(device)\n",
    "        labels = labels.to(device)\n",
    "\n",
    "        # Forward pass\n",
    "        outputs = model(spectrograms)\n",
    "        \n",
    "        # Compute the predicted labels\n",
    "        _, predicted = torch.max(outputs, 1)\n",
    "\n",
    "        # Append true and predicted labels to the lists\n",
    "        all_true_labels.extend(labels.cpu().numpy())\n",
    "        all_predicted_labels.extend(predicted.cpu().numpy())\n",
    "\n",
    "# Convert lists to numpy arrays\n",
    "all_true_labels = np.array(all_true_labels)\n",
    "all_predicted_labels = np.array(all_predicted_labels)\n",
    "\n",
    "# Calculate accuracy, precision, recall, F1-score, etc. using all_true_labels and all_predicted_labels\n",
    "#use sklearn  accuracy \n",
    "accuracy = np.mean(all_true_labels == all_predicted_labels)\n",
    "precision, recall, f1_score, _ = precision_recall_fscore_support(all_true_labels, all_predicted_labels, average='weighted')\n",
    "\n",
    "\n",
    "#calculate balanced accuracy\n",
    "balanced_accuracy2 = balanced_accuracy_score(all_true_labels, all_predicted_labels)\n",
    "#kappa score\n",
    "cohens_kappa = cohen_kappa_score(all_true_labels, all_predicted_labels)\n",
    "\n",
    "\n",
    "print(f\"\\nEvaluation Results:\")\n",
    "#print(f\"Balanced Accuracy: {balanced_accuracy * 100:.2f}%\")\n",
    "print(f\"Balanced Accuracy2: {balanced_accuracy2 * 100:.2f}%\")\n",
    "\n",
    "print(f\"Test Accuracy: {accuracy * 100:.2f}%\")\n",
    "print(f\"\\nEvaluation Results:\")\n",
    "print(f\"Accuracy: {accuracy * 100:.2f}%\")\n",
    "print(f\"Precision: {precision * 100:.2f}%\")\n",
    "print(f\"Recall: {recall * 100:.2f}%\")\n",
    "print(f\"F1-score: {f1_score * 100:.2f}%\")\n",
    "print(f\"Kappa: {cohens_kappa * 100:.2f}%\")\n",
    "\n",
    "conf_mat = confusion_matrix(all_true_labels, all_predicted_labels)\n",
    "def plot_confusion_matrix(conf_mat, class_labels):\n",
    "    plt.figure(figsize=(8, 6))\n",
    "    sns.set(font_scale=1.2)\n",
    "    \n",
    "    class_labels = [str(label) for label in class_labels]\n",
    "    \n",
    "    ax = sns.heatmap(conf_mat, annot=True, fmt=\"d\", cmap=\"Blues\", cbar=False,\n",
    "                xticklabels=class_labels,\n",
    "                yticklabels=class_labels)\n",
    "    \n",
    "    plt.xlabel('Predicted Labels')\n",
    "    plt.ylabel('True Labels')\n",
    "    plt.title('Confusion Matrix')\n",
    "    plt.xticks(rotation=90)\n",
    "\n",
    "    return plt.gcf()  # Return the current figure\n",
    "\n",
    "import config\n",
    "#create classification results text file\n",
    "with open(f'{standalone_results_path}/results_file_best_loss.txt', 'w') as log_file:\n",
    "    log_file.write(f\"########################################################\\n\")\n",
    "    log_file.write(f\"Frequency Mask:{config.freq_mask_param}\\n\")\n",
    "    log_file.write(f\"Time Mask: {config.time_mask_param}\\n\")\n",
    "    log_file.write(f\"Spectro:\\n\")\n",
    "    log_file.write(f\"        n_fft={2048},\\n\")\n",
    "    log_file.write(f\"        hop_length = {512},\\n\")\n",
    "    log_file.write(f\"        n_mels={128},  \\n\")\n",
    "    log_file.write(f\"        win_length = {2048},\\n\")\n",
    "    log_file.write(f\"Epochs: {num_epochs}\\n\")\n",
    "    log_file.write(f\"Batch size: {batch_size}\\n\")\n",
    "    log_file.write(f\"Optimizer: Adam\\n\")\n",
    "    log_file.write(f\"Learning rate: {learning_rate}\\n\")\n",
    "    log_file.write(f\"Weight decay: {weight_decay}\\n\")\n",
    "    log_file.write(f\"Scheduler: ReduceLROnPlateau\\n\")\n",
    "    log_file.write(f\"Model: ModifiedResnet50_Classifier \\n\")\n",
    "    log_file.write(f\"classifiers: 512, 256, 4 : 2 fully connected layers\\n\")\n",
    "    log_file.write(f\"########################################################\\n\\n\")\n",
    "    log_file.write(f\"Balanced Accuracy2: {balanced_accuracy2 * 100:.2f}%\\n\")\n",
    "    log_file.write(f\"Test Accuracy: {accuracy * 100:.2f}%\\n\")\n",
    "    log_file.write(f\"\\nEvaluation Results:\\n\")\n",
    "    log_file.write(f\"Precision: {precision * 100:.2f}%\\n\")\n",
    "    log_file.write(f\"Recall: {recall * 100:.2f}%\\n\")\n",
    "    log_file.write(f\"F1-score: {f1_score * 100:.2f}%\\n\")\n",
    "    log_file.write(f\"Kappa: {cohens_kappa * 100:.2f}%\\n\")\n",
    "    log_file.write(f\"########################################################\\n\\n\")\n",
    "    log_file.write(f\"Confusion Matrix:\\n\")\n",
    "    log_file.write(f\"{conf_mat}\\n\")\n",
    "    log_file.write(f\"########################################################\\n\\n\")\n",
    "    log_file.write(f\"Classifcation Report: {classification_report(all_true_labels, all_predicted_labels, target_names=true_labels_dic.values())}\\n\")\n",
    "\n",
    "print(classification_report(all_true_labels, all_predicted_labels, target_names=true_labels_dic.values()))\n",
    "\n",
    "#save this plotas a png file\n",
    "plot = plot_confusion_matrix(conf_mat, true_labels_dic.values())\n",
    "plot.savefig(f'{standalone_results_path}/confusion_matrix_best_loss.png')\n",
    "\n",
    "\n",
    "\n",
    "\n",
    "\n",
    "\n",
    "\n"
   ]
  }
 ],
 "metadata": {
  "kernelspec": {
   "display_name": "pytorch",
   "language": "python",
   "name": "python3"
  },
  "language_info": {
   "codemirror_mode": {
    "name": "ipython",
    "version": 3
   },
   "file_extension": ".py",
   "mimetype": "text/x-python",
   "name": "python",
   "nbconvert_exporter": "python",
   "pygments_lexer": "ipython3",
   "version": "3.11.4"
  }
 },
 "nbformat": 4,
 "nbformat_minor": 2
}
