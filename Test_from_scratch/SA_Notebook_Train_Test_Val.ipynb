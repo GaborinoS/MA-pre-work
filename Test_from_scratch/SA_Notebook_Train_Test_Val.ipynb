{
 "cells": [
  {
   "cell_type": "code",
   "execution_count": 1,
   "metadata": {},
   "outputs": [],
   "source": [
    "import torch\n",
    "import torch.nn.functional as F\n",
    "import torch.optim as optim\n",
    "import torchaudio.transforms as T\n",
    "import torchvision.models as models\n",
    "import torch.optim.lr_scheduler as lr_scheduler\n",
    "import pandas as pd\n",
    "import torch.nn as nn\n",
    "from tqdm import tqdm\n",
    "import os\n",
    "import time\n",
    "import datetime\n",
    "\n",
    "import seaborn as sns\n",
    "from sklearn.metrics import classification_report, confusion_matrix, precision_recall_fscore_support,balanced_accuracy_score,f1_score\n",
    "from sklearn.metrics import cohen_kappa_score\n",
    "\n",
    "from sklearn.model_selection import train_test_split\n",
    "import matplotlib.pyplot as plt\n",
    "import numpy as np\n",
    "\n",
    "#Global Parameters and Variables loaded \n",
    "import config"
   ]
  },
  {
   "cell_type": "code",
   "execution_count": 2,
   "metadata": {},
   "outputs": [],
   "source": [
    "# load dataloader\n",
    "if config.ADSMI:\n",
    "    from DL_finetune import ADSMI_DL_TVsplit as DL\n",
    "    data_name = 'ADSMI'"
   ]
  },
  {
   "cell_type": "code",
   "execution_count": 3,
   "metadata": {},
   "outputs": [],
   "source": [
    "#empty cuda cache\n",
    "torch.cuda.empty_cache()"
   ]
  },
  {
   "cell_type": "markdown",
   "metadata": {},
   "source": [
    "## Models\n"
   ]
  },
  {
   "cell_type": "code",
   "execution_count": 4,
   "metadata": {},
   "outputs": [
    {
     "name": "stdout",
     "output_type": "stream",
     "text": [
      "3\n"
     ]
    }
   ],
   "source": [
    "print(config.channels)\n",
    "\n",
    "class Resnet50_Classifier(nn.Module):\n",
    "    def __init__(self, num_classes):\n",
    "        super(Resnet50_Classifier, self).__init__()\n",
    "        self.resnet50 = models.resnet50()\n",
    "        self.resnet50.conv1 = nn.Conv2d(config.channels, 64, kernel_size=7, stride=2, padding=3, bias=False)\n",
    "        num_features = self.resnet50.fc.in_features\n",
    "        self.resnet50.fc = nn.Linear(num_features, num_classes)\n",
    "\n",
    "    def forward(self, x):\n",
    "        return self.resnet50(x)\n",
    "    \n",
    "\n",
    "\n",
    "\n",
    "class ResNet101_Classifier(nn.Module):\n",
    "    def __init__(self, num_classes):\n",
    "        super(ResNet101_Classifier, self).__init__()\n",
    "        self.resnet101 = models.resnet101()\n",
    "        \n",
    "        # Modify the first convolutional layer\n",
    "        self.resnet101.conv1 = nn.Conv2d(config.channels, 64, kernel_size=7, stride=2, padding=3, bias=False)\n",
    "        \n",
    "        # Remove the final fully connected layer\n",
    "        self.resnet101.fc = nn.Identity()  # Set the final layer to an identity mapping\n",
    "        \n",
    "        # Define the custom fully connected layers\n",
    "        num_features = 2048 \n",
    "        self.fc1 = nn.Linear(num_features, 512)\n",
    "        self.fc2 = nn.Linear(512, 256)\n",
    "        self.fc3 = nn.Linear(256, num_classes)\n",
    "\n",
    "    def forward(self, x):\n",
    "        x = self.resnet101(x)\n",
    "        x = F.relu(self.fc1(x))\n",
    "        x = F.relu(self.fc2(x))\n",
    "        x = self.fc3(x)\n",
    "        return x\n",
    "    \n",
    "\n",
    "    \n",
    "class ModifiedResnet50_Classifier(nn.Module):\n",
    "    def __init__(self, num_classes):\n",
    "        super(ModifiedResnet50_Classifier, self).__init__()\n",
    "        \n",
    "        # Load the pretrained ResNet-50 model\n",
    "        #self.resnet50 = models.resnet50(pretrained=True)\n",
    "        self.resnet50 = models.resnet50()\n",
    "        # Modify the first convolutional layer\n",
    "        self.resnet50.conv1 = nn.Conv2d(config.channels, 64, kernel_size=7, stride=2, padding=3, bias=False)\n",
    "        \n",
    "        # Remove the final fully connected layer\n",
    "        self.resnet50.fc = nn.Identity()  # Set the final layer to an identity mapping\n",
    "        \n",
    "        # Define the custom fully connected layers\n",
    "        num_features = 2048 \n",
    "        self.fc1 = nn.Linear(num_features, 512)\n",
    "        self.fc2 = nn.Linear(512, 256)\n",
    "        self.fc3 = nn.Linear(256, num_classes)\n",
    "\n",
    "    def forward(self, x):\n",
    "        x = self.resnet50(x)\n",
    "        x = F.relu(self.fc1(x))\n",
    "        x = F.relu(self.fc2(x))\n",
    "        x = self.fc3(x)\n",
    "        return x"
   ]
  },
  {
   "cell_type": "markdown",
   "metadata": {},
   "source": [
    "## Train Test and Val split"
   ]
  },
  {
   "cell_type": "code",
   "execution_count": 5,
   "metadata": {},
   "outputs": [
    {
     "name": "stdout",
     "output_type": "stream",
     "text": [
      "Train size:  3776\n",
      "Test size:  472\n",
      "Val size:  472\n"
     ]
    }
   ],
   "source": [
    "from Slit_and_validation_fun import *\n",
    "\n",
    "train_df, test_df, val_df = train_test_ADSMI()\n",
    "\n",
    "foldername = \"RS96_15sec_batch32_7_50_masking_Test7_2\"\n",
    "# Load the dataframe\n",
    "labels_file = pd.read_csv('./data/labeled_ADSMI/labels_int.csv', index_col=0)"
   ]
  },
  {
   "cell_type": "code",
   "execution_count": 6,
   "metadata": {},
   "outputs": [
    {
     "name": "stdout",
     "output_type": "stream",
     "text": [
      "Label_int\n",
      "0    1760\n",
      "2    1332\n",
      "1     570\n",
      "3     114\n",
      "Name: count, dtype: int64\n",
      "Label_int\n",
      "0    220\n",
      "2    167\n",
      "1     71\n",
      "3     14\n",
      "Name: count, dtype: int64\n",
      "Label_int\n",
      "0    220\n",
      "2    166\n",
      "1     72\n",
      "3     14\n",
      "Name: count, dtype: int64\n"
     ]
    }
   ],
   "source": [
    "\n",
    "\n",
    "\n",
    "print(train_df[\"Label_int\"].value_counts())\n",
    "print(test_df[\"Label_int\"].value_counts())\n",
    "print(val_df[\"Label_int\"].value_counts())\n",
    "\n",
    "train_loader, test_loader = DL.create_generators_finetune_train(train_df,test_df)\n",
    "\n",
    "\n"
   ]
  },
  {
   "cell_type": "markdown",
   "metadata": {},
   "source": [
    "## Model initialization"
   ]
  },
  {
   "cell_type": "code",
   "execution_count": 7,
   "metadata": {},
   "outputs": [],
   "source": [
    "\n",
    "#  Create an instance of the model\n",
    "num_classes = len(set(labels_file[\"Label_int\"]))  \n",
    "#model = Resnet50_Classifier(num_classes)\n",
    "model = ModifiedResnet50_Classifier(num_classes)\n",
    "#model = ResNet101_Classifier(num_classes)\n",
    "\n",
    "# Hyperparameters\n",
    "num_epochs = config.finetune_epochs \n",
    "learning_rate = 0.0003\n",
    "weight_decay = 0  # L2 regularization\n",
    "batch_size = config.batch_size\n",
    "patience = config.patience\n",
    "\n",
    "#  Transfer the model to the appropriate device\n",
    "device = torch.device('cuda' if torch.cuda.is_available() else 'cpu')\n",
    "model.to(device)\n",
    "\n",
    "# Define a loss function and optimizer\n",
    "criterion = nn.CrossEntropyLoss().to(device)\n",
    "optimizer = torch.optim.Adam(model.parameters(), lr=learning_rate, weight_decay = weight_decay ) # Adjust the value as needed)\n",
    "scheduler = lr_scheduler.ReduceLROnPlateau(optimizer, mode='min', patience=6, factor=0.6, verbose=True)\n",
    "\n",
    "#new folder path\n",
    "standalone_results_path = f'./results_standalone/SA_ADSMI_{foldername}'#{datetime.datetime.now().strftime(\"%Y-%m-%d-%H\")}'\n",
    "\n",
    "# Create a directory to save the results\n",
    "if not os.path.exists(standalone_results_path):\n",
    "    os.makedirs(standalone_results_path)\n",
    "\n",
    "with open(f'{standalone_results_path}/log_file.txt', 'w') as log_file:\n",
    "    log_file.write(f'########################################################\\n')\n",
    "    log_file.write(f'training on {data_name} dataset\\n')\n",
    "    log_file.write(f'Learning rate: {learning_rate}\\n')\n",
    "    log_file.write(f'Weight decay: {weight_decay}\\n')\n",
    "    log_file.write(f'Batch size: {batch_size}\\n')\n",
    "    log_file.write(f'Number of epochs: {num_epochs}\\n')\n",
    "    log_file.write(f'Patience: {patience}\\n')\n",
    "    log_file.write(f'Number of classes: {num_classes}\\n')\n",
    "    log_file.write(f'Train size: {len(train_df)}\\n')\n",
    "    log_file.write(f'Test size: {len(test_df)}\\n')\n",
    "    log_file.write(f'Val size: {len(val_df)}\\n')\n",
    "    log_file.write(f'Length of train data in seconds: {config.desired_length_in_seconds}\\n')\n",
    "    log_file.write(f'freq_mask_param : {config.freq_mask_param}\\n')\n",
    "    log_file.write(f'time_mask_param : {config.time_mask_param}\\n')\n",
    "    log_file.write(f'########################################################\\n\\n')\n",
    "\n",
    "train_losses = []\n",
    "val_losses = []\n",
    "best_accuracy = 0\n",
    "best_f1_macro_avg = 0\n",
    "best_loss = 1000\n",
    "early_stop_counter = 0\n",
    "#config.model_path = \"./results_standalone/newgpu2_checkpoint.pth\"\n"
   ]
  },
  {
   "cell_type": "code",
   "execution_count": 8,
   "metadata": {},
   "outputs": [
    {
     "name": "stderr",
     "output_type": "stream",
     "text": [
      "100%|██████████| 236/236 [00:46<00:00,  5.04it/s]\n"
     ]
    },
    {
     "name": "stdout",
     "output_type": "stream",
     "text": [
      "Epoch [1/120], Train Loss: 0.8998, Val Loss: 0.6738, Val Accuracy: 76.91% Val F1 Score: 0.4269\n"
     ]
    },
    {
     "name": "stderr",
     "output_type": "stream",
     "text": [
      "100%|██████████| 236/236 [00:31<00:00,  7.39it/s]\n"
     ]
    },
    {
     "name": "stdout",
     "output_type": "stream",
     "text": [
      "Epoch [2/120], Train Loss: 0.7410, Val Loss: 0.5099, Val Accuracy: 80.08% Val F1 Score: 0.6202\n"
     ]
    },
    {
     "name": "stderr",
     "output_type": "stream",
     "text": [
      "100%|██████████| 236/236 [00:31<00:00,  7.53it/s]\n"
     ]
    },
    {
     "name": "stdout",
     "output_type": "stream",
     "text": [
      "Epoch [3/120], Train Loss: 0.6267, Val Loss: 0.6320, Val Accuracy: 79.45% Val F1 Score: 0.6872\n"
     ]
    },
    {
     "name": "stderr",
     "output_type": "stream",
     "text": [
      "100%|██████████| 236/236 [00:32<00:00,  7.20it/s]\n"
     ]
    },
    {
     "name": "stdout",
     "output_type": "stream",
     "text": [
      "Epoch [4/120], Train Loss: 0.5334, Val Loss: 0.3847, Val Accuracy: 89.19% Val F1 Score: 0.8268\n"
     ]
    },
    {
     "name": "stderr",
     "output_type": "stream",
     "text": [
      "100%|██████████| 236/236 [00:33<00:00,  7.05it/s]\n"
     ]
    },
    {
     "name": "stdout",
     "output_type": "stream",
     "text": [
      "Epoch [5/120], Train Loss: 0.4714, Val Loss: 0.3182, Val Accuracy: 89.62% Val F1 Score: 0.7813\n"
     ]
    },
    {
     "name": "stderr",
     "output_type": "stream",
     "text": [
      "100%|██████████| 236/236 [00:27<00:00,  8.45it/s]\n"
     ]
    },
    {
     "name": "stdout",
     "output_type": "stream",
     "text": [
      "Epoch [6/120], Train Loss: 0.4439, Val Loss: 0.4280, Val Accuracy: 89.41% Val F1 Score: 0.7750\n"
     ]
    },
    {
     "name": "stderr",
     "output_type": "stream",
     "text": [
      "100%|██████████| 236/236 [00:27<00:00,  8.46it/s]\n"
     ]
    },
    {
     "name": "stdout",
     "output_type": "stream",
     "text": [
      "Epoch [7/120], Train Loss: 0.4379, Val Loss: 0.4212, Val Accuracy: 85.59% Val F1 Score: 0.8117\n"
     ]
    },
    {
     "name": "stderr",
     "output_type": "stream",
     "text": [
      "100%|██████████| 236/236 [00:26<00:00,  8.86it/s]\n"
     ]
    },
    {
     "name": "stdout",
     "output_type": "stream",
     "text": [
      "Epoch [8/120], Train Loss: 0.4114, Val Loss: 0.3453, Val Accuracy: 90.25% Val F1 Score: 0.8402\n"
     ]
    },
    {
     "name": "stderr",
     "output_type": "stream",
     "text": [
      "100%|██████████| 236/236 [00:29<00:00,  8.10it/s]\n"
     ]
    },
    {
     "name": "stdout",
     "output_type": "stream",
     "text": [
      "Epoch [9/120], Train Loss: 0.3810, Val Loss: 0.2843, Val Accuracy: 92.16% Val F1 Score: 0.8574\n"
     ]
    },
    {
     "name": "stderr",
     "output_type": "stream",
     "text": [
      "100%|██████████| 236/236 [00:32<00:00,  7.37it/s]\n"
     ]
    },
    {
     "name": "stdout",
     "output_type": "stream",
     "text": [
      "Epoch [10/120], Train Loss: 0.3955, Val Loss: 0.3702, Val Accuracy: 90.47% Val F1 Score: 0.8216\n"
     ]
    },
    {
     "name": "stderr",
     "output_type": "stream",
     "text": [
      "100%|██████████| 236/236 [00:33<00:00,  7.14it/s]\n"
     ]
    },
    {
     "name": "stdout",
     "output_type": "stream",
     "text": [
      "Epoch [11/120], Train Loss: 0.3481, Val Loss: 0.3933, Val Accuracy: 87.71% Val F1 Score: 0.8179\n"
     ]
    },
    {
     "name": "stderr",
     "output_type": "stream",
     "text": [
      "100%|██████████| 236/236 [00:32<00:00,  7.21it/s]\n"
     ]
    },
    {
     "name": "stdout",
     "output_type": "stream",
     "text": [
      "Epoch [12/120], Train Loss: 0.3512, Val Loss: 0.3217, Val Accuracy: 91.31% Val F1 Score: 0.8527\n"
     ]
    },
    {
     "name": "stderr",
     "output_type": "stream",
     "text": [
      "100%|██████████| 236/236 [00:31<00:00,  7.54it/s]\n"
     ]
    },
    {
     "name": "stdout",
     "output_type": "stream",
     "text": [
      "Epoch [13/120], Train Loss: 0.3684, Val Loss: 0.3382, Val Accuracy: 88.77% Val F1 Score: 0.8166\n"
     ]
    },
    {
     "name": "stderr",
     "output_type": "stream",
     "text": [
      "100%|██████████| 236/236 [00:30<00:00,  7.62it/s]\n"
     ]
    },
    {
     "name": "stdout",
     "output_type": "stream",
     "text": [
      "Epoch [14/120], Train Loss: 0.3323, Val Loss: 0.2586, Val Accuracy: 91.95% Val F1 Score: 0.8896\n"
     ]
    },
    {
     "name": "stderr",
     "output_type": "stream",
     "text": [
      "100%|██████████| 236/236 [00:31<00:00,  7.59it/s]\n"
     ]
    },
    {
     "name": "stdout",
     "output_type": "stream",
     "text": [
      "Epoch [15/120], Train Loss: 0.3459, Val Loss: 0.3036, Val Accuracy: 90.25% Val F1 Score: 0.8374\n"
     ]
    },
    {
     "name": "stderr",
     "output_type": "stream",
     "text": [
      "100%|██████████| 236/236 [00:31<00:00,  7.50it/s]\n"
     ]
    },
    {
     "name": "stdout",
     "output_type": "stream",
     "text": [
      "Epoch [16/120], Train Loss: 0.3315, Val Loss: 0.2966, Val Accuracy: 90.89% Val F1 Score: 0.8848\n"
     ]
    },
    {
     "name": "stderr",
     "output_type": "stream",
     "text": [
      "100%|██████████| 236/236 [00:33<00:00,  7.15it/s]\n"
     ]
    },
    {
     "name": "stdout",
     "output_type": "stream",
     "text": [
      "Epoch [17/120], Train Loss: 0.3359, Val Loss: 0.2482, Val Accuracy: 91.74% Val F1 Score: 0.8769\n"
     ]
    },
    {
     "name": "stderr",
     "output_type": "stream",
     "text": [
      "100%|██████████| 236/236 [00:32<00:00,  7.22it/s]\n"
     ]
    },
    {
     "name": "stdout",
     "output_type": "stream",
     "text": [
      "Epoch [18/120], Train Loss: 0.3134, Val Loss: 0.2788, Val Accuracy: 90.68% Val F1 Score: 0.8495\n"
     ]
    },
    {
     "name": "stderr",
     "output_type": "stream",
     "text": [
      "100%|██████████| 236/236 [00:31<00:00,  7.54it/s]\n"
     ]
    },
    {
     "name": "stdout",
     "output_type": "stream",
     "text": [
      "Epoch [19/120], Train Loss: 0.3173, Val Loss: 0.3549, Val Accuracy: 90.04% Val F1 Score: 0.8256\n"
     ]
    },
    {
     "name": "stderr",
     "output_type": "stream",
     "text": [
      "100%|██████████| 236/236 [00:30<00:00,  7.64it/s]\n"
     ]
    },
    {
     "name": "stdout",
     "output_type": "stream",
     "text": [
      "Epoch [20/120], Train Loss: 0.3210, Val Loss: 0.2688, Val Accuracy: 91.95% Val F1 Score: 0.8767\n"
     ]
    },
    {
     "name": "stderr",
     "output_type": "stream",
     "text": [
      "100%|██████████| 236/236 [00:31<00:00,  7.61it/s]\n"
     ]
    },
    {
     "name": "stdout",
     "output_type": "stream",
     "text": [
      "Epoch [21/120], Train Loss: 0.3181, Val Loss: 0.2584, Val Accuracy: 90.47% Val F1 Score: 0.8627\n"
     ]
    },
    {
     "name": "stderr",
     "output_type": "stream",
     "text": [
      "100%|██████████| 236/236 [00:31<00:00,  7.51it/s]\n"
     ]
    },
    {
     "name": "stdout",
     "output_type": "stream",
     "text": [
      "Epoch [22/120], Train Loss: 0.3059, Val Loss: 0.2755, Val Accuracy: 91.74% Val F1 Score: 0.8922\n"
     ]
    },
    {
     "name": "stderr",
     "output_type": "stream",
     "text": [
      "100%|██████████| 236/236 [00:32<00:00,  7.25it/s]\n"
     ]
    },
    {
     "name": "stdout",
     "output_type": "stream",
     "text": [
      "Epoch [23/120], Train Loss: 0.2957, Val Loss: 0.2496, Val Accuracy: 91.31% Val F1 Score: 0.8634\n"
     ]
    },
    {
     "name": "stderr",
     "output_type": "stream",
     "text": [
      "100%|██████████| 236/236 [00:33<00:00,  7.08it/s]\n"
     ]
    },
    {
     "name": "stdout",
     "output_type": "stream",
     "text": [
      "Epoch 00024: reducing learning rate of group 0 to 1.8000e-04.\n",
      "Epoch [24/120], Train Loss: 0.3046, Val Loss: 0.2687, Val Accuracy: 90.25% Val F1 Score: 0.8418\n"
     ]
    },
    {
     "name": "stderr",
     "output_type": "stream",
     "text": [
      "100%|██████████| 236/236 [00:32<00:00,  7.20it/s]\n"
     ]
    },
    {
     "name": "stdout",
     "output_type": "stream",
     "text": [
      "Epoch [25/120], Train Loss: 0.2792, Val Loss: 0.2503, Val Accuracy: 89.19% Val F1 Score: 0.8613\n"
     ]
    },
    {
     "name": "stderr",
     "output_type": "stream",
     "text": [
      "100%|██████████| 236/236 [00:32<00:00,  7.37it/s]\n"
     ]
    },
    {
     "name": "stdout",
     "output_type": "stream",
     "text": [
      "Epoch [26/120], Train Loss: 0.2590, Val Loss: 0.2218, Val Accuracy: 92.16% Val F1 Score: 0.8792\n"
     ]
    },
    {
     "name": "stderr",
     "output_type": "stream",
     "text": [
      "100%|██████████| 236/236 [00:31<00:00,  7.58it/s]\n"
     ]
    },
    {
     "name": "stdout",
     "output_type": "stream",
     "text": [
      "Epoch [27/120], Train Loss: 0.2632, Val Loss: 0.2706, Val Accuracy: 90.25% Val F1 Score: 0.8682\n"
     ]
    },
    {
     "name": "stderr",
     "output_type": "stream",
     "text": [
      "100%|██████████| 236/236 [00:32<00:00,  7.34it/s]\n"
     ]
    },
    {
     "name": "stdout",
     "output_type": "stream",
     "text": [
      "Epoch [28/120], Train Loss: 0.2613, Val Loss: 0.2598, Val Accuracy: 90.47% Val F1 Score: 0.8797\n"
     ]
    },
    {
     "name": "stderr",
     "output_type": "stream",
     "text": [
      "100%|██████████| 236/236 [00:32<00:00,  7.20it/s]\n"
     ]
    },
    {
     "name": "stdout",
     "output_type": "stream",
     "text": [
      "Epoch [29/120], Train Loss: 0.2525, Val Loss: 0.2641, Val Accuracy: 89.41% Val F1 Score: 0.8746\n"
     ]
    },
    {
     "name": "stderr",
     "output_type": "stream",
     "text": [
      "100%|██████████| 236/236 [00:32<00:00,  7.30it/s]\n"
     ]
    },
    {
     "name": "stdout",
     "output_type": "stream",
     "text": [
      "Epoch [30/120], Train Loss: 0.2482, Val Loss: 0.2446, Val Accuracy: 91.31% Val F1 Score: 0.8554\n"
     ]
    },
    {
     "name": "stderr",
     "output_type": "stream",
     "text": [
      "100%|██████████| 236/236 [00:31<00:00,  7.60it/s]\n"
     ]
    },
    {
     "name": "stdout",
     "output_type": "stream",
     "text": [
      "Epoch [31/120], Train Loss: 0.2495, Val Loss: 0.2452, Val Accuracy: 90.89% Val F1 Score: 0.8192\n"
     ]
    },
    {
     "name": "stderr",
     "output_type": "stream",
     "text": [
      "100%|██████████| 236/236 [00:31<00:00,  7.56it/s]\n"
     ]
    },
    {
     "name": "stdout",
     "output_type": "stream",
     "text": [
      "Epoch [32/120], Train Loss: 0.2434, Val Loss: 0.2426, Val Accuracy: 92.37% Val F1 Score: 0.9085\n"
     ]
    },
    {
     "name": "stderr",
     "output_type": "stream",
     "text": [
      "100%|██████████| 236/236 [00:31<00:00,  7.47it/s]\n"
     ]
    },
    {
     "name": "stdout",
     "output_type": "stream",
     "text": [
      "Epoch 00033: reducing learning rate of group 0 to 1.0800e-04.\n",
      "Epoch [33/120], Train Loss: 0.2321, Val Loss: 0.2284, Val Accuracy: 91.53% Val F1 Score: 0.8505\n"
     ]
    },
    {
     "name": "stderr",
     "output_type": "stream",
     "text": [
      "100%|██████████| 236/236 [00:31<00:00,  7.60it/s]\n"
     ]
    },
    {
     "name": "stdout",
     "output_type": "stream",
     "text": [
      "Epoch [34/120], Train Loss: 0.2379, Val Loss: 0.2437, Val Accuracy: 90.25% Val F1 Score: 0.8864\n"
     ]
    },
    {
     "name": "stderr",
     "output_type": "stream",
     "text": [
      "100%|██████████| 236/236 [00:32<00:00,  7.27it/s]\n"
     ]
    },
    {
     "name": "stdout",
     "output_type": "stream",
     "text": [
      "Epoch [35/120], Train Loss: 0.1993, Val Loss: 0.2235, Val Accuracy: 92.16% Val F1 Score: 0.9222\n"
     ]
    },
    {
     "name": "stderr",
     "output_type": "stream",
     "text": [
      "100%|██████████| 236/236 [00:32<00:00,  7.19it/s]\n"
     ]
    },
    {
     "name": "stdout",
     "output_type": "stream",
     "text": [
      "Epoch [36/120], Train Loss: 0.2100, Val Loss: 0.2241, Val Accuracy: 92.58% Val F1 Score: 0.9227\n"
     ]
    },
    {
     "name": "stderr",
     "output_type": "stream",
     "text": [
      "100%|██████████| 236/236 [00:31<00:00,  7.58it/s]\n"
     ]
    },
    {
     "name": "stdout",
     "output_type": "stream",
     "text": [
      "Epoch [37/120], Train Loss: 0.2206, Val Loss: 0.2429, Val Accuracy: 91.31% Val F1 Score: 0.9022\n"
     ]
    },
    {
     "name": "stderr",
     "output_type": "stream",
     "text": [
      "100%|██████████| 236/236 [00:30<00:00,  7.67it/s]\n"
     ]
    },
    {
     "name": "stdout",
     "output_type": "stream",
     "text": [
      "Epoch [38/120], Train Loss: 0.2094, Val Loss: 0.2035, Val Accuracy: 92.80% Val F1 Score: 0.9106\n"
     ]
    },
    {
     "name": "stderr",
     "output_type": "stream",
     "text": [
      "100%|██████████| 236/236 [00:31<00:00,  7.58it/s]\n"
     ]
    },
    {
     "name": "stdout",
     "output_type": "stream",
     "text": [
      "Epoch [39/120], Train Loss: 0.2028, Val Loss: 0.2577, Val Accuracy: 89.19% Val F1 Score: 0.8764\n"
     ]
    },
    {
     "name": "stderr",
     "output_type": "stream",
     "text": [
      "100%|██████████| 236/236 [00:31<00:00,  7.39it/s]\n"
     ]
    },
    {
     "name": "stdout",
     "output_type": "stream",
     "text": [
      "Epoch [40/120], Train Loss: 0.1915, Val Loss: 0.2862, Val Accuracy: 88.35% Val F1 Score: 0.8609\n"
     ]
    },
    {
     "name": "stderr",
     "output_type": "stream",
     "text": [
      "100%|██████████| 236/236 [00:33<00:00,  7.03it/s]\n"
     ]
    },
    {
     "name": "stdout",
     "output_type": "stream",
     "text": [
      "Epoch [41/120], Train Loss: 0.1985, Val Loss: 0.2598, Val Accuracy: 91.31% Val F1 Score: 0.8919\n"
     ]
    },
    {
     "name": "stderr",
     "output_type": "stream",
     "text": [
      "100%|██████████| 236/236 [00:32<00:00,  7.26it/s]\n"
     ]
    },
    {
     "name": "stdout",
     "output_type": "stream",
     "text": [
      "Epoch [42/120], Train Loss: 0.1990, Val Loss: 0.2082, Val Accuracy: 91.74% Val F1 Score: 0.9007\n"
     ]
    },
    {
     "name": "stderr",
     "output_type": "stream",
     "text": [
      "100%|██████████| 236/236 [00:31<00:00,  7.49it/s]\n"
     ]
    },
    {
     "name": "stdout",
     "output_type": "stream",
     "text": [
      "Epoch [43/120], Train Loss: 0.2047, Val Loss: 0.2216, Val Accuracy: 93.01% Val F1 Score: 0.9278\n"
     ]
    },
    {
     "name": "stderr",
     "output_type": "stream",
     "text": [
      "100%|██████████| 236/236 [00:30<00:00,  7.73it/s]\n"
     ]
    },
    {
     "name": "stdout",
     "output_type": "stream",
     "text": [
      "Epoch [44/120], Train Loss: 0.1922, Val Loss: 0.2607, Val Accuracy: 90.04% Val F1 Score: 0.8869\n"
     ]
    },
    {
     "name": "stderr",
     "output_type": "stream",
     "text": [
      "100%|██████████| 236/236 [00:30<00:00,  7.72it/s]\n"
     ]
    },
    {
     "name": "stdout",
     "output_type": "stream",
     "text": [
      "Epoch [45/120], Train Loss: 0.1845, Val Loss: 0.1978, Val Accuracy: 93.22% Val F1 Score: 0.8976\n"
     ]
    },
    {
     "name": "stderr",
     "output_type": "stream",
     "text": [
      "100%|██████████| 236/236 [00:30<00:00,  7.62it/s]\n"
     ]
    },
    {
     "name": "stdout",
     "output_type": "stream",
     "text": [
      "Epoch [46/120], Train Loss: 0.1914, Val Loss: 0.2395, Val Accuracy: 92.16% Val F1 Score: 0.9002\n"
     ]
    },
    {
     "name": "stderr",
     "output_type": "stream",
     "text": [
      "100%|██████████| 236/236 [00:32<00:00,  7.31it/s]\n"
     ]
    },
    {
     "name": "stdout",
     "output_type": "stream",
     "text": [
      "Epoch [47/120], Train Loss: 0.1799, Val Loss: 0.2801, Val Accuracy: 90.47% Val F1 Score: 0.8564\n"
     ]
    },
    {
     "name": "stderr",
     "output_type": "stream",
     "text": [
      "100%|██████████| 236/236 [00:32<00:00,  7.31it/s]\n"
     ]
    },
    {
     "name": "stdout",
     "output_type": "stream",
     "text": [
      "Epoch [48/120], Train Loss: 0.1728, Val Loss: 0.2407, Val Accuracy: 90.25% Val F1 Score: 0.8837\n"
     ]
    },
    {
     "name": "stderr",
     "output_type": "stream",
     "text": [
      "100%|██████████| 236/236 [00:30<00:00,  7.66it/s]\n"
     ]
    },
    {
     "name": "stdout",
     "output_type": "stream",
     "text": [
      "Epoch [49/120], Train Loss: 0.1896, Val Loss: 0.2293, Val Accuracy: 92.58% Val F1 Score: 0.9016\n"
     ]
    },
    {
     "name": "stderr",
     "output_type": "stream",
     "text": [
      "100%|██████████| 236/236 [00:30<00:00,  7.73it/s]\n"
     ]
    },
    {
     "name": "stdout",
     "output_type": "stream",
     "text": [
      "Epoch [50/120], Train Loss: 0.1770, Val Loss: 0.2049, Val Accuracy: 91.74% Val F1 Score: 0.8850\n"
     ]
    },
    {
     "name": "stderr",
     "output_type": "stream",
     "text": [
      "100%|██████████| 236/236 [00:30<00:00,  7.70it/s]\n"
     ]
    },
    {
     "name": "stdout",
     "output_type": "stream",
     "text": [
      "Epoch [51/120], Train Loss: 0.1746, Val Loss: 0.2177, Val Accuracy: 92.80% Val F1 Score: 0.9252\n"
     ]
    },
    {
     "name": "stderr",
     "output_type": "stream",
     "text": [
      "100%|██████████| 236/236 [00:31<00:00,  7.45it/s]\n"
     ]
    },
    {
     "name": "stdout",
     "output_type": "stream",
     "text": [
      "Epoch 00052: reducing learning rate of group 0 to 6.4800e-05.\n",
      "Epoch [52/120], Train Loss: 0.1653, Val Loss: 0.2534, Val Accuracy: 91.95% Val F1 Score: 0.9089\n"
     ]
    },
    {
     "name": "stderr",
     "output_type": "stream",
     "text": [
      "100%|██████████| 236/236 [00:32<00:00,  7.19it/s]\n"
     ]
    },
    {
     "name": "stdout",
     "output_type": "stream",
     "text": [
      "Epoch [53/120], Train Loss: 0.1608, Val Loss: 0.2368, Val Accuracy: 91.31% Val F1 Score: 0.8960\n"
     ]
    },
    {
     "name": "stderr",
     "output_type": "stream",
     "text": [
      "100%|██████████| 236/236 [00:33<00:00,  7.11it/s]\n"
     ]
    },
    {
     "name": "stdout",
     "output_type": "stream",
     "text": [
      "Epoch [54/120], Train Loss: 0.1596, Val Loss: 0.2326, Val Accuracy: 91.53% Val F1 Score: 0.9086\n"
     ]
    },
    {
     "name": "stderr",
     "output_type": "stream",
     "text": [
      "100%|██████████| 236/236 [00:31<00:00,  7.50it/s]\n"
     ]
    },
    {
     "name": "stdout",
     "output_type": "stream",
     "text": [
      "Epoch [55/120], Train Loss: 0.1563, Val Loss: 0.2430, Val Accuracy: 90.89% Val F1 Score: 0.8935\n"
     ]
    },
    {
     "name": "stderr",
     "output_type": "stream",
     "text": [
      "100%|██████████| 236/236 [00:30<00:00,  7.69it/s]\n"
     ]
    },
    {
     "name": "stdout",
     "output_type": "stream",
     "text": [
      "Epoch [56/120], Train Loss: 0.1545, Val Loss: 0.2301, Val Accuracy: 92.80% Val F1 Score: 0.8973\n"
     ]
    },
    {
     "name": "stderr",
     "output_type": "stream",
     "text": [
      "100%|██████████| 236/236 [00:31<00:00,  7.59it/s]\n"
     ]
    },
    {
     "name": "stdout",
     "output_type": "stream",
     "text": [
      "Epoch [57/120], Train Loss: 0.1565, Val Loss: 0.2089, Val Accuracy: 93.64% Val F1 Score: 0.9133\n"
     ]
    },
    {
     "name": "stderr",
     "output_type": "stream",
     "text": [
      "100%|██████████| 236/236 [00:31<00:00,  7.40it/s]\n"
     ]
    },
    {
     "name": "stdout",
     "output_type": "stream",
     "text": [
      "Epoch [58/120], Train Loss: 0.1518, Val Loss: 0.2392, Val Accuracy: 91.95% Val F1 Score: 0.8940\n"
     ]
    },
    {
     "name": "stderr",
     "output_type": "stream",
     "text": [
      "100%|██████████| 236/236 [00:33<00:00,  7.11it/s]\n"
     ]
    },
    {
     "name": "stdout",
     "output_type": "stream",
     "text": [
      "Epoch 00059: reducing learning rate of group 0 to 3.8880e-05.\n",
      "Epoch [59/120], Train Loss: 0.1564, Val Loss: 0.2467, Val Accuracy: 92.16% Val F1 Score: 0.9042\n"
     ]
    },
    {
     "name": "stderr",
     "output_type": "stream",
     "text": [
      "100%|██████████| 236/236 [00:33<00:00,  7.11it/s]\n"
     ]
    },
    {
     "name": "stdout",
     "output_type": "stream",
     "text": [
      "Epoch [60/120], Train Loss: 0.1436, Val Loss: 0.2333, Val Accuracy: 92.58% Val F1 Score: 0.9188\n"
     ]
    },
    {
     "name": "stderr",
     "output_type": "stream",
     "text": [
      "100%|██████████| 236/236 [00:32<00:00,  7.36it/s]\n"
     ]
    },
    {
     "name": "stdout",
     "output_type": "stream",
     "text": [
      "Epoch [61/120], Train Loss: 0.1266, Val Loss: 0.2530, Val Accuracy: 91.10% Val F1 Score: 0.8871\n"
     ]
    },
    {
     "name": "stderr",
     "output_type": "stream",
     "text": [
      "100%|██████████| 236/236 [00:31<00:00,  7.47it/s]\n"
     ]
    },
    {
     "name": "stdout",
     "output_type": "stream",
     "text": [
      "Epoch [62/120], Train Loss: 0.1332, Val Loss: 0.2686, Val Accuracy: 90.68% Val F1 Score: 0.8822\n"
     ]
    },
    {
     "name": "stderr",
     "output_type": "stream",
     "text": [
      "100%|██████████| 236/236 [00:31<00:00,  7.47it/s]\n"
     ]
    },
    {
     "name": "stdout",
     "output_type": "stream",
     "text": [
      "Epoch [63/120], Train Loss: 0.1357, Val Loss: 0.2264, Val Accuracy: 92.37% Val F1 Score: 0.9056\n"
     ]
    },
    {
     "name": "stderr",
     "output_type": "stream",
     "text": [
      "100%|██████████| 236/236 [00:31<00:00,  7.38it/s]\n"
     ]
    },
    {
     "name": "stdout",
     "output_type": "stream",
     "text": [
      "Epoch [64/120], Train Loss: 0.1291, Val Loss: 0.2594, Val Accuracy: 92.16% Val F1 Score: 0.9114\n"
     ]
    },
    {
     "name": "stderr",
     "output_type": "stream",
     "text": [
      "100%|██████████| 236/236 [00:33<00:00,  7.00it/s]\n"
     ]
    },
    {
     "name": "stdout",
     "output_type": "stream",
     "text": [
      "Epoch [65/120], Train Loss: 0.1276, Val Loss: 0.2437, Val Accuracy: 90.25% Val F1 Score: 0.8720\n"
     ]
    },
    {
     "name": "stderr",
     "output_type": "stream",
     "text": [
      "100%|██████████| 236/236 [00:33<00:00,  7.07it/s]\n"
     ]
    },
    {
     "name": "stdout",
     "output_type": "stream",
     "text": [
      "Epoch 00066: reducing learning rate of group 0 to 2.3328e-05.\n",
      "Epoch [66/120], Train Loss: 0.1321, Val Loss: 0.2667, Val Accuracy: 90.68% Val F1 Score: 0.8921\n"
     ]
    },
    {
     "name": "stderr",
     "output_type": "stream",
     "text": [
      "100%|██████████| 236/236 [00:31<00:00,  7.44it/s]\n"
     ]
    },
    {
     "name": "stdout",
     "output_type": "stream",
     "text": [
      "Epoch [67/120], Train Loss: 0.1273, Val Loss: 0.2554, Val Accuracy: 92.16% Val F1 Score: 0.9055\n"
     ]
    },
    {
     "name": "stderr",
     "output_type": "stream",
     "text": [
      "100%|██████████| 236/236 [00:31<00:00,  7.47it/s]\n"
     ]
    },
    {
     "name": "stdout",
     "output_type": "stream",
     "text": [
      "Epoch [68/120], Train Loss: 0.1245, Val Loss: 0.2453, Val Accuracy: 92.16% Val F1 Score: 0.9043\n"
     ]
    },
    {
     "name": "stderr",
     "output_type": "stream",
     "text": [
      "100%|██████████| 236/236 [00:31<00:00,  7.48it/s]\n"
     ]
    },
    {
     "name": "stdout",
     "output_type": "stream",
     "text": [
      "Epoch [69/120], Train Loss: 0.1320, Val Loss: 0.2841, Val Accuracy: 90.68% Val F1 Score: 0.8914\n"
     ]
    },
    {
     "name": "stderr",
     "output_type": "stream",
     "text": [
      "100%|██████████| 236/236 [00:31<00:00,  7.43it/s]\n"
     ]
    },
    {
     "name": "stdout",
     "output_type": "stream",
     "text": [
      "Epoch [70/120], Train Loss: 0.1181, Val Loss: 0.2521, Val Accuracy: 91.74% Val F1 Score: 0.8901\n"
     ]
    },
    {
     "name": "stderr",
     "output_type": "stream",
     "text": [
      "100%|██████████| 236/236 [00:33<00:00,  7.04it/s]\n"
     ]
    },
    {
     "name": "stdout",
     "output_type": "stream",
     "text": [
      "Epoch [71/120], Train Loss: 0.1292, Val Loss: 0.2558, Val Accuracy: 91.53% Val F1 Score: 0.8961\n",
      "Early stopping on epoch 71\n"
     ]
    }
   ],
   "source": [
    "\n",
    "from sklearn.metrics import f1_score as calculate_f1_score\n",
    "\n",
    "for epoch in range(num_epochs):\n",
    "    model.train()\n",
    "    epoch_train_losses = []  # Temporary list for storing training losses for each batch\n",
    "    all_predicted = []\n",
    "    all_labels = []\n",
    "    for batch_idx, (spectrograms, labels) in tqdm(enumerate(train_loader), total=len(train_loader)):\n",
    "        spectrograms = spectrograms.to(device)\n",
    "        labels = labels.to(device)\n",
    "\n",
    "        # Forward pass\n",
    "        outputs = model(spectrograms)\n",
    "        loss = criterion(outputs, labels)\n",
    "        epoch_train_losses.append(loss.item())  # Append current batch loss\n",
    "\n",
    "        # Backward pass and optimization\n",
    "        optimizer.zero_grad()\n",
    "        loss.backward()\n",
    "        optimizer.step()\n",
    "\n",
    "    # Calculate average training loss for the epoch\n",
    "    avg_train_loss = sum(epoch_train_losses) / len(epoch_train_losses)\n",
    "    train_losses.append(avg_train_loss)  # Append average loss to main list\n",
    "\n",
    "    model.eval()\n",
    "    epoch_val_losses = []  # Temporary list for storing validation losses for each batch\n",
    "    correct_predictions = 0\n",
    "    total_samples = 0\n",
    "\n",
    "    with torch.no_grad():\n",
    "        for spectrograms, labels in test_loader:\n",
    "            spectrograms = spectrograms.to(device)\n",
    "            labels = labels.to(device)\n",
    "\n",
    "            # Forward pass\n",
    "            outputs = model(spectrograms)\n",
    "            loss = criterion(outputs, labels)\n",
    "            epoch_val_losses.append(loss.item())  # Append current batch loss\n",
    "\n",
    "            # Compute the predicted labels\n",
    "            _, predicted = torch.max(outputs, 1)\n",
    "            all_predicted.extend(predicted.cpu().numpy())\n",
    "            all_labels.extend(labels.cpu().numpy())\n",
    "            \n",
    "            total_samples += labels.size(0)\n",
    "            correct_predictions += (predicted == labels).sum().item()\n",
    "\n",
    "    # Calculate average validation loss for the epoch\n",
    "    avg_val_loss = sum(epoch_val_losses) / len(epoch_val_losses)\n",
    "    val_losses.append(avg_val_loss)  # Append average loss to main list\n",
    "\n",
    "    # Model saving and logging based on accuracy, loss, and now F1 score\n",
    "    accuracy = correct_predictions / total_samples\n",
    "\n",
    "    # Calculate macro avg f1 score using the alias\n",
    "    f1_macro_avg = calculate_f1_score(all_labels, all_predicted, average='macro')\n",
    "\n",
    "\n",
    "    if f1_macro_avg > best_f1_macro_avg:\n",
    "        best_f1_macro_avg = f1_macro_avg\n",
    "        torch.save(model, standalone_results_path + '/checkpoint_best_f1.pth')\n",
    "        early_stop_counter = 0\n",
    "        with open(standalone_results_path + '/log_file.txt', 'a') as log_file:\n",
    "            log_file.write(f\"Best F1 Score improved on epoch {epoch}: {best_f1_macro_avg:.4f}\\n\")\n",
    "\n",
    "    if correct_predictions / total_samples > best_accuracy:\n",
    "        best_accuracy = accuracy\n",
    "        torch.save(model, standalone_results_path + '/checkpoint.pth')\n",
    "        early_stop_counter = 0\n",
    "        with open(standalone_results_path + '/log_file.txt', 'a') as log_file:\n",
    "            log_file.write(f\"Best accuracy improved on epoch {epoch}: {best_accuracy * 100:.2f}%\\n\")\n",
    "    \n",
    "    if avg_val_loss < best_loss:\n",
    "        best_loss = avg_val_loss\n",
    "        torch.save(model, standalone_results_path + '/checkpoint_best_loss.pth')\n",
    "        early_stop_counter = 0\n",
    "        with open(standalone_results_path + '/log_file.txt', 'a') as log_file:\n",
    "            log_file.write(f\"Best loss improved on epoch {epoch}: {best_loss:.4f}\\n\")\n",
    "\n",
    "    scheduler.step(avg_val_loss)\n",
    "\n",
    "    # Logging for each epoch\n",
    "    print(f\"Epoch [{epoch+1}/{num_epochs}], Train Loss: {avg_train_loss:.4f}, Val Loss: {avg_val_loss:.4f}, Val Accuracy: {accuracy * 100:.2f}%\", f\"Val F1 Score: {f1_macro_avg:.4f}\")\n",
    "    with open(standalone_results_path + '/log_file.txt', 'a') as log_file:\n",
    "        log_file.write(f\"Epoch [{epoch+1}/{num_epochs}], Train Loss: {avg_train_loss:.4f}, Val Loss: {avg_val_loss:.4f}, Accuracy: {accuracy}, Early stopping count: {early_stop_counter} from {patience}\\n\")\n",
    "\n",
    "    # Early stopping\n",
    "    early_stop_counter += 1\n",
    "    if early_stop_counter >= patience:\n",
    "        print(f\"Early stopping on epoch {epoch+1}\")\n",
    "        break\n"
   ]
  },
  {
   "cell_type": "markdown",
   "metadata": {},
   "source": [
    "## Losses Plot\n",
    "\n",
    "Tend way more to overfitting than the pretraineds Models also with regularization with masking "
   ]
  },
  {
   "cell_type": "code",
   "execution_count": 9,
   "metadata": {},
   "outputs": [
    {
     "data": {
      "image/png": "[encoded data removed]",
      "text/plain": [
       "<Figure size 900x600 with 1 Axes>"
      ]
     },
     "metadata": {},
     "output_type": "display_data"
    }
   ],
   "source": [
    "# Save full model\n",
    "torch.save(model, standalone_results_path + '/Full_model_checkpoint.pth')\n",
    "\n",
    "# Convert tensors in the lists to numbers if necessary\n",
    "train_losses_cpu = [loss.cpu().item() if isinstance(loss, torch.Tensor) else loss for loss in train_losses]\n",
    "val_losses_cpu = [loss.cpu().item() if isinstance(loss, torch.Tensor) else loss for loss in val_losses]\n",
    "\n",
    "# Now plot these lists\n",
    "plt.figure(figsize=(9, 6))\n",
    "plt.plot(train_losses_cpu, label='Train Loss')\n",
    "plt.plot(val_losses_cpu, label='Val Loss')\n",
    "plt.xlabel('Epoch')\n",
    "plt.ylabel('Loss')\n",
    "plt.legend()\n",
    "plt.tight_layout()\n",
    "\n",
    "\n",
    "plt.savefig(f'{standalone_results_path}/loss_plot.png')\n",
    "\n",
    "plt.show()"
   ]
  },
  {
   "cell_type": "code",
   "execution_count": 10,
   "metadata": {},
   "outputs": [],
   "source": [
    "#standalone_results_path = \"./results_standalone/SA_ADSMI_RS96_15sec_batch32_7_50_masking_ref3\""
   ]
  },
  {
   "cell_type": "code",
   "execution_count": 11,
   "metadata": {},
   "outputs": [
    {
     "name": "stdout",
     "output_type": "stream",
     "text": [
      "\n",
      "Evaluation Results:\n",
      "Balanced Accuracy2: 87.97%\n",
      "Test Accuracy: 92.37%\n",
      "\n",
      "Evaluation Results:\n",
      "Accuracy: 92.37%\n",
      "Precision: 92.20%\n",
      "Recall: 87.97%\n",
      "F1-score: 89.88%\n",
      "Kappa: 87.86%\n",
      "                         precision    recall  f1-score   support\n",
      "\n",
      "            [Kreischen]     0.8987    0.9682    0.9322       220\n",
      "[Kreischen][Quietschen]     0.8986    0.8611    0.8794        72\n",
      "              [Negativ]     0.9740    0.9036    0.9375       166\n",
      "           [Quietschen]     0.9167    0.7857    0.8462        14\n",
      "\n",
      "               accuracy                         0.9237       472\n",
      "              macro avg     0.9220    0.8797    0.8988       472\n",
      "           weighted avg     0.9257    0.9237    0.9234       472\n",
      "\n"
     ]
    },
    {
     "data": {
      "image/png": "[encoded data removed]",
      "text/plain": [
       "<Figure size 700x700 with 1 Axes>"
      ]
     },
     "metadata": {},
     "output_type": "display_data"
    }
   ],
   "source": [
    "validation_fun(standalone_results_path,'/Full_model_checkpoint.pth',\"full_model\",val_df,config.finetune_epochs,config.batch_size,learning_rate,weight_decay)\n"
   ]
  },
  {
   "cell_type": "code",
   "execution_count": 12,
   "metadata": {},
   "outputs": [
    {
     "data": {
      "text/plain": [
       "'./results_standalone/SA_ADSMI_RS96_15sec_batch32_7_50_masking_Test7_2'"
      ]
     },
     "execution_count": 12,
     "metadata": {},
     "output_type": "execute_result"
    }
   ],
   "source": [
    "standalone_results_path"
   ]
  },
  {
   "cell_type": "code",
   "execution_count": 13,
   "metadata": {},
   "outputs": [
    {
     "name": "stdout",
     "output_type": "stream",
     "text": [
      "\n",
      "Evaluation Results:\n",
      "Balanced Accuracy2: 91.54%\n",
      "Test Accuracy: 92.80%\n",
      "\n",
      "Evaluation Results:\n",
      "Accuracy: 92.80%\n",
      "Precision: 91.30%\n",
      "Recall: 91.54%\n",
      "F1-score: 91.32%\n",
      "Kappa: 88.58%\n",
      "                         precision    recall  f1-score   support\n",
      "\n",
      "            [Kreischen]     0.9064    0.9682    0.9363       220\n",
      "[Kreischen][Quietschen]     0.8986    0.8611    0.8794        72\n",
      "              [Negativ]     0.9804    0.9036    0.9404       166\n",
      "           [Quietschen]     0.8667    0.9286    0.8966        14\n",
      "\n",
      "               accuracy                         0.9280       472\n",
      "              macro avg     0.9130    0.9154    0.9132       472\n",
      "           weighted avg     0.9300    0.9280    0.9279       472\n",
      "\n"
     ]
    },
    {
     "data": {
      "image/png": "[encoded data removed]",
      "text/plain": [
       "<Figure size 700x700 with 1 Axes>"
      ]
     },
     "metadata": {},
     "output_type": "display_data"
    }
   ],
   "source": [
    "validation_fun(standalone_results_path,'/checkpoint_best_f1.pth',\"f1_model\",val_df,config.finetune_epochs,config.batch_size,learning_rate,weight_decay)\n"
   ]
  },
  {
   "cell_type": "code",
   "execution_count": 14,
   "metadata": {},
   "outputs": [
    {
     "name": "stdout",
     "output_type": "stream",
     "text": [
      "\n",
      "Evaluation Results:\n",
      "Balanced Accuracy2: 88.47%\n",
      "Test Accuracy: 92.16%\n",
      "\n",
      "Evaluation Results:\n",
      "Accuracy: 92.16%\n",
      "Precision: 92.34%\n",
      "Recall: 88.47%\n",
      "F1-score: 90.22%\n",
      "Kappa: 87.47%\n",
      "                         precision    recall  f1-score   support\n",
      "\n",
      "            [Kreischen]     0.8912    0.9682    0.9281       220\n",
      "[Kreischen][Quietschen]     0.9048    0.7917    0.8444        72\n",
      "              [Negativ]     0.9745    0.9217    0.9474       166\n",
      "           [Quietschen]     0.9231    0.8571    0.8889        14\n",
      "\n",
      "               accuracy                         0.9216       472\n",
      "              macro avg     0.9234    0.8847    0.9022       472\n",
      "           weighted avg     0.9235    0.9216    0.9210       472\n",
      "\n"
     ]
    },
    {
     "data": {
      "image/png": "[encoded data removed]",
      "text/plain": [
       "<Figure size 700x700 with 1 Axes>"
      ]
     },
     "metadata": {},
     "output_type": "display_data"
    }
   ],
   "source": [
    "validation_fun(standalone_results_path,'/checkpoint.pth',\"best_accuracy\",val_df,config.finetune_epochs,config.batch_size,learning_rate,weight_decay)\n"
   ]
  },
  {
   "cell_type": "code",
   "execution_count": 15,
   "metadata": {},
   "outputs": [
    {
     "name": "stdout",
     "output_type": "stream",
     "text": [
      "\n",
      "Evaluation Results:\n",
      "Balanced Accuracy2: 91.54%\n",
      "Test Accuracy: 92.16%\n",
      "\n",
      "Evaluation Results:\n",
      "Accuracy: 92.16%\n",
      "Precision: 90.00%\n",
      "Recall: 91.54%\n",
      "F1-score: 90.73%\n",
      "Kappa: 87.66%\n",
      "                         precision    recall  f1-score   support\n",
      "\n",
      "            [Kreischen]     0.9196    0.9364    0.9279       220\n",
      "[Kreischen][Quietschen]     0.8514    0.8750    0.8630        72\n",
      "              [Negativ]     0.9623    0.9217    0.9415       166\n",
      "           [Quietschen]     0.8667    0.9286    0.8966        14\n",
      "\n",
      "               accuracy                         0.9216       472\n",
      "              macro avg     0.9000    0.9154    0.9073       472\n",
      "           weighted avg     0.9226    0.9216    0.9219       472\n",
      "\n"
     ]
    },
    {
     "data": {
      "image/png": "[encoded data removed]",
      "text/plain": [
       "<Figure size 700x700 with 1 Axes>"
      ]
     },
     "metadata": {},
     "output_type": "display_data"
    }
   ],
   "source": [
    "validation_fun(standalone_results_path,'/checkpoint_best_loss.pth',\"best_loss\",val_df,config.finetune_epochs,config.batch_size,learning_rate,weight_decay)"
   ]
  },
  {
   "cell_type": "code",
   "execution_count": 16,
   "metadata": {},
   "outputs": [],
   "source": [
    "\n",
    "\n",
    "# # and loaded any pre-trained weights, e.g., model = Resnet50_Classifier(num_classes)\n",
    "\n",
    "# # Set the device for testing\n",
    "# device = torch.device('cuda' if torch.cuda.is_available() else 'cpu')\n",
    "# config.val_sound_length = 20\n",
    "# # Create a data loader for the test set\n",
    "# val_loader = DL.create_generators_finetune_val(val_df)  \n",
    "\n",
    "# #model = torch.load(\"./results_standalone/newgpu2_checkpoint.pth\")\n",
    "# model = torch.load(standalone_results_path + '/Full_model_checkpoint.pth')\n",
    "# # Transfer the model to the testing device\n",
    "# model.to(device)\n",
    "\n",
    "# # Define a criterion for evaluation (e.g., cross-entropy loss for classification)\n",
    "# criterion = nn.CrossEntropyLoss()\n",
    "\n",
    "# # Initialize variables for evaluation metrics (e.g., accuracy)\n",
    "# correct_predictions = 0\n",
    "# total_samples = 0\n",
    "\n",
    "# # Define the label dictionary\n",
    "# true_labels_dic = {0: '[Kreischen]', 1: '[Kreischen][Quietschen]', 2: '[Negativ]', 3: '[Quietschen]'}\n",
    "\n",
    "# # Set the model to evaluation mode \n",
    "# model.eval()\n",
    "\n",
    "# # Initialize lists to store all true labels and predicted labels\n",
    "# all_true_labels = []\n",
    "# all_predicted_labels = []\n",
    "\n",
    "# # Iterate through the test set\n",
    "# with torch.no_grad():\n",
    "#     for spectrograms, labels in val_loader:\n",
    "#         # Move data to the testing device\n",
    "#         spectrograms = spectrograms.to(device)\n",
    "#         labels = labels.to(device)\n",
    "\n",
    "#         # Forward pass\n",
    "#         outputs = model(spectrograms)\n",
    "        \n",
    "#         # Compute the predicted labels\n",
    "#         _, predicted = torch.max(outputs, 1)\n",
    "\n",
    "#         # Append true and predicted labels to the lists\n",
    "#         all_true_labels.extend(labels.cpu().numpy())\n",
    "#         all_predicted_labels.extend(predicted.cpu().numpy())\n",
    "\n",
    "# # Convert lists to numpy arrays\n",
    "# all_true_labels = np.array(all_true_labels)\n",
    "# all_predicted_labels = np.array(all_predicted_labels)\n",
    "\n",
    "# # Calculate accuracy, precision, recall, F1-score, etc. using all_true_labels and all_predicted_labels\n",
    "# accuracy = np.mean(all_true_labels == all_predicted_labels)\n",
    "# precision, recall, f1_score, _ = precision_recall_fscore_support(all_true_labels, all_predicted_labels, average='weighted')\n",
    "\n",
    "\n",
    "# #calculate balanced accuracy\n",
    "# balanced_accuracy2 = balanced_accuracy_score(all_true_labels, all_predicted_labels)\n",
    "# #kappa score\n",
    "# cohens_kappa = cohen_kappa_score(all_true_labels, all_predicted_labels)\n",
    "\n",
    "\n",
    "# print(f\"\\nEvaluation Results:\")\n",
    "# #print(f\"Balanced Accuracy: {balanced_accuracy * 100:.2f}%\")\n",
    "# print(f\"Balanced Accuracy2: {balanced_accuracy2 * 100:.2f}%\")\n",
    "\n",
    "# print(f\"Test Accuracy: {accuracy * 100:.2f}%\")\n",
    "# print(f\"\\nEvaluation Results:\")\n",
    "# print(f\"Accuracy: {accuracy * 100:.2f}%\")\n",
    "# print(f\"Precision: {precision * 100:.2f}%\")\n",
    "# print(f\"Recall: {recall * 100:.2f}%\")\n",
    "# print(f\"F1-score: {f1_score * 100:.2f}%\")\n",
    "# print(f\"Kappa: {cohens_kappa * 100:.2f}%\")\n",
    "\n",
    "# conf_mat = confusion_matrix(all_true_labels, all_predicted_labels)\n",
    "# def plot_confusion_matrix(conf_mat, class_labels):\n",
    "#     plt.figure(figsize=(8, 6))\n",
    "#     sns.set(font_scale=1.2)\n",
    "    \n",
    "#     class_labels = [str(label) for label in class_labels]\n",
    "    \n",
    "#     ax = sns.heatmap(conf_mat, annot=True, fmt=\"d\", cmap=\"Blues\", cbar=False,\n",
    "#                 xticklabels=class_labels,\n",
    "#                 yticklabels=class_labels)\n",
    "    \n",
    "#     plt.xlabel('Predicted Labels')\n",
    "#     plt.ylabel('True Labels')\n",
    "#     plt.title('Confusion Matrix')\n",
    "#     plt.xticks(rotation=90)\n",
    "\n",
    "#     return plt.gcf()  # Return the current figure\n",
    "\n",
    "# import config\n",
    "# #create classification results text file\n",
    "# with open(f'{standalone_results_path}/results_file_full.txt', 'w') as log_file:\n",
    "#     log_file.write(f\"########################################################\\n\")\n",
    "#     log_file.write(f\"Frequency Mask:{config.freq_mask_param}\\n\")\n",
    "#     log_file.write(f\"Time Mask: {config.time_mask_param}\\n\")\n",
    "#     log_file.write(f\"Spectro:\\n\")\n",
    "#     log_file.write(f\"        n_fft={2048},\\n\")\n",
    "#     log_file.write(f\"        hop_length = {512},\\n\")\n",
    "#     log_file.write(f\"        n_mels={128},  \\n\")\n",
    "#     log_file.write(f\"        win_length = {2048},\\n\")\n",
    "#     log_file.write(f\"Epochs: {num_epochs}\\n\")\n",
    "#     log_file.write(f\"Batch size: {batch_size}\\n\")\n",
    "#     log_file.write(f\"Optimizer: Adam\\n\")\n",
    "#     log_file.write(f\"Learning rate: {learning_rate}\\n\")\n",
    "#     log_file.write(f\"Weight decay: {weight_decay}\\n\")\n",
    "#     log_file.write(f\"Scheduler: ReduceLROnPlateau\\n\")\n",
    "#     log_file.write(f\"Model: ModifiedResnet50_Classifier \\n\")\n",
    "#     log_file.write(f\"classifiers: 512, 256, 4 : 2 fully connected layers\\n\")\n",
    "#     log_file.write(f\"########################################################\\n\\n\")\n",
    "#     log_file.write(f\"Balanced Accuracy2: {balanced_accuracy2 * 100:.2f}%\\n\")\n",
    "#     log_file.write(f\"Test Accuracy: {accuracy * 100:.2f}%\\n\")\n",
    "#     log_file.write(f\"\\nEvaluation Results:\\n\")\n",
    "#     log_file.write(f\"Precision: {precision * 100:.2f}%\\n\")\n",
    "#     log_file.write(f\"Recall: {recall * 100:.2f}%\\n\")\n",
    "#     log_file.write(f\"F1-score: {f1_score * 100:.2f}%\\n\")\n",
    "#     log_file.write(f\"Kappa: {cohens_kappa * 100:.2f}%\\n\")\n",
    "#     log_file.write(f\"########################################################\\n\\n\")\n",
    "#     log_file.write(f\"Confusion Matrix:\\n\")\n",
    "#     log_file.write(f\"{conf_mat}\\n\")\n",
    "#     log_file.write(f\"########################################################\\n\\n\")\n",
    "#     log_file.write(f\"Classifcation Report: {classification_report(all_true_labels, all_predicted_labels, target_names=true_labels_dic.values())}\\n\")\n",
    "\n",
    "# print(classification_report(all_true_labels, all_predicted_labels, target_names=true_labels_dic.values()))\n",
    "\n",
    "# #save this plot as a png file\n",
    "# plot = plot_confusion_matrix(conf_mat, true_labels_dic.values())\n",
    "# plot.savefig(f'{standalone_results_path}/confusion_matrix_full.png')\n",
    "\n",
    "\n",
    "\n",
    "\n",
    "\n",
    "\n",
    "\n"
   ]
  },
  {
   "cell_type": "code",
   "execution_count": 17,
   "metadata": {},
   "outputs": [],
   "source": [
    "\n",
    "# # Create a data loader for the test set\n",
    "# val_loader = DL.create_generators_finetune_val(val_df)  \n",
    "\n",
    "# #model = torch.load(\"./results_standalone/newgpu2_checkpoint.pth\")\n",
    "# model = torch.load(standalone_results_path + '/checkpoint.pth')\n",
    "# # Transfer the model to the testing device\n",
    "# model.to(device)\n",
    "\n",
    "# # Define a criterion for evaluation (e.g., cross-entropy loss for classification)\n",
    "# criterion = nn.CrossEntropyLoss()\n",
    "\n",
    "# # Initialize variables for evaluation metrics (e.g., accuracy)\n",
    "# correct_predictions = 0\n",
    "# total_samples = 0\n",
    "\n",
    "# # Define the label dictionary\n",
    "# true_labels_dic = {0: '[Kreischen]', 1: '[Kreischen][Quietschen]', 2: '[Negativ]', 3: '[Quietschen]'}\n",
    "\n",
    "# # Set the model to evaluation mode \n",
    "# model.eval()\n",
    "\n",
    "# # Initialize lists to store all true labels and predicted labels\n",
    "# all_true_labels = []\n",
    "# all_predicted_labels = []\n",
    "\n",
    "# # Iterate through the test set\n",
    "# with torch.no_grad():\n",
    "#     for spectrograms, labels in val_loader:\n",
    "#         # Move data to the testing device\n",
    "#         spectrograms = spectrograms.to(device)\n",
    "#         labels = labels.to(device)\n",
    "\n",
    "#         # Forward pass\n",
    "#         outputs = model(spectrograms)\n",
    "        \n",
    "#         # Compute the predicted labels\n",
    "#         _, predicted = torch.max(outputs, 1)\n",
    "\n",
    "#         # Append true and predicted labels to the lists\n",
    "#         all_true_labels.extend(labels.cpu().numpy())\n",
    "#         all_predicted_labels.extend(predicted.cpu().numpy())\n",
    "\n",
    "# # Convert lists to numpy arrays\n",
    "# all_true_labels = np.array(all_true_labels)\n",
    "# all_predicted_labels = np.array(all_predicted_labels)\n",
    "\n",
    "# # Calculate accuracy, precision, recall, F1-score, etc. using all_true_labels and all_predicted_labels\n",
    "# #use sklearn  accuracy \n",
    "# accuracy = np.mean(all_true_labels == all_predicted_labels)\n",
    "# precision, recall, f1_score, _ = precision_recall_fscore_support(all_true_labels, all_predicted_labels, average='weighted')\n",
    "\n",
    "\n",
    "# #calculate balanced accuracy\n",
    "# balanced_accuracy2 = balanced_accuracy_score(all_true_labels, all_predicted_labels)\n",
    "# #kappa score\n",
    "# cohens_kappa = cohen_kappa_score(all_true_labels, all_predicted_labels)\n",
    "\n",
    "\n",
    "# print(f\"\\nEvaluation Results:\")\n",
    "# #print(f\"Balanced Accuracy: {balanced_accuracy * 100:.2f}%\")\n",
    "# print(f\"Balanced Accuracy2: {balanced_accuracy2 * 100:.2f}%\")\n",
    "\n",
    "# print(f\"Test Accuracy: {accuracy * 100:.2f}%\")\n",
    "# print(f\"\\nEvaluation Results:\")\n",
    "# print(f\"Accuracy: {accuracy * 100:.2f}%\")\n",
    "# print(f\"Precision: {precision * 100:.2f}%\")\n",
    "# print(f\"Recall: {recall * 100:.2f}%\")\n",
    "# print(f\"F1-score: {f1_score * 100:.2f}%\")\n",
    "# print(f\"Kappa: {cohens_kappa * 100:.2f}%\")\n",
    "\n",
    "# conf_mat = confusion_matrix(all_true_labels, all_predicted_labels)\n",
    "# def plot_confusion_matrix(conf_mat, class_labels):\n",
    "#     plt.figure(figsize=(8, 6))\n",
    "#     sns.set(font_scale=1.2)\n",
    "    \n",
    "#     class_labels = [str(label) for label in class_labels]\n",
    "    \n",
    "#     ax = sns.heatmap(conf_mat, annot=True, fmt=\"d\", cmap=\"Blues\", cbar=False,\n",
    "#                 xticklabels=class_labels,\n",
    "#                 yticklabels=class_labels)\n",
    "    \n",
    "#     plt.xlabel('Predicted Labels')\n",
    "#     plt.ylabel('True Labels')\n",
    "#     plt.title('Confusion Matrix')\n",
    "#     plt.xticks(rotation=90)\n",
    "\n",
    "#     return plt.gcf()  # Return the current figure\n",
    "\n",
    "# import config\n",
    "# #create classification results text file\n",
    "# with open(f'{standalone_results_path}/results_file_best.txt', 'w') as log_file:\n",
    "#     log_file.write(f\"########################################################\\n\")\n",
    "#     log_file.write(f\"Frequency Mask:{config.freq_mask_param}\\n\")\n",
    "#     log_file.write(f\"Time Mask: {config.time_mask_param}\\n\")\n",
    "#     log_file.write(f\"Spectro:\\n\")\n",
    "#     log_file.write(f\"        n_fft={2048},\\n\")\n",
    "#     log_file.write(f\"        hop_length = {512},\\n\")\n",
    "#     log_file.write(f\"        n_mels={128},  \\n\")\n",
    "#     log_file.write(f\"        win_length = {2048},\\n\")\n",
    "#     log_file.write(f\"Epochs: {num_epochs}\\n\")\n",
    "#     log_file.write(f\"Batch size: {batch_size}\\n\")\n",
    "#     log_file.write(f\"Optimizer: Adam\\n\")\n",
    "#     log_file.write(f\"Learning rate: {learning_rate}\\n\")\n",
    "#     log_file.write(f\"Weight decay: {weight_decay}\\n\")\n",
    "#     log_file.write(f\"Scheduler: ReduceLROnPlateau\\n\")\n",
    "#     log_file.write(f\"Model: ModifiedResnet50_Classifier \\n\")\n",
    "#     log_file.write(f\"classifiers: 512, 256, 4 : 2 fully connected layers\\n\")\n",
    "#     log_file.write(f\"########################################################\\n\\n\")\n",
    "#     log_file.write(f\"Balanced Accuracy2: {balanced_accuracy2 * 100:.2f}%\\n\")\n",
    "#     log_file.write(f\"Test Accuracy: {accuracy * 100:.2f}%\\n\")\n",
    "#     log_file.write(f\"\\nEvaluation Results:\\n\")\n",
    "#     log_file.write(f\"Precision: {precision * 100:.2f}%\\n\")\n",
    "#     log_file.write(f\"Recall: {recall * 100:.2f}%\\n\")\n",
    "#     log_file.write(f\"F1-score: {f1_score * 100:.2f}%\\n\")\n",
    "#     log_file.write(f\"Kappa: {cohens_kappa * 100:.2f}%\\n\")\n",
    "#     log_file.write(f\"########################################################\\n\\n\")\n",
    "#     log_file.write(f\"Confusion Matrix:\\n\")\n",
    "#     log_file.write(f\"{conf_mat}\\n\")\n",
    "#     log_file.write(f\"########################################################\\n\\n\")\n",
    "#     log_file.write(f\"Classifcation Report: {classification_report(all_true_labels, all_predicted_labels, target_names=true_labels_dic.values())}\\n\")\n",
    "\n",
    "# print(classification_report(all_true_labels, all_predicted_labels, target_names=true_labels_dic.values()))\n",
    "\n",
    "# #save this plotas a png file\n",
    "# plot = plot_confusion_matrix(conf_mat, true_labels_dic.values())\n",
    "# plot.savefig(f'{standalone_results_path}/confusion_matrix_best.png')\n",
    "\n",
    "\n",
    "\n",
    "\n",
    "\n",
    "\n",
    "\n"
   ]
  },
  {
   "cell_type": "code",
   "execution_count": 18,
   "metadata": {},
   "outputs": [],
   "source": [
    "\n",
    "# # Create a data loader for the test set\n",
    "# val_loader = DL.create_generators_finetune_val(val_df)  \n",
    "\n",
    "# #model = torch.load(\"./results_standalone/newgpu2_checkpoint.pth\")\n",
    "# model = torch.load(standalone_results_path + '/checkpoint_best_loss.pth')\n",
    "# # Transfer the model to the testing device\n",
    "# model.to(device)\n",
    "\n",
    "# # Define a criterion for evaluation (e.g., cross-entropy loss for classification)\n",
    "# criterion = nn.CrossEntropyLoss()\n",
    "\n",
    "# # Initialize variables for evaluation metrics (e.g., accuracy)\n",
    "# correct_predictions = 0\n",
    "# total_samples = 0\n",
    "\n",
    "# # Define the label dictionary\n",
    "# true_labels_dic = {0: '[Kreischen]', 1: '[Kreischen][Quietschen]', 2: '[Negativ]', 3: '[Quietschen]'}\n",
    "\n",
    "# # Set the model to evaluation mode \n",
    "# model.eval()\n",
    "\n",
    "# # Initialize lists to store all true labels and predicted labels\n",
    "# all_true_labels = []\n",
    "# all_predicted_labels = []\n",
    "\n",
    "# # Iterate through the test set\n",
    "# with torch.no_grad():\n",
    "#     for spectrograms, labels in val_loader:\n",
    "#         # Move data to the testing device\n",
    "#         spectrograms = spectrograms.to(device)\n",
    "#         labels = labels.to(device)\n",
    "\n",
    "#         # Forward pass\n",
    "#         outputs = model(spectrograms)\n",
    "        \n",
    "#         # Compute the predicted labels\n",
    "#         _, predicted = torch.max(outputs, 1)\n",
    "\n",
    "#         # Append true and predicted labels to the lists\n",
    "#         all_true_labels.extend(labels.cpu().numpy())\n",
    "#         all_predicted_labels.extend(predicted.cpu().numpy())\n",
    "\n",
    "# # Convert lists to numpy arrays\n",
    "# all_true_labels = np.array(all_true_labels)\n",
    "# all_predicted_labels = np.array(all_predicted_labels)\n",
    "\n",
    "# # Calculate accuracy, precision, recall, F1-score, etc. using all_true_labels and all_predicted_labels\n",
    "# #use sklearn  accuracy \n",
    "# accuracy = np.mean(all_true_labels == all_predicted_labels)\n",
    "# precision, recall, f1_score, _ = precision_recall_fscore_support(all_true_labels, all_predicted_labels, average='weighted')\n",
    "\n",
    "\n",
    "# #calculate balanced accuracy\n",
    "# balanced_accuracy2 = balanced_accuracy_score(all_true_labels, all_predicted_labels)\n",
    "# #kappa score\n",
    "# cohens_kappa = cohen_kappa_score(all_true_labels, all_predicted_labels)\n",
    "\n",
    "\n",
    "# print(f\"\\nEvaluation Results:\")\n",
    "# #print(f\"Balanced Accuracy: {balanced_accuracy * 100:.2f}%\")\n",
    "# print(f\"Balanced Accuracy2: {balanced_accuracy2 * 100:.2f}%\")\n",
    "\n",
    "# print(f\"Test Accuracy: {accuracy * 100:.2f}%\")\n",
    "# print(f\"\\nEvaluation Results:\")\n",
    "# print(f\"Accuracy: {accuracy * 100:.2f}%\")\n",
    "# print(f\"Precision: {precision * 100:.2f}%\")\n",
    "# print(f\"Recall: {recall * 100:.2f}%\")\n",
    "# print(f\"F1-score: {f1_score * 100:.2f}%\")\n",
    "# print(f\"Kappa: {cohens_kappa * 100:.2f}%\")\n",
    "\n",
    "# conf_mat = confusion_matrix(all_true_labels, all_predicted_labels)\n",
    "# def plot_confusion_matrix(conf_mat, class_labels):\n",
    "#     plt.figure(figsize=(8, 6))\n",
    "#     sns.set(font_scale=1.2)\n",
    "    \n",
    "#     class_labels = [str(label) for label in class_labels]\n",
    "    \n",
    "#     ax = sns.heatmap(conf_mat, annot=True, fmt=\"d\", cmap=\"Blues\", cbar=False,\n",
    "#                 xticklabels=class_labels,\n",
    "#                 yticklabels=class_labels)\n",
    "    \n",
    "#     plt.xlabel('Predicted Labels')\n",
    "#     plt.ylabel('True Labels')\n",
    "#     plt.title('Confusion Matrix')\n",
    "#     plt.xticks(rotation=90)\n",
    "\n",
    "#     return plt.gcf()  # Return the current figure\n",
    "\n",
    "# import config\n",
    "# #create classification results text file\n",
    "# with open(f'{standalone_results_path}/results_file_best_loss.txt', 'w') as log_file:\n",
    "#     log_file.write(f\"########################################################\\n\")\n",
    "#     log_file.write(f\"Frequency Mask:{config.freq_mask_param}\\n\")\n",
    "#     log_file.write(f\"Time Mask: {config.time_mask_param}\\n\")\n",
    "#     log_file.write(f\"Spectro:\\n\")\n",
    "#     log_file.write(f\"        n_fft={2048},\\n\")\n",
    "#     log_file.write(f\"        hop_length = {512},\\n\")\n",
    "#     log_file.write(f\"        n_mels={128},  \\n\")\n",
    "#     log_file.write(f\"        win_length = {2048},\\n\")\n",
    "#     log_file.write(f\"Epochs: {num_epochs}\\n\")\n",
    "#     log_file.write(f\"Batch size: {batch_size}\\n\")\n",
    "#     log_file.write(f\"Optimizer: Adam\\n\")\n",
    "#     log_file.write(f\"Learning rate: {learning_rate}\\n\")\n",
    "#     log_file.write(f\"Weight decay: {weight_decay}\\n\")\n",
    "#     log_file.write(f\"Scheduler: ReduceLROnPlateau\\n\")\n",
    "#     log_file.write(f\"Model: ModifiedResnet50_Classifier \\n\")\n",
    "#     log_file.write(f\"classifiers: 512, 256, 4 : 2 fully connected layers\\n\")\n",
    "#     log_file.write(f\"########################################################\\n\\n\")\n",
    "#     log_file.write(f\"Balanced Accuracy2: {balanced_accuracy2 * 100:.2f}%\\n\")\n",
    "#     log_file.write(f\"Test Accuracy: {accuracy * 100:.2f}%\\n\")\n",
    "#     log_file.write(f\"\\nEvaluation Results:\\n\")\n",
    "#     log_file.write(f\"Precision: {precision * 100:.2f}%\\n\")\n",
    "#     log_file.write(f\"Recall: {recall * 100:.2f}%\\n\")\n",
    "#     log_file.write(f\"F1-score: {f1_score * 100:.2f}%\\n\")\n",
    "#     log_file.write(f\"Kappa: {cohens_kappa * 100:.2f}%\\n\")\n",
    "#     log_file.write(f\"########################################################\\n\\n\")\n",
    "#     log_file.write(f\"Confusion Matrix:\\n\")\n",
    "#     log_file.write(f\"{conf_mat}\\n\")\n",
    "#     log_file.write(f\"########################################################\\n\\n\")\n",
    "#     log_file.write(f\"Classifcation Report: {classification_report(all_true_labels, all_predicted_labels, target_names=true_labels_dic.values())}\\n\")\n",
    "\n",
    "# print(classification_report(all_true_labels, all_predicted_labels, target_names=true_labels_dic.values()))\n",
    "\n",
    "# #save this plotas a png file\n",
    "# plot = plot_confusion_matrix(conf_mat, true_labels_dic.values())\n",
    "# plot.savefig(f'{standalone_results_path}/confusion_matrix_best_loss.png')\n",
    "\n",
    "\n",
    "\n",
    "\n",
    "\n",
    "\n",
    "\n"
   ]
  }
 ],
 "metadata": {
  "kernelspec": {
   "display_name": "pytorch",
   "language": "python",
   "name": "python3"
  },
  "language_info": {
   "codemirror_mode": {
    "name": "ipython",
    "version": 3
   },
   "file_extension": ".py",
   "mimetype": "text/x-python",
   "name": "python",
   "nbconvert_exporter": "python",
   "pygments_lexer": "ipython3",
   "version": "3.11.4"
  }
 },
 "nbformat": 4,
 "nbformat_minor": 2
}
