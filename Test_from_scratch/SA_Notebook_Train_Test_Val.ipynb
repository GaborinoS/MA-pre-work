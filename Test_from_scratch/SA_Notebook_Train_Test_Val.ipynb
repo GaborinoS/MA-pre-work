{
 "cells": [
  {
   "cell_type": "code",
   "execution_count": 1,
   "metadata": {},
   "outputs": [],
   "source": [
    "import torch\n",
    "import torch.nn.functional as F\n",
    "import torch.optim as optim\n",
    "import torchaudio.transforms as T\n",
    "import torchvision.models as models\n",
    "import torch.optim.lr_scheduler as lr_scheduler\n",
    "import pandas as pd\n",
    "import torch.nn as nn\n",
    "from tqdm import tqdm\n",
    "import os\n",
    "import time\n",
    "import datetime\n",
    "\n",
    "\n",
    "from sklearn.model_selection import train_test_split\n",
    "import matplotlib.pyplot as plt\n",
    "import numpy as np\n",
    "\n",
    "#Global Parameters and Variables loaded \n",
    "import config"
   ]
  },
  {
   "cell_type": "code",
   "execution_count": 2,
   "metadata": {},
   "outputs": [],
   "source": [
    "# load dataloader\n",
    "if config.ADSMI:\n",
    "    from DL_finetune import ADSMI_DL_TVsplit as DL\n",
    "    data_name = 'ADSMI'"
   ]
  },
  {
   "cell_type": "code",
   "execution_count": 3,
   "metadata": {},
   "outputs": [],
   "source": [
    "#empty cuda cache\n",
    "torch.cuda.empty_cache()"
   ]
  },
  {
   "cell_type": "markdown",
   "metadata": {},
   "source": [
    "## Models\n"
   ]
  },
  {
   "cell_type": "code",
   "execution_count": 4,
   "metadata": {},
   "outputs": [
    {
     "name": "stdout",
     "output_type": "stream",
     "text": [
      "3\n"
     ]
    }
   ],
   "source": [
    "print(config.channels)\n",
    "\n",
    "class Resnet50_Classifier(nn.Module):\n",
    "    def __init__(self, num_classes):\n",
    "        super(Resnet50_Classifier, self).__init__()\n",
    "        self.resnet50 = models.resnet50()\n",
    "        self.resnet50.conv1 = nn.Conv2d(config.channels, 64, kernel_size=7, stride=2, padding=3, bias=False)\n",
    "        num_features = self.resnet50.fc.in_features\n",
    "        self.resnet50.fc = nn.Linear(num_features, num_classes)\n",
    "\n",
    "    def forward(self, x):\n",
    "        return self.resnet50(x)\n",
    "    \n",
    "\n",
    "\n",
    "\n",
    "class ResNet101_Classifier(nn.Module):\n",
    "    def __init__(self, num_classes):\n",
    "        super(ResNet101_Classifier, self).__init__()\n",
    "        self.resnet101 = models.resnet101()\n",
    "        \n",
    "        # Modify the first convolutional layer\n",
    "        self.resnet101.conv1 = nn.Conv2d(config.channels, 64, kernel_size=7, stride=2, padding=3, bias=False)\n",
    "        \n",
    "        # Remove the final fully connected layer\n",
    "        self.resnet101.fc = nn.Identity()  # Set the final layer to an identity mapping\n",
    "        \n",
    "        # Define the custom fully connected layers\n",
    "        num_features = 2048 \n",
    "        self.fc1 = nn.Linear(num_features, 512)\n",
    "        self.fc2 = nn.Linear(512, 256)\n",
    "        self.fc3 = nn.Linear(256, num_classes)\n",
    "\n",
    "    def forward(self, x):\n",
    "        x = self.resnet101(x)\n",
    "        x = F.relu(self.fc1(x))\n",
    "        x = F.relu(self.fc2(x))\n",
    "        x = self.fc3(x)\n",
    "        return x\n",
    "    \n",
    "\n",
    "    \n",
    "class ModifiedResnet50_Classifier(nn.Module):\n",
    "    def __init__(self, num_classes):\n",
    "        super(ModifiedResnet50_Classifier, self).__init__()\n",
    "        \n",
    "        # Load the pretrained ResNet-50 model\n",
    "        #self.resnet50 = models.resnet50(pretrained=True)\n",
    "        self.resnet50 = models.resnet50()\n",
    "        # Modify the first convolutional layer\n",
    "        self.resnet50.conv1 = nn.Conv2d(config.channels, 64, kernel_size=7, stride=2, padding=3, bias=False)\n",
    "        \n",
    "        # Remove the final fully connected layer\n",
    "        self.resnet50.fc = nn.Identity()  # Set the final layer to an identity mapping\n",
    "        \n",
    "        # Define the custom fully connected layers\n",
    "        num_features = 2048 \n",
    "        self.fc1 = nn.Linear(num_features, 512)\n",
    "        self.fc2 = nn.Linear(512, 256)\n",
    "        self.fc3 = nn.Linear(256, num_classes)\n",
    "\n",
    "    def forward(self, x):\n",
    "        x = self.resnet50(x)\n",
    "        x = F.relu(self.fc1(x))\n",
    "        x = F.relu(self.fc2(x))\n",
    "        x = self.fc3(x)\n",
    "        return x"
   ]
  },
  {
   "cell_type": "markdown",
   "metadata": {},
   "source": [
    "## Train Test and Val split"
   ]
  },
  {
   "cell_type": "code",
   "execution_count": 5,
   "metadata": {},
   "outputs": [
    {
     "name": "stdout",
     "output_type": "stream",
     "text": [
      "Train size:  3776\n",
      "Test size:  472\n",
      "Val size:  472\n",
      "Label_int\n",
      "0    1760\n",
      "2    1332\n",
      "1     570\n",
      "3     114\n",
      "Name: count, dtype: int64\n",
      "Label_int\n",
      "0    220\n",
      "2    166\n",
      "1     72\n",
      "3     14\n",
      "Name: count, dtype: int64\n",
      "Label_int\n",
      "0    220\n",
      "2    167\n",
      "1     71\n",
      "3     14\n",
      "Name: count, dtype: int64\n"
     ]
    }
   ],
   "source": [
    "#------Datasplit\n",
    "# Load the dataframe\n",
    "labels_file = pd.read_csv('./data/labeled_ADSMI/labels_int.csv', index_col=0)\n",
    "#train_df, test_df = train_test_split(labels_file, test_size=0.2, stratify=labels_file['Label_int'], random_state=47)\n",
    "#val_df = test_df\n",
    "random_state = 7\n",
    "train_df, temp = train_test_split(labels_file, test_size=0.2, stratify=labels_file['Label_int'], random_state=random_state)\n",
    "test_df, val_df = train_test_split(temp, test_size=0.5, stratify=temp['Label_int'], random_state=random_state)\n",
    "# train test split\n",
    "print(\"Train size: \", len(train_df))\n",
    "print(\"Test size: \", len(test_df))\n",
    "print(\"Val size: \", len(val_df))\n",
    "\n",
    "\n",
    "\n",
    "print(train_df[\"Label_int\"].value_counts())\n",
    "print(test_df[\"Label_int\"].value_counts())\n",
    "print(val_df[\"Label_int\"].value_counts())\n",
    "\n",
    "train_loader, test_loader = DL.create_generators_finetune_train(train_df,test_df)\n",
    "\n",
    "\n"
   ]
  },
  {
   "cell_type": "markdown",
   "metadata": {},
   "source": [
    "## Model initialization"
   ]
  },
  {
   "cell_type": "code",
   "execution_count": 6,
   "metadata": {},
   "outputs": [],
   "source": [
    "\n",
    "#  Create an instance of the model\n",
    "num_classes = len(set(labels_file[\"Label_int\"]))  \n",
    "#model = Resnet50_Classifier(num_classes)\n",
    "model = ModifiedResnet50_Classifier(num_classes)\n",
    "#model = ResNet101_Classifier(num_classes)\n",
    "\n",
    "# Hyperparameters\n",
    "num_epochs = config.finetune_epochs \n",
    "learning_rate = 0.0003\n",
    "weight_decay = 0  # L2 regularization\n",
    "batch_size = config.batch_size\n",
    "patience = config.patience\n",
    "\n",
    "#  Transfer the model to the appropriate device\n",
    "device = torch.device('cuda' if torch.cuda.is_available() else 'cpu')\n",
    "model.to(device)\n",
    "\n",
    "# Define a loss function and optimizer\n",
    "criterion = nn.CrossEntropyLoss().to(device)\n",
    "optimizer = torch.optim.Adam(model.parameters(), lr=learning_rate, weight_decay = weight_decay ) # Adjust the value as needed)\n",
    "scheduler = lr_scheduler.ReduceLROnPlateau(optimizer, mode='min', patience=6, factor=0.6, verbose=True)\n",
    "\n",
    "#new folder path\n",
    "standalone_results_path = f'./results_standalone/SA_ADSMI_{num_epochs}_epochs_{datetime.datetime.now().strftime(\"%Y-%m-%d-%H\")}'\n",
    "\n",
    "# Create a directory to save the results\n",
    "if not os.path.exists(standalone_results_path):\n",
    "    os.makedirs(standalone_results_path)\n",
    "\n",
    "with open(f'{standalone_results_path}/log_file.txt', 'w') as log_file:\n",
    "    log_file.write(f'########################################################\\n')\n",
    "    log_file.write(f'training on {data_name} dataset\\n')\n",
    "    log_file.write(f'Learning rate: {learning_rate}\\n')\n",
    "    log_file.write(f'Weight decay: {weight_decay}\\n')\n",
    "    log_file.write(f'Batch size: {batch_size}\\n')\n",
    "    log_file.write(f'Number of epochs: {num_epochs}\\n')\n",
    "    log_file.write(f'Patience: {patience}\\n')\n",
    "    log_file.write(f'Number of classes: {num_classes}\\n')\n",
    "    log_file.write(f'Train size: {len(train_df)}\\n')\n",
    "    log_file.write(f'Test size: {len(test_df)}\\n')\n",
    "    log_file.write(f'Val size: {len(val_df)}\\n')\n",
    "    log_file.write(f'Length of train data in seconds: {config.desired_length_in_seconds}\\n')\n",
    "    log_file.write(f'freq_mask_param : {config.freq_mask_param}\\n')\n",
    "    log_file.write(f'time_mask_param : {config.time_mask_param}\\n')\n",
    "    log_file.write(f'########################################################\\n\\n')\n",
    "\n",
    "train_losses = []\n",
    "val_losses = []\n",
    "best_accuracy = 0\n",
    "best_loss = 1000\n",
    "early_stop_counter = 0\n",
    "#config.model_path = \"./results_standalone/newgpu2_checkpoint.pth\"\n"
   ]
  },
  {
   "cell_type": "code",
   "execution_count": 7,
   "metadata": {},
   "outputs": [
    {
     "name": "stderr",
     "output_type": "stream",
     "text": [
      "100%|██████████| 118/118 [00:32<00:00,  3.61it/s]\n"
     ]
    },
    {
     "name": "stdout",
     "output_type": "stream",
     "text": [
      "Epoch [1/120], Train Loss: 0.9234, Val Loss: 0.8374, Val Accuracy: 69.28%\n"
     ]
    },
    {
     "name": "stderr",
     "output_type": "stream",
     "text": [
      "100%|██████████| 118/118 [00:31<00:00,  3.72it/s]\n"
     ]
    },
    {
     "name": "stdout",
     "output_type": "stream",
     "text": [
      "Epoch [2/120], Train Loss: 0.7145, Val Loss: 0.5712, Val Accuracy: 75.64%\n"
     ]
    },
    {
     "name": "stderr",
     "output_type": "stream",
     "text": [
      "100%|██████████| 118/118 [00:31<00:00,  3.73it/s]\n"
     ]
    },
    {
     "name": "stdout",
     "output_type": "stream",
     "text": [
      "Epoch [3/120], Train Loss: 0.6071, Val Loss: 0.5158, Val Accuracy: 82.20%\n"
     ]
    },
    {
     "name": "stderr",
     "output_type": "stream",
     "text": [
      "100%|██████████| 118/118 [00:31<00:00,  3.75it/s]\n"
     ]
    },
    {
     "name": "stdout",
     "output_type": "stream",
     "text": [
      "Epoch [4/120], Train Loss: 0.4813, Val Loss: 0.3735, Val Accuracy: 86.23%\n"
     ]
    },
    {
     "name": "stderr",
     "output_type": "stream",
     "text": [
      "100%|██████████| 118/118 [00:30<00:00,  3.82it/s]\n"
     ]
    },
    {
     "name": "stdout",
     "output_type": "stream",
     "text": [
      "Epoch [5/120], Train Loss: 0.4416, Val Loss: 0.3754, Val Accuracy: 87.08%\n"
     ]
    },
    {
     "name": "stderr",
     "output_type": "stream",
     "text": [
      "100%|██████████| 118/118 [00:31<00:00,  3.78it/s]\n"
     ]
    },
    {
     "name": "stdout",
     "output_type": "stream",
     "text": [
      "Epoch [6/120], Train Loss: 0.4173, Val Loss: 0.4075, Val Accuracy: 85.59%\n"
     ]
    },
    {
     "name": "stderr",
     "output_type": "stream",
     "text": [
      "100%|██████████| 118/118 [00:31<00:00,  3.74it/s]\n"
     ]
    },
    {
     "name": "stdout",
     "output_type": "stream",
     "text": [
      "Epoch [7/120], Train Loss: 0.4026, Val Loss: 0.3110, Val Accuracy: 88.98%\n"
     ]
    },
    {
     "name": "stderr",
     "output_type": "stream",
     "text": [
      "100%|██████████| 118/118 [00:31<00:00,  3.80it/s]\n"
     ]
    },
    {
     "name": "stdout",
     "output_type": "stream",
     "text": [
      "Epoch [8/120], Train Loss: 0.3696, Val Loss: 0.3678, Val Accuracy: 86.02%\n"
     ]
    },
    {
     "name": "stderr",
     "output_type": "stream",
     "text": [
      "100%|██████████| 118/118 [00:31<00:00,  3.80it/s]\n"
     ]
    },
    {
     "name": "stdout",
     "output_type": "stream",
     "text": [
      "Epoch [9/120], Train Loss: 0.3389, Val Loss: 0.2838, Val Accuracy: 90.47%\n"
     ]
    },
    {
     "name": "stderr",
     "output_type": "stream",
     "text": [
      "100%|██████████| 118/118 [00:31<00:00,  3.78it/s]\n"
     ]
    },
    {
     "name": "stdout",
     "output_type": "stream",
     "text": [
      "Epoch [10/120], Train Loss: 0.3607, Val Loss: 0.4518, Val Accuracy: 88.14%\n"
     ]
    },
    {
     "name": "stderr",
     "output_type": "stream",
     "text": [
      "100%|██████████| 118/118 [00:31<00:00,  3.80it/s]\n"
     ]
    },
    {
     "name": "stdout",
     "output_type": "stream",
     "text": [
      "Epoch [11/120], Train Loss: 0.3393, Val Loss: 0.3288, Val Accuracy: 90.25%\n"
     ]
    },
    {
     "name": "stderr",
     "output_type": "stream",
     "text": [
      "100%|██████████| 118/118 [00:31<00:00,  3.71it/s]\n"
     ]
    },
    {
     "name": "stdout",
     "output_type": "stream",
     "text": [
      "Epoch [12/120], Train Loss: 0.3358, Val Loss: 0.3377, Val Accuracy: 88.98%\n"
     ]
    },
    {
     "name": "stderr",
     "output_type": "stream",
     "text": [
      "100%|██████████| 118/118 [00:33<00:00,  3.56it/s]\n"
     ]
    },
    {
     "name": "stdout",
     "output_type": "stream",
     "text": [
      "Epoch [13/120], Train Loss: 0.3326, Val Loss: 0.2881, Val Accuracy: 88.56%\n"
     ]
    },
    {
     "name": "stderr",
     "output_type": "stream",
     "text": [
      "100%|██████████| 118/118 [00:33<00:00,  3.55it/s]\n"
     ]
    },
    {
     "name": "stdout",
     "output_type": "stream",
     "text": [
      "Epoch [14/120], Train Loss: 0.3243, Val Loss: 0.4016, Val Accuracy: 85.59%\n"
     ]
    },
    {
     "name": "stderr",
     "output_type": "stream",
     "text": [
      "100%|██████████| 118/118 [00:27<00:00,  4.27it/s]\n"
     ]
    },
    {
     "name": "stdout",
     "output_type": "stream",
     "text": [
      "Epoch [15/120], Train Loss: 0.3183, Val Loss: 0.2908, Val Accuracy: 90.25%\n"
     ]
    },
    {
     "name": "stderr",
     "output_type": "stream",
     "text": [
      "100%|██████████| 118/118 [00:26<00:00,  4.40it/s]\n"
     ]
    },
    {
     "name": "stdout",
     "output_type": "stream",
     "text": [
      "Epoch 00016: reducing learning rate of group 0 to 1.8000e-04.\n",
      "Epoch [16/120], Train Loss: 0.3023, Val Loss: 0.3265, Val Accuracy: 88.35%\n"
     ]
    },
    {
     "name": "stderr",
     "output_type": "stream",
     "text": [
      "100%|██████████| 118/118 [00:26<00:00,  4.40it/s]\n"
     ]
    },
    {
     "name": "stdout",
     "output_type": "stream",
     "text": [
      "Epoch [17/120], Train Loss: 0.2823, Val Loss: 0.2717, Val Accuracy: 92.16%\n"
     ]
    },
    {
     "name": "stderr",
     "output_type": "stream",
     "text": [
      "100%|██████████| 118/118 [00:26<00:00,  4.39it/s]\n"
     ]
    },
    {
     "name": "stdout",
     "output_type": "stream",
     "text": [
      "Epoch [18/120], Train Loss: 0.2560, Val Loss: 0.3496, Val Accuracy: 87.50%\n"
     ]
    },
    {
     "name": "stderr",
     "output_type": "stream",
     "text": [
      "100%|██████████| 118/118 [00:26<00:00,  4.43it/s]\n"
     ]
    },
    {
     "name": "stdout",
     "output_type": "stream",
     "text": [
      "Epoch [19/120], Train Loss: 0.2666, Val Loss: 0.2671, Val Accuracy: 89.83%\n"
     ]
    },
    {
     "name": "stderr",
     "output_type": "stream",
     "text": [
      "100%|██████████| 118/118 [00:26<00:00,  4.42it/s]\n"
     ]
    },
    {
     "name": "stdout",
     "output_type": "stream",
     "text": [
      "Epoch [20/120], Train Loss: 0.2573, Val Loss: 0.2465, Val Accuracy: 91.31%\n"
     ]
    },
    {
     "name": "stderr",
     "output_type": "stream",
     "text": [
      "100%|██████████| 118/118 [00:26<00:00,  4.40it/s]\n"
     ]
    },
    {
     "name": "stdout",
     "output_type": "stream",
     "text": [
      "Epoch [21/120], Train Loss: 0.2648, Val Loss: 0.2771, Val Accuracy: 89.83%\n"
     ]
    },
    {
     "name": "stderr",
     "output_type": "stream",
     "text": [
      "100%|██████████| 118/118 [00:26<00:00,  4.40it/s]\n"
     ]
    },
    {
     "name": "stdout",
     "output_type": "stream",
     "text": [
      "Epoch [22/120], Train Loss: 0.2851, Val Loss: 0.3193, Val Accuracy: 88.77%\n"
     ]
    },
    {
     "name": "stderr",
     "output_type": "stream",
     "text": [
      "100%|██████████| 118/118 [00:26<00:00,  4.40it/s]\n"
     ]
    },
    {
     "name": "stdout",
     "output_type": "stream",
     "text": [
      "Epoch [23/120], Train Loss: 0.2487, Val Loss: 0.2366, Val Accuracy: 91.74%\n"
     ]
    },
    {
     "name": "stderr",
     "output_type": "stream",
     "text": [
      "100%|██████████| 118/118 [00:26<00:00,  4.41it/s]\n"
     ]
    },
    {
     "name": "stdout",
     "output_type": "stream",
     "text": [
      "Epoch [24/120], Train Loss: 0.2419, Val Loss: 0.3107, Val Accuracy: 90.47%\n"
     ]
    },
    {
     "name": "stderr",
     "output_type": "stream",
     "text": [
      "100%|██████████| 118/118 [00:26<00:00,  4.41it/s]\n"
     ]
    },
    {
     "name": "stdout",
     "output_type": "stream",
     "text": [
      "Epoch [25/120], Train Loss: 0.2420, Val Loss: 0.2504, Val Accuracy: 92.16%\n"
     ]
    },
    {
     "name": "stderr",
     "output_type": "stream",
     "text": [
      "100%|██████████| 118/118 [00:26<00:00,  4.43it/s]\n"
     ]
    },
    {
     "name": "stdout",
     "output_type": "stream",
     "text": [
      "Epoch [26/120], Train Loss: 0.2532, Val Loss: 0.3256, Val Accuracy: 87.50%\n"
     ]
    },
    {
     "name": "stderr",
     "output_type": "stream",
     "text": [
      "100%|██████████| 118/118 [00:26<00:00,  4.43it/s]\n"
     ]
    },
    {
     "name": "stdout",
     "output_type": "stream",
     "text": [
      "Epoch [27/120], Train Loss: 0.2549, Val Loss: 0.2543, Val Accuracy: 91.95%\n"
     ]
    },
    {
     "name": "stderr",
     "output_type": "stream",
     "text": [
      "100%|██████████| 118/118 [00:26<00:00,  4.39it/s]\n"
     ]
    },
    {
     "name": "stdout",
     "output_type": "stream",
     "text": [
      "Epoch [28/120], Train Loss: 0.2331, Val Loss: 0.2640, Val Accuracy: 91.10%\n"
     ]
    },
    {
     "name": "stderr",
     "output_type": "stream",
     "text": [
      "100%|██████████| 118/118 [00:26<00:00,  4.47it/s]\n"
     ]
    },
    {
     "name": "stdout",
     "output_type": "stream",
     "text": [
      "Epoch [29/120], Train Loss: 0.2478, Val Loss: 0.2886, Val Accuracy: 90.25%\n"
     ]
    },
    {
     "name": "stderr",
     "output_type": "stream",
     "text": [
      "100%|██████████| 118/118 [00:26<00:00,  4.50it/s]\n"
     ]
    },
    {
     "name": "stdout",
     "output_type": "stream",
     "text": [
      "Epoch 00030: reducing learning rate of group 0 to 1.0800e-04.\n",
      "Epoch [30/120], Train Loss: 0.2275, Val Loss: 0.2854, Val Accuracy: 91.10%\n"
     ]
    },
    {
     "name": "stderr",
     "output_type": "stream",
     "text": [
      "100%|██████████| 118/118 [00:26<00:00,  4.47it/s]\n"
     ]
    },
    {
     "name": "stdout",
     "output_type": "stream",
     "text": [
      "Epoch [31/120], Train Loss: 0.2221, Val Loss: 0.2884, Val Accuracy: 92.37%\n"
     ]
    },
    {
     "name": "stderr",
     "output_type": "stream",
     "text": [
      "100%|██████████| 118/118 [00:26<00:00,  4.38it/s]\n"
     ]
    },
    {
     "name": "stdout",
     "output_type": "stream",
     "text": [
      "Epoch [32/120], Train Loss: 0.2138, Val Loss: 0.2855, Val Accuracy: 90.89%\n"
     ]
    },
    {
     "name": "stderr",
     "output_type": "stream",
     "text": [
      "100%|██████████| 118/118 [00:26<00:00,  4.44it/s]\n"
     ]
    },
    {
     "name": "stdout",
     "output_type": "stream",
     "text": [
      "Epoch [33/120], Train Loss: 0.2138, Val Loss: 0.2426, Val Accuracy: 91.31%\n"
     ]
    },
    {
     "name": "stderr",
     "output_type": "stream",
     "text": [
      "100%|██████████| 118/118 [00:26<00:00,  4.45it/s]\n"
     ]
    },
    {
     "name": "stdout",
     "output_type": "stream",
     "text": [
      "Epoch [34/120], Train Loss: 0.1892, Val Loss: 0.2808, Val Accuracy: 92.80%\n"
     ]
    },
    {
     "name": "stderr",
     "output_type": "stream",
     "text": [
      "100%|██████████| 118/118 [00:26<00:00,  4.45it/s]\n"
     ]
    },
    {
     "name": "stdout",
     "output_type": "stream",
     "text": [
      "Epoch [35/120], Train Loss: 0.1887, Val Loss: 0.2757, Val Accuracy: 92.58%\n"
     ]
    },
    {
     "name": "stderr",
     "output_type": "stream",
     "text": [
      "100%|██████████| 118/118 [00:26<00:00,  4.41it/s]\n"
     ]
    },
    {
     "name": "stdout",
     "output_type": "stream",
     "text": [
      "Epoch [36/120], Train Loss: 0.1893, Val Loss: 0.2573, Val Accuracy: 91.31%\n"
     ]
    },
    {
     "name": "stderr",
     "output_type": "stream",
     "text": [
      "100%|██████████| 118/118 [00:26<00:00,  4.42it/s]\n"
     ]
    },
    {
     "name": "stdout",
     "output_type": "stream",
     "text": [
      "Epoch 00037: reducing learning rate of group 0 to 6.4800e-05.\n",
      "Epoch [37/120], Train Loss: 0.1986, Val Loss: 0.2850, Val Accuracy: 89.19%\n"
     ]
    },
    {
     "name": "stderr",
     "output_type": "stream",
     "text": [
      "100%|██████████| 118/118 [00:26<00:00,  4.45it/s]\n"
     ]
    },
    {
     "name": "stdout",
     "output_type": "stream",
     "text": [
      "Epoch [38/120], Train Loss: 0.1875, Val Loss: 0.2665, Val Accuracy: 91.10%\n"
     ]
    },
    {
     "name": "stderr",
     "output_type": "stream",
     "text": [
      "100%|██████████| 118/118 [00:26<00:00,  4.51it/s]\n"
     ]
    },
    {
     "name": "stdout",
     "output_type": "stream",
     "text": [
      "Epoch [39/120], Train Loss: 0.1734, Val Loss: 0.3242, Val Accuracy: 90.68%\n"
     ]
    },
    {
     "name": "stderr",
     "output_type": "stream",
     "text": [
      "100%|██████████| 118/118 [00:26<00:00,  4.43it/s]\n"
     ]
    },
    {
     "name": "stdout",
     "output_type": "stream",
     "text": [
      "Epoch [40/120], Train Loss: 0.1764, Val Loss: 0.2602, Val Accuracy: 91.31%\n"
     ]
    },
    {
     "name": "stderr",
     "output_type": "stream",
     "text": [
      "100%|██████████| 118/118 [00:26<00:00,  4.52it/s]\n"
     ]
    },
    {
     "name": "stdout",
     "output_type": "stream",
     "text": [
      "Epoch [41/120], Train Loss: 0.1660, Val Loss: 0.2766, Val Accuracy: 91.10%\n"
     ]
    },
    {
     "name": "stderr",
     "output_type": "stream",
     "text": [
      "100%|██████████| 118/118 [00:26<00:00,  4.53it/s]\n"
     ]
    },
    {
     "name": "stdout",
     "output_type": "stream",
     "text": [
      "Epoch [42/120], Train Loss: 0.1606, Val Loss: 0.2595, Val Accuracy: 91.53%\n"
     ]
    },
    {
     "name": "stderr",
     "output_type": "stream",
     "text": [
      "100%|██████████| 118/118 [00:25<00:00,  4.54it/s]\n"
     ]
    },
    {
     "name": "stdout",
     "output_type": "stream",
     "text": [
      "Epoch [43/120], Train Loss: 0.1653, Val Loss: 0.2691, Val Accuracy: 90.47%\n"
     ]
    },
    {
     "name": "stderr",
     "output_type": "stream",
     "text": [
      "100%|██████████| 118/118 [00:26<00:00,  4.53it/s]\n"
     ]
    },
    {
     "name": "stdout",
     "output_type": "stream",
     "text": [
      "Epoch 00044: reducing learning rate of group 0 to 3.8880e-05.\n",
      "Epoch [44/120], Train Loss: 0.1595, Val Loss: 0.3038, Val Accuracy: 90.68%\n"
     ]
    },
    {
     "name": "stderr",
     "output_type": "stream",
     "text": [
      "100%|██████████| 118/118 [00:26<00:00,  4.52it/s]\n"
     ]
    },
    {
     "name": "stdout",
     "output_type": "stream",
     "text": [
      "Epoch [45/120], Train Loss: 0.1468, Val Loss: 0.2813, Val Accuracy: 92.16%\n"
     ]
    },
    {
     "name": "stderr",
     "output_type": "stream",
     "text": [
      "100%|██████████| 118/118 [00:26<00:00,  4.52it/s]\n"
     ]
    },
    {
     "name": "stdout",
     "output_type": "stream",
     "text": [
      "Epoch [46/120], Train Loss: 0.1452, Val Loss: 0.3100, Val Accuracy: 91.74%\n"
     ]
    },
    {
     "name": "stderr",
     "output_type": "stream",
     "text": [
      "100%|██████████| 118/118 [00:26<00:00,  4.38it/s]\n"
     ]
    },
    {
     "name": "stdout",
     "output_type": "stream",
     "text": [
      "Epoch [47/120], Train Loss: 0.1450, Val Loss: 0.2972, Val Accuracy: 91.31%\n"
     ]
    },
    {
     "name": "stderr",
     "output_type": "stream",
     "text": [
      "100%|██████████| 118/118 [00:26<00:00,  4.38it/s]\n"
     ]
    },
    {
     "name": "stdout",
     "output_type": "stream",
     "text": [
      "Epoch [48/120], Train Loss: 0.1376, Val Loss: 0.3251, Val Accuracy: 90.47%\n",
      "Early stopping on epoch 48\n"
     ]
    }
   ],
   "source": [
    "for epoch in range(num_epochs):\n",
    "    model.train()\n",
    "    epoch_train_losses = []  # Temporary list for storing training losses for each batch\n",
    "    for batch_idx, (spectrograms, labels) in tqdm(enumerate(train_loader), total=len(train_loader)):\n",
    "        spectrograms = spectrograms.to(device)\n",
    "        labels = labels.to(device)\n",
    "\n",
    "        # Forward pass\n",
    "        outputs = model(spectrograms)\n",
    "        loss = criterion(outputs, labels)\n",
    "        epoch_train_losses.append(loss.item())  # Append current batch loss\n",
    "\n",
    "        # Backward pass and optimization\n",
    "        optimizer.zero_grad()\n",
    "        loss.backward()\n",
    "        optimizer.step()\n",
    "\n",
    "    # Calculate average training loss for the epoch\n",
    "    avg_train_loss = sum(epoch_train_losses) / len(epoch_train_losses)\n",
    "    train_losses.append(avg_train_loss)  # Append average loss to main list\n",
    "\n",
    "    model.eval()\n",
    "    epoch_val_losses = []  # Temporary list for storing validation losses for each batch\n",
    "    correct_predictions = 0\n",
    "    total_samples = 0\n",
    "\n",
    "    with torch.no_grad():\n",
    "        for spectrograms, labels in test_loader:\n",
    "            spectrograms = spectrograms.to(device)\n",
    "            labels = labels.to(device)\n",
    "\n",
    "            # Forward pass\n",
    "            outputs = model(spectrograms)\n",
    "            loss = criterion(outputs, labels)\n",
    "            epoch_val_losses.append(loss.item())  # Append current batch loss\n",
    "\n",
    "            # Compute the predicted labels\n",
    "            _, predicted = torch.max(outputs, 1)\n",
    "            total_samples += labels.size(0)\n",
    "            correct_predictions += (predicted == labels).sum().item()\n",
    "\n",
    "    # Calculate average validation loss for the epoch\n",
    "    avg_val_loss = sum(epoch_val_losses) / len(epoch_val_losses)\n",
    "    val_losses.append(avg_val_loss)  # Append average loss to main list\n",
    "\n",
    "    # Model saving and logging based on accuracy and loss\n",
    "    accuracy = correct_predictions / total_samples\n",
    "    if correct_predictions / total_samples > best_accuracy:\n",
    "        best_accuracy = accuracy\n",
    "        torch.save(model, standalone_results_path + '/checkpoint.pth')\n",
    "        early_stop_counter = 0\n",
    "        with open(standalone_results_path + '/log_file.txt', 'a') as log_file:\n",
    "            log_file.write(f\"Best accuracy improved on epoch {epoch}: {best_accuracy * 100:.2f}%\\n\")\n",
    "    \n",
    "    if avg_val_loss < best_loss:\n",
    "        best_loss = avg_val_loss\n",
    "        torch.save(model, standalone_results_path + '/checkpoint_best_loss.pth')\n",
    "        early_stop_counter = 0\n",
    "        with open(standalone_results_path + '/log_file.txt', 'a') as log_file:\n",
    "            log_file.write(f\"Best loss improved on epoch {epoch}: {best_loss:.4f}\\n\")\n",
    "\n",
    "    scheduler.step(avg_val_loss)\n",
    "\n",
    "    # Logging for each epoch\n",
    "    print(f\"Epoch [{epoch+1}/{num_epochs}], Train Loss: {avg_train_loss:.4f}, Val Loss: {avg_val_loss:.4f}, Val Accuracy: {accuracy * 100:.2f}%\")\n",
    "    with open(standalone_results_path + '/log_file.txt', 'a') as log_file:\n",
    "        log_file.write(f\"Epoch [{epoch+1}/{num_epochs}], Train Loss: {avg_train_loss:.4f}, Val Loss: {avg_val_loss:.4f}, Accuracy: {accuracy}, Early stopping count: {early_stop_counter} from {patience}\\n\")\n",
    "\n",
    "    # Early stopping\n",
    "    early_stop_counter += 1\n",
    "    if early_stop_counter >= patience:\n",
    "        print(f\"Early stopping on epoch {epoch+1}\")\n",
    "        break\n",
    "# Save full model\n",
    "torch.save(model, standalone_results_path + '/Full_model_checkpoint.pth')"
   ]
  },
  {
   "cell_type": "code",
   "execution_count": 8,
   "metadata": {},
   "outputs": [],
   "source": [
    "# Save full model\n",
    "torch.save(model, standalone_results_path + '/Full_model_checkpoint.pth')"
   ]
  },
  {
   "cell_type": "markdown",
   "metadata": {},
   "source": [
    "## Losses Plot\n",
    "\n",
    "Tend way more to overfitting than the pretraineds Models also with regularization with masking "
   ]
  },
  {
   "cell_type": "code",
   "execution_count": 9,
   "metadata": {},
   "outputs": [
    {
     "data": {
      "image/png": "[encoded data removed]",
      "text/plain": [
       "<Figure size 1000x400 with 1 Axes>"
      ]
     },
     "metadata": {},
     "output_type": "display_data"
    }
   ],
   "source": [
    "# Convert tensors in the lists to numbers if necessary\n",
    "train_losses_cpu = [loss.cpu().item() if isinstance(loss, torch.Tensor) else loss for loss in train_losses]\n",
    "val_losses_cpu = [loss.cpu().item() if isinstance(loss, torch.Tensor) else loss for loss in val_losses]\n",
    "\n",
    "# Now plot these lists\n",
    "plt.figure(figsize=(10, 4))\n",
    "plt.plot(train_losses_cpu, label='Train Loss')\n",
    "plt.plot(val_losses_cpu, label='Val Loss')\n",
    "plt.xlabel('Epoch')\n",
    "plt.ylabel('Loss')\n",
    "plt.legend()\n",
    "plt.tight_layout()\n",
    "plt.show()"
   ]
  },
  {
   "cell_type": "code",
   "execution_count": 10,
   "metadata": {},
   "outputs": [],
   "source": [
    "### Save Results of all 3 Modell Saves: Best-Val-Accuracy, Best-Val-loss and full model"
   ]
  },
  {
   "cell_type": "code",
   "execution_count": 11,
   "metadata": {},
   "outputs": [
    {
     "name": "stdout",
     "output_type": "stream",
     "text": [
      "\n",
      "Evaluation Results:\n",
      "Balanced Accuracy2: 88.46%\n",
      "Test Accuracy: 92.16%\n",
      "\n",
      "Evaluation Results:\n",
      "Accuracy: 92.16%\n",
      "Precision: 92.44%\n",
      "Recall: 92.16%\n",
      "F1-score: 92.16%\n",
      "Kappa: 87.56%\n",
      "                         precision    recall  f1-score   support\n",
      "\n",
      "            [Kreischen]       0.90      0.96      0.93       220\n",
      "[Kreischen][Quietschen]       0.88      0.90      0.89        71\n",
      "              [Negativ]       0.98      0.89      0.93       167\n",
      "           [Quietschen]       0.92      0.79      0.85        14\n",
      "\n",
      "               accuracy                           0.92       472\n",
      "              macro avg       0.92      0.88      0.90       472\n",
      "           weighted avg       0.92      0.92      0.92       472\n",
      "\n"
     ]
    },
    {
     "data": {
      "image/png": "[encoded data removed]",
      "text/plain": [
       "<Figure size 800x600 with 1 Axes>"
      ]
     },
     "metadata": {},
     "output_type": "display_data"
    }
   ],
   "source": [
    "\n",
    "import seaborn as sns\n",
    "from sklearn.metrics import classification_report, confusion_matrix, precision_recall_fscore_support,balanced_accuracy_score\n",
    "from sklearn.metrics import cohen_kappa_score\n",
    "\n",
    "# and loaded any pre-trained weights, e.g., model = Resnet50_Classifier(num_classes)\n",
    "\n",
    "# Set the device for testing\n",
    "device = torch.device('cuda' if torch.cuda.is_available() else 'cpu')\n",
    "config.val_sound_length = 20\n",
    "# Create a data loader for the test set\n",
    "val_loader = DL.create_generators_finetune_val(val_df)  \n",
    "\n",
    "#model = torch.load(\"./results_standalone/newgpu2_checkpoint.pth\")\n",
    "model = torch.load(standalone_results_path + '/Full_model_checkpoint.pth')\n",
    "# Transfer the model to the testing device\n",
    "model.to(device)\n",
    "\n",
    "# Define a criterion for evaluation (e.g., cross-entropy loss for classification)\n",
    "criterion = nn.CrossEntropyLoss()\n",
    "\n",
    "# Initialize variables for evaluation metrics (e.g., accuracy)\n",
    "correct_predictions = 0\n",
    "total_samples = 0\n",
    "\n",
    "# Define the label dictionary\n",
    "true_labels_dic = {0: '[Kreischen]', 1: '[Kreischen][Quietschen]', 2: '[Negativ]', 3: '[Quietschen]'}\n",
    "\n",
    "# Set the model to evaluation mode \n",
    "model.eval()\n",
    "\n",
    "# Initialize lists to store all true labels and predicted labels\n",
    "all_true_labels = []\n",
    "all_predicted_labels = []\n",
    "\n",
    "# Iterate through the test set\n",
    "with torch.no_grad():\n",
    "    for spectrograms, labels in val_loader:\n",
    "        # Move data to the testing device\n",
    "        spectrograms = spectrograms.to(device)\n",
    "        labels = labels.to(device)\n",
    "\n",
    "        # Forward pass\n",
    "        outputs = model(spectrograms)\n",
    "        \n",
    "        # Compute the predicted labels\n",
    "        _, predicted = torch.max(outputs, 1)\n",
    "\n",
    "        # Append true and predicted labels to the lists\n",
    "        all_true_labels.extend(labels.cpu().numpy())\n",
    "        all_predicted_labels.extend(predicted.cpu().numpy())\n",
    "\n",
    "# Convert lists to numpy arrays\n",
    "all_true_labels = np.array(all_true_labels)\n",
    "all_predicted_labels = np.array(all_predicted_labels)\n",
    "\n",
    "# Calculate accuracy, precision, recall, F1-score, etc. using all_true_labels and all_predicted_labels\n",
    "accuracy = np.mean(all_true_labels == all_predicted_labels)\n",
    "precision, recall, f1_score, _ = precision_recall_fscore_support(all_true_labels, all_predicted_labels, average='weighted')\n",
    "\n",
    "\n",
    "#calculate balanced accuracy\n",
    "balanced_accuracy2 = balanced_accuracy_score(all_true_labels, all_predicted_labels)\n",
    "#kappa score\n",
    "cohens_kappa = cohen_kappa_score(all_true_labels, all_predicted_labels)\n",
    "\n",
    "\n",
    "print(f\"\\nEvaluation Results:\")\n",
    "#print(f\"Balanced Accuracy: {balanced_accuracy * 100:.2f}%\")\n",
    "print(f\"Balanced Accuracy2: {balanced_accuracy2 * 100:.2f}%\")\n",
    "\n",
    "print(f\"Test Accuracy: {accuracy * 100:.2f}%\")\n",
    "print(f\"\\nEvaluation Results:\")\n",
    "print(f\"Accuracy: {accuracy * 100:.2f}%\")\n",
    "print(f\"Precision: {precision * 100:.2f}%\")\n",
    "print(f\"Recall: {recall * 100:.2f}%\")\n",
    "print(f\"F1-score: {f1_score * 100:.2f}%\")\n",
    "print(f\"Kappa: {cohens_kappa * 100:.2f}%\")\n",
    "\n",
    "conf_mat = confusion_matrix(all_true_labels, all_predicted_labels)\n",
    "def plot_confusion_matrix(conf_mat, class_labels):\n",
    "    plt.figure(figsize=(8, 6))\n",
    "    sns.set(font_scale=1.2)\n",
    "    \n",
    "    class_labels = [str(label) for label in class_labels]\n",
    "    \n",
    "    ax = sns.heatmap(conf_mat, annot=True, fmt=\"d\", cmap=\"Blues\", cbar=False,\n",
    "                xticklabels=class_labels,\n",
    "                yticklabels=class_labels)\n",
    "    \n",
    "    plt.xlabel('Predicted Labels')\n",
    "    plt.ylabel('True Labels')\n",
    "    plt.title('Confusion Matrix')\n",
    "    plt.xticks(rotation=90)\n",
    "\n",
    "    return plt.gcf()  # Return the current figure\n",
    "\n",
    "import config\n",
    "#create classification results text file\n",
    "with open(f'{standalone_results_path}/results_file_full.txt', 'w') as log_file:\n",
    "    log_file.write(f\"########################################################\\n\")\n",
    "    log_file.write(f\"Frequency Mask:{config.freq_mask_param}\\n\")\n",
    "    log_file.write(f\"Time Mask: {config.time_mask_param}\\n\")\n",
    "    log_file.write(f\"Spectro:\\n\")\n",
    "    log_file.write(f\"        n_fft={2048},\\n\")\n",
    "    log_file.write(f\"        hop_length = {512},\\n\")\n",
    "    log_file.write(f\"        n_mels={128},  \\n\")\n",
    "    log_file.write(f\"        win_length = {2048},\\n\")\n",
    "    log_file.write(f\"Epochs: {num_epochs}\\n\")\n",
    "    log_file.write(f\"Batch size: {batch_size}\\n\")\n",
    "    log_file.write(f\"Optimizer: Adam\\n\")\n",
    "    log_file.write(f\"Learning rate: {learning_rate}\\n\")\n",
    "    log_file.write(f\"Weight decay: {weight_decay}\\n\")\n",
    "    log_file.write(f\"Scheduler: ReduceLROnPlateau\\n\")\n",
    "    log_file.write(f\"Model: ModifiedResnet50_Classifier \\n\")\n",
    "    log_file.write(f\"classifiers: 512, 256, 4 : 2 fully connected layers\\n\")\n",
    "    log_file.write(f\"########################################################\\n\\n\")\n",
    "    log_file.write(f\"Balanced Accuracy2: {balanced_accuracy2 * 100:.2f}%\\n\")\n",
    "    log_file.write(f\"Test Accuracy: {accuracy * 100:.2f}%\\n\")\n",
    "    log_file.write(f\"\\nEvaluation Results:\\n\")\n",
    "    log_file.write(f\"Precision: {precision * 100:.2f}%\\n\")\n",
    "    log_file.write(f\"Recall: {recall * 100:.2f}%\\n\")\n",
    "    log_file.write(f\"F1-score: {f1_score * 100:.2f}%\\n\")\n",
    "    log_file.write(f\"Kappa: {cohens_kappa * 100:.2f}%\\n\")\n",
    "    log_file.write(f\"########################################################\\n\\n\")\n",
    "    log_file.write(f\"Confusion Matrix:\\n\")\n",
    "    log_file.write(f\"{conf_mat}\\n\")\n",
    "    log_file.write(f\"########################################################\\n\\n\")\n",
    "    log_file.write(f\"Classifcation Report: {classification_report(all_true_labels, all_predicted_labels, target_names=true_labels_dic.values())}\\n\")\n",
    "\n",
    "print(classification_report(all_true_labels, all_predicted_labels, target_names=true_labels_dic.values()))\n",
    "\n",
    "#save this plot as a png file\n",
    "plot = plot_confusion_matrix(conf_mat, true_labels_dic.values())\n",
    "plot.savefig(f'{standalone_results_path}/confusion_matrix_full.png')\n",
    "\n",
    "\n",
    "\n",
    "\n",
    "\n",
    "\n",
    "\n"
   ]
  },
  {
   "cell_type": "code",
   "execution_count": 12,
   "metadata": {},
   "outputs": [
    {
     "name": "stdout",
     "output_type": "stream",
     "text": [
      "\n",
      "Evaluation Results:\n",
      "Balanced Accuracy2: 91.14%\n",
      "Test Accuracy: 93.64%\n",
      "\n",
      "Evaluation Results:\n",
      "Accuracy: 93.64%\n",
      "Precision: 93.76%\n",
      "Recall: 93.64%\n",
      "F1-score: 93.66%\n",
      "Kappa: 89.94%\n",
      "                         precision    recall  f1-score   support\n",
      "\n",
      "            [Kreischen]       0.92      0.96      0.94       220\n",
      "[Kreischen][Quietschen]       0.89      0.90      0.90        71\n",
      "              [Negativ]       0.98      0.93      0.95       167\n",
      "           [Quietschen]       0.92      0.86      0.89        14\n",
      "\n",
      "               accuracy                           0.94       472\n",
      "              macro avg       0.93      0.91      0.92       472\n",
      "           weighted avg       0.94      0.94      0.94       472\n",
      "\n"
     ]
    },
    {
     "data": {
      "image/png": "[encoded data removed]",
      "text/plain": [
       "<Figure size 800x600 with 1 Axes>"
      ]
     },
     "metadata": {},
     "output_type": "display_data"
    }
   ],
   "source": [
    "\n",
    "# Create a data loader for the test set\n",
    "val_loader = DL.create_generators_finetune_val(val_df)  \n",
    "\n",
    "#model = torch.load(\"./results_standalone/newgpu2_checkpoint.pth\")\n",
    "model = torch.load(standalone_results_path + '/checkpoint.pth')\n",
    "# Transfer the model to the testing device\n",
    "model.to(device)\n",
    "\n",
    "# Define a criterion for evaluation (e.g., cross-entropy loss for classification)\n",
    "criterion = nn.CrossEntropyLoss()\n",
    "\n",
    "# Initialize variables for evaluation metrics (e.g., accuracy)\n",
    "correct_predictions = 0\n",
    "total_samples = 0\n",
    "\n",
    "# Define the label dictionary\n",
    "true_labels_dic = {0: '[Kreischen]', 1: '[Kreischen][Quietschen]', 2: '[Negativ]', 3: '[Quietschen]'}\n",
    "\n",
    "# Set the model to evaluation mode \n",
    "model.eval()\n",
    "\n",
    "# Initialize lists to store all true labels and predicted labels\n",
    "all_true_labels = []\n",
    "all_predicted_labels = []\n",
    "\n",
    "# Iterate through the test set\n",
    "with torch.no_grad():\n",
    "    for spectrograms, labels in val_loader:\n",
    "        # Move data to the testing device\n",
    "        spectrograms = spectrograms.to(device)\n",
    "        labels = labels.to(device)\n",
    "\n",
    "        # Forward pass\n",
    "        outputs = model(spectrograms)\n",
    "        \n",
    "        # Compute the predicted labels\n",
    "        _, predicted = torch.max(outputs, 1)\n",
    "\n",
    "        # Append true and predicted labels to the lists\n",
    "        all_true_labels.extend(labels.cpu().numpy())\n",
    "        all_predicted_labels.extend(predicted.cpu().numpy())\n",
    "\n",
    "# Convert lists to numpy arrays\n",
    "all_true_labels = np.array(all_true_labels)\n",
    "all_predicted_labels = np.array(all_predicted_labels)\n",
    "\n",
    "# Calculate accuracy, precision, recall, F1-score, etc. using all_true_labels and all_predicted_labels\n",
    "#use sklearn  accuracy \n",
    "accuracy = np.mean(all_true_labels == all_predicted_labels)\n",
    "precision, recall, f1_score, _ = precision_recall_fscore_support(all_true_labels, all_predicted_labels, average='weighted')\n",
    "\n",
    "\n",
    "#calculate balanced accuracy\n",
    "balanced_accuracy2 = balanced_accuracy_score(all_true_labels, all_predicted_labels)\n",
    "#kappa score\n",
    "cohens_kappa = cohen_kappa_score(all_true_labels, all_predicted_labels)\n",
    "\n",
    "\n",
    "print(f\"\\nEvaluation Results:\")\n",
    "#print(f\"Balanced Accuracy: {balanced_accuracy * 100:.2f}%\")\n",
    "print(f\"Balanced Accuracy2: {balanced_accuracy2 * 100:.2f}%\")\n",
    "\n",
    "print(f\"Test Accuracy: {accuracy * 100:.2f}%\")\n",
    "print(f\"\\nEvaluation Results:\")\n",
    "print(f\"Accuracy: {accuracy * 100:.2f}%\")\n",
    "print(f\"Precision: {precision * 100:.2f}%\")\n",
    "print(f\"Recall: {recall * 100:.2f}%\")\n",
    "print(f\"F1-score: {f1_score * 100:.2f}%\")\n",
    "print(f\"Kappa: {cohens_kappa * 100:.2f}%\")\n",
    "\n",
    "conf_mat = confusion_matrix(all_true_labels, all_predicted_labels)\n",
    "def plot_confusion_matrix(conf_mat, class_labels):\n",
    "    plt.figure(figsize=(8, 6))\n",
    "    sns.set(font_scale=1.2)\n",
    "    \n",
    "    class_labels = [str(label) for label in class_labels]\n",
    "    \n",
    "    ax = sns.heatmap(conf_mat, annot=True, fmt=\"d\", cmap=\"Blues\", cbar=False,\n",
    "                xticklabels=class_labels,\n",
    "                yticklabels=class_labels)\n",
    "    \n",
    "    plt.xlabel('Predicted Labels')\n",
    "    plt.ylabel('True Labels')\n",
    "    plt.title('Confusion Matrix')\n",
    "    plt.xticks(rotation=90)\n",
    "\n",
    "    return plt.gcf()  # Return the current figure\n",
    "\n",
    "import config\n",
    "#create classification results text file\n",
    "with open(f'{standalone_results_path}/results_file_best.txt', 'w') as log_file:\n",
    "    log_file.write(f\"########################################################\\n\")\n",
    "    log_file.write(f\"Frequency Mask:{config.freq_mask_param}\\n\")\n",
    "    log_file.write(f\"Time Mask: {config.time_mask_param}\\n\")\n",
    "    log_file.write(f\"Spectro:\\n\")\n",
    "    log_file.write(f\"        n_fft={2048},\\n\")\n",
    "    log_file.write(f\"        hop_length = {512},\\n\")\n",
    "    log_file.write(f\"        n_mels={128},  \\n\")\n",
    "    log_file.write(f\"        win_length = {2048},\\n\")\n",
    "    log_file.write(f\"Epochs: {num_epochs}\\n\")\n",
    "    log_file.write(f\"Batch size: {batch_size}\\n\")\n",
    "    log_file.write(f\"Optimizer: Adam\\n\")\n",
    "    log_file.write(f\"Learning rate: {learning_rate}\\n\")\n",
    "    log_file.write(f\"Weight decay: {weight_decay}\\n\")\n",
    "    log_file.write(f\"Scheduler: ReduceLROnPlateau\\n\")\n",
    "    log_file.write(f\"Model: ModifiedResnet50_Classifier \\n\")\n",
    "    log_file.write(f\"classifiers: 512, 256, 4 : 2 fully connected layers\\n\")\n",
    "    log_file.write(f\"########################################################\\n\\n\")\n",
    "    log_file.write(f\"Balanced Accuracy2: {balanced_accuracy2 * 100:.2f}%\\n\")\n",
    "    log_file.write(f\"Test Accuracy: {accuracy * 100:.2f}%\\n\")\n",
    "    log_file.write(f\"\\nEvaluation Results:\\n\")\n",
    "    log_file.write(f\"Precision: {precision * 100:.2f}%\\n\")\n",
    "    log_file.write(f\"Recall: {recall * 100:.2f}%\\n\")\n",
    "    log_file.write(f\"F1-score: {f1_score * 100:.2f}%\\n\")\n",
    "    log_file.write(f\"Kappa: {cohens_kappa * 100:.2f}%\\n\")\n",
    "    log_file.write(f\"########################################################\\n\\n\")\n",
    "    log_file.write(f\"Confusion Matrix:\\n\")\n",
    "    log_file.write(f\"{conf_mat}\\n\")\n",
    "    log_file.write(f\"########################################################\\n\\n\")\n",
    "    log_file.write(f\"Classifcation Report: {classification_report(all_true_labels, all_predicted_labels, target_names=true_labels_dic.values())}\\n\")\n",
    "\n",
    "print(classification_report(all_true_labels, all_predicted_labels, target_names=true_labels_dic.values()))\n",
    "\n",
    "#save this plotas a png file\n",
    "plot = plot_confusion_matrix(conf_mat, true_labels_dic.values())\n",
    "plot.savefig(f'{standalone_results_path}/confusion_matrix_best.png')\n",
    "\n",
    "\n",
    "\n",
    "\n",
    "\n",
    "\n",
    "\n"
   ]
  },
  {
   "cell_type": "code",
   "execution_count": 1,
   "metadata": {},
   "outputs": [
    {
     "ename": "NameError",
     "evalue": "name 'DL' is not defined",
     "output_type": "error",
     "traceback": [
      "\u001b[1;31m---------------------------------------------------------------------------\u001b[0m",
      "\u001b[1;31mNameError\u001b[0m                                 Traceback (most recent call last)",
      "\u001b[1;32mc:\\Users\\Gabriel\\OneDrive\\Dokumente\\GitHub\\MA-pre-work\\Test_from_scratch\\SA_Notebook_Train_Test_Val.ipynb Cell 17\u001b[0m line \u001b[0;36m2\n\u001b[0;32m      <a href='vscode-notebook-cell:/c%3A/Users/Gabriel/OneDrive/Dokumente/GitHub/MA-pre-work/Test_from_scratch/SA_Notebook_Train_Test_Val.ipynb#X22sZmlsZQ%3D%3D?line=0'>1</a>\u001b[0m \u001b[39m# Create a data loader for the test set\u001b[39;00m\n\u001b[1;32m----> <a href='vscode-notebook-cell:/c%3A/Users/Gabriel/OneDrive/Dokumente/GitHub/MA-pre-work/Test_from_scratch/SA_Notebook_Train_Test_Val.ipynb#X22sZmlsZQ%3D%3D?line=1'>2</a>\u001b[0m val_loader \u001b[39m=\u001b[39m DL\u001b[39m.\u001b[39mcreate_generators_finetune_val(val_df)  \n\u001b[0;32m      <a href='vscode-notebook-cell:/c%3A/Users/Gabriel/OneDrive/Dokumente/GitHub/MA-pre-work/Test_from_scratch/SA_Notebook_Train_Test_Val.ipynb#X22sZmlsZQ%3D%3D?line=3'>4</a>\u001b[0m \u001b[39m#model = torch.load(\"./results_standalone/newgpu2_checkpoint.pth\")\u001b[39;00m\n\u001b[0;32m      <a href='vscode-notebook-cell:/c%3A/Users/Gabriel/OneDrive/Dokumente/GitHub/MA-pre-work/Test_from_scratch/SA_Notebook_Train_Test_Val.ipynb#X22sZmlsZQ%3D%3D?line=4'>5</a>\u001b[0m model \u001b[39m=\u001b[39m torch\u001b[39m.\u001b[39mload(standalone_results_path \u001b[39m+\u001b[39m \u001b[39m'\u001b[39m\u001b[39m/checkpoint_best_loss.pth\u001b[39m\u001b[39m'\u001b[39m)\n",
      "\u001b[1;31mNameError\u001b[0m: name 'DL' is not defined"
     ]
    },
    {
     "ename": "",
     "evalue": "",
     "output_type": "error",
     "traceback": [
      "\u001b[1;31mThe Kernel crashed while executing code in the the current cell or a previous cell. Please review the code in the cell(s) to identify a possible cause of the failure. Click <a href='https://aka.ms/vscodeJupyterKernelCrash'>here</a> for more info. View Jupyter <a href='command:jupyter.viewOutput'>log</a> for further details."
     ]
    }
   ],
   "source": [
    "\n",
    "# Create a data loader for the test set\n",
    "val_loader = DL.create_generators_finetune_val(val_df)  \n",
    "\n",
    "#model = torch.load(\"./results_standalone/newgpu2_checkpoint.pth\")\n",
    "model = torch.load(standalone_results_path + '/checkpoint_best_loss.pth')\n",
    "# Transfer the model to the testing device\n",
    "model.to(device)\n",
    "\n",
    "# Define a criterion for evaluation (e.g., cross-entropy loss for classification)\n",
    "criterion = nn.CrossEntropyLoss()\n",
    "\n",
    "# Initialize variables for evaluation metrics (e.g., accuracy)\n",
    "correct_predictions = 0\n",
    "total_samples = 0\n",
    "\n",
    "# Define the label dictionary\n",
    "true_labels_dic = {0: '[Kreischen]', 1: '[Kreischen][Quietschen]', 2: '[Negativ]', 3: '[Quietschen]'}\n",
    "\n",
    "# Set the model to evaluation mode \n",
    "model.eval()\n",
    "\n",
    "# Initialize lists to store all true labels and predicted labels\n",
    "all_true_labels = []\n",
    "all_predicted_labels = []\n",
    "\n",
    "# Iterate through the test set\n",
    "with torch.no_grad():\n",
    "    for spectrograms, labels in val_loader:\n",
    "        # Move data to the testing device\n",
    "        spectrograms = spectrograms.to(device)\n",
    "        labels = labels.to(device)\n",
    "\n",
    "        # Forward pass\n",
    "        outputs = model(spectrograms)\n",
    "        \n",
    "        # Compute the predicted labels\n",
    "        _, predicted = torch.max(outputs, 1)\n",
    "\n",
    "        # Append true and predicted labels to the lists\n",
    "        all_true_labels.extend(labels.cpu().numpy())\n",
    "        all_predicted_labels.extend(predicted.cpu().numpy())\n",
    "\n",
    "# Convert lists to numpy arrays\n",
    "all_true_labels = np.array(all_true_labels)\n",
    "all_predicted_labels = np.array(all_predicted_labels)\n",
    "\n",
    "# Calculate accuracy, precision, recall, F1-score, etc. using all_true_labels and all_predicted_labels\n",
    "#use sklearn  accuracy \n",
    "accuracy = np.mean(all_true_labels == all_predicted_labels)\n",
    "precision, recall, f1_score, _ = precision_recall_fscore_support(all_true_labels, all_predicted_labels, average='weighted')\n",
    "\n",
    "\n",
    "#calculate balanced accuracy\n",
    "balanced_accuracy2 = balanced_accuracy_score(all_true_labels, all_predicted_labels)\n",
    "#kappa score\n",
    "cohens_kappa = cohen_kappa_score(all_true_labels, all_predicted_labels)\n",
    "\n",
    "\n",
    "print(f\"\\nEvaluation Results:\")\n",
    "#print(f\"Balanced Accuracy: {balanced_accuracy * 100:.2f}%\")\n",
    "print(f\"Balanced Accuracy2: {balanced_accuracy2 * 100:.2f}%\")\n",
    "\n",
    "print(f\"Test Accuracy: {accuracy * 100:.2f}%\")\n",
    "print(f\"\\nEvaluation Results:\")\n",
    "print(f\"Accuracy: {accuracy * 100:.2f}%\")\n",
    "print(f\"Precision: {precision * 100:.2f}%\")\n",
    "print(f\"Recall: {recall * 100:.2f}%\")\n",
    "print(f\"F1-score: {f1_score * 100:.2f}%\")\n",
    "print(f\"Kappa: {cohens_kappa * 100:.2f}%\")\n",
    "\n",
    "conf_mat = confusion_matrix(all_true_labels, all_predicted_labels)\n",
    "def plot_confusion_matrix(conf_mat, class_labels):\n",
    "    plt.figure(figsize=(8, 6))\n",
    "    sns.set(font_scale=1.2)\n",
    "    \n",
    "    class_labels = [str(label) for label in class_labels]\n",
    "    \n",
    "    ax = sns.heatmap(conf_mat, annot=True, fmt=\"d\", cmap=\"Blues\", cbar=False,\n",
    "                xticklabels=class_labels,\n",
    "                yticklabels=class_labels)\n",
    "    \n",
    "    plt.xlabel('Predicted Labels')\n",
    "    plt.ylabel('True Labels')\n",
    "    plt.title('Confusion Matrix')\n",
    "    plt.xticks(rotation=90)\n",
    "\n",
    "    return plt.gcf()  # Return the current figure\n",
    "\n",
    "import config\n",
    "#create classification results text file\n",
    "with open(f'{standalone_results_path}/results_file_best_loss.txt', 'w') as log_file:\n",
    "    log_file.write(f\"########################################################\\n\")\n",
    "    log_file.write(f\"Frequency Mask:{config.freq_mask_param}\\n\")\n",
    "    log_file.write(f\"Time Mask: {config.time_mask_param}\\n\")\n",
    "    log_file.write(f\"Spectro:\\n\")\n",
    "    log_file.write(f\"        n_fft={2048},\\n\")\n",
    "    log_file.write(f\"        hop_length = {512},\\n\")\n",
    "    log_file.write(f\"        n_mels={128},  \\n\")\n",
    "    log_file.write(f\"        win_length = {2048},\\n\")\n",
    "    log_file.write(f\"Epochs: {num_epochs}\\n\")\n",
    "    log_file.write(f\"Batch size: {batch_size}\\n\")\n",
    "    log_file.write(f\"Optimizer: Adam\\n\")\n",
    "    log_file.write(f\"Learning rate: {learning_rate}\\n\")\n",
    "    log_file.write(f\"Weight decay: {weight_decay}\\n\")\n",
    "    log_file.write(f\"Scheduler: ReduceLROnPlateau\\n\")\n",
    "    log_file.write(f\"Model: ModifiedResnet50_Classifier \\n\")\n",
    "    log_file.write(f\"classifiers: 512, 256, 4 : 2 fully connected layers\\n\")\n",
    "    log_file.write(f\"########################################################\\n\\n\")\n",
    "    log_file.write(f\"Balanced Accuracy2: {balanced_accuracy2 * 100:.2f}%\\n\")\n",
    "    log_file.write(f\"Test Accuracy: {accuracy * 100:.2f}%\\n\")\n",
    "    log_file.write(f\"\\nEvaluation Results:\\n\")\n",
    "    log_file.write(f\"Precision: {precision * 100:.2f}%\\n\")\n",
    "    log_file.write(f\"Recall: {recall * 100:.2f}%\\n\")\n",
    "    log_file.write(f\"F1-score: {f1_score * 100:.2f}%\\n\")\n",
    "    log_file.write(f\"Kappa: {cohens_kappa * 100:.2f}%\\n\")\n",
    "    log_file.write(f\"########################################################\\n\\n\")\n",
    "    log_file.write(f\"Confusion Matrix:\\n\")\n",
    "    log_file.write(f\"{conf_mat}\\n\")\n",
    "    log_file.write(f\"########################################################\\n\\n\")\n",
    "    log_file.write(f\"Classifcation Report: {classification_report(all_true_labels, all_predicted_labels, target_names=true_labels_dic.values())}\\n\")\n",
    "\n",
    "print(classification_report(all_true_labels, all_predicted_labels, target_names=true_labels_dic.values()))\n",
    "\n",
    "#save this plotas a png file\n",
    "plot = plot_confusion_matrix(conf_mat, true_labels_dic.values())\n",
    "plot.savefig(f'{standalone_results_path}/confusion_matrix_best_loss.png')\n",
    "\n",
    "\n",
    "\n",
    "\n",
    "\n",
    "\n",
    "\n"
   ]
  }
 ],
 "metadata": {
  "kernelspec": {
   "display_name": "pytorch",
   "language": "python",
   "name": "python3"
  },
  "language_info": {
   "codemirror_mode": {
    "name": "ipython",
    "version": 3
   },
   "file_extension": ".py",
   "mimetype": "text/x-python",
   "name": "python",
   "nbconvert_exporter": "python",
   "pygments_lexer": "ipython3",
   "version": "3.11.4"
  }
 },
 "nbformat": 4,
 "nbformat_minor": 2
}
