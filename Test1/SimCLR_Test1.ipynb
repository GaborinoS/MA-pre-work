{
 "cells": [
  {
   "cell_type": "markdown",
   "metadata": {},
   "source": [
    "# SimCLR Test 1:\n",
    "## Cifar-10 Dataset"
   ]
  },
  {
   "cell_type": "code",
   "execution_count": 48,
   "metadata": {},
   "outputs": [],
   "source": [
    "# Librarys\n",
    "\n",
    "import numpy as np\n",
    "import pandas as pd\n",
    "import shutil, time, os, requests, random, copy\n",
    "\n",
    "import torch\n",
    "import torch.nn as nn\n",
    "import torch.optim as optim\n",
    "from torch.utils.data import Dataset, DataLoader\n",
    "from torchvision import datasets, transforms, models\n",
    "import matplotlib.pyplot as plt\n",
    "import torchvision.utils as vutils\n",
    "import torchvision\n",
    "\n",
    "import pickle\n",
    "\n",
    "import matplotlib.pyplot as plt\n",
    "import numpy as np\n",
    "import torch\n",
    "from torchvision import transforms\n",
    "\n",
    "from sklearn.manifold import TSNE"
   ]
  },
  {
   "cell_type": "markdown",
   "metadata": {},
   "source": [
    "**Set Seed for reproducibility:**\n",
    "\\\n",
    "Sowohl von numpy als auch von dr torch lib"
   ]
  },
  {
   "cell_type": "code",
   "execution_count": 49,
   "metadata": {},
   "outputs": [],
   "source": [
    "def set_seed(seed = 16):\n",
    "    np.random.seed(seed)\n",
    "    torch.manual_seed(seed)"
   ]
  },
  {
   "cell_type": "markdown",
   "metadata": {},
   "source": [
    "**Download CIFAR10 Dataset**"
   ]
  },
  {
   "cell_type": "code",
   "execution_count": 50,
   "metadata": {},
   "outputs": [],
   "source": [
    "\n",
    "def unpickle(file):\n",
    "    with open(file, 'rb') as fo:\n",
    "        dict = pickle.load(fo, encoding='bytes')\n",
    "    return dict\n"
   ]
  },
  {
   "cell_type": "markdown",
   "metadata": {},
   "source": [
    "## Read Pictures from different batches "
   ]
  },
  {
   "cell_type": "code",
   "execution_count": 51,
   "metadata": {},
   "outputs": [],
   "source": [
    "train_files = ['data_batch_1','data_batch_2','data_batch_3','data_batch_4','data_batch_5']\n",
    "images = np.array([],dtype=np.uint8).reshape((0,3072))\n",
    "labels = np.array([])\n",
    "for tf in train_files:\n",
    "    data_dict = unpickle('cifar-10-batches-py/'+tf)\n",
    "    data = data_dict[b'data']\n",
    "    images = np.append(images,data,axis=0)\n",
    "    labels = np.append(labels,data_dict[b'labels'])"
   ]
  },
  {
   "cell_type": "code",
   "execution_count": 52,
   "metadata": {},
   "outputs": [],
   "source": [
    "\n",
    "testimages = np.array([],dtype=np.uint8).reshape((0,3072))\n",
    "testlabels = np.array([])\n",
    "\n",
    "data_dict = unpickle('cifar-10-batches-py/test_batch')\n",
    "data = data_dict[b'data']\n",
    "testimages = np.append(testimages,data,axis=0)\n",
    "testlabels = np.append(testlabels,data_dict[b'labels'])\n",
    "#print(testimages.shape, testlabels.shape)\n",
    "\n",
    "images = images.reshape((-1,3,32,32)).astype(float)\n",
    "testimages = testimages.reshape((-1,3,32,32)).astype(float)\n",
    "\n",
    "lab_dict = {0:'airplane',1:'automobile',2:'bird',3:'cat',4:'deer',5:'dog',6:'frog',7:'horse',8:'ship',9:'truck'}"
   ]
  },
  {
   "cell_type": "markdown",
   "metadata": {},
   "source": [
    "Let, the training and validation split be 80:20. Without many complications, let us consider the ‘batch-5’ of the CIFAR10 dataset as the validation set and the rest as the training set. We also calculate the channel-wise mean and standard deviation of the pixel values on the training split."
   ]
  },
  {
   "cell_type": "code",
   "execution_count": 53,
   "metadata": {},
   "outputs": [],
   "source": [
    "trimages = images[:40000]\n",
    "valimages = images[40000:]\n",
    "trlabels = labels[:40000]\n",
    "vallabels = labels[40000:]\n",
    "MEAN = np.mean(trimages/255.0,axis=(0,2,3),keepdims=True)\n",
    "STD = np.std(trimages/255.0,axis=(0,2,3),keepdims=True)"
   ]
  },
  {
   "cell_type": "code",
   "execution_count": 54,
   "metadata": {},
   "outputs": [
    {
     "name": "stdout",
     "output_type": "stream",
     "text": [
      "[[[[0.49145363]]\n",
      "\n",
      "  [[0.48206213]]\n",
      "\n",
      "  [[0.44622512]]]]\n",
      "[[[[0.24716829]]\n",
      "\n",
      "  [[0.24370658]]\n",
      "\n",
      "  [[0.26169213]]]]\n"
     ]
    }
   ],
   "source": [
    "print(MEAN)\n",
    "\n",
    "print(STD)"
   ]
  },
  {
   "cell_type": "markdown",
   "metadata": {},
   "source": [
    "Datagenerator: In this Object the Dta augumentations are made\n"
   ]
  },
  {
   "cell_type": "code",
   "execution_count": 55,
   "metadata": {},
   "outputs": [],
   "source": [
    "class C10DataGen(Dataset):\n",
    "    def __init__(self,phase,imgarr,s = 0.5):\n",
    "        self.phase = phase\n",
    "        self.imgarr = imgarr\n",
    "        self.s = s\n",
    "        self.transforms = transforms.Compose([transforms.RandomHorizontalFlip(0.5),\n",
    "                                              transforms.RandomResizedCrop(32,(0.8,1.0)),\n",
    "                                              transforms.Compose([transforms.RandomApply([transforms.ColorJitter(0.8*self.s, \n",
    "                                                                                                                 0.8*self.s, \n",
    "                                                                                                                 0.8*self.s, \n",
    "                                                                                                                 0.2*self.s)], p = 0.8),\n",
    "                                                                  transforms.RandomGrayscale(p=0.2)\n",
    "                                                                 ])])\n",
    "\n",
    "    def __len__(self):\n",
    "        return self.imgarr.shape[0]\n",
    "\n",
    "    def __getitem__(self,idx):\n",
    "        \n",
    "        x = self.imgarr[idx] \n",
    "        #print(x.shape)\n",
    "        x = x.astype(np.float32)/255.0\n",
    "\n",
    "        x1 = self.augment(torch.from_numpy(x))\n",
    "        x2 = self.augment(torch.from_numpy(x))\n",
    "        \n",
    "        x1 = self.preprocess(x1)\n",
    "        x2 = self.preprocess(x2)\n",
    "        \n",
    "        return x1, x2\n",
    "\n",
    "    #shuffles the dataset at the end of each epoch\n",
    "    def on_epoch_end(self):\n",
    "        self.imgarr = self.imgarr[random.sample(population = list(range(self.__len__())),k = self.__len__())]\n",
    "\n",
    "    def preprocess(self,frame):\n",
    "        frame = (frame-MEAN)/STD\n",
    "        return frame\n",
    "    \n",
    "    #applies randomly selected augmentations to each clip (same for each frame in the clip)\n",
    "    def augment(self, frame, transformations = None):\n",
    "        \n",
    "        if self.phase == 'train':\n",
    "            frame = self.transforms(frame)\n",
    "        else:\n",
    "            return frame\n",
    "        \n",
    "        return frame"
   ]
  },
  {
   "cell_type": "code",
   "execution_count": 69,
   "metadata": {},
   "outputs": [],
   "source": [
    "dg = C10DataGen('train',trimages)\n",
    "dl = DataLoader(dg,batch_size = 128,drop_last=True)\n",
    "\n",
    "vdg = C10DataGen('valid',valimages)\n",
    "vdl = DataLoader(vdg,batch_size = 128,drop_last=True)"
   ]
  },
  {
   "cell_type": "code",
   "execution_count": 57,
   "metadata": {},
   "outputs": [
    {
     "data": {
      "image/png": "[encoded data removed]",
      "text/plain": [
       "<Figure size 800x400 with 2 Axes>"
      ]
     },
     "metadata": {},
     "output_type": "display_data"
    },
    {
     "data": {
      "image/png": "[encoded data removed]",
      "text/plain": [
       "<Figure size 800x400 with 2 Axes>"
      ]
     },
     "metadata": {},
     "output_type": "display_data"
    },
    {
     "data": {
      "image/png": "[encoded data removed]",
      "text/plain": [
       "<Figure size 800x400 with 2 Axes>"
      ]
     },
     "metadata": {},
     "output_type": "display_data"
    },
    {
     "data": {
      "image/png": "[encoded data removed]",
      "text/plain": [
       "<Figure size 800x400 with 2 Axes>"
      ]
     },
     "metadata": {},
     "output_type": "display_data"
    },
    {
     "data": {
      "image/png": "[encoded data removed]",
      "text/plain": [
       "<Figure size 800x400 with 2 Axes>"
      ]
     },
     "metadata": {},
     "output_type": "display_data"
    }
   ],
   "source": [
    "import matplotlib.pyplot as plt\n",
    "import numpy as np\n",
    "import torch\n",
    "from torchvision import transforms\n",
    "\n",
    "# Get a batch of data from the data loader\n",
    "batch = next(iter(dl))\n",
    "\n",
    "# Unpack the batch\n",
    "x1_batch, x2_batch = batch\n",
    "\n",
    "def tensor_to_image(tensor):\n",
    "    tensor = tensor.cpu() * STD + MEAN  # Unnormalize the tensor and move to CPU\n",
    "    tensor = torch.clamp(tensor, 0, 1)  # Clamp values to [0, 1] range\n",
    "    \n",
    "    # If the tensor has a batch dimension, remove it\n",
    "    if tensor.dim() == 4:\n",
    "        tensor = tensor.squeeze(0)\n",
    "        \n",
    "    return transforms.ToPILImage()(tensor)  # Convert to PIL Image\n",
    "\n",
    "# Convert tensors to images and display\n",
    "for i in range(5):  # Display the first 5 pairs of images from the batch\n",
    "    x1_img = tensor_to_image(x1_batch[i])\n",
    "    x2_img = tensor_to_image(x2_batch[i])\n",
    "\n",
    "    plt.figure(figsize=(8, 4))\n",
    "    plt.subplot(1, 2, 1)\n",
    "    plt.imshow(x1_img)\n",
    "    plt.title('Augmented Image 1')\n",
    "\n",
    "    plt.subplot(1, 2, 2)\n",
    "    plt.imshow(x2_img)\n",
    "    plt.title('Augmented Image 2')\n",
    "\n",
    "    plt.tight_layout()\n",
    "    plt.show()"
   ]
  },
  {
   "cell_type": "markdown",
   "metadata": {},
   "source": [
    "## Other way to download the data\n"
   ]
  },
  {
   "cell_type": "code",
   "execution_count": 66,
   "metadata": {},
   "outputs": [
    {
     "name": "stdout",
     "output_type": "stream",
     "text": [
      "Downloading https://www.cs.toronto.edu/~kriz/cifar-10-python.tar.gz to ./data\\cifar-10-python.tar.gz\n"
     ]
    },
    {
     "name": "stderr",
     "output_type": "stream",
     "text": [
      "100.0%\n"
     ]
    },
    {
     "name": "stdout",
     "output_type": "stream",
     "text": [
      "Extracting ./data\\cifar-10-python.tar.gz to ./data\n",
      "Files already downloaded and verified\n"
     ]
    }
   ],
   "source": [
    "'''transform = transforms.Compose(\n",
    "    [transforms.ToTensor(),\n",
    "     transforms.Normalize((0.5, 0.5, 0.5), (0.5, 0.5, 0.5))])\n",
    "\n",
    "batch_size = 4\n",
    "\n",
    "trainset = torchvision.datasets.CIFAR10(root='./data', train=True,\n",
    "                                        download=True, transform=transform)\n",
    "trainloader = torch.utils.data.DataLoader(trainset, batch_size=batch_size,\n",
    "                                          shuffle=True, num_workers=2)\n",
    "\n",
    "testset = torchvision.datasets.CIFAR10(root='./data', train=False,\n",
    "                                       download=True, transform=transform)\n",
    "testloader = torch.utils.data.DataLoader(testset, batch_size=batch_size,\n",
    "                                         shuffle=False, num_workers=2)\n",
    "\n",
    "classes = ('plane', 'car', 'bird', 'cat',\n",
    "           'deer', 'dog', 'frog', 'horse', 'ship', 'truck') '''"
   ]
  },
  {
   "cell_type": "code",
   "execution_count": 59,
   "metadata": {},
   "outputs": [],
   "source": [
    "class Identity(nn.Module):\n",
    "    def __init__(self):\n",
    "        super(Identity, self).__init__()\n",
    "\n",
    "    def forward(self, x):\n",
    "        return x\n",
    "\n",
    "class LinearLayer(nn.Module):\n",
    "    def __init__(self,\n",
    "                 in_features,\n",
    "                 out_features,\n",
    "                 use_bias = True,\n",
    "                 use_bn = False,\n",
    "                 **kwargs):\n",
    "        super(LinearLayer, self).__init__(**kwargs)\n",
    "\n",
    "        self.in_features = in_features\n",
    "        self.out_features = out_features\n",
    "        self.use_bias = use_bias\n",
    "        self.use_bn = use_bn\n",
    "        \n",
    "        self.linear = nn.Linear(self.in_features, \n",
    "                                self.out_features, \n",
    "                                bias = self.use_bias and not self.use_bn)\n",
    "        if self.use_bn:\n",
    "             self.bn = nn.BatchNorm1d(self.out_features)\n",
    "\n",
    "    def forward(self,x):\n",
    "        x = self.linear(x)\n",
    "        if self.use_bn:\n",
    "            x = self.bn(x)\n",
    "        return x\n",
    "\n",
    "class ProjectionHead(nn.Module):\n",
    "    def __init__(self,\n",
    "                 in_features,\n",
    "                 hidden_features,\n",
    "                 out_features,\n",
    "                 head_type = 'nonlinear',\n",
    "                 **kwargs):\n",
    "        super(ProjectionHead,self).__init__(**kwargs)\n",
    "        self.in_features = in_features\n",
    "        self.out_features = out_features\n",
    "        self.hidden_features = hidden_features\n",
    "        self.head_type = head_type\n",
    "\n",
    "        if self.head_type == 'linear':\n",
    "            self.layers = LinearLayer(self.in_features,self.out_features,False, True)\n",
    "        elif self.head_type == 'nonlinear':\n",
    "            self.layers = nn.Sequential(\n",
    "                LinearLayer(self.in_features,self.hidden_features,True, True),\n",
    "                nn.ReLU(),\n",
    "                LinearLayer(self.hidden_features,self.out_features,False,True))\n",
    "        \n",
    "    def forward(self,x):\n",
    "        x = self.layers(x)\n",
    "        return x\n",
    "\n",
    "class PreModel(nn.Module):\n",
    "    def __init__(self,base_model):\n",
    "        super().__init__()\n",
    "        self.base_model = base_model\n",
    "        \n",
    "        #PRETRAINED MODEL\n",
    "        self.pretrained = models.resnet50(pretrained=True)\n",
    "        \n",
    "        self.pretrained.conv1 = nn.Conv2d(3, 64, kernel_size=(3, 3), stride=(1, 1), bias=False)\n",
    "        self.pretrained.maxpool = Identity()\n",
    "        \n",
    "        self.pretrained.fc = Identity()\n",
    "        \n",
    "        for p in self.pretrained.parameters():\n",
    "            p.requires_grad = True\n",
    "        \n",
    "        self.projector = ProjectionHead(2048, 2048, 128)\n",
    "\n",
    "    def forward(self,x):\n",
    "        out = self.pretrained(x)\n",
    "        \n",
    "        xp = self.projector(torch.squeeze(out))\n",
    "        \n",
    "        return xp\n",
    "    "
   ]
  },
  {
   "cell_type": "code",
   "execution_count": 60,
   "metadata": {},
   "outputs": [],
   "source": [
    "model = PreModel('resnet50').to('cuda:0')"
   ]
  },
  {
   "cell_type": "code",
   "execution_count": 61,
   "metadata": {},
   "outputs": [
    {
     "data": {
      "text/plain": [
       "True"
      ]
     },
     "execution_count": 61,
     "metadata": {},
     "output_type": "execute_result"
    }
   ],
   "source": [
    "import torch\n",
    "torch.cuda.is_available()"
   ]
  },
  {
   "cell_type": "code",
   "execution_count": 62,
   "metadata": {},
   "outputs": [],
   "source": [
    "class SimCLR_Loss(nn.Module):\n",
    "    def __init__(self, batch_size, temperature):\n",
    "        super().__init__()\n",
    "        self.batch_size = batch_size\n",
    "        self.temperature = temperature\n",
    "\n",
    "        self.mask = self.mask_correlated_samples(batch_size)\n",
    "        self.criterion = nn.CrossEntropyLoss(reduction=\"sum\")\n",
    "        self.similarity_f = nn.CosineSimilarity(dim=2)\n",
    "\n",
    "    def mask_correlated_samples(self, batch_size):\n",
    "        N = 2 * batch_size\n",
    "        mask = torch.ones((N, N), dtype=bool)\n",
    "        mask = mask.fill_diagonal_(0)\n",
    "        \n",
    "        for i in range(batch_size):\n",
    "            mask[i, batch_size + i] = 0\n",
    "            mask[batch_size + i, i] = 0\n",
    "        return mask\n",
    "\n",
    "    def forward(self, z_i, z_j):\n",
    "\n",
    "        N = 2 * self.batch_size\n",
    "\n",
    "        z = torch.cat((z_i, z_j), dim=0)\n",
    "\n",
    "        sim = self.similarity_f(z.unsqueeze(1), z.unsqueeze(0)) / self.temperature\n",
    "\n",
    "        sim_i_j = torch.diag(sim, self.batch_size)\n",
    "        sim_j_i = torch.diag(sim, -self.batch_size)\n",
    "        \n",
    "        # We have 2N samples, but with Distributed training every GPU gets N examples too, resulting in: 2xNxN\n",
    "        positive_samples = torch.cat((sim_i_j, sim_j_i), dim=0).reshape(N, 1)\n",
    "        negative_samples = sim[self.mask].reshape(N, -1)\n",
    "        \n",
    "        #SIMCLR\n",
    "        labels = torch.from_numpy(np.array([0]*N)).reshape(-1).to(positive_samples.device).long() #.float()\n",
    "        \n",
    "        logits = torch.cat((positive_samples, negative_samples), dim=1)\n",
    "        loss = self.criterion(logits, labels)\n",
    "        loss /= N\n",
    "        \n",
    "        return loss"
   ]
  },
  {
   "cell_type": "code",
   "execution_count": 63,
   "metadata": {},
   "outputs": [],
   "source": [
    "from torch.optim.optimizer import Optimizer, required\n",
    "import re\n",
    "\n",
    "EETA_DEFAULT = 0.001\n",
    "\n",
    "\n",
    "class LARS(Optimizer):\n",
    "    \"\"\"\n",
    "    Layer-wise Adaptive Rate Scaling for large batch training.\n",
    "    Introduced by \"Large Batch Training of Convolutional Networks\" by Y. You,\n",
    "    I. Gitman, and B. Ginsburg. (https://arxiv.org/abs/1708.03888)\n",
    "    \"\"\"\n",
    "\n",
    "    def __init__(\n",
    "        self,\n",
    "        params,\n",
    "        lr=required,\n",
    "        momentum=0.9,\n",
    "        use_nesterov=False,\n",
    "        weight_decay=0.0,\n",
    "        exclude_from_weight_decay=None,\n",
    "        exclude_from_layer_adaptation=None,\n",
    "        classic_momentum=True,\n",
    "        eeta=EETA_DEFAULT,\n",
    "    ):\n",
    "        \"\"\"Constructs a LARSOptimizer.\n",
    "        Args:\n",
    "        lr: A `float` for learning rate.\n",
    "        momentum: A `float` for momentum.\n",
    "        use_nesterov: A 'Boolean' for whether to use nesterov momentum.\n",
    "        weight_decay: A `float` for weight decay.\n",
    "        exclude_from_weight_decay: A list of `string` for variable screening, if\n",
    "            any of the string appears in a variable's name, the variable will be\n",
    "            excluded for computing weight decay. For example, one could specify\n",
    "            the list like ['batch_normalization', 'bias'] to exclude BN and bias\n",
    "            from weight decay.\n",
    "        exclude_from_layer_adaptation: Similar to exclude_from_weight_decay, but\n",
    "            for layer adaptation. If it is None, it will be defaulted the same as\n",
    "            exclude_from_weight_decay.\n",
    "        classic_momentum: A `boolean` for whether to use classic (or popular)\n",
    "            momentum. The learning rate is applied during momeuntum update in\n",
    "            classic momentum, but after momentum for popular momentum.\n",
    "        eeta: A `float` for scaling of learning rate when computing trust ratio.\n",
    "        name: The name for the scope.\n",
    "        \"\"\"\n",
    "\n",
    "        self.epoch = 0\n",
    "        defaults = dict(\n",
    "            lr=lr,\n",
    "            momentum=momentum,\n",
    "            use_nesterov=use_nesterov,\n",
    "            weight_decay=weight_decay,\n",
    "            exclude_from_weight_decay=exclude_from_weight_decay,\n",
    "            exclude_from_layer_adaptation=exclude_from_layer_adaptation,\n",
    "            classic_momentum=classic_momentum,\n",
    "            eeta=eeta,\n",
    "        )\n",
    "\n",
    "        super(LARS, self).__init__(params, defaults)\n",
    "        self.lr = lr\n",
    "        self.momentum = momentum\n",
    "        self.weight_decay = weight_decay\n",
    "        self.use_nesterov = use_nesterov\n",
    "        self.classic_momentum = classic_momentum\n",
    "        self.eeta = eeta\n",
    "        self.exclude_from_weight_decay = exclude_from_weight_decay\n",
    "        # exclude_from_layer_adaptation is set to exclude_from_weight_decay if the\n",
    "        # arg is None.\n",
    "        if exclude_from_layer_adaptation:\n",
    "            self.exclude_from_layer_adaptation = exclude_from_layer_adaptation\n",
    "        else:\n",
    "            self.exclude_from_layer_adaptation = exclude_from_weight_decay\n",
    "\n",
    "    def step(self, epoch=None, closure=None):\n",
    "        loss = None\n",
    "        if closure is not None:\n",
    "            loss = closure()\n",
    "\n",
    "        if epoch is None:\n",
    "            epoch = self.epoch\n",
    "            self.epoch += 1\n",
    "\n",
    "        for group in self.param_groups:\n",
    "            weight_decay = group[\"weight_decay\"]\n",
    "            momentum = group[\"momentum\"]\n",
    "            eeta = group[\"eeta\"]\n",
    "            lr = group[\"lr\"]\n",
    "\n",
    "            for p in group[\"params\"]:\n",
    "                if p.grad is None:\n",
    "                    continue\n",
    "\n",
    "                param = p.data\n",
    "                grad = p.grad.data\n",
    "\n",
    "                param_state = self.state[p]\n",
    "\n",
    "                # TODO: get param names\n",
    "                # if self._use_weight_decay(param_name):\n",
    "                grad += self.weight_decay * param\n",
    "\n",
    "                if self.classic_momentum:\n",
    "                    trust_ratio = 1.0\n",
    "\n",
    "                    # TODO: get param names\n",
    "                    # if self._do_layer_adaptation(param_name):\n",
    "                    w_norm = torch.norm(param)\n",
    "                    g_norm = torch.norm(grad)\n",
    "\n",
    "                    device = g_norm.get_device()\n",
    "                    trust_ratio = torch.where(\n",
    "                        w_norm.gt(0),\n",
    "                        torch.where(\n",
    "                            g_norm.gt(0),\n",
    "                            (self.eeta * w_norm / g_norm),\n",
    "                            torch.Tensor([1.0]).to(device),\n",
    "                        ),\n",
    "                        torch.Tensor([1.0]).to(device),\n",
    "                    ).item()\n",
    "\n",
    "                    scaled_lr = lr * trust_ratio\n",
    "                    if \"momentum_buffer\" not in param_state:\n",
    "                        next_v = param_state[\"momentum_buffer\"] = torch.zeros_like(\n",
    "                            p.data\n",
    "                        )\n",
    "                    else:\n",
    "                        next_v = param_state[\"momentum_buffer\"]\n",
    "\n",
    "                    next_v.mul_(momentum).add_(scaled_lr, grad)\n",
    "                    if self.use_nesterov:\n",
    "                        update = (self.momentum * next_v) + (scaled_lr * grad)\n",
    "                    else:\n",
    "                        update = next_v\n",
    "\n",
    "                    p.data.add_(-update)\n",
    "                else:\n",
    "                    raise NotImplementedError\n",
    "\n",
    "        return loss\n",
    "\n",
    "    def _use_weight_decay(self, param_name):\n",
    "        \"\"\"Whether to use L2 weight decay for `param_name`.\"\"\"\n",
    "        if not self.weight_decay:\n",
    "            return False\n",
    "        if self.exclude_from_weight_decay:\n",
    "            for r in self.exclude_from_weight_decay:\n",
    "                if re.search(r, param_name) is not None:\n",
    "                    return False\n",
    "        return True\n",
    "\n",
    "    def _do_layer_adaptation(self, param_name):\n",
    "        \"\"\"Whether to do layer-wise learning rate adaptation for `param_name`.\"\"\"\n",
    "        if self.exclude_from_layer_adaptation:\n",
    "            for r in self.exclude_from_layer_adaptation:\n",
    "                if re.search(r, param_name) is not None:\n",
    "                    return False\n",
    "        return True"
   ]
  },
  {
   "cell_type": "code",
   "execution_count": 64,
   "metadata": {},
   "outputs": [
    {
     "name": "stdout",
     "output_type": "stream",
     "text": [
      "Adjusting learning rate of group 0 to 2.0000e-02.\n",
      "Epoch 00000: adjusting learning rate of group 0 to 2.0000e-01.\n"
     ]
    }
   ],
   "source": [
    "#OPTMIZER\n",
    "optimizer = LARS(\n",
    "    [params for params in model.parameters() if params.requires_grad],\n",
    "    lr=0.2,\n",
    "    weight_decay=1e-6,\n",
    "    exclude_from_weight_decay=[\"batch_normalization\", \"bias\"],\n",
    ")\n",
    "\n",
    "# \"decay the learning rate with the cosine decay schedule without restarts\"\n",
    "#SCHEDULER OR LINEAR EWARMUP\n",
    "warmupscheduler = torch.optim.lr_scheduler.LambdaLR(optimizer, lambda epoch : (epoch+1)/10.0, verbose = True)\n",
    "\n",
    "#SCHEDULER FOR COSINE DECAY\n",
    "mainscheduler = torch.optim.lr_scheduler.CosineAnnealingWarmRestarts(optimizer, 500, eta_min=0.05, last_epoch=-1, verbose = True)\n",
    "\n",
    "#LOSS FUNCTION\n",
    "criterion = SimCLR_Loss(batch_size = 128, temperature = 0.5)"
   ]
  },
  {
   "cell_type": "code",
   "execution_count": 65,
   "metadata": {},
   "outputs": [],
   "source": [
    "def save_model(model, optimizer, scheduler, current_epoch, name):\n",
    "    out = os.path.join('/content/saved_models/',name.format(current_epoch))\n",
    "\n",
    "    torch.save({'model_state_dict': model.state_dict(),\n",
    "                'optimizer_state_dict': optimizer.state_dict(),\n",
    "                'scheduler_state_dict':scheduler.state_dict()}, out)\n",
    "\n",
    "def plot_features(model, num_classes, num_feats, batch_size):\n",
    "    preds = np.array([]).reshape((0,1))\n",
    "    gt = np.array([]).reshape((0,1))\n",
    "    feats = np.array([]).reshape((0,num_feats))\n",
    "    model.eval()\n",
    "    with torch.no_grad():\n",
    "        for x1,x2 in vdl:\n",
    "            x1 = x1.squeeze().to(device = 'cuda:0', dtype = torch.float)\n",
    "            out = model(x1)\n",
    "            out = out.cpu().data.numpy()#.reshape((1,-1))\n",
    "            feats = np.append(feats,out,axis = 0)\n",
    "    \n",
    "    tsne = TSNE(n_components = 2, perplexity = 50)\n",
    "    x_feats = tsne.fit_transform(feats)\n",
    "    num_samples = int(batch_size*(valimages.shape[0]//batch_size))#(len(val_df)\n",
    "    \n",
    "    for i in range(num_classes):\n",
    "        plt.scatter(x_feats[vallabels[:num_samples]==i,1],x_feats[vallabels[:num_samples]==i,0])\n",
    "    \n",
    "    plt.legend([str(i) for i in range(num_classes)])\n",
    "    plt.show()"
   ]
  },
  {
   "cell_type": "code",
   "execution_count": 70,
   "metadata": {},
   "outputs": [
    {
     "name": "stdout",
     "output_type": "stream",
     "text": [
      "Epoch [0/100]\t\n"
     ]
    },
    {
     "name": "stderr",
     "output_type": "stream",
     "text": [
      "c:\\Users\\Gabriel\\anaconda3\\envs\\pytorch\\Lib\\site-packages\\torchvision\\transforms\\functional.py:1603: UserWarning: The default value of the antialias parameter of all the resizing transforms (Resize(), RandomResizedCrop(), etc.) will change from None to True in v0.17, in order to be consistent across the PIL and Tensor backends. To suppress this warning, directly pass antialias=True (recommended, future default), antialias=None (current default, which means False for Tensors and True for PIL), or antialias=False (only works on Tensors - PIL will still use antialiasing). This also applies if you are using the inference transforms from the models weights: update the call to weights.transforms(antialias=True).\n",
      "  warnings.warn(\n",
      "C:\\Users\\Gabriel\\AppData\\Local\\Temp\\ipykernel_20412\\1065139194.py:129: UserWarning: This overload of add_ is deprecated:\n",
      "\tadd_(Number alpha, Tensor other)\n",
      "Consider using one of the following signatures instead:\n",
      "\tadd_(Tensor other, *, Number alpha) (Triggered internally at ..\\torch\\csrc\\utils\\python_arg_parser.cpp:1485.)\n",
      "  next_v.mul_(momentum).add_(scaled_lr, grad)\n"
     ]
    },
    {
     "name": "stdout",
     "output_type": "stream",
     "text": [
      "Step [0/312]\t Loss: 5.22526\n",
      "Step [50/312]\t Loss: 4.37412\n",
      "Step [100/312]\t Loss: 4.04335\n",
      "Step [150/312]\t Loss: 3.90936\n",
      "Step [200/312]\t Loss: 3.84188\n",
      "Step [250/312]\t Loss: 3.82157\n",
      "Step [300/312]\t Loss: 3.7926\n",
      "Adjusting learning rate of group 0 to 4.0000e-02.\n",
      "Step [0/78]\t Loss: 3.69944\n",
      "Step [50/78]\t Loss: 3.68029\n",
      "Epoch [0/100]\t Training Loss: 4.074381830600592\t lr: 0.04\n",
      "Epoch [0/100]\t Validation Loss: 3.6720750759809446\t lr: 0.04\n",
      "Epoch [0/100]\t Time Taken: 15.439921255906423 minutes\n",
      "Epoch [1/100]\t\n",
      "Step [0/312]\t Loss: 3.75106\n"
     ]
    },
    {
     "ename": "KeyboardInterrupt",
     "evalue": "",
     "output_type": "error",
     "traceback": [
      "\u001b[1;31m---------------------------------------------------------------------------\u001b[0m",
      "\u001b[1;31mKeyboardInterrupt\u001b[0m                         Traceback (most recent call last)",
      "Cell \u001b[1;32mIn[70], line 27\u001b[0m\n\u001b[0;32m     24\u001b[0m loss \u001b[39m=\u001b[39m criterion(z_i, z_j)\n\u001b[0;32m     25\u001b[0m loss\u001b[39m.\u001b[39mbackward()\n\u001b[1;32m---> 27\u001b[0m optimizer\u001b[39m.\u001b[39;49mstep()\n\u001b[0;32m     29\u001b[0m \u001b[39mif\u001b[39;00m nr \u001b[39m==\u001b[39m \u001b[39m0\u001b[39m \u001b[39mand\u001b[39;00m step \u001b[39m%\u001b[39m \u001b[39m50\u001b[39m \u001b[39m==\u001b[39m \u001b[39m0\u001b[39m:\n\u001b[0;32m     30\u001b[0m     \u001b[39mprint\u001b[39m(\u001b[39mf\u001b[39m\u001b[39m\"\u001b[39m\u001b[39mStep [\u001b[39m\u001b[39m{\u001b[39;00mstep\u001b[39m}\u001b[39;00m\u001b[39m/\u001b[39m\u001b[39m{\u001b[39;00m\u001b[39mlen\u001b[39m(dl)\u001b[39m}\u001b[39;00m\u001b[39m]\u001b[39m\u001b[39m\\t\u001b[39;00m\u001b[39m Loss: \u001b[39m\u001b[39m{\u001b[39;00m\u001b[39mround\u001b[39m(loss\u001b[39m.\u001b[39mitem(),\u001b[39m \u001b[39m\u001b[39m5\u001b[39m)\u001b[39m}\u001b[39;00m\u001b[39m\"\u001b[39m)\n",
      "File \u001b[1;32mc:\\Users\\Gabriel\\anaconda3\\envs\\pytorch\\Lib\\site-packages\\torch\\optim\\lr_scheduler.py:69\u001b[0m, in \u001b[0;36mLRScheduler.__init__.<locals>.with_counter.<locals>.wrapper\u001b[1;34m(*args, **kwargs)\u001b[0m\n\u001b[0;32m     67\u001b[0m instance\u001b[39m.\u001b[39m_step_count \u001b[39m+\u001b[39m\u001b[39m=\u001b[39m \u001b[39m1\u001b[39m\n\u001b[0;32m     68\u001b[0m wrapped \u001b[39m=\u001b[39m func\u001b[39m.\u001b[39m\u001b[39m__get__\u001b[39m(instance, \u001b[39mcls\u001b[39m)\n\u001b[1;32m---> 69\u001b[0m \u001b[39mreturn\u001b[39;00m wrapped(\u001b[39m*\u001b[39;49margs, \u001b[39m*\u001b[39;49m\u001b[39m*\u001b[39;49mkwargs)\n",
      "File \u001b[1;32mc:\\Users\\Gabriel\\anaconda3\\envs\\pytorch\\Lib\\site-packages\\torch\\optim\\optimizer.py:280\u001b[0m, in \u001b[0;36mOptimizer.profile_hook_step.<locals>.wrapper\u001b[1;34m(*args, **kwargs)\u001b[0m\n\u001b[0;32m    276\u001b[0m         \u001b[39melse\u001b[39;00m:\n\u001b[0;32m    277\u001b[0m             \u001b[39mraise\u001b[39;00m \u001b[39mRuntimeError\u001b[39;00m(\u001b[39mf\u001b[39m\u001b[39m\"\u001b[39m\u001b[39m{\u001b[39;00mfunc\u001b[39m}\u001b[39;00m\u001b[39m must return None or a tuple of (new_args, new_kwargs),\u001b[39m\u001b[39m\"\u001b[39m\n\u001b[0;32m    278\u001b[0m                                \u001b[39mf\u001b[39m\u001b[39m\"\u001b[39m\u001b[39mbut got \u001b[39m\u001b[39m{\u001b[39;00mresult\u001b[39m}\u001b[39;00m\u001b[39m.\u001b[39m\u001b[39m\"\u001b[39m)\n\u001b[1;32m--> 280\u001b[0m out \u001b[39m=\u001b[39m func(\u001b[39m*\u001b[39;49margs, \u001b[39m*\u001b[39;49m\u001b[39m*\u001b[39;49mkwargs)\n\u001b[0;32m    281\u001b[0m \u001b[39mself\u001b[39m\u001b[39m.\u001b[39m_optimizer_step_code()\n\u001b[0;32m    283\u001b[0m \u001b[39m# call optimizer step post hooks\u001b[39;00m\n",
      "Cell \u001b[1;32mIn[63], line 116\u001b[0m, in \u001b[0;36mLARS.step\u001b[1;34m(self, epoch, closure)\u001b[0m\n\u001b[0;32m    108\u001b[0m g_norm \u001b[39m=\u001b[39m torch\u001b[39m.\u001b[39mnorm(grad)\n\u001b[0;32m    110\u001b[0m device \u001b[39m=\u001b[39m g_norm\u001b[39m.\u001b[39mget_device()\n\u001b[0;32m    111\u001b[0m trust_ratio \u001b[39m=\u001b[39m torch\u001b[39m.\u001b[39mwhere(\n\u001b[0;32m    112\u001b[0m     w_norm\u001b[39m.\u001b[39mgt(\u001b[39m0\u001b[39m),\n\u001b[0;32m    113\u001b[0m     torch\u001b[39m.\u001b[39mwhere(\n\u001b[0;32m    114\u001b[0m         g_norm\u001b[39m.\u001b[39mgt(\u001b[39m0\u001b[39m),\n\u001b[0;32m    115\u001b[0m         (\u001b[39mself\u001b[39m\u001b[39m.\u001b[39meeta \u001b[39m*\u001b[39m w_norm \u001b[39m/\u001b[39m g_norm),\n\u001b[1;32m--> 116\u001b[0m         torch\u001b[39m.\u001b[39;49mTensor([\u001b[39m1.0\u001b[39;49m])\u001b[39m.\u001b[39;49mto(device),\n\u001b[0;32m    117\u001b[0m     ),\n\u001b[0;32m    118\u001b[0m     torch\u001b[39m.\u001b[39mTensor([\u001b[39m1.0\u001b[39m])\u001b[39m.\u001b[39mto(device),\n\u001b[0;32m    119\u001b[0m )\u001b[39m.\u001b[39mitem()\n\u001b[0;32m    121\u001b[0m scaled_lr \u001b[39m=\u001b[39m lr \u001b[39m*\u001b[39m trust_ratio\n\u001b[0;32m    122\u001b[0m \u001b[39mif\u001b[39;00m \u001b[39m\"\u001b[39m\u001b[39mmomentum_buffer\u001b[39m\u001b[39m\"\u001b[39m \u001b[39mnot\u001b[39;00m \u001b[39min\u001b[39;00m param_state:\n",
      "\u001b[1;31mKeyboardInterrupt\u001b[0m: "
     ]
    }
   ],
   "source": [
    "nr = 0\n",
    "current_epoch = 0\n",
    "epochs = 100\n",
    "tr_loss = []\n",
    "val_loss = []\n",
    "\n",
    "for epoch in range(100):\n",
    "        \n",
    "    print(f\"Epoch [{epoch}/{epochs}]\\t\")\n",
    "    stime = time.time()\n",
    "\n",
    "    model.train()\n",
    "    tr_loss_epoch = 0\n",
    "    \n",
    "    for step, (x_i, x_j) in enumerate(dl):\n",
    "        optimizer.zero_grad()\n",
    "        x_i = x_i.squeeze().to('cuda:0').float()\n",
    "        x_j = x_j.squeeze().to('cuda:0').float()\n",
    "\n",
    "        # positive pair, with encoding\n",
    "        z_i = model(x_i)\n",
    "        z_j = model(x_j)\n",
    "\n",
    "        loss = criterion(z_i, z_j)\n",
    "        loss.backward()\n",
    "\n",
    "        optimizer.step()\n",
    "        \n",
    "        if nr == 0 and step % 50 == 0:\n",
    "            print(f\"Step [{step}/{len(dl)}]\\t Loss: {round(loss.item(), 5)}\")\n",
    "\n",
    "        tr_loss_epoch += loss.item()\n",
    "\n",
    "    if nr == 0 and epoch < 10:\n",
    "        warmupscheduler.step()\n",
    "    if nr == 0 and epoch >= 10:\n",
    "        mainscheduler.step()\n",
    "    \n",
    "    lr = optimizer.param_groups[0][\"lr\"]\n",
    "\n",
    "    if nr == 0 and (epoch+1) % 50 == 0:\n",
    "        save_model(model, optimizer, mainscheduler, current_epoch,\"SimCLR_CIFAR10_RN50_P128_LR0P2_LWup10_Cos500_T0p5_B128_checkpoint_{}_260621.pt\")\n",
    "\n",
    "    model.eval()\n",
    "    with torch.no_grad():\n",
    "        val_loss_epoch = 0\n",
    "        for step, (x_i, x_j) in enumerate(vdl):\n",
    "        \n",
    "          x_i = x_i.squeeze().to('cuda:0').float()\n",
    "          x_j = x_j.squeeze().to('cuda:0').float()\n",
    "\n",
    "          # positive pair, with encoding\n",
    "          z_i = model(x_i)\n",
    "          z_j = model(x_j)\n",
    "\n",
    "          loss = criterion(z_i, z_j)\n",
    "\n",
    "          if nr == 0 and step % 50 == 0:\n",
    "              print(f\"Step [{step}/{len(vdl)}]\\t Loss: {round(loss.item(),5)}\")\n",
    "\n",
    "          val_loss_epoch += loss.item()\n",
    "\n",
    "    if nr == 0:\n",
    "        tr_loss.append(tr_loss_epoch / len(dl))\n",
    "        val_loss.append(val_loss_epoch / len(vdl))\n",
    "        print(f\"Epoch [{epoch}/{epochs}]\\t Training Loss: {tr_loss_epoch / len(dl)}\\t lr: {round(lr, 5)}\")\n",
    "        print(f\"Epoch [{epoch}/{epochs}]\\t Validation Loss: {val_loss_epoch / len(vdl)}\\t lr: {round(lr, 5)}\")\n",
    "        current_epoch += 1\n",
    "\n",
    "    dg.on_epoch_end()\n",
    "\n",
    "    time_taken = (time.time()-stime)/60\n",
    "    print(f\"Epoch [{epoch}/{epochs}]\\t Time Taken: {time_taken} minutes\")\n",
    "\n",
    "    if (epoch+1)%10==0:\n",
    "        plot_features(model.pretrained, 10, 2048, 128)\n",
    "\n",
    "save_model(model, optimizer, mainscheduler, current_epoch, \"SimCLR_CIFAR10_RN50_P128_LR0P2_LWup10_Cos500_T0p5_B128_checkpoint_{}_260621.pt\")"
   ]
  },
  {
   "cell_type": "code",
   "execution_count": null,
   "metadata": {},
   "outputs": [],
   "source": []
  }
 ],
 "metadata": {
  "kernelspec": {
   "display_name": "base",
   "language": "python",
   "name": "python3"
  },
  "language_info": {
   "codemirror_mode": {
    "name": "ipython",
    "version": 3
   },
   "file_extension": ".py",
   "mimetype": "text/x-python",
   "name": "python",
   "nbconvert_exporter": "python",
   "pygments_lexer": "ipython3",
   "version": "3.11.4"
  },
  "orig_nbformat": 4
 },
 "nbformat": 4,
 "nbformat_minor": 2
}
